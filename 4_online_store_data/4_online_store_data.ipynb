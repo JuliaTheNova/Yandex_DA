{
 "cells": [
  {
   "cell_type": "markdown",
   "metadata": {},
   "source": [
    "# Анализ гипотез для интернет магазина\n",
    "Нам требуется понять, что приведет крупный интернет-магазин к увеличению выручки. Делать это мы будем на основе гипотез, которые уже были подготовлены. От нас требуется:\n",
    "- Приоритизировать гипотезы\n",
    "- Запустить A/B-тест\n",
    "- Проанализировать результаты.\n",
    "\n",
    "Наш анализ разделим на 2 этапа (далее перечисляются требования исследованию)\n",
    "\n",
    "*Часть 1. Приоритизация гипотез.*\n",
    "\n",
    "В файле /datasets/hypothesis.csv 9 гипотез по увеличению выручки интернет-магазина с указанными параметрами Reach, Impact, Confidence, Effort.\n",
    "\n",
    "Задача\n",
    "Примените фреймворк ICE для приоритизации гипотез. Отсортируйте их по убыванию приоритета.\n",
    "\n",
    "Примените фреймворк RICE для приоритизации гипотез. Отсортируйте их по убыванию приоритета.\n",
    "\n",
    "Укажите, как изменилась приоритизация гипотез при применении RICE вместо ICE. Объясните, почему так произошло.\n",
    "\n",
    "*Часть 2. Анализ A/B-теста*\n",
    "\n",
    "Вы провели A/B-тест и получили результаты, которые описаны в файлах /datasets/orders.csv и /datasets/visitors.csv.\n",
    "\n",
    "Задача\n",
    "\n",
    "Проанализируйте A/B-тест:\n",
    "\n",
    "1. Постройте график кумулятивной выручки по группам. Сделайте выводы и предположения.\n",
    "2. Постройте график кумулятивного среднего чека по группам. Сделайте выводы и предположения.\n",
    "3. Постройте график относительного изменения кумулятивного среднего чека группы B к группе A. Сделайте выводы и предположения.\n",
    "4. Постройте график кумулятивного среднего количества заказов на посетителя по группам. Сделайте выводы и предположения.\n",
    "5. Постройте график относительного изменения кумулятивного среднего количества заказов на посетителя группы B к группе A.    Сделайте выводы и предположения.\n",
    "6. Постройте точечный график количества заказов по пользователям. Сделайте выводы и предположения.\n",
    "7. Посчитайте 95-й и 99-й перцентили количества заказов на пользователя. Выберите границу для определения аномальных пользователей.\n",
    "8. Постройте точечный график стоимостей заказов. Сделайте выводы и предположения.\n",
    "9.  Посчитайте 95-й и 99-й перцентили стоимости заказов. Выберите границу для определения аномальных заказов.\n",
    "10. Посчитайте статистическую значимость различий в среднем количестве заказов на посетителя между группами по «сырым» данным. Сделайте выводы и предположения.\n",
    "11. Посчитайте статистическую значимость различий в среднем чеке заказа между группами по «сырым» данным. Сделайте выводы и предположения.\n",
    "12. Посчитайте статистическую значимость различий в среднем количестве заказов на посетителя между группами по «очищенным» данным. Сделайте выводы и предположения.\n",
    "13. Посчитайте статистическую значимость различий в среднем чеке заказа между группами по «очищенным» данным. Сделайте выводы и предположения.\n",
    "14. Примите решение по результатам теста и объясните его. Варианты решений:\n",
    " -  Остановить тест, зафиксировать победу одной из групп.\n",
    " -  Остановить тест, зафиксировать отсутствие различий между группами.\n",
    " -  Продолжить тест.\n"
   ]
  },
  {
   "cell_type": "markdown",
   "metadata": {},
   "source": [
    "## Часть 1\n",
    "### Подготовка данных"
   ]
  },
  {
   "cell_type": "markdown",
   "metadata": {},
   "source": [
    "Для начала просмотрим файлы, которые нам предоставили, т.к может понадобиться предобработка. Дополнительно еще импортируем библиотеки"
   ]
  },
  {
   "cell_type": "code",
   "execution_count": 1,
   "metadata": {},
   "outputs": [],
   "source": [
    "#импортируем библиотеки\n",
    "import pandas as pd\n",
    "import numpy as np\n",
    "import matplotlib.pyplot as plt\n",
    "from scipy import stats\n",
    "import datetime as dt"
   ]
  },
  {
   "cell_type": "code",
   "execution_count": 2,
   "metadata": {},
   "outputs": [
    {
     "name": "stdout",
     "output_type": "stream",
     "text": [
      "\n",
      "Дата min 2019-08-01, Дата max 2019-08-31\n",
      "\n",
      "<class 'pandas.core.frame.DataFrame'>\n",
      "RangeIndex: 1197 entries, 0 to 1196\n",
      "Data columns (total 5 columns):\n",
      " #   Column         Non-Null Count  Dtype         \n",
      "---  ------         --------------  -----         \n",
      " 0   transactionId  1197 non-null   int64         \n",
      " 1   visitorId      1197 non-null   int64         \n",
      " 2   date           1197 non-null   datetime64[ns]\n",
      " 3   revenue        1197 non-null   int64         \n",
      " 4   group          1197 non-null   object        \n",
      "dtypes: datetime64[ns](1), int64(3), object(1)\n",
      "memory usage: 46.9+ KB\n"
     ]
    },
    {
     "data": {
      "text/html": [
       "<div>\n",
       "<style scoped>\n",
       "    .dataframe tbody tr th:only-of-type {\n",
       "        vertical-align: middle;\n",
       "    }\n",
       "\n",
       "    .dataframe tbody tr th {\n",
       "        vertical-align: top;\n",
       "    }\n",
       "\n",
       "    .dataframe thead th {\n",
       "        text-align: right;\n",
       "    }\n",
       "</style>\n",
       "<table border=\"1\" class=\"dataframe\">\n",
       "  <thead>\n",
       "    <tr style=\"text-align: right;\">\n",
       "      <th></th>\n",
       "      <th>transactionId</th>\n",
       "      <th>visitorId</th>\n",
       "      <th>date</th>\n",
       "      <th>revenue</th>\n",
       "      <th>group</th>\n",
       "    </tr>\n",
       "  </thead>\n",
       "  <tbody>\n",
       "    <tr>\n",
       "      <th>0</th>\n",
       "      <td>3667963787</td>\n",
       "      <td>3312258926</td>\n",
       "      <td>2019-08-15</td>\n",
       "      <td>1650</td>\n",
       "      <td>B</td>\n",
       "    </tr>\n",
       "    <tr>\n",
       "      <th>1</th>\n",
       "      <td>2804400009</td>\n",
       "      <td>3642806036</td>\n",
       "      <td>2019-08-15</td>\n",
       "      <td>730</td>\n",
       "      <td>B</td>\n",
       "    </tr>\n",
       "    <tr>\n",
       "      <th>2</th>\n",
       "      <td>2961555356</td>\n",
       "      <td>4069496402</td>\n",
       "      <td>2019-08-15</td>\n",
       "      <td>400</td>\n",
       "      <td>A</td>\n",
       "    </tr>\n",
       "    <tr>\n",
       "      <th>3</th>\n",
       "      <td>3797467345</td>\n",
       "      <td>1196621759</td>\n",
       "      <td>2019-08-15</td>\n",
       "      <td>9759</td>\n",
       "      <td>B</td>\n",
       "    </tr>\n",
       "    <tr>\n",
       "      <th>4</th>\n",
       "      <td>2282983706</td>\n",
       "      <td>2322279887</td>\n",
       "      <td>2019-08-15</td>\n",
       "      <td>2308</td>\n",
       "      <td>B</td>\n",
       "    </tr>\n",
       "  </tbody>\n",
       "</table>\n",
       "</div>"
      ],
      "text/plain": [
       "   transactionId   visitorId       date  revenue group\n",
       "0     3667963787  3312258926 2019-08-15     1650     B\n",
       "1     2804400009  3642806036 2019-08-15      730     B\n",
       "2     2961555356  4069496402 2019-08-15      400     A\n",
       "3     3797467345  1196621759 2019-08-15     9759     B\n",
       "4     2282983706  2322279887 2019-08-15     2308     B"
      ]
     },
     "execution_count": 2,
     "metadata": {},
     "output_type": "execute_result"
    }
   ],
   "source": [
    "# для orders\n",
    "\n",
    "orders = pd.read_csv('/datasets/orders.csv')\n",
    "orders['date'] = orders['date'].astype('datetime64[D]')\n",
    "orders['date'] = orders['date'].map(lambda x: dt.datetime.strftime(x, '%Y-%m-%d'))\n",
    "print('\\nДата min {}, Дата max {}\\n'.format(orders['date'].min(), orders['date'].max()))\n",
    "orders['date'] = orders['date'].map(lambda x: dt.datetime.strptime(x, '%Y-%m-%d'))\n",
    "orders.info()\n",
    "orders.head(5)"
   ]
  },
  {
   "cell_type": "code",
   "execution_count": 3,
   "metadata": {},
   "outputs": [
    {
     "name": "stdout",
     "output_type": "stream",
     "text": [
      "\n",
      "Дата min 2019-08-01, Дата max 2019-08-31\n",
      "\n",
      "<class 'pandas.core.frame.DataFrame'>\n",
      "RangeIndex: 62 entries, 0 to 61\n",
      "Data columns (total 3 columns):\n",
      " #   Column    Non-Null Count  Dtype         \n",
      "---  ------    --------------  -----         \n",
      " 0   date      62 non-null     datetime64[ns]\n",
      " 1   group     62 non-null     object        \n",
      " 2   visitors  62 non-null     int64         \n",
      "dtypes: datetime64[ns](1), int64(1), object(1)\n",
      "memory usage: 1.6+ KB\n"
     ]
    },
    {
     "data": {
      "text/html": [
       "<div>\n",
       "<style scoped>\n",
       "    .dataframe tbody tr th:only-of-type {\n",
       "        vertical-align: middle;\n",
       "    }\n",
       "\n",
       "    .dataframe tbody tr th {\n",
       "        vertical-align: top;\n",
       "    }\n",
       "\n",
       "    .dataframe thead th {\n",
       "        text-align: right;\n",
       "    }\n",
       "</style>\n",
       "<table border=\"1\" class=\"dataframe\">\n",
       "  <thead>\n",
       "    <tr style=\"text-align: right;\">\n",
       "      <th></th>\n",
       "      <th>date</th>\n",
       "      <th>group</th>\n",
       "      <th>visitors</th>\n",
       "    </tr>\n",
       "  </thead>\n",
       "  <tbody>\n",
       "    <tr>\n",
       "      <th>0</th>\n",
       "      <td>2019-08-01</td>\n",
       "      <td>A</td>\n",
       "      <td>719</td>\n",
       "    </tr>\n",
       "    <tr>\n",
       "      <th>1</th>\n",
       "      <td>2019-08-02</td>\n",
       "      <td>A</td>\n",
       "      <td>619</td>\n",
       "    </tr>\n",
       "    <tr>\n",
       "      <th>2</th>\n",
       "      <td>2019-08-03</td>\n",
       "      <td>A</td>\n",
       "      <td>507</td>\n",
       "    </tr>\n",
       "    <tr>\n",
       "      <th>3</th>\n",
       "      <td>2019-08-04</td>\n",
       "      <td>A</td>\n",
       "      <td>717</td>\n",
       "    </tr>\n",
       "    <tr>\n",
       "      <th>4</th>\n",
       "      <td>2019-08-05</td>\n",
       "      <td>A</td>\n",
       "      <td>756</td>\n",
       "    </tr>\n",
       "  </tbody>\n",
       "</table>\n",
       "</div>"
      ],
      "text/plain": [
       "        date group  visitors\n",
       "0 2019-08-01     A       719\n",
       "1 2019-08-02     A       619\n",
       "2 2019-08-03     A       507\n",
       "3 2019-08-04     A       717\n",
       "4 2019-08-05     A       756"
      ]
     },
     "execution_count": 3,
     "metadata": {},
     "output_type": "execute_result"
    }
   ],
   "source": [
    "# для visitors \n",
    "\n",
    "visitors = pd.read_csv('/datasets/visitors.csv')\n",
    "visitors['date'] = visitors['date'].astype('datetime64[D]')\n",
    "visitors['date'] = visitors['date'].map(lambda x: dt.datetime.strftime(x, '%Y-%m-%d'))\n",
    "print('\\nДата min {}, Дата max {}\\n'.format(visitors['date'].min(), visitors['date'].max()))\n",
    "visitors['date'] = visitors['date'].map(lambda x: dt.datetime.strptime(x, '%Y-%m-%d'))\n",
    "visitors.info()\n",
    "visitors.head(5)"
   ]
  },
  {
   "cell_type": "code",
   "execution_count": 4,
   "metadata": {},
   "outputs": [
    {
     "data": {
      "text/html": [
       "<div>\n",
       "<style scoped>\n",
       "    .dataframe tbody tr th:only-of-type {\n",
       "        vertical-align: middle;\n",
       "    }\n",
       "\n",
       "    .dataframe tbody tr th {\n",
       "        vertical-align: top;\n",
       "    }\n",
       "\n",
       "    .dataframe thead th {\n",
       "        text-align: right;\n",
       "    }\n",
       "</style>\n",
       "<table border=\"1\" class=\"dataframe\">\n",
       "  <thead>\n",
       "    <tr style=\"text-align: right;\">\n",
       "      <th></th>\n",
       "      <th>Hypothesis</th>\n",
       "      <th>Reach</th>\n",
       "      <th>Impact</th>\n",
       "      <th>Confidence</th>\n",
       "      <th>Efforts</th>\n",
       "    </tr>\n",
       "  </thead>\n",
       "  <tbody>\n",
       "    <tr>\n",
       "      <th>0</th>\n",
       "      <td>Добавить два новых канала привлечения трафика,...</td>\n",
       "      <td>3</td>\n",
       "      <td>10</td>\n",
       "      <td>8</td>\n",
       "      <td>6</td>\n",
       "    </tr>\n",
       "    <tr>\n",
       "      <th>1</th>\n",
       "      <td>Запустить собственную службу доставки, что сок...</td>\n",
       "      <td>2</td>\n",
       "      <td>5</td>\n",
       "      <td>4</td>\n",
       "      <td>10</td>\n",
       "    </tr>\n",
       "    <tr>\n",
       "      <th>2</th>\n",
       "      <td>Добавить блоки рекомендаций товаров на сайт ин...</td>\n",
       "      <td>8</td>\n",
       "      <td>3</td>\n",
       "      <td>7</td>\n",
       "      <td>3</td>\n",
       "    </tr>\n",
       "    <tr>\n",
       "      <th>3</th>\n",
       "      <td>Изменить структура категорий, что увеличит кон...</td>\n",
       "      <td>8</td>\n",
       "      <td>3</td>\n",
       "      <td>3</td>\n",
       "      <td>8</td>\n",
       "    </tr>\n",
       "    <tr>\n",
       "      <th>4</th>\n",
       "      <td>Изменить цвет фона главной страницы, чтобы уве...</td>\n",
       "      <td>3</td>\n",
       "      <td>1</td>\n",
       "      <td>1</td>\n",
       "      <td>1</td>\n",
       "    </tr>\n",
       "    <tr>\n",
       "      <th>5</th>\n",
       "      <td>Добавить страницу отзывов клиентов о магазине,...</td>\n",
       "      <td>3</td>\n",
       "      <td>2</td>\n",
       "      <td>2</td>\n",
       "      <td>3</td>\n",
       "    </tr>\n",
       "    <tr>\n",
       "      <th>6</th>\n",
       "      <td>Показать на главной странице баннеры с актуаль...</td>\n",
       "      <td>5</td>\n",
       "      <td>3</td>\n",
       "      <td>8</td>\n",
       "      <td>3</td>\n",
       "    </tr>\n",
       "    <tr>\n",
       "      <th>7</th>\n",
       "      <td>Добавить форму подписки на все основные страни...</td>\n",
       "      <td>10</td>\n",
       "      <td>7</td>\n",
       "      <td>8</td>\n",
       "      <td>5</td>\n",
       "    </tr>\n",
       "    <tr>\n",
       "      <th>8</th>\n",
       "      <td>Запустить акцию, дающую скидку на товар в день...</td>\n",
       "      <td>1</td>\n",
       "      <td>9</td>\n",
       "      <td>9</td>\n",
       "      <td>5</td>\n",
       "    </tr>\n",
       "  </tbody>\n",
       "</table>\n",
       "</div>"
      ],
      "text/plain": [
       "                                          Hypothesis  Reach  Impact  \\\n",
       "0  Добавить два новых канала привлечения трафика,...      3      10   \n",
       "1  Запустить собственную службу доставки, что сок...      2       5   \n",
       "2  Добавить блоки рекомендаций товаров на сайт ин...      8       3   \n",
       "3  Изменить структура категорий, что увеличит кон...      8       3   \n",
       "4  Изменить цвет фона главной страницы, чтобы уве...      3       1   \n",
       "5  Добавить страницу отзывов клиентов о магазине,...      3       2   \n",
       "6  Показать на главной странице баннеры с актуаль...      5       3   \n",
       "7  Добавить форму подписки на все основные страни...     10       7   \n",
       "8  Запустить акцию, дающую скидку на товар в день...      1       9   \n",
       "\n",
       "   Confidence  Efforts  \n",
       "0           8        6  \n",
       "1           4       10  \n",
       "2           7        3  \n",
       "3           3        8  \n",
       "4           1        1  \n",
       "5           2        3  \n",
       "6           8        3  \n",
       "7           8        5  \n",
       "8           9        5  "
      ]
     },
     "metadata": {},
     "output_type": "display_data"
    }
   ],
   "source": [
    "# для hypothesis\n",
    "\n",
    "hypothesis = pd.read_csv('/datasets/hypothesis.csv')\n",
    "display(hypothesis)\n",
    "pd.set_option('max_colwidth', 200)"
   ]
  },
  {
   "cell_type": "markdown",
   "metadata": {},
   "source": [
    "<b>Вывод</b>\n",
    "\n",
    "для orders:\n",
    "- сменили тип столбца\n",
    "- сменили формат даты\n",
    "- посмотрели какие максимальные и минимальные даты есть\n",
    "- увидели, что нет пропусков в данных\n",
    "\n",
    "аналогично для visitors и пока только посмотрели файл hypothesis"
   ]
  },
  {
   "cell_type": "markdown",
   "metadata": {},
   "source": [
    "### Приоритизация гипотез\n",
    "#### Примените фреймворк ICE для приоритизации гипотез. Отсортируйте их по убыванию приоритета.\n",
    "\n",
    "Приступим к расчетам ICE и отсортируем по убыванию значения"
   ]
  },
  {
   "cell_type": "code",
   "execution_count": 5,
   "metadata": {},
   "outputs": [
    {
     "data": {
      "text/html": [
       "<div>\n",
       "<style scoped>\n",
       "    .dataframe tbody tr th:only-of-type {\n",
       "        vertical-align: middle;\n",
       "    }\n",
       "\n",
       "    .dataframe tbody tr th {\n",
       "        vertical-align: top;\n",
       "    }\n",
       "\n",
       "    .dataframe thead th {\n",
       "        text-align: right;\n",
       "    }\n",
       "</style>\n",
       "<table border=\"1\" class=\"dataframe\">\n",
       "  <thead>\n",
       "    <tr style=\"text-align: right;\">\n",
       "      <th></th>\n",
       "      <th>Hypothesis</th>\n",
       "      <th>Reach</th>\n",
       "      <th>Impact</th>\n",
       "      <th>Confidence</th>\n",
       "      <th>Efforts</th>\n",
       "      <th>ice</th>\n",
       "    </tr>\n",
       "  </thead>\n",
       "  <tbody>\n",
       "    <tr>\n",
       "      <th>8</th>\n",
       "      <td>Запустить акцию, дающую скидку на товар в день рождения</td>\n",
       "      <td>1</td>\n",
       "      <td>9</td>\n",
       "      <td>9</td>\n",
       "      <td>5</td>\n",
       "      <td>16.20</td>\n",
       "    </tr>\n",
       "    <tr>\n",
       "      <th>0</th>\n",
       "      <td>Добавить два новых канала привлечения трафика, что позволит привлекать на 30% больше пользователей</td>\n",
       "      <td>3</td>\n",
       "      <td>10</td>\n",
       "      <td>8</td>\n",
       "      <td>6</td>\n",
       "      <td>13.33</td>\n",
       "    </tr>\n",
       "    <tr>\n",
       "      <th>7</th>\n",
       "      <td>Добавить форму подписки на все основные страницы, чтобы собрать базу клиентов для email-рассылок</td>\n",
       "      <td>10</td>\n",
       "      <td>7</td>\n",
       "      <td>8</td>\n",
       "      <td>5</td>\n",
       "      <td>11.20</td>\n",
       "    </tr>\n",
       "    <tr>\n",
       "      <th>6</th>\n",
       "      <td>Показать на главной странице баннеры с актуальными акциями и распродажами, чтобы увеличить конверсию</td>\n",
       "      <td>5</td>\n",
       "      <td>3</td>\n",
       "      <td>8</td>\n",
       "      <td>3</td>\n",
       "      <td>8.00</td>\n",
       "    </tr>\n",
       "    <tr>\n",
       "      <th>2</th>\n",
       "      <td>Добавить блоки рекомендаций товаров на сайт интернет магазина, чтобы повысить конверсию и средний чек заказа</td>\n",
       "      <td>8</td>\n",
       "      <td>3</td>\n",
       "      <td>7</td>\n",
       "      <td>3</td>\n",
       "      <td>7.00</td>\n",
       "    </tr>\n",
       "    <tr>\n",
       "      <th>1</th>\n",
       "      <td>Запустить собственную службу доставки, что сократит срок доставки заказов</td>\n",
       "      <td>2</td>\n",
       "      <td>5</td>\n",
       "      <td>4</td>\n",
       "      <td>10</td>\n",
       "      <td>2.00</td>\n",
       "    </tr>\n",
       "    <tr>\n",
       "      <th>5</th>\n",
       "      <td>Добавить страницу отзывов клиентов о магазине, что позволит увеличить количество заказов</td>\n",
       "      <td>3</td>\n",
       "      <td>2</td>\n",
       "      <td>2</td>\n",
       "      <td>3</td>\n",
       "      <td>1.33</td>\n",
       "    </tr>\n",
       "    <tr>\n",
       "      <th>3</th>\n",
       "      <td>Изменить структура категорий, что увеличит конверсию, т.к. пользователи быстрее найдут нужный товар</td>\n",
       "      <td>8</td>\n",
       "      <td>3</td>\n",
       "      <td>3</td>\n",
       "      <td>8</td>\n",
       "      <td>1.12</td>\n",
       "    </tr>\n",
       "    <tr>\n",
       "      <th>4</th>\n",
       "      <td>Изменить цвет фона главной страницы, чтобы увеличить вовлеченность пользователей</td>\n",
       "      <td>3</td>\n",
       "      <td>1</td>\n",
       "      <td>1</td>\n",
       "      <td>1</td>\n",
       "      <td>1.00</td>\n",
       "    </tr>\n",
       "  </tbody>\n",
       "</table>\n",
       "</div>"
      ],
      "text/plain": [
       "                                                                                                     Hypothesis  \\\n",
       "8                                                       Запустить акцию, дающую скидку на товар в день рождения   \n",
       "0            Добавить два новых канала привлечения трафика, что позволит привлекать на 30% больше пользователей   \n",
       "7              Добавить форму подписки на все основные страницы, чтобы собрать базу клиентов для email-рассылок   \n",
       "6          Показать на главной странице баннеры с актуальными акциями и распродажами, чтобы увеличить конверсию   \n",
       "2  Добавить блоки рекомендаций товаров на сайт интернет магазина, чтобы повысить конверсию и средний чек заказа   \n",
       "1                                     Запустить собственную службу доставки, что сократит срок доставки заказов   \n",
       "5                      Добавить страницу отзывов клиентов о магазине, что позволит увеличить количество заказов   \n",
       "3           Изменить структура категорий, что увеличит конверсию, т.к. пользователи быстрее найдут нужный товар   \n",
       "4                              Изменить цвет фона главной страницы, чтобы увеличить вовлеченность пользователей   \n",
       "\n",
       "   Reach  Impact  Confidence  Efforts    ice  \n",
       "8      1       9           9        5  16.20  \n",
       "0      3      10           8        6  13.33  \n",
       "7     10       7           8        5  11.20  \n",
       "6      5       3           8        3   8.00  \n",
       "2      8       3           7        3   7.00  \n",
       "1      2       5           4       10   2.00  \n",
       "5      3       2           2        3   1.33  \n",
       "3      8       3           3        8   1.12  \n",
       "4      3       1           1        1   1.00  "
      ]
     },
     "execution_count": 5,
     "metadata": {},
     "output_type": "execute_result"
    }
   ],
   "source": [
    "hypothesis['ice'] = (hypothesis['Impact'] * hypothesis['Confidence'] / hypothesis['Efforts']).round(2)\n",
    "hypothesis.sort_values(by='ice', ascending =False)"
   ]
  },
  {
   "cell_type": "markdown",
   "metadata": {},
   "source": [
    "Мы видим, что самой приоритетной является гипотеза Запустить акцию, дающую скидку на товар в день рождения"
   ]
  },
  {
   "cell_type": "markdown",
   "metadata": {},
   "source": [
    "#### Примените фреймворк RICE для приоритизации гипотез. Отсортируйте их по убыванию приоритета.\n",
    "Посмотрим, что будет, если применить RICE"
   ]
  },
  {
   "cell_type": "code",
   "execution_count": 6,
   "metadata": {},
   "outputs": [
    {
     "data": {
      "text/html": [
       "<div>\n",
       "<style scoped>\n",
       "    .dataframe tbody tr th:only-of-type {\n",
       "        vertical-align: middle;\n",
       "    }\n",
       "\n",
       "    .dataframe tbody tr th {\n",
       "        vertical-align: top;\n",
       "    }\n",
       "\n",
       "    .dataframe thead th {\n",
       "        text-align: right;\n",
       "    }\n",
       "</style>\n",
       "<table border=\"1\" class=\"dataframe\">\n",
       "  <thead>\n",
       "    <tr style=\"text-align: right;\">\n",
       "      <th></th>\n",
       "      <th>Hypothesis</th>\n",
       "      <th>Reach</th>\n",
       "      <th>Impact</th>\n",
       "      <th>Confidence</th>\n",
       "      <th>Efforts</th>\n",
       "      <th>ice</th>\n",
       "      <th>rice</th>\n",
       "    </tr>\n",
       "  </thead>\n",
       "  <tbody>\n",
       "    <tr>\n",
       "      <th>7</th>\n",
       "      <td>Добавить форму подписки на все основные страницы, чтобы собрать базу клиентов для email-рассылок</td>\n",
       "      <td>10</td>\n",
       "      <td>7</td>\n",
       "      <td>8</td>\n",
       "      <td>5</td>\n",
       "      <td>11.20</td>\n",
       "      <td>112.0</td>\n",
       "    </tr>\n",
       "    <tr>\n",
       "      <th>2</th>\n",
       "      <td>Добавить блоки рекомендаций товаров на сайт интернет магазина, чтобы повысить конверсию и средний чек заказа</td>\n",
       "      <td>8</td>\n",
       "      <td>3</td>\n",
       "      <td>7</td>\n",
       "      <td>3</td>\n",
       "      <td>7.00</td>\n",
       "      <td>56.0</td>\n",
       "    </tr>\n",
       "    <tr>\n",
       "      <th>0</th>\n",
       "      <td>Добавить два новых канала привлечения трафика, что позволит привлекать на 30% больше пользователей</td>\n",
       "      <td>3</td>\n",
       "      <td>10</td>\n",
       "      <td>8</td>\n",
       "      <td>6</td>\n",
       "      <td>13.33</td>\n",
       "      <td>40.0</td>\n",
       "    </tr>\n",
       "    <tr>\n",
       "      <th>6</th>\n",
       "      <td>Показать на главной странице баннеры с актуальными акциями и распродажами, чтобы увеличить конверсию</td>\n",
       "      <td>5</td>\n",
       "      <td>3</td>\n",
       "      <td>8</td>\n",
       "      <td>3</td>\n",
       "      <td>8.00</td>\n",
       "      <td>40.0</td>\n",
       "    </tr>\n",
       "    <tr>\n",
       "      <th>8</th>\n",
       "      <td>Запустить акцию, дающую скидку на товар в день рождения</td>\n",
       "      <td>1</td>\n",
       "      <td>9</td>\n",
       "      <td>9</td>\n",
       "      <td>5</td>\n",
       "      <td>16.20</td>\n",
       "      <td>16.2</td>\n",
       "    </tr>\n",
       "    <tr>\n",
       "      <th>3</th>\n",
       "      <td>Изменить структура категорий, что увеличит конверсию, т.к. пользователи быстрее найдут нужный товар</td>\n",
       "      <td>8</td>\n",
       "      <td>3</td>\n",
       "      <td>3</td>\n",
       "      <td>8</td>\n",
       "      <td>1.12</td>\n",
       "      <td>9.0</td>\n",
       "    </tr>\n",
       "    <tr>\n",
       "      <th>1</th>\n",
       "      <td>Запустить собственную службу доставки, что сократит срок доставки заказов</td>\n",
       "      <td>2</td>\n",
       "      <td>5</td>\n",
       "      <td>4</td>\n",
       "      <td>10</td>\n",
       "      <td>2.00</td>\n",
       "      <td>4.0</td>\n",
       "    </tr>\n",
       "    <tr>\n",
       "      <th>5</th>\n",
       "      <td>Добавить страницу отзывов клиентов о магазине, что позволит увеличить количество заказов</td>\n",
       "      <td>3</td>\n",
       "      <td>2</td>\n",
       "      <td>2</td>\n",
       "      <td>3</td>\n",
       "      <td>1.33</td>\n",
       "      <td>4.0</td>\n",
       "    </tr>\n",
       "    <tr>\n",
       "      <th>4</th>\n",
       "      <td>Изменить цвет фона главной страницы, чтобы увеличить вовлеченность пользователей</td>\n",
       "      <td>3</td>\n",
       "      <td>1</td>\n",
       "      <td>1</td>\n",
       "      <td>1</td>\n",
       "      <td>1.00</td>\n",
       "      <td>3.0</td>\n",
       "    </tr>\n",
       "  </tbody>\n",
       "</table>\n",
       "</div>"
      ],
      "text/plain": [
       "                                                                                                     Hypothesis  \\\n",
       "7              Добавить форму подписки на все основные страницы, чтобы собрать базу клиентов для email-рассылок   \n",
       "2  Добавить блоки рекомендаций товаров на сайт интернет магазина, чтобы повысить конверсию и средний чек заказа   \n",
       "0            Добавить два новых канала привлечения трафика, что позволит привлекать на 30% больше пользователей   \n",
       "6          Показать на главной странице баннеры с актуальными акциями и распродажами, чтобы увеличить конверсию   \n",
       "8                                                       Запустить акцию, дающую скидку на товар в день рождения   \n",
       "3           Изменить структура категорий, что увеличит конверсию, т.к. пользователи быстрее найдут нужный товар   \n",
       "1                                     Запустить собственную службу доставки, что сократит срок доставки заказов   \n",
       "5                      Добавить страницу отзывов клиентов о магазине, что позволит увеличить количество заказов   \n",
       "4                              Изменить цвет фона главной страницы, чтобы увеличить вовлеченность пользователей   \n",
       "\n",
       "   Reach  Impact  Confidence  Efforts    ice   rice  \n",
       "7     10       7           8        5  11.20  112.0  \n",
       "2      8       3           7        3   7.00   56.0  \n",
       "0      3      10           8        6  13.33   40.0  \n",
       "6      5       3           8        3   8.00   40.0  \n",
       "8      1       9           9        5  16.20   16.2  \n",
       "3      8       3           3        8   1.12    9.0  \n",
       "1      2       5           4       10   2.00    4.0  \n",
       "5      3       2           2        3   1.33    4.0  \n",
       "4      3       1           1        1   1.00    3.0  "
      ]
     },
     "execution_count": 6,
     "metadata": {},
     "output_type": "execute_result"
    }
   ],
   "source": [
    "hypothesis['rice'] = (hypothesis['Reach'] * hypothesis['Impact'] * hypothesis['Confidence'] / hypothesis['Efforts']).round(2)\n",
    "hypothesis.sort_values(by='rice', ascending =False)"
   ]
  },
  {
   "cell_type": "markdown",
   "metadata": {},
   "source": [
    "Тут мы уже видим другой результат - \"Добавить форму подписки на все основные страницы, чтобы собрать базу клиентов для email-рассылок\" становится приоритетной "
   ]
  },
  {
   "cell_type": "markdown",
   "metadata": {},
   "source": [
    "#### Укажите, как изменилась приоритизация гипотез при применении RICE вместо ICE. Объясните, почему так произошло"
   ]
  },
  {
   "cell_type": "markdown",
   "metadata": {},
   "source": [
    "Мы получили протеворечивый результат для ICE и RICE. Это можно объяснить тем, что в ICE не учитывается Reach, который достаточно сильно влияет на результаты. Reach отвечает за кол-во уникальных пользователей или проще говоря охват. \n",
    "\n",
    "Выберем \"Добавить форму подписки на все основные страницы, чтобы собрать базу клиентов для email-рассылок\" как приоритетную. Можно еще рассмотреть \"Добавить блоки рекомендаций товаров на сайт интернет магазина, чтобы повысить конверсию и средний чек заказа\"\n"
   ]
  },
  {
   "cell_type": "markdown",
   "metadata": {},
   "source": [
    "## Часть 2\n",
    "###  Анализ A/B-теста\n",
    "#### Проверка качества данных.\n",
    "Перед работой проверим некоторые моменты, которые могут сыграть роль в дальнейших результатах."
   ]
  },
  {
   "cell_type": "code",
   "execution_count": 7,
   "metadata": {},
   "outputs": [
    {
     "data": {
      "text/plain": [
       "0"
      ]
     },
     "metadata": {},
     "output_type": "display_data"
    },
    {
     "data": {
      "text/plain": [
       "transactionId    0\n",
       "visitorId        0\n",
       "date             0\n",
       "revenue          0\n",
       "group            0\n",
       "dtype: int64"
      ]
     },
     "metadata": {},
     "output_type": "display_data"
    },
    {
     "name": "stdout",
     "output_type": "stream",
     "text": [
      "<class 'pandas.core.frame.DataFrame'>\n",
      "RangeIndex: 1197 entries, 0 to 1196\n",
      "Data columns (total 5 columns):\n",
      " #   Column         Non-Null Count  Dtype         \n",
      "---  ------         --------------  -----         \n",
      " 0   transactionId  1197 non-null   int64         \n",
      " 1   visitorId      1197 non-null   int64         \n",
      " 2   date           1197 non-null   datetime64[ns]\n",
      " 3   revenue        1197 non-null   int64         \n",
      " 4   group          1197 non-null   object        \n",
      "dtypes: datetime64[ns](1), int64(3), object(1)\n",
      "memory usage: 46.9+ KB\n"
     ]
    }
   ],
   "source": [
    "# для orders\n",
    "\n",
    "display(orders.duplicated().sum())\n",
    "display(orders.isna().sum())\n",
    "orders.info()"
   ]
  },
  {
   "cell_type": "code",
   "execution_count": 8,
   "metadata": {},
   "outputs": [
    {
     "data": {
      "text/html": [
       "<div>\n",
       "<style scoped>\n",
       "    .dataframe tbody tr th:only-of-type {\n",
       "        vertical-align: middle;\n",
       "    }\n",
       "\n",
       "    .dataframe tbody tr th {\n",
       "        vertical-align: top;\n",
       "    }\n",
       "\n",
       "    .dataframe thead th {\n",
       "        text-align: right;\n",
       "    }\n",
       "</style>\n",
       "<table border=\"1\" class=\"dataframe\">\n",
       "  <thead>\n",
       "    <tr style=\"text-align: right;\">\n",
       "      <th></th>\n",
       "      <th>transactionId</th>\n",
       "      <th>visitorId</th>\n",
       "      <th>revenue</th>\n",
       "    </tr>\n",
       "  </thead>\n",
       "  <tbody>\n",
       "    <tr>\n",
       "      <th>count</th>\n",
       "      <td>1.197000e+03</td>\n",
       "      <td>1.197000e+03</td>\n",
       "      <td>1.197000e+03</td>\n",
       "    </tr>\n",
       "    <tr>\n",
       "      <th>mean</th>\n",
       "      <td>2.155621e+09</td>\n",
       "      <td>2.165960e+09</td>\n",
       "      <td>8.348006e+03</td>\n",
       "    </tr>\n",
       "    <tr>\n",
       "      <th>std</th>\n",
       "      <td>1.229085e+09</td>\n",
       "      <td>1.236014e+09</td>\n",
       "      <td>3.919113e+04</td>\n",
       "    </tr>\n",
       "    <tr>\n",
       "      <th>min</th>\n",
       "      <td>1.062393e+06</td>\n",
       "      <td>5.114589e+06</td>\n",
       "      <td>5.000000e+01</td>\n",
       "    </tr>\n",
       "    <tr>\n",
       "      <th>25%</th>\n",
       "      <td>1.166776e+09</td>\n",
       "      <td>1.111826e+09</td>\n",
       "      <td>1.220000e+03</td>\n",
       "    </tr>\n",
       "    <tr>\n",
       "      <th>50%</th>\n",
       "      <td>2.145194e+09</td>\n",
       "      <td>2.217985e+09</td>\n",
       "      <td>2.978000e+03</td>\n",
       "    </tr>\n",
       "    <tr>\n",
       "      <th>75%</th>\n",
       "      <td>3.237740e+09</td>\n",
       "      <td>3.177606e+09</td>\n",
       "      <td>8.290000e+03</td>\n",
       "    </tr>\n",
       "    <tr>\n",
       "      <th>max</th>\n",
       "      <td>4.293856e+09</td>\n",
       "      <td>4.283872e+09</td>\n",
       "      <td>1.294500e+06</td>\n",
       "    </tr>\n",
       "  </tbody>\n",
       "</table>\n",
       "</div>"
      ],
      "text/plain": [
       "       transactionId     visitorId       revenue\n",
       "count   1.197000e+03  1.197000e+03  1.197000e+03\n",
       "mean    2.155621e+09  2.165960e+09  8.348006e+03\n",
       "std     1.229085e+09  1.236014e+09  3.919113e+04\n",
       "min     1.062393e+06  5.114589e+06  5.000000e+01\n",
       "25%     1.166776e+09  1.111826e+09  1.220000e+03\n",
       "50%     2.145194e+09  2.217985e+09  2.978000e+03\n",
       "75%     3.237740e+09  3.177606e+09  8.290000e+03\n",
       "max     4.293856e+09  4.283872e+09  1.294500e+06"
      ]
     },
     "execution_count": 8,
     "metadata": {},
     "output_type": "execute_result"
    }
   ],
   "source": [
    "# для orders \n",
    "orders.describe()"
   ]
  },
  {
   "cell_type": "code",
   "execution_count": 9,
   "metadata": {},
   "outputs": [
    {
     "data": {
      "text/plain": [
       "0"
      ]
     },
     "metadata": {},
     "output_type": "display_data"
    },
    {
     "data": {
      "text/plain": [
       "date        0\n",
       "group       0\n",
       "visitors    0\n",
       "dtype: int64"
      ]
     },
     "metadata": {},
     "output_type": "display_data"
    },
    {
     "name": "stdout",
     "output_type": "stream",
     "text": [
      "<class 'pandas.core.frame.DataFrame'>\n",
      "RangeIndex: 62 entries, 0 to 61\n",
      "Data columns (total 3 columns):\n",
      " #   Column    Non-Null Count  Dtype         \n",
      "---  ------    --------------  -----         \n",
      " 0   date      62 non-null     datetime64[ns]\n",
      " 1   group     62 non-null     object        \n",
      " 2   visitors  62 non-null     int64         \n",
      "dtypes: datetime64[ns](1), int64(1), object(1)\n",
      "memory usage: 1.6+ KB\n"
     ]
    }
   ],
   "source": [
    "# для visitors \n",
    "\n",
    "display(visitors.duplicated().sum())\n",
    "display(visitors.isna().sum())\n",
    "visitors.info()"
   ]
  },
  {
   "cell_type": "code",
   "execution_count": 10,
   "metadata": {},
   "outputs": [
    {
     "data": {
      "text/html": [
       "<div>\n",
       "<style scoped>\n",
       "    .dataframe tbody tr th:only-of-type {\n",
       "        vertical-align: middle;\n",
       "    }\n",
       "\n",
       "    .dataframe tbody tr th {\n",
       "        vertical-align: top;\n",
       "    }\n",
       "\n",
       "    .dataframe thead th {\n",
       "        text-align: right;\n",
       "    }\n",
       "</style>\n",
       "<table border=\"1\" class=\"dataframe\">\n",
       "  <thead>\n",
       "    <tr style=\"text-align: right;\">\n",
       "      <th></th>\n",
       "      <th>visitors</th>\n",
       "    </tr>\n",
       "  </thead>\n",
       "  <tbody>\n",
       "    <tr>\n",
       "      <th>count</th>\n",
       "      <td>62.000000</td>\n",
       "    </tr>\n",
       "    <tr>\n",
       "      <th>mean</th>\n",
       "      <td>607.290323</td>\n",
       "    </tr>\n",
       "    <tr>\n",
       "      <th>std</th>\n",
       "      <td>114.400560</td>\n",
       "    </tr>\n",
       "    <tr>\n",
       "      <th>min</th>\n",
       "      <td>361.000000</td>\n",
       "    </tr>\n",
       "    <tr>\n",
       "      <th>25%</th>\n",
       "      <td>534.000000</td>\n",
       "    </tr>\n",
       "    <tr>\n",
       "      <th>50%</th>\n",
       "      <td>624.500000</td>\n",
       "    </tr>\n",
       "    <tr>\n",
       "      <th>75%</th>\n",
       "      <td>710.500000</td>\n",
       "    </tr>\n",
       "    <tr>\n",
       "      <th>max</th>\n",
       "      <td>770.000000</td>\n",
       "    </tr>\n",
       "  </tbody>\n",
       "</table>\n",
       "</div>"
      ],
      "text/plain": [
       "         visitors\n",
       "count   62.000000\n",
       "mean   607.290323\n",
       "std    114.400560\n",
       "min    361.000000\n",
       "25%    534.000000\n",
       "50%    624.500000\n",
       "75%    710.500000\n",
       "max    770.000000"
      ]
     },
     "execution_count": 10,
     "metadata": {},
     "output_type": "execute_result"
    }
   ],
   "source": [
    "visitors.describe()"
   ]
  },
  {
   "cell_type": "markdown",
   "metadata": {},
   "source": [
    "Мы получили общую информацию, теперь посмотрим есть ли пересекающиеся данные"
   ]
  },
  {
   "cell_type": "code",
   "execution_count": 11,
   "metadata": {},
   "outputs": [
    {
     "data": {
      "text/plain": [
       "visitorId    58\n",
       "group        58\n",
       "dtype: int64"
      ]
     },
     "execution_count": 11,
     "metadata": {},
     "output_type": "execute_result"
    }
   ],
   "source": [
    "(orders.groupby(['visitorId'])['group'].nunique().reset_index().query('group > 1').count())"
   ]
  },
  {
   "cell_type": "markdown",
   "metadata": {},
   "source": [
    "Да, таких оказалось не очень много, но от них стоит избавиться, т.к они будут влиять на дальнейши выводы"
   ]
  },
  {
   "cell_type": "code",
   "execution_count": 12,
   "metadata": {},
   "outputs": [],
   "source": [
    "# отбираем группы из данных с заказами \n",
    "group_a=orders.query('group == \"A\"') \n",
    "group_b=orders.query('group == \"B\"') \n",
    "  \n",
    "# пользователи в двух группах \n",
    "group_intersections=list(np.intersect1d(group_a['visitorId'], group_b['visitorId']))"
   ]
  },
  {
   "cell_type": "code",
   "execution_count": 13,
   "metadata": {},
   "outputs": [],
   "source": [
    "orders_without_intersections = orders.query('visitorId not in @group_intersections')"
   ]
  },
  {
   "cell_type": "code",
   "execution_count": 14,
   "metadata": {},
   "outputs": [],
   "source": [
    "orders = orders.query('visitorId not in @group_intersections')"
   ]
  },
  {
   "cell_type": "code",
   "execution_count": 15,
   "metadata": {},
   "outputs": [
    {
     "name": "stdout",
     "output_type": "stream",
     "text": [
      "<class 'pandas.core.frame.DataFrame'>\n",
      "Int64Index: 1016 entries, 0 to 1196\n",
      "Data columns (total 5 columns):\n",
      " #   Column         Non-Null Count  Dtype         \n",
      "---  ------         --------------  -----         \n",
      " 0   transactionId  1016 non-null   int64         \n",
      " 1   visitorId      1016 non-null   int64         \n",
      " 2   date           1016 non-null   datetime64[ns]\n",
      " 3   revenue        1016 non-null   int64         \n",
      " 4   group          1016 non-null   object        \n",
      "dtypes: datetime64[ns](1), int64(3), object(1)\n",
      "memory usage: 47.6+ KB\n"
     ]
    }
   ],
   "source": [
    "orders.info()"
   ]
  },
  {
   "cell_type": "markdown",
   "metadata": {},
   "source": [
    " <b>Вывод</b>\n",
    " \n",
    " Для orders и visitors нет дубликатов и пустых значений. Но нам попались пересекающиеся данные, которые мы убрали из выборки \n",
    " "
   ]
  },
  {
   "cell_type": "markdown",
   "metadata": {},
   "source": [
    "#### Постройте график кумулятивной выручки по группам. Сделайте выводы и предположения."
   ]
  },
  {
   "cell_type": "code",
   "execution_count": 16,
   "metadata": {},
   "outputs": [
    {
     "data": {
      "text/html": [
       "<div>\n",
       "<style scoped>\n",
       "    .dataframe tbody tr th:only-of-type {\n",
       "        vertical-align: middle;\n",
       "    }\n",
       "\n",
       "    .dataframe tbody tr th {\n",
       "        vertical-align: top;\n",
       "    }\n",
       "\n",
       "    .dataframe thead th {\n",
       "        text-align: right;\n",
       "    }\n",
       "</style>\n",
       "<table border=\"1\" class=\"dataframe\">\n",
       "  <thead>\n",
       "    <tr style=\"text-align: right;\">\n",
       "      <th></th>\n",
       "      <th>date</th>\n",
       "      <th>group</th>\n",
       "      <th>orders</th>\n",
       "      <th>buyers</th>\n",
       "      <th>revenue</th>\n",
       "      <th>visitors</th>\n",
       "    </tr>\n",
       "  </thead>\n",
       "  <tbody>\n",
       "    <tr>\n",
       "      <th>0</th>\n",
       "      <td>2019-08-01</td>\n",
       "      <td>A</td>\n",
       "      <td>23</td>\n",
       "      <td>19</td>\n",
       "      <td>142779</td>\n",
       "      <td>719</td>\n",
       "    </tr>\n",
       "    <tr>\n",
       "      <th>1</th>\n",
       "      <td>2019-08-01</td>\n",
       "      <td>B</td>\n",
       "      <td>17</td>\n",
       "      <td>17</td>\n",
       "      <td>59758</td>\n",
       "      <td>713</td>\n",
       "    </tr>\n",
       "    <tr>\n",
       "      <th>2</th>\n",
       "      <td>2019-08-02</td>\n",
       "      <td>A</td>\n",
       "      <td>42</td>\n",
       "      <td>36</td>\n",
       "      <td>234381</td>\n",
       "      <td>1338</td>\n",
       "    </tr>\n",
       "    <tr>\n",
       "      <th>3</th>\n",
       "      <td>2019-08-02</td>\n",
       "      <td>B</td>\n",
       "      <td>40</td>\n",
       "      <td>39</td>\n",
       "      <td>221801</td>\n",
       "      <td>1294</td>\n",
       "    </tr>\n",
       "    <tr>\n",
       "      <th>4</th>\n",
       "      <td>2019-08-03</td>\n",
       "      <td>A</td>\n",
       "      <td>66</td>\n",
       "      <td>60</td>\n",
       "      <td>346854</td>\n",
       "      <td>1845</td>\n",
       "    </tr>\n",
       "  </tbody>\n",
       "</table>\n",
       "</div>"
      ],
      "text/plain": [
       "        date group  orders  buyers  revenue  visitors\n",
       "0 2019-08-01     A      23      19   142779       719\n",
       "1 2019-08-01     B      17      17    59758       713\n",
       "2 2019-08-02     A      42      36   234381      1338\n",
       "3 2019-08-02     B      40      39   221801      1294\n",
       "4 2019-08-03     A      66      60   346854      1845"
      ]
     },
     "execution_count": 16,
     "metadata": {},
     "output_type": "execute_result"
    }
   ],
   "source": [
    "#уникальные значения для дат и групп\n",
    "datesGroups = orders[['date','group']].drop_duplicates().sort_values(by=['date', 'group'])\n",
    "\n",
    "#кумулятивные показатели orders\n",
    "ordersAggregated = datesGroups.apply(lambda x: orders[np.logical_and(x['date'] >= orders['date'],\n",
    "                                                                     x['group']==orders['group'])]\\\n",
    ".agg({'date':'max', 'group':'max', 'transactionId':'nunique', 'visitorId':'nunique', 'revenue':'sum'}), axis = 1)\n",
    "ordersAggregated.columns = ['date', 'group', 'orders', 'buyers', 'revenue']\n",
    "#кумулятивные показатели visitors\n",
    "visitorsAggregated = datesGroups.apply(lambda x: visitors[np.logical_and(x['date'] >= visitors['date'],\n",
    "                                                                         x['group']==visitors['group'])]\\\n",
    ".agg({'date':'max', 'group':'max', 'visitors':'sum'}), axis = 1)\n",
    "#добавляем в одну таблицу\n",
    "cumulativeData = ordersAggregated.merge(visitorsAggregated, left_on=['date', 'group'], right_on=['date', 'group'])\n",
    "cumulativeData.head(5)"
   ]
  },
  {
   "cell_type": "markdown",
   "metadata": {},
   "source": [
    "Вывели таблицу, теперь построим график"
   ]
  },
  {
   "cell_type": "code",
   "execution_count": 17,
   "metadata": {},
   "outputs": [
    {
     "data": {
      "image/png": "[encoded data removed]",
      "text/plain": [
       "<Figure size 1080x360 with 1 Axes>"
      ]
     },
     "metadata": {
      "needs_background": "light"
     },
     "output_type": "display_data"
    }
   ],
   "source": [
    "#построение графика\n",
    "\n",
    "cumulativeRevenueA = cumulativeData[cumulativeData['group']=='A'][['date','revenue', 'orders']]\n",
    "cumulativeRevenueB = cumulativeData[cumulativeData['group']=='B'][['date','revenue', 'orders']]\n",
    "\n",
    "plt.figure(figsize=(15,5))\n",
    "plt.plot(cumulativeRevenueA['date'], cumulativeRevenueA['revenue'], label='A')\n",
    "plt.plot(cumulativeRevenueB['date'], cumulativeRevenueB['revenue'], label='B')\n",
    "\n",
    "plt.title('Кумулятивная выручка по группам')\n",
    "plt.ylabel('Выручка')\n",
    "plt.xlabel('Дата')\n",
    "plt.xticks(rotation=45)\n",
    "plt.legend()\n",
    "plt.grid()\n",
    "plt.show()"
   ]
  },
  {
   "cell_type": "markdown",
   "metadata": {},
   "source": [
    "До середины месяца графики групп А и В местами близки, иногда В выбивается, однако, после 17 числа есть резкий всплеск в этой группе. Можно проверить медианой"
   ]
  },
  {
   "cell_type": "code",
   "execution_count": 18,
   "metadata": {},
   "outputs": [
    {
     "name": "stdout",
     "output_type": "stream",
     "text": [
      "Медианное значение одного заказа 19 августа = 2578.0\n"
     ]
    },
    {
     "data": {
      "text/html": [
       "<div>\n",
       "<style scoped>\n",
       "    .dataframe tbody tr th:only-of-type {\n",
       "        vertical-align: middle;\n",
       "    }\n",
       "\n",
       "    .dataframe tbody tr th {\n",
       "        vertical-align: top;\n",
       "    }\n",
       "\n",
       "    .dataframe thead th {\n",
       "        text-align: right;\n",
       "    }\n",
       "</style>\n",
       "<table border=\"1\" class=\"dataframe\">\n",
       "  <thead>\n",
       "    <tr style=\"text-align: right;\">\n",
       "      <th></th>\n",
       "      <th>transactionId</th>\n",
       "      <th>visitorId</th>\n",
       "      <th>date</th>\n",
       "      <th>revenue</th>\n",
       "      <th>group</th>\n",
       "    </tr>\n",
       "  </thead>\n",
       "  <tbody>\n",
       "    <tr>\n",
       "      <th>425</th>\n",
       "      <td>590470918</td>\n",
       "      <td>1920142716</td>\n",
       "      <td>2019-08-19</td>\n",
       "      <td>1294500</td>\n",
       "      <td>B</td>\n",
       "    </tr>\n",
       "    <tr>\n",
       "      <th>530</th>\n",
       "      <td>3970235543</td>\n",
       "      <td>2912540959</td>\n",
       "      <td>2019-08-19</td>\n",
       "      <td>43990</td>\n",
       "      <td>A</td>\n",
       "    </tr>\n",
       "    <tr>\n",
       "      <th>527</th>\n",
       "      <td>1570513684</td>\n",
       "      <td>2837914161</td>\n",
       "      <td>2019-08-19</td>\n",
       "      <td>33405</td>\n",
       "      <td>B</td>\n",
       "    </tr>\n",
       "    <tr>\n",
       "      <th>421</th>\n",
       "      <td>3765974140</td>\n",
       "      <td>1357170471</td>\n",
       "      <td>2019-08-19</td>\n",
       "      <td>31680</td>\n",
       "      <td>A</td>\n",
       "    </tr>\n",
       "    <tr>\n",
       "      <th>461</th>\n",
       "      <td>2683113224</td>\n",
       "      <td>154576532</td>\n",
       "      <td>2019-08-19</td>\n",
       "      <td>26550</td>\n",
       "      <td>B</td>\n",
       "    </tr>\n",
       "    <tr>\n",
       "      <th>368</th>\n",
       "      <td>3268879337</td>\n",
       "      <td>2536252163</td>\n",
       "      <td>2019-08-19</td>\n",
       "      <td>20026</td>\n",
       "      <td>B</td>\n",
       "    </tr>\n",
       "    <tr>\n",
       "      <th>366</th>\n",
       "      <td>2037051350</td>\n",
       "      <td>1957949546</td>\n",
       "      <td>2019-08-19</td>\n",
       "      <td>16770</td>\n",
       "      <td>A</td>\n",
       "    </tr>\n",
       "    <tr>\n",
       "      <th>463</th>\n",
       "      <td>4170537404</td>\n",
       "      <td>290022471</td>\n",
       "      <td>2019-08-19</td>\n",
       "      <td>16480</td>\n",
       "      <td>B</td>\n",
       "    </tr>\n",
       "    <tr>\n",
       "      <th>531</th>\n",
       "      <td>4016435970</td>\n",
       "      <td>4017075195</td>\n",
       "      <td>2019-08-19</td>\n",
       "      <td>13390</td>\n",
       "      <td>A</td>\n",
       "    </tr>\n",
       "    <tr>\n",
       "      <th>318</th>\n",
       "      <td>3412626998</td>\n",
       "      <td>3282099314</td>\n",
       "      <td>2019-08-19</td>\n",
       "      <td>11985</td>\n",
       "      <td>A</td>\n",
       "    </tr>\n",
       "  </tbody>\n",
       "</table>\n",
       "</div>"
      ],
      "text/plain": [
       "     transactionId   visitorId       date  revenue group\n",
       "425      590470918  1920142716 2019-08-19  1294500     B\n",
       "530     3970235543  2912540959 2019-08-19    43990     A\n",
       "527     1570513684  2837914161 2019-08-19    33405     B\n",
       "421     3765974140  1357170471 2019-08-19    31680     A\n",
       "461     2683113224   154576532 2019-08-19    26550     B\n",
       "368     3268879337  2536252163 2019-08-19    20026     B\n",
       "366     2037051350  1957949546 2019-08-19    16770     A\n",
       "463     4170537404   290022471 2019-08-19    16480     B\n",
       "531     4016435970  4017075195 2019-08-19    13390     A\n",
       "318     3412626998  3282099314 2019-08-19    11985     A"
      ]
     },
     "execution_count": 18,
     "metadata": {},
     "output_type": "execute_result"
    }
   ],
   "source": [
    "print('Медианное значение одного заказа 19 августа =',orders.query(' date == \"2019-08-19\" ')['revenue'].median())\n",
    "orders.query(' date == \"2019-08-19\" ').sort_values(by='revenue', ascending=False).head(10)"
   ]
  },
  {
   "cell_type": "markdown",
   "metadata": {},
   "source": [
    "Один заказ явно выбивается - 425, будем иметь это ввиду"
   ]
  },
  {
   "cell_type": "markdown",
   "metadata": {},
   "source": [
    "#### Постройте график кумулятивного среднего чека по группам. Сделайте выводы и предположения."
   ]
  },
  {
   "cell_type": "code",
   "execution_count": 19,
   "metadata": {},
   "outputs": [
    {
     "data": {
      "image/png": "[encoded data removed]",
      "text/plain": [
       "<Figure size 720x288 with 1 Axes>"
      ]
     },
     "metadata": {
      "needs_background": "light"
     },
     "output_type": "display_data"
    }
   ],
   "source": [
    "plt.figure(figsize=(10,4))\n",
    "plt.plot(cumulativeRevenueA['date'], cumulativeRevenueA['revenue']/cumulativeRevenueA['orders'], label = 'A')\n",
    "plt.plot(cumulativeRevenueB['date'], cumulativeRevenueB['revenue']/cumulativeRevenueB['orders'], label = 'B')\n",
    "plt.title('Графики кумулятивного среднего чека по группам A/B')\n",
    "plt.ylabel('Средний чек')\n",
    "plt.xlabel('Дата')\n",
    "plt.legend()\n",
    "plt.show()"
   ]
  },
  {
   "cell_type": "markdown",
   "metadata": {},
   "source": [
    "Мы видим, что средний чек рос довольно плавно для обеих групп, но аномаьное значение в группе В дало резкий всплеск"
   ]
  },
  {
   "cell_type": "markdown",
   "metadata": {},
   "source": [
    "#### Постройте график относительного изменения кумулятивного среднего чека группы B к группе A. Сделайте выводы и предположения."
   ]
  },
  {
   "cell_type": "code",
   "execution_count": 20,
   "metadata": {},
   "outputs": [
    {
     "data": {
      "image/png": "[encoded data removed]",
      "text/plain": [
       "<Figure size 1080x360 with 1 Axes>"
      ]
     },
     "metadata": {
      "needs_background": "light"
     },
     "output_type": "display_data"
    }
   ],
   "source": [
    "# мерджим данные\n",
    "mergedCumulativeRevenue = cumulativeRevenueA.merge(cumulativeRevenueB,\n",
    "                                                   left_on='date', right_on='date', how='left', suffixes=['A', 'B'])\n",
    "\n",
    "# cтроим график\n",
    "plt.figure(figsize=(15,5))\n",
    "plt.plot(mergedCumulativeRevenue['date'], \n",
    "         (mergedCumulativeRevenue['revenueB']/mergedCumulativeRevenue['ordersB'])/\n",
    "         (mergedCumulativeRevenue['revenueA']/mergedCumulativeRevenue['ordersA'])-1)\n",
    "plt.title('Кумулятивный среднийо чека групп \"B\" к \"А\"')\n",
    "# добавляем ось X\n",
    "plt.axhline(y=0, color='black', linestyle='--')\n",
    "plt.xlabel('Дата')\n",
    "plt.ylabel(\"Кумулятивное отношение чеков\")\n",
    "plt.show()"
   ]
  },
  {
   "cell_type": "markdown",
   "metadata": {},
   "source": [
    "В начале теста лучше себя чувствовали показатели группы B, затем они стали ухудшаться относительно А. Аналогично прошлым графикам мы видим всплеск в группе В"
   ]
  },
  {
   "cell_type": "markdown",
   "metadata": {},
   "source": [
    "#### Постройте график кумулятивного среднего количества заказов на посетителя по группам. Сделайте выводы и предположения."
   ]
  },
  {
   "cell_type": "code",
   "execution_count": 21,
   "metadata": {},
   "outputs": [
    {
     "data": {
      "image/png": "[encoded data removed]",
      "text/plain": [
       "<Figure size 1080x360 with 1 Axes>"
      ]
     },
     "metadata": {
      "needs_background": "light"
     },
     "output_type": "display_data"
    }
   ],
   "source": [
    "cumulativeData['conversion'] = cumulativeData['orders']/cumulativeData['visitors']\n",
    "\n",
    "\n",
    "cumulativeDataA = cumulativeData[cumulativeData['group']=='A']\n",
    "cumulativeDataB = cumulativeData[cumulativeData['group']=='B']\n",
    "\n",
    "plt.figure(figsize=(15,5))\n",
    "plt.plot(cumulativeDataA['date'], cumulativeDataA['conversion'], label='A')\n",
    "plt.plot(cumulativeDataB['date'], cumulativeDataB['conversion'], label='B')\n",
    "plt.title('График кумулятивного среднего количества заказов на посетителя по группам')\n",
    "plt.ylabel('Среднее количество заказов')\n",
    "plt.xlabel('Дата')\n",
    "plt.xticks(rotation=45)\n",
    "plt.legend()\n",
    "plt.grid()\n",
    "plt.show()"
   ]
  },
  {
   "cell_type": "markdown",
   "metadata": {},
   "source": [
    "Среднее количество заказов группы А довольно хорошо показывала себя, но далее все пошло на спад. Для группы В, наоборо, после 5 числа мы видим стабильно высокие показатели"
   ]
  },
  {
   "cell_type": "markdown",
   "metadata": {},
   "source": [
    "#### Постройте график относительного изменения кумулятивного среднего количества заказов на посетителя группы B к группе A. Сделайте выводы и предположения."
   ]
  },
  {
   "cell_type": "code",
   "execution_count": 22,
   "metadata": {},
   "outputs": [
    {
     "data": {
      "image/png": "[encoded data removed]",
      "text/plain": [
       "<Figure size 1080x360 with 1 Axes>"
      ]
     },
     "metadata": {
      "needs_background": "light"
     },
     "output_type": "display_data"
    }
   ],
   "source": [
    "mergedCumulativeConversions = cumulativeDataA[['date','conversion']].merge(\n",
    "    cumulativeDataB[['date','conversion']], left_on='date', right_on='date', how='left', suffixes=['A', 'B']\n",
    ")\n",
    "\n",
    "plt.figure(figsize=(15,5))\n",
    "plt.plot(\n",
    "    mergedCumulativeConversions['date'], mergedCumulativeConversions['conversionB']/\n",
    "    mergedCumulativeConversions['conversionA']-1, label=\"Прирост среднего кол-ва заказов группы B к группе A\")\n",
    "\n",
    "plt.legend()\n",
    "plt.axhline(y=0, color='black', linestyle='--')\n",
    "plt.axhline(y=0.15, color='red', linestyle='--')\n",
    "plt.title('График относительного изменения кумулятивного среднего количества заказов группы B к группе A')\n",
    "plt.ylabel('Количество заказов')\n",
    "plt.xlabel('Дата')\n",
    "plt.xticks(rotation=45)\n",
    "plt.grid()\n",
    "plt.show()"
   ]
  },
  {
   "cell_type": "markdown",
   "metadata": {},
   "source": [
    "Группа В имеет хороший прирост - примерно в 15 - 20% "
   ]
  },
  {
   "cell_type": "markdown",
   "metadata": {},
   "source": [
    "#### Постройте точечный график количества заказов по пользователям. Сделайте выводы и предположения."
   ]
  },
  {
   "cell_type": "code",
   "execution_count": 23,
   "metadata": {},
   "outputs": [
    {
     "data": {
      "text/html": [
       "<div>\n",
       "<style scoped>\n",
       "    .dataframe tbody tr th:only-of-type {\n",
       "        vertical-align: middle;\n",
       "    }\n",
       "\n",
       "    .dataframe tbody tr th {\n",
       "        vertical-align: top;\n",
       "    }\n",
       "\n",
       "    .dataframe thead th {\n",
       "        text-align: right;\n",
       "    }\n",
       "</style>\n",
       "<table border=\"1\" class=\"dataframe\">\n",
       "  <thead>\n",
       "    <tr style=\"text-align: right;\">\n",
       "      <th></th>\n",
       "      <th>visitorId</th>\n",
       "      <th>orders</th>\n",
       "    </tr>\n",
       "  </thead>\n",
       "  <tbody>\n",
       "    <tr>\n",
       "      <th>0</th>\n",
       "      <td>5114589</td>\n",
       "      <td>1</td>\n",
       "    </tr>\n",
       "    <tr>\n",
       "      <th>1</th>\n",
       "      <td>6958315</td>\n",
       "      <td>1</td>\n",
       "    </tr>\n",
       "    <tr>\n",
       "      <th>2</th>\n",
       "      <td>11685486</td>\n",
       "      <td>1</td>\n",
       "    </tr>\n",
       "    <tr>\n",
       "      <th>3</th>\n",
       "      <td>39475350</td>\n",
       "      <td>1</td>\n",
       "    </tr>\n",
       "    <tr>\n",
       "      <th>4</th>\n",
       "      <td>47206413</td>\n",
       "      <td>1</td>\n",
       "    </tr>\n",
       "  </tbody>\n",
       "</table>\n",
       "</div>"
      ],
      "text/plain": [
       "   visitorId  orders\n",
       "0    5114589       1\n",
       "1    6958315       1\n",
       "2   11685486       1\n",
       "3   39475350       1\n",
       "4   47206413       1"
      ]
     },
     "execution_count": 23,
     "metadata": {},
     "output_type": "execute_result"
    }
   ],
   "source": [
    "#таблица заказов\n",
    "orders_by_users = orders.groupby(\n",
    "    'visitorId', as_index=False).agg({'transactionId':'nunique'}).rename(columns={'transactionId':'orders'}\n",
    ")\n",
    "orders_by_users.head()"
   ]
  },
  {
   "cell_type": "code",
   "execution_count": 24,
   "metadata": {},
   "outputs": [
    {
     "data": {
      "image/png": "[encoded data removed]",
      "text/plain": [
       "<Figure size 720x360 with 1 Axes>"
      ]
     },
     "metadata": {
      "needs_background": "light"
     },
     "output_type": "display_data"
    }
   ],
   "source": [
    "#построение графика\n",
    "x_values = pd.Series(range(0,len(orders_by_users['orders'])))\n",
    "\n",
    "plt.figure(figsize=(10,5))\n",
    "plt.scatter(x_values, orders_by_users['orders'], alpha=0.3)\n",
    "plt.title('Точечный график количества заказов по пользователям')\n",
    "plt.xlabel('Число пользователей')\n",
    "plt.ylabel('Число заказов')\n",
    "plt.grid()\n",
    "plt.show()"
   ]
  },
  {
   "cell_type": "markdown",
   "metadata": {},
   "source": [
    "Основное количество покупок - 1, однако есть и совершенные 2 раза, 3 раза - уже единичные случаи"
   ]
  },
  {
   "cell_type": "markdown",
   "metadata": {},
   "source": [
    "#### Посчитайте 95-й и 99-й перцентили количества заказов на пользователя. Выберите границу для определения аномальных пользователей."
   ]
  },
  {
   "cell_type": "markdown",
   "metadata": {},
   "source": [
    "Посмотрим на перцентили, что бы понять какие считать за аномалии"
   ]
  },
  {
   "cell_type": "code",
   "execution_count": 25,
   "metadata": {},
   "outputs": [
    {
     "name": "stdout",
     "output_type": "stream",
     "text": [
      "[1. 2.]\n"
     ]
    }
   ],
   "source": [
    "print(np.percentile(orders_by_users['orders'], [95, 99]))"
   ]
  },
  {
   "cell_type": "code",
   "execution_count": 26,
   "metadata": {},
   "outputs": [
    {
     "name": "stdout",
     "output_type": "stream",
     "text": [
      "перцентили c 95 по 99 (по заказам) :  [1. 1. 2. 2. 2.]\n"
     ]
    }
   ],
   "source": [
    "print('перцентили c 95 по 99 (по заказам) : ', np.percentile(orders_by_users['orders'], [95,96,97,98, 99])) "
   ]
  },
  {
   "cell_type": "markdown",
   "metadata": {},
   "source": [
    "Обычно 1-2 заказа - это частые продажи, а вот 3 составляют ~1%, их мы и будем считать за аномалии"
   ]
  },
  {
   "cell_type": "markdown",
   "metadata": {},
   "source": [
    "#### Постройте точечный график стоимостей заказов. Сделайте выводы и предположения."
   ]
  },
  {
   "cell_type": "code",
   "execution_count": 27,
   "metadata": {},
   "outputs": [
    {
     "data": {
      "image/png": "[encoded data removed]",
      "text/plain": [
       "<Figure size 1080x360 with 1 Axes>"
      ]
     },
     "metadata": {
      "needs_background": "light"
     },
     "output_type": "display_data"
    }
   ],
   "source": [
    "x_values = pd.Series(range(0,len(orders['revenue'])))\n",
    "plt.figure(figsize=(15,5))\n",
    "plt.title('График стоимостей заказов')\n",
    "plt.xlabel(\"Доход\")\n",
    "plt.ylabel(\"Число заказов\")\n",
    "plt.scatter(x_values, orders['revenue'])\n",
    "plt.show()"
   ]
  },
  {
   "cell_type": "code",
   "execution_count": 28,
   "metadata": {},
   "outputs": [
    {
     "data": {
      "image/png": "[encoded data removed]",
      "text/plain": [
       "<Figure size 1080x360 with 1 Axes>"
      ]
     },
     "metadata": {
      "needs_background": "light"
     },
     "output_type": "display_data"
    }
   ],
   "source": [
    "#увеличим результат для наглядности\n",
    "norm_orders = orders[orders['revenue']<=195000]['revenue']\n",
    "xn_values = pd.Series(range(0,len(norm_orders)))\n",
    "plt.figure(figsize=(15,5))\n",
    "plt.title('График стоимостей заказов')\n",
    "plt.xlabel(\"Доход\")\n",
    "plt.ylabel(\"Число заказов\")\n",
    "plt.scatter(xn_values, norm_orders, alpha=0.5)\n",
    "plt.show()"
   ]
  },
  {
   "cell_type": "markdown",
   "metadata": {},
   "source": [
    "До 20000 - это приблизительно те пределы, в которых большая часть заказов. Посмотрим еще и на процентили"
   ]
  },
  {
   "cell_type": "markdown",
   "metadata": {},
   "source": [
    "#### Посчитайте 95-й и 99-й перцентили стоимости заказов. Выберите границу для определения аномальных заказов."
   ]
  },
  {
   "cell_type": "code",
   "execution_count": 29,
   "metadata": {},
   "outputs": [
    {
     "name": "stdout",
     "output_type": "stream",
     "text": [
      "[26785. 53904.]\n"
     ]
    }
   ],
   "source": [
    "print(np.percentile(orders['revenue'], [95, 99])) "
   ]
  },
  {
   "cell_type": "markdown",
   "metadata": {},
   "source": [
    "Не более 5% пользователей совершили заказ на сумму больше 26785.\n",
    "Не более 1% пользователей совершили заказ на сумму больше 53904. Аномальными будут заказы на сумму больше 53904."
   ]
  },
  {
   "cell_type": "markdown",
   "metadata": {},
   "source": [
    "#### Посчитайте статистическую значимость различий в среднем количестве заказов на посетителя между группами по «сырым» данным. Сделайте выводы и предположения."
   ]
  },
  {
   "cell_type": "code",
   "execution_count": 30,
   "metadata": {},
   "outputs": [],
   "source": [
    "visitorsADaily = visitors[visitors['group']=='A'][['date', 'visitors']]\n",
    "visitorsADaily.columns = ['date', 'visitorsPerDateA']\n",
    "\n",
    "visitorsACumulative = visitorsADaily.apply(lambda x: visitorsADaily[visitorsADaily['date'] <= x['date']]. \\\n",
    "                                            agg({'date' : 'max', 'visitorsPerDateA' : 'sum'}), axis=1)\n",
    "visitorsACumulative.columns = ['date', 'visitorsCumulativeA']\n",
    "\n",
    "visitorsBDaily = visitors[visitors['group']=='B'][['date', 'visitors']]\n",
    "visitorsBDaily.columns = ['date', 'visitorsPerDateB']\n",
    "\n",
    "visitorsBCumulative = visitorsBDaily.apply(lambda x: visitorsBDaily[visitorsBDaily['date'] <= x['date']]. \\\n",
    "                                            agg({'date' : 'max', 'visitorsPerDateB' : 'sum'}), axis=1)\n",
    "visitorsBCumulative.columns = ['date', 'visitorsCumulativeB']\n",
    "\n",
    "\n",
    "ordersADaily = orders[orders['group']=='A'][['date', 'transactionId', 'visitorId', 'revenue']]\\\n",
    "    .groupby('date', as_index=False)\\\n",
    "    .agg({'transactionId' : pd.Series.nunique, 'revenue' : 'sum'})\n",
    "ordersADaily.columns = ['date', 'ordersPerDateA', 'revenuePerDateA']\n",
    "\n",
    "ordersACumulative = ordersADaily.apply(\n",
    "    lambda x: \\\n",
    "        ordersADaily[ordersADaily['date'] <= x['date']]\\\n",
    "            .agg({\n",
    "                'date' : 'max',\n",
    "                'ordersPerDateA' : 'sum',\n",
    "                'revenuePerDateA' : 'sum'}), axis=1).sort_values(by=['date'])\n",
    "ordersACumulative.columns = ['date', 'ordersCumulativeA', 'revenueCumulativeA']\n",
    "\n",
    "ordersBDaily = orders[orders['group']=='B'][['date', 'transactionId', 'visitorId', 'revenue']]\\\n",
    "    .groupby('date', as_index=False)\\\n",
    "    .agg({'transactionId' : pd.Series.nunique, 'revenue' : 'sum'})\n",
    "ordersBDaily.columns = ['date', 'ordersPerDateB', 'revenuePerDateB']\n",
    "\n",
    "ordersBCumulative = ordersBDaily.apply(\n",
    "    lambda x: \\\n",
    "        ordersBDaily[ordersBDaily['date'] <= x['date']]\\\n",
    "            .agg({\n",
    "                'date' : 'max',\n",
    "                'ordersPerDateB' : 'sum',\n",
    "                'revenuePerDateB' : 'sum'}), axis=1).sort_values(by=['date'])\n",
    "ordersBCumulative.columns = ['date', 'ordersCumulativeB', 'revenueCumulativeB']"
   ]
  },
  {
   "cell_type": "code",
   "execution_count": 31,
   "metadata": {},
   "outputs": [
    {
     "data": {
      "text/html": [
       "<div>\n",
       "<style scoped>\n",
       "    .dataframe tbody tr th:only-of-type {\n",
       "        vertical-align: middle;\n",
       "    }\n",
       "\n",
       "    .dataframe tbody tr th {\n",
       "        vertical-align: top;\n",
       "    }\n",
       "\n",
       "    .dataframe thead th {\n",
       "        text-align: right;\n",
       "    }\n",
       "</style>\n",
       "<table border=\"1\" class=\"dataframe\">\n",
       "  <thead>\n",
       "    <tr style=\"text-align: right;\">\n",
       "      <th></th>\n",
       "      <th>date</th>\n",
       "      <th>ordersPerDateA</th>\n",
       "      <th>revenuePerDateA</th>\n",
       "      <th>ordersPerDateB</th>\n",
       "      <th>revenuePerDateB</th>\n",
       "      <th>ordersCumulativeA</th>\n",
       "      <th>revenueCumulativeA</th>\n",
       "      <th>ordersCumulativeB</th>\n",
       "      <th>revenueCumulativeB</th>\n",
       "      <th>visitorsPerDateA</th>\n",
       "      <th>visitorsPerDateB</th>\n",
       "      <th>visitorsCumulativeA</th>\n",
       "      <th>visitorsCumulativeB</th>\n",
       "    </tr>\n",
       "  </thead>\n",
       "  <tbody>\n",
       "    <tr>\n",
       "      <th>1</th>\n",
       "      <td>2019-08-02</td>\n",
       "      <td>19</td>\n",
       "      <td>91602</td>\n",
       "      <td>23</td>\n",
       "      <td>162043</td>\n",
       "      <td>42</td>\n",
       "      <td>234381</td>\n",
       "      <td>40</td>\n",
       "      <td>221801</td>\n",
       "      <td>619</td>\n",
       "      <td>581</td>\n",
       "      <td>1338</td>\n",
       "      <td>1294</td>\n",
       "    </tr>\n",
       "    <tr>\n",
       "      <th>26</th>\n",
       "      <td>2019-08-27</td>\n",
       "      <td>23</td>\n",
       "      <td>185350</td>\n",
       "      <td>11</td>\n",
       "      <td>111347</td>\n",
       "      <td>419</td>\n",
       "      <td>2940471</td>\n",
       "      <td>473</td>\n",
       "      <td>4579312</td>\n",
       "      <td>711</td>\n",
       "      <td>720</td>\n",
       "      <td>16376</td>\n",
       "      <td>16523</td>\n",
       "    </tr>\n",
       "    <tr>\n",
       "      <th>23</th>\n",
       "      <td>2019-08-24</td>\n",
       "      <td>13</td>\n",
       "      <td>122013</td>\n",
       "      <td>14</td>\n",
       "      <td>87866</td>\n",
       "      <td>372</td>\n",
       "      <td>2546023</td>\n",
       "      <td>428</td>\n",
       "      <td>4215269</td>\n",
       "      <td>395</td>\n",
       "      <td>378</td>\n",
       "      <td>14322</td>\n",
       "      <td>14448</td>\n",
       "    </tr>\n",
       "  </tbody>\n",
       "</table>\n",
       "</div>"
      ],
      "text/plain": [
       "         date  ordersPerDateA  revenuePerDateA  ordersPerDateB  \\\n",
       "1  2019-08-02              19            91602              23   \n",
       "26 2019-08-27              23           185350              11   \n",
       "23 2019-08-24              13           122013              14   \n",
       "\n",
       "    revenuePerDateB  ordersCumulativeA  revenueCumulativeA  ordersCumulativeB  \\\n",
       "1            162043                 42              234381                 40   \n",
       "26           111347                419             2940471                473   \n",
       "23            87866                372             2546023                428   \n",
       "\n",
       "    revenueCumulativeB  visitorsPerDateA  visitorsPerDateB  \\\n",
       "1               221801               619               581   \n",
       "26             4579312               711               720   \n",
       "23             4215269               395               378   \n",
       "\n",
       "    visitorsCumulativeA  visitorsCumulativeB  \n",
       "1                  1338                 1294  \n",
       "26                16376                16523  \n",
       "23                14322                14448  "
      ]
     },
     "execution_count": 31,
     "metadata": {},
     "output_type": "execute_result"
    }
   ],
   "source": [
    "data = ordersADaily.merge(ordersBDaily, left_on='date', right_on='date', how='left')\\\n",
    "    .merge(ordersACumulative, left_on='date', right_on='date', how='left')\\\n",
    "    .merge(ordersBCumulative, left_on='date', right_on='date', how='left')\\\n",
    "    .merge(visitorsADaily, left_on='date', right_on='date', how='left')\\\n",
    "    .merge(visitorsBDaily, left_on='date', right_on='date', how='left')\\\n",
    "    .merge(visitorsACumulative, left_on='date', right_on='date', how='left')\\\n",
    "    .merge(visitorsBCumulative, left_on='date', right_on='date', how='left')\n",
    "data.sample(3)"
   ]
  },
  {
   "cell_type": "markdown",
   "metadata": {},
   "source": [
    "Сформулируем гипотезы:\n",
    "\n",
    "Нулевая гипотеза: Статистически значимых различий  в среднем количестве заказов между группами по «сырым» данным нет.\n",
    "\n",
    "Альтернативная гипотеза: Статистически значимых различий  в среднем количестве заказов между группами по «сырым» данным есть.\n",
    "\n",
    "Применим критерием Манна-Уитни. Порогом статистической значимости установим alpha = 0.05\n",
    "\n",
    "Манна-Уитни используем, т.к есть выбросы, а сам тест работает с рангами, не учитывая сами значения."
   ]
  },
  {
   "cell_type": "code",
   "execution_count": 32,
   "metadata": {},
   "outputs": [
    {
     "name": "stdout",
     "output_type": "stream",
     "text": [
      "alpha = 0.05\n",
      "p-value = 0.011\n",
      "Относительный показатель 'B' и 'A' = 0.160\n"
     ]
    }
   ],
   "source": [
    "ordersByUsersA = orders[orders['group']=='A'].groupby('visitorId', as_index=False).agg({'transactionId' : pd.Series.nunique})\n",
    "ordersByUsersA.columns = ['userId', 'orders']\n",
    "\n",
    "ordersByUsersB = orders[orders['group']=='B'].groupby('visitorId', as_index=False).agg({'transactionId' : pd.Series.nunique})\n",
    "ordersByUsersB.columns = ['userId', 'orders']\n",
    "\n",
    "sampleA = pd.concat([ordersByUsersA['orders'],\n",
    "                     pd.Series(0, index=np.arange(data['visitorsPerDateA'].\n",
    "                                                  sum() - len(ordersByUsersA['orders'])), name='orders')],axis=0)\n",
    "\n",
    "sampleB = pd.concat([ordersByUsersB['orders'],\n",
    "                     pd.Series(0, index=np.arange(data['visitorsPerDateB'].\n",
    "                                                  sum() - len(ordersByUsersB['orders'])), name='orders')],axis=0)\n",
    "\n",
    "print(\"alpha =\",0.05)\n",
    "print(\"p-value = {0:.3f}\".format(stats.mannwhitneyu(sampleA, sampleB, alternative = 'two-sided')[1]))\n",
    "print(\"Относительный показатель 'B' и 'A' = {0:.3f}\".format(sampleB.mean()/sampleA.mean()-1)) "
   ]
  },
  {
   "cell_type": "markdown",
   "metadata": {},
   "source": [
    "P-value оказался меньше 0.05, поэтому мы не можем подтвердить нулевую гипотезу. \n",
    "\n",
    " Количество заказов в группе A не равно группе B (между выборками имеется статистическая значимость). Относительный прирост среднего группы В к группе А равен 16%."
   ]
  },
  {
   "cell_type": "markdown",
   "metadata": {},
   "source": [
    "#### Посчитайте статистическую значимость различий в среднем чеке заказа между группами по «сырым» данным. Сделайте выводы и предположения.\n",
    "\n",
    "Нулевая гипотеза: Статистически значимых различий  в среднем чеке заказа между группами по «сырым» данным нет.\n",
    "\n",
    "Альтернативная гипотеза: Статистически значимых различий  в среднем чеке заказа между группами по «сырым» данным есть.\n",
    "\n",
    "Применим критерием Манна-Уитни. Порогом статистической значимости установим alpha = 0.05"
   ]
  },
  {
   "cell_type": "code",
   "execution_count": 33,
   "metadata": {},
   "outputs": [
    {
     "name": "stdout",
     "output_type": "stream",
     "text": [
      "p-value = 0.829\n",
      "Относительный показатель \"B\" и \"A\" = 0.287\n"
     ]
    }
   ],
   "source": [
    "print('p-value = {0:.3f}'.format(stats.mannwhitneyu(orders[orders['group']=='A']['revenue'],\n",
    "                                                    orders[orders['group']=='B']['revenue'])[1]))\n",
    "print('Относительный показатель \"B\" и \"A\" = {0:.3f}'.format(orders[orders['group']=='B']['revenue'].\n",
    "                                                            mean()/orders[orders['group']=='A']['revenue'].mean()-1)) "
   ]
  },
  {
   "cell_type": "markdown",
   "metadata": {},
   "source": [
    "P-value оказалось больше 0.05, что не дает отвергнуть нулевую гипотезу. \n",
    "Средний чек в группе A равен группе B (статистическая значимость не значительна и сделать вывод о различии нельзя).\n",
    "Относительный прирост среднего чека группы В к группе А равен 28,7%. Что было заметно на графиках ранее."
   ]
  },
  {
   "cell_type": "markdown",
   "metadata": {},
   "source": [
    "#### Посчитайте статистическую значимость различий в среднем количестве заказов на посетителя между группами по «очищенным» данным. Сделайте выводы и предположения.\n",
    "\n",
    "Сформулируем гипотезы:\n",
    "\n",
    "Нулевая гипотеза: Статистически значимых различий  в среднем количестве заказов на посетителя между группами по  «очищенным» данным нет.\n",
    "\n",
    "Альтернативная гипотеза: Статистически значимых различий  в среднем количестве заказов на посетителя между группами по  «очищенным» данным есть.\n",
    "\n",
    "Применим критерием Манна-Уитни. Порогом статистической значимости установим alpha = 0.05\n",
    "\n",
    "Мы увидели некоторые аномалии в прошлых исследованиях. Сейчас попробуем от них избавиться"
   ]
  },
  {
   "cell_type": "code",
   "execution_count": 34,
   "metadata": {},
   "outputs": [
    {
     "name": "stdout",
     "output_type": "stream",
     "text": [
      "1099    148427295\n",
      "33      249864742\n",
      "58      611059232\n",
      "949     887908475\n",
      "744     888512513\n",
      "dtype: int64\n",
      "16\n"
     ]
    }
   ],
   "source": [
    "usersWithManyOrders = pd.concat(\n",
    "    [\n",
    "         ordersByUsersA[ordersByUsersA['orders'] > int(np.percentile(orders_by_users['orders'], [99]))]['userId'],\n",
    "        ordersByUsersB[ordersByUsersB['orders'] > int(np.percentile(orders_by_users['orders'], [99]))]['userId'],\n",
    "    ],\n",
    "    axis=0,\n",
    ")\n",
    "revenue_lim = np.percentile(orders['revenue'], 99)\n",
    "usersWithExpensiveOrders = orders[orders['revenue'] > revenue_lim]['visitorId']\n",
    "abnormalUsers = (\n",
    "    pd.concat([usersWithManyOrders, usersWithExpensiveOrders], axis=0)\n",
    "    .drop_duplicates()\n",
    "    .sort_values()\n",
    ")\n",
    "print(abnormalUsers.head(5))\n",
    "print(abnormalUsers.shape[0])"
   ]
  },
  {
   "cell_type": "markdown",
   "metadata": {},
   "source": [
    "Избавились от аномалий, теперь посчитаем статистическую значимость различий между группами теста по очищенным данным. "
   ]
  },
  {
   "cell_type": "code",
   "execution_count": 35,
   "metadata": {},
   "outputs": [
    {
     "name": "stdout",
     "output_type": "stream",
     "text": [
      "p-value = 0.007\n",
      "Относительный показатель \"B\" и \"A\" = 0.189\n"
     ]
    }
   ],
   "source": [
    "sampleAFiltered = pd.concat(\n",
    "    [\n",
    "        ordersByUsersA[\n",
    "            np.logical_not(ordersByUsersA['userId'].isin(abnormalUsers))\n",
    "        ]['orders'],\n",
    "        pd.Series(\n",
    "            0,\n",
    "            index=np.arange(\n",
    "                data['visitorsPerDateA'].sum() - len(ordersByUsersA['orders'])\n",
    "            ),\n",
    "            name='orders',\n",
    "        ),\n",
    "    ],\n",
    "    axis=0,\n",
    ")\n",
    "\n",
    "sampleBFiltered = pd.concat(\n",
    "    [\n",
    "        ordersByUsersB[\n",
    "            np.logical_not(ordersByUsersB['userId'].isin(abnormalUsers))\n",
    "        ]['orders'],\n",
    "        pd.Series(\n",
    "            0,\n",
    "            index=np.arange(\n",
    "                data['visitorsPerDateB'].sum() - len(ordersByUsersB['orders'])\n",
    "            ),\n",
    "            name='orders',\n",
    "        ),\n",
    "    ],\n",
    "    axis=0,\n",
    ")\n",
    "\n",
    "#статистический критерий Манна-Уитни\n",
    "print('p-value = {0:.3f}'.format(stats.mannwhitneyu(sampleAFiltered, sampleBFiltered)[1]))\n",
    "print('Относительный показатель \"B\" и \"A\" = {0:.3f}'.format(sampleBFiltered.mean()/sampleAFiltered.mean()-1))"
   ]
  },
  {
   "cell_type": "markdown",
   "metadata": {},
   "source": [
    "Мы видим, что p-value = 0.007 еще 0.05. Нулевую гипотезу отвергаем. \n",
    "Теперь видно, что по очищенным данным есть различия групп A и B. При этом группа В выбивается по результатам на ~18%"
   ]
  },
  {
   "cell_type": "markdown",
   "metadata": {},
   "source": [
    "#### Примите решение по результатам теста и объясните его.\n",
    "\n",
    "Сформулируем гипотезы:\n",
    "\n",
    "Нулевая гипотеза: Статистически значимых различий  в среднем чеке заказа между группами по «очищенным» данным нет.\n",
    "\n",
    "Альтернативная гипотеза: Статистически значимых различий  в среднем чеке заказа между группами по  «очищенным» данным есть.\n",
    "\n",
    "Применим критерием Манна-Уитни. Порогом статистической значимости установим alpha = 0.05"
   ]
  },
  {
   "cell_type": "code",
   "execution_count": 36,
   "metadata": {},
   "outputs": [
    {
     "name": "stdout",
     "output_type": "stream",
     "text": [
      "p-value =0.788\n",
      "Относительный показатель \"B\" и \"A\" = -0.032\n"
     ]
    }
   ],
   "source": [
    "print(\n",
    "    'p-value ={0:.3f}'.format(\n",
    "        stats.mannwhitneyu(\n",
    "            orders[\n",
    "                np.logical_and(\n",
    "                    orders['group'] == 'A',\n",
    "                    np.logical_not(orders['visitorId'].isin(abnormalUsers)),\n",
    "                )\n",
    "            ]['revenue'],\n",
    "            orders[\n",
    "                np.logical_and(\n",
    "                    orders['group'] == 'B',\n",
    "                    np.logical_not(orders['visitorId'].isin(abnormalUsers)),\n",
    "                )\n",
    "            ]['revenue'],\n",
    "        )[1]\n",
    "    )\n",
    ")\n",
    "\n",
    "print(\n",
    "    'Относительный показатель \"B\" и \"A\" = {0:.3f}'.format(\n",
    "        orders[\n",
    "            np.logical_and(\n",
    "                orders['group'] == 'B',\n",
    "                np.logical_not(orders['visitorId'].isin(abnormalUsers)),\n",
    "            )\n",
    "        ]['revenue'].mean()\n",
    "        / orders[\n",
    "            np.logical_and(\n",
    "                orders['group'] == 'A',\n",
    "                np.logical_not(orders['visitorId'].isin(abnormalUsers)),\n",
    "            )\n",
    "        ]['revenue'].mean()\n",
    "        - 1\n",
    "    )\n",
    ")"
   ]
  },
  {
   "cell_type": "markdown",
   "metadata": {},
   "source": [
    "Нет причин отвергать нулевую гипотезу. Считать, что в среднем чеке есть различия, аналогично не можем. Средний чек группы B незначительно ниже,чем в группе A"
   ]
  },
  {
   "cell_type": "markdown",
   "metadata": {},
   "source": [
    "## Вывод"
   ]
  },
  {
   "cell_type": "markdown",
   "metadata": {},
   "source": [
    "Из того анализа, который мы провели, можно сказать, что тест успешно пройден и его можно остановить.\n",
    "\n",
    "По сырым и очищенным данным  в среднем количестве заказов на посетителя группы А != В (имеется статистическая значимость).\n",
    "Если говорить о среднем чеке, то А = В, тут уже статистическая значимость незначительна и нельзя точно сказать о различи (касается и очищенных и сырых данных)\n",
    "\n",
    "Как итог, можно сказать, то группа В имеет лучше данные  в среднем количестве заказов на посетителя, но почти не имеет различия по среднему чеку с группой А"
   ]
  }
 ],
 "metadata": {
  "ExecuteTimeLog": [
   {
    "duration": 46,
    "start_time": "2023-04-02T21:25:26.518Z"
   },
   {
    "duration": 1196,
    "start_time": "2023-04-02T21:26:09.795Z"
   },
   {
    "duration": 68,
    "start_time": "2023-04-02T21:26:12.566Z"
   },
   {
    "duration": 770,
    "start_time": "2023-04-02T21:27:05.745Z"
   },
   {
    "duration": 110,
    "start_time": "2023-04-02T21:27:27.346Z"
   },
   {
    "duration": 75,
    "start_time": "2023-04-02T21:28:37.221Z"
   },
   {
    "duration": 36,
    "start_time": "2023-04-02T21:29:00.107Z"
   },
   {
    "duration": 22,
    "start_time": "2023-04-02T21:29:51.360Z"
   },
   {
    "duration": 24,
    "start_time": "2023-04-02T21:30:06.721Z"
   },
   {
    "duration": 27,
    "start_time": "2023-04-02T21:30:20.746Z"
   },
   {
    "duration": 3,
    "start_time": "2023-04-02T21:32:06.775Z"
   },
   {
    "duration": 664,
    "start_time": "2023-04-02T21:46:57.982Z"
   },
   {
    "duration": 14,
    "start_time": "2023-04-02T21:51:01.384Z"
   },
   {
    "duration": 14,
    "start_time": "2023-04-02T21:51:34.363Z"
   },
   {
    "duration": 12,
    "start_time": "2023-04-02T21:53:43.529Z"
   },
   {
    "duration": 4,
    "start_time": "2023-04-02T21:53:48.584Z"
   },
   {
    "duration": 11,
    "start_time": "2023-04-02T21:54:11.209Z"
   },
   {
    "duration": 12,
    "start_time": "2023-04-02T21:54:15.555Z"
   },
   {
    "duration": 44,
    "start_time": "2023-04-03T09:07:38.905Z"
   },
   {
    "duration": 1088,
    "start_time": "2023-04-03T09:07:52.376Z"
   },
   {
    "duration": 132,
    "start_time": "2023-04-03T09:07:53.465Z"
   },
   {
    "duration": 73,
    "start_time": "2023-04-03T09:07:53.598Z"
   },
   {
    "duration": 71,
    "start_time": "2023-04-03T09:07:53.672Z"
   },
   {
    "duration": 10,
    "start_time": "2023-04-03T09:07:53.744Z"
   },
   {
    "duration": 9,
    "start_time": "2023-04-03T09:07:53.755Z"
   },
   {
    "duration": 21,
    "start_time": "2023-04-03T09:07:53.765Z"
   },
   {
    "duration": 10,
    "start_time": "2023-04-03T09:07:53.787Z"
   },
   {
    "duration": 17,
    "start_time": "2023-04-03T09:09:09.664Z"
   },
   {
    "duration": 19,
    "start_time": "2023-04-03T09:09:17.367Z"
   },
   {
    "duration": 18,
    "start_time": "2023-04-03T09:09:26.568Z"
   },
   {
    "duration": 20,
    "start_time": "2023-04-03T09:10:53.467Z"
   },
   {
    "duration": 22,
    "start_time": "2023-04-03T09:11:04.679Z"
   },
   {
    "duration": 10,
    "start_time": "2023-04-03T09:23:43.421Z"
   },
   {
    "duration": 7,
    "start_time": "2023-04-03T09:24:06.470Z"
   },
   {
    "duration": 6,
    "start_time": "2023-04-03T11:47:43.139Z"
   },
   {
    "duration": 7,
    "start_time": "2023-04-03T11:47:44.316Z"
   },
   {
    "duration": 13,
    "start_time": "2023-04-03T11:47:44.884Z"
   },
   {
    "duration": 319,
    "start_time": "2023-04-03T12:11:26.798Z"
   },
   {
    "duration": 102,
    "start_time": "2023-04-03T12:12:00.234Z"
   },
   {
    "duration": 245,
    "start_time": "2023-04-03T12:12:46.375Z"
   },
   {
    "duration": 10,
    "start_time": "2023-04-03T12:12:49.575Z"
   },
   {
    "duration": 1000,
    "start_time": "2023-04-03T12:13:31.385Z"
   },
   {
    "duration": 84,
    "start_time": "2023-04-03T12:13:32.387Z"
   },
   {
    "duration": 29,
    "start_time": "2023-04-03T12:13:32.472Z"
   },
   {
    "duration": 18,
    "start_time": "2023-04-03T12:13:32.502Z"
   },
   {
    "duration": 9,
    "start_time": "2023-04-03T12:13:32.522Z"
   },
   {
    "duration": 10,
    "start_time": "2023-04-03T12:13:32.532Z"
   },
   {
    "duration": 24,
    "start_time": "2023-04-03T12:13:32.543Z"
   },
   {
    "duration": 20,
    "start_time": "2023-04-03T12:13:32.569Z"
   },
   {
    "duration": 8,
    "start_time": "2023-04-03T12:13:32.590Z"
   },
   {
    "duration": 6,
    "start_time": "2023-04-03T12:13:32.600Z"
   },
   {
    "duration": 22,
    "start_time": "2023-04-03T12:13:32.607Z"
   },
   {
    "duration": 10,
    "start_time": "2023-04-03T12:13:32.630Z"
   },
   {
    "duration": 26,
    "start_time": "2023-04-03T12:13:32.641Z"
   },
   {
    "duration": 257,
    "start_time": "2023-04-03T12:13:32.669Z"
   },
   {
    "duration": 112,
    "start_time": "2023-04-03T12:13:32.927Z"
   },
   {
    "duration": 246,
    "start_time": "2023-04-03T12:18:40.726Z"
   },
   {
    "duration": 280,
    "start_time": "2023-04-03T12:19:29.128Z"
   },
   {
    "duration": 309,
    "start_time": "2023-04-03T12:19:32.192Z"
   },
   {
    "duration": 12,
    "start_time": "2023-04-03T12:26:18.028Z"
   },
   {
    "duration": 10,
    "start_time": "2023-04-03T12:26:37.191Z"
   },
   {
    "duration": 194,
    "start_time": "2023-04-03T12:28:52.877Z"
   },
   {
    "duration": 296,
    "start_time": "2023-04-03T12:57:57.463Z"
   },
   {
    "duration": 270,
    "start_time": "2023-04-03T12:58:45.715Z"
   },
   {
    "duration": 236,
    "start_time": "2023-04-03T12:58:53.190Z"
   },
   {
    "duration": 167,
    "start_time": "2023-04-03T12:59:53.598Z"
   },
   {
    "duration": 242,
    "start_time": "2023-04-03T13:00:36.124Z"
   },
   {
    "duration": 257,
    "start_time": "2023-04-03T13:09:54.795Z"
   },
   {
    "duration": 16,
    "start_time": "2023-04-03T13:11:48.805Z"
   },
   {
    "duration": 11,
    "start_time": "2023-04-03T13:13:09.524Z"
   },
   {
    "duration": 11,
    "start_time": "2023-04-03T13:15:53.018Z"
   },
   {
    "duration": 10,
    "start_time": "2023-04-03T13:16:27.619Z"
   },
   {
    "duration": 9,
    "start_time": "2023-04-03T13:16:52.829Z"
   },
   {
    "duration": 144,
    "start_time": "2023-04-03T13:20:08.659Z"
   },
   {
    "duration": 7,
    "start_time": "2023-04-03T13:27:45.493Z"
   },
   {
    "duration": 4,
    "start_time": "2023-04-03T13:29:19.730Z"
   },
   {
    "duration": 5,
    "start_time": "2023-04-03T13:32:36.783Z"
   },
   {
    "duration": 136,
    "start_time": "2023-04-03T13:44:38.918Z"
   },
   {
    "duration": 146,
    "start_time": "2023-04-03T13:44:57.537Z"
   },
   {
    "duration": 152,
    "start_time": "2023-04-03T13:47:12.408Z"
   },
   {
    "duration": 4,
    "start_time": "2023-04-03T13:49:50.514Z"
   },
   {
    "duration": 170,
    "start_time": "2023-04-03T16:26:13.234Z"
   },
   {
    "duration": 13,
    "start_time": "2023-04-03T16:26:31.627Z"
   },
   {
    "duration": 25,
    "start_time": "2023-04-03T16:26:43.930Z"
   },
   {
    "duration": 134,
    "start_time": "2023-04-03T16:28:04.739Z"
   },
   {
    "duration": 147,
    "start_time": "2023-04-03T17:10:29.623Z"
   },
   {
    "duration": 124,
    "start_time": "2023-04-03T17:10:42.206Z"
   },
   {
    "duration": 120,
    "start_time": "2023-04-03T17:10:50.260Z"
   },
   {
    "duration": 123,
    "start_time": "2023-04-03T17:10:56.540Z"
   },
   {
    "duration": 125,
    "start_time": "2023-04-03T17:11:18.365Z"
   },
   {
    "duration": 8,
    "start_time": "2023-04-03T17:12:50.753Z"
   },
   {
    "duration": 11,
    "start_time": "2023-04-03T17:15:05.103Z"
   },
   {
    "duration": 9,
    "start_time": "2023-04-03T17:16:13.244Z"
   },
   {
    "duration": 8,
    "start_time": "2023-04-03T17:16:21.932Z"
   },
   {
    "duration": 2158,
    "start_time": "2023-04-03T17:28:36.633Z"
   },
   {
    "duration": 12,
    "start_time": "2023-04-03T17:29:12.899Z"
   },
   {
    "duration": 1237,
    "start_time": "2023-04-03T17:31:42.326Z"
   },
   {
    "duration": 16,
    "start_time": "2023-04-03T17:32:52.342Z"
   },
   {
    "duration": 15,
    "start_time": "2023-04-03T17:33:47.168Z"
   },
   {
    "duration": 10,
    "start_time": "2023-04-03T17:34:25.161Z"
   },
   {
    "duration": 25,
    "start_time": "2023-04-03T17:34:57.692Z"
   },
   {
    "duration": 22,
    "start_time": "2023-04-03T17:35:42.966Z"
   },
   {
    "duration": 1173,
    "start_time": "2023-04-03T17:36:17.065Z"
   },
   {
    "duration": 13,
    "start_time": "2023-04-03T17:37:37.204Z"
   },
   {
    "duration": 72,
    "start_time": "2023-04-03T17:48:11.449Z"
   },
   {
    "duration": 44,
    "start_time": "2023-04-03T17:52:04.796Z"
   },
   {
    "duration": 292,
    "start_time": "2023-04-03T18:13:00.611Z"
   },
   {
    "duration": 10,
    "start_time": "2023-04-03T18:41:53.820Z"
   },
   {
    "duration": 28,
    "start_time": "2023-04-03T18:52:43.293Z"
   },
   {
    "duration": 30,
    "start_time": "2023-04-03T18:52:50.485Z"
   },
   {
    "duration": 38,
    "start_time": "2023-04-03T19:07:11.329Z"
   },
   {
    "duration": 24,
    "start_time": "2023-04-03T19:07:57.861Z"
   },
   {
    "duration": 23,
    "start_time": "2023-04-03T19:08:05.548Z"
   },
   {
    "duration": 20,
    "start_time": "2023-04-03T19:08:10.772Z"
   },
   {
    "duration": 18,
    "start_time": "2023-04-03T19:08:17.766Z"
   },
   {
    "duration": 1046,
    "start_time": "2023-04-03T19:08:50.487Z"
   },
   {
    "duration": 85,
    "start_time": "2023-04-03T19:08:51.534Z"
   },
   {
    "duration": 42,
    "start_time": "2023-04-03T19:08:51.620Z"
   },
   {
    "duration": 22,
    "start_time": "2023-04-03T19:08:51.664Z"
   },
   {
    "duration": 11,
    "start_time": "2023-04-03T19:08:51.688Z"
   },
   {
    "duration": 26,
    "start_time": "2023-04-03T19:08:51.700Z"
   },
   {
    "duration": 60,
    "start_time": "2023-04-03T19:08:51.727Z"
   },
   {
    "duration": 21,
    "start_time": "2023-04-03T19:08:51.788Z"
   },
   {
    "duration": 12,
    "start_time": "2023-04-03T19:08:51.810Z"
   },
   {
    "duration": 23,
    "start_time": "2023-04-03T19:08:51.823Z"
   },
   {
    "duration": 26,
    "start_time": "2023-04-03T19:08:51.848Z"
   },
   {
    "duration": 24,
    "start_time": "2023-04-03T19:08:51.875Z"
   },
   {
    "duration": 28,
    "start_time": "2023-04-03T19:08:51.900Z"
   },
   {
    "duration": 293,
    "start_time": "2023-04-03T19:08:51.930Z"
   },
   {
    "duration": 298,
    "start_time": "2023-04-03T19:08:52.224Z"
   },
   {
    "duration": 191,
    "start_time": "2023-04-03T19:08:52.523Z"
   },
   {
    "duration": 347,
    "start_time": "2023-04-03T19:08:52.716Z"
   },
   {
    "duration": 219,
    "start_time": "2023-04-03T19:08:53.065Z"
   },
   {
    "duration": 304,
    "start_time": "2023-04-03T19:08:53.285Z"
   },
   {
    "duration": 10,
    "start_time": "2023-04-03T19:08:53.590Z"
   },
   {
    "duration": 158,
    "start_time": "2023-04-03T19:08:53.601Z"
   },
   {
    "duration": 5,
    "start_time": "2023-04-03T19:08:53.760Z"
   },
   {
    "duration": 29,
    "start_time": "2023-04-03T19:08:53.767Z"
   },
   {
    "duration": 164,
    "start_time": "2023-04-03T19:08:53.797Z"
   },
   {
    "duration": 152,
    "start_time": "2023-04-03T19:08:53.963Z"
   },
   {
    "duration": 4,
    "start_time": "2023-04-03T19:08:54.116Z"
   },
   {
    "duration": 244,
    "start_time": "2023-04-03T19:08:54.122Z"
   },
   {
    "duration": 24,
    "start_time": "2023-04-03T19:08:54.368Z"
   },
   {
    "duration": 150,
    "start_time": "2023-04-03T19:08:54.393Z"
   },
   {
    "duration": 24,
    "start_time": "2023-04-03T19:08:54.545Z"
   },
   {
    "duration": 17,
    "start_time": "2023-04-03T19:08:54.571Z"
   },
   {
    "duration": 19,
    "start_time": "2023-04-03T19:08:54.589Z"
   },
   {
    "duration": 37,
    "start_time": "2023-04-03T19:08:54.609Z"
   },
   {
    "duration": 19,
    "start_time": "2023-04-03T19:08:54.648Z"
   },
   {
    "duration": 18,
    "start_time": "2023-04-03T19:09:21.984Z"
   },
   {
    "duration": 35,
    "start_time": "2023-04-03T19:09:35.833Z"
   },
   {
    "duration": 25,
    "start_time": "2023-04-03T19:09:41.336Z"
   },
   {
    "duration": 16,
    "start_time": "2023-04-03T19:09:55.089Z"
   },
   {
    "duration": 17,
    "start_time": "2023-04-03T19:10:00.065Z"
   },
   {
    "duration": 19,
    "start_time": "2023-04-03T19:10:14.722Z"
   },
   {
    "duration": 18,
    "start_time": "2023-04-03T19:10:28.261Z"
   },
   {
    "duration": 10,
    "start_time": "2023-04-03T19:10:43.761Z"
   },
   {
    "duration": 7,
    "start_time": "2023-04-03T19:14:43.864Z"
   },
   {
    "duration": 5,
    "start_time": "2023-04-03T19:14:45.895Z"
   },
   {
    "duration": 5,
    "start_time": "2023-04-03T19:14:46.311Z"
   },
   {
    "duration": 272,
    "start_time": "2023-04-03T19:17:50.416Z"
   },
   {
    "duration": 264,
    "start_time": "2023-04-03T19:25:47.778Z"
   },
   {
    "duration": 209,
    "start_time": "2023-04-03T19:26:40.076Z"
   },
   {
    "duration": 212,
    "start_time": "2023-04-03T19:27:01.989Z"
   },
   {
    "duration": 215,
    "start_time": "2023-04-03T19:27:33.272Z"
   },
   {
    "duration": 3,
    "start_time": "2023-04-03T19:33:48.673Z"
   },
   {
    "duration": 3,
    "start_time": "2023-04-03T19:34:12.722Z"
   },
   {
    "duration": 6,
    "start_time": "2023-04-03T19:34:27.734Z"
   },
   {
    "duration": 17,
    "start_time": "2023-04-03T19:36:54.459Z"
   },
   {
    "duration": 18,
    "start_time": "2023-04-03T19:46:59.812Z"
   },
   {
    "duration": 183,
    "start_time": "2023-04-03T19:50:48.364Z"
   },
   {
    "duration": 19,
    "start_time": "2023-04-03T19:51:01.051Z"
   },
   {
    "duration": 276,
    "start_time": "2023-04-03T19:51:12.422Z"
   },
   {
    "duration": 246,
    "start_time": "2023-04-03T19:51:37.094Z"
   },
   {
    "duration": 337,
    "start_time": "2023-04-03T19:52:09.720Z"
   },
   {
    "duration": 293,
    "start_time": "2023-04-03T19:52:43.230Z"
   },
   {
    "duration": 1089,
    "start_time": "2023-04-03T20:03:13.669Z"
   },
   {
    "duration": 84,
    "start_time": "2023-04-03T20:03:14.760Z"
   },
   {
    "duration": 31,
    "start_time": "2023-04-03T20:03:14.845Z"
   },
   {
    "duration": 21,
    "start_time": "2023-04-03T20:03:14.877Z"
   },
   {
    "duration": 11,
    "start_time": "2023-04-03T20:03:14.900Z"
   },
   {
    "duration": 11,
    "start_time": "2023-04-03T20:03:14.912Z"
   },
   {
    "duration": 33,
    "start_time": "2023-04-03T20:03:14.925Z"
   },
   {
    "duration": 19,
    "start_time": "2023-04-03T20:03:14.960Z"
   },
   {
    "duration": 17,
    "start_time": "2023-04-03T20:03:14.981Z"
   },
   {
    "duration": 14,
    "start_time": "2023-04-03T20:03:15.000Z"
   },
   {
    "duration": 46,
    "start_time": "2023-04-03T20:03:15.016Z"
   },
   {
    "duration": 8,
    "start_time": "2023-04-03T20:03:15.064Z"
   },
   {
    "duration": 18,
    "start_time": "2023-04-03T20:03:15.073Z"
   },
   {
    "duration": 10,
    "start_time": "2023-04-03T20:03:15.094Z"
   },
   {
    "duration": 15,
    "start_time": "2023-04-03T20:03:15.106Z"
   },
   {
    "duration": 258,
    "start_time": "2023-04-03T20:03:15.122Z"
   },
   {
    "duration": 289,
    "start_time": "2023-04-03T20:03:15.381Z"
   },
   {
    "duration": 16,
    "start_time": "2023-04-03T20:03:15.671Z"
   },
   {
    "duration": 189,
    "start_time": "2023-04-03T20:03:15.688Z"
   },
   {
    "duration": 267,
    "start_time": "2023-04-03T20:03:15.878Z"
   },
   {
    "duration": 221,
    "start_time": "2023-04-03T20:03:16.147Z"
   },
   {
    "duration": 302,
    "start_time": "2023-04-03T20:03:16.370Z"
   },
   {
    "duration": 11,
    "start_time": "2023-04-03T20:03:16.674Z"
   },
   {
    "duration": 165,
    "start_time": "2023-04-03T20:03:16.687Z"
   },
   {
    "duration": 4,
    "start_time": "2023-04-03T20:03:16.854Z"
   },
   {
    "duration": 5,
    "start_time": "2023-04-03T20:03:16.860Z"
   },
   {
    "duration": 158,
    "start_time": "2023-04-03T20:03:16.867Z"
   },
   {
    "duration": 174,
    "start_time": "2023-04-03T20:03:17.026Z"
   },
   {
    "duration": 4,
    "start_time": "2023-04-03T20:03:17.202Z"
   },
   {
    "duration": 250,
    "start_time": "2023-04-03T20:03:17.208Z"
   },
   {
    "duration": 26,
    "start_time": "2023-04-03T20:03:17.460Z"
   },
   {
    "duration": 174,
    "start_time": "2023-04-03T20:03:17.487Z"
   },
   {
    "duration": 9,
    "start_time": "2023-04-03T20:03:17.663Z"
   },
   {
    "duration": 8,
    "start_time": "2023-04-03T20:03:17.674Z"
   },
   {
    "duration": 8,
    "start_time": "2023-04-03T20:03:17.684Z"
   },
   {
    "duration": 31,
    "start_time": "2023-04-03T20:03:17.693Z"
   },
   {
    "duration": 35,
    "start_time": "2023-04-03T20:03:17.725Z"
   },
   {
    "duration": 105,
    "start_time": "2023-04-03T20:07:04.661Z"
   },
   {
    "duration": 4,
    "start_time": "2023-04-03T20:07:11.369Z"
   },
   {
    "duration": 4,
    "start_time": "2023-04-03T20:07:13.342Z"
   },
   {
    "duration": 140,
    "start_time": "2023-04-03T20:09:06.429Z"
   },
   {
    "duration": 95,
    "start_time": "2023-04-03T20:22:58.941Z"
   },
   {
    "duration": 24,
    "start_time": "2023-04-03T20:30:37.313Z"
   },
   {
    "duration": 8,
    "start_time": "2023-04-03T20:31:59.281Z"
   },
   {
    "duration": 141,
    "start_time": "2023-04-03T20:45:27.745Z"
   },
   {
    "duration": 1105,
    "start_time": "2023-04-03T20:50:02.673Z"
   },
   {
    "duration": 88,
    "start_time": "2023-04-03T20:50:03.780Z"
   },
   {
    "duration": 28,
    "start_time": "2023-04-03T20:50:03.870Z"
   },
   {
    "duration": 19,
    "start_time": "2023-04-03T20:50:03.900Z"
   },
   {
    "duration": 12,
    "start_time": "2023-04-03T20:50:03.920Z"
   },
   {
    "duration": 10,
    "start_time": "2023-04-03T20:50:03.934Z"
   },
   {
    "duration": 32,
    "start_time": "2023-04-03T20:50:03.945Z"
   },
   {
    "duration": 16,
    "start_time": "2023-04-03T20:50:03.979Z"
   },
   {
    "duration": 12,
    "start_time": "2023-04-03T20:50:03.996Z"
   },
   {
    "duration": 9,
    "start_time": "2023-04-03T20:50:04.010Z"
   },
   {
    "duration": 21,
    "start_time": "2023-04-03T20:50:04.021Z"
   },
   {
    "duration": 22,
    "start_time": "2023-04-03T20:50:04.044Z"
   },
   {
    "duration": 11,
    "start_time": "2023-04-03T20:50:04.067Z"
   },
   {
    "duration": 6,
    "start_time": "2023-04-03T20:50:04.079Z"
   },
   {
    "duration": 13,
    "start_time": "2023-04-03T20:50:04.086Z"
   },
   {
    "duration": 271,
    "start_time": "2023-04-03T20:50:04.100Z"
   },
   {
    "duration": 298,
    "start_time": "2023-04-03T20:50:04.372Z"
   },
   {
    "duration": 18,
    "start_time": "2023-04-03T20:50:04.672Z"
   },
   {
    "duration": 189,
    "start_time": "2023-04-03T20:50:04.692Z"
   },
   {
    "duration": 296,
    "start_time": "2023-04-03T20:50:04.882Z"
   },
   {
    "duration": 203,
    "start_time": "2023-04-03T20:50:05.179Z"
   },
   {
    "duration": 305,
    "start_time": "2023-04-03T20:50:05.384Z"
   },
   {
    "duration": 10,
    "start_time": "2023-04-03T20:50:05.691Z"
   },
   {
    "duration": 152,
    "start_time": "2023-04-03T20:50:05.703Z"
   },
   {
    "duration": 8,
    "start_time": "2023-04-03T20:50:05.859Z"
   },
   {
    "duration": 18,
    "start_time": "2023-04-03T20:50:05.869Z"
   },
   {
    "duration": 147,
    "start_time": "2023-04-03T20:50:05.888Z"
   },
   {
    "duration": 144,
    "start_time": "2023-04-03T20:50:06.038Z"
   },
   {
    "duration": 4,
    "start_time": "2023-04-03T20:50:06.183Z"
   },
   {
    "duration": 230,
    "start_time": "2023-04-03T20:50:06.188Z"
   },
   {
    "duration": 41,
    "start_time": "2023-04-03T20:50:06.419Z"
   },
   {
    "duration": 143,
    "start_time": "2023-04-03T20:50:06.462Z"
   },
   {
    "duration": 9,
    "start_time": "2023-04-03T20:50:06.606Z"
   },
   {
    "duration": 26,
    "start_time": "2023-04-03T20:50:06.616Z"
   },
   {
    "duration": 35,
    "start_time": "2023-04-03T20:50:06.643Z"
   },
   {
    "duration": 27,
    "start_time": "2023-04-03T20:50:06.679Z"
   },
   {
    "duration": 16,
    "start_time": "2023-04-03T20:50:06.707Z"
   },
   {
    "duration": 1280,
    "start_time": "2023-04-03T21:02:05.002Z"
   },
   {
    "duration": 151,
    "start_time": "2023-04-03T21:02:06.284Z"
   },
   {
    "duration": 81,
    "start_time": "2023-04-03T21:02:06.439Z"
   },
   {
    "duration": 76,
    "start_time": "2023-04-03T21:02:06.522Z"
   },
   {
    "duration": 12,
    "start_time": "2023-04-03T21:02:06.599Z"
   },
   {
    "duration": 22,
    "start_time": "2023-04-03T21:02:06.612Z"
   },
   {
    "duration": 25,
    "start_time": "2023-04-03T21:02:06.636Z"
   },
   {
    "duration": 26,
    "start_time": "2023-04-03T21:02:06.663Z"
   },
   {
    "duration": 28,
    "start_time": "2023-04-03T21:02:06.693Z"
   },
   {
    "duration": 15,
    "start_time": "2023-04-03T21:02:06.723Z"
   },
   {
    "duration": 24,
    "start_time": "2023-04-03T21:02:06.739Z"
   },
   {
    "duration": 12,
    "start_time": "2023-04-03T21:02:06.764Z"
   },
   {
    "duration": 20,
    "start_time": "2023-04-03T21:02:06.777Z"
   },
   {
    "duration": 10,
    "start_time": "2023-04-03T21:02:06.799Z"
   },
   {
    "duration": 16,
    "start_time": "2023-04-03T21:02:06.810Z"
   },
   {
    "duration": 278,
    "start_time": "2023-04-03T21:02:06.828Z"
   },
   {
    "duration": 283,
    "start_time": "2023-04-03T21:02:07.107Z"
   },
   {
    "duration": 14,
    "start_time": "2023-04-03T21:02:07.392Z"
   },
   {
    "duration": 183,
    "start_time": "2023-04-03T21:02:07.408Z"
   },
   {
    "duration": 362,
    "start_time": "2023-04-03T21:02:07.593Z"
   },
   {
    "duration": 228,
    "start_time": "2023-04-03T21:02:07.956Z"
   },
   {
    "duration": 290,
    "start_time": "2023-04-03T21:02:08.186Z"
   },
   {
    "duration": 10,
    "start_time": "2023-04-03T21:02:08.477Z"
   },
   {
    "duration": 184,
    "start_time": "2023-04-03T21:02:08.489Z"
   },
   {
    "duration": 4,
    "start_time": "2023-04-03T21:02:08.675Z"
   },
   {
    "duration": 19,
    "start_time": "2023-04-03T21:02:08.681Z"
   },
   {
    "duration": 162,
    "start_time": "2023-04-03T21:02:08.703Z"
   },
   {
    "duration": 162,
    "start_time": "2023-04-03T21:02:08.867Z"
   },
   {
    "duration": 3,
    "start_time": "2023-04-03T21:02:09.034Z"
   },
   {
    "duration": 268,
    "start_time": "2023-04-03T21:02:09.039Z"
   },
   {
    "duration": 32,
    "start_time": "2023-04-03T21:02:09.309Z"
   },
   {
    "duration": 135,
    "start_time": "2023-04-03T21:02:09.343Z"
   },
   {
    "duration": 8,
    "start_time": "2023-04-03T21:02:09.480Z"
   },
   {
    "duration": 32,
    "start_time": "2023-04-03T21:02:09.489Z"
   },
   {
    "duration": 31,
    "start_time": "2023-04-03T21:02:09.523Z"
   },
   {
    "duration": 50,
    "start_time": "2023-04-03T21:02:09.556Z"
   },
   {
    "duration": 13,
    "start_time": "2023-04-03T21:02:09.608Z"
   },
   {
    "duration": 1040,
    "start_time": "2023-04-03T22:57:47.211Z"
   },
   {
    "duration": 80,
    "start_time": "2023-04-03T22:57:48.253Z"
   },
   {
    "duration": 29,
    "start_time": "2023-04-03T22:57:48.334Z"
   },
   {
    "duration": 19,
    "start_time": "2023-04-03T22:57:48.365Z"
   },
   {
    "duration": 12,
    "start_time": "2023-04-03T22:57:48.385Z"
   },
   {
    "duration": 14,
    "start_time": "2023-04-03T22:57:48.398Z"
   },
   {
    "duration": 23,
    "start_time": "2023-04-03T22:57:48.414Z"
   },
   {
    "duration": 14,
    "start_time": "2023-04-03T22:57:48.439Z"
   },
   {
    "duration": 14,
    "start_time": "2023-04-03T22:57:48.454Z"
   },
   {
    "duration": 11,
    "start_time": "2023-04-03T22:57:48.470Z"
   },
   {
    "duration": 10,
    "start_time": "2023-04-03T22:57:48.482Z"
   },
   {
    "duration": 41,
    "start_time": "2023-04-03T22:57:48.493Z"
   },
   {
    "duration": 4,
    "start_time": "2023-04-03T22:57:48.536Z"
   },
   {
    "duration": 9,
    "start_time": "2023-04-03T22:57:48.542Z"
   },
   {
    "duration": 18,
    "start_time": "2023-04-03T22:57:48.552Z"
   },
   {
    "duration": 270,
    "start_time": "2023-04-03T22:57:48.571Z"
   },
   {
    "duration": 268,
    "start_time": "2023-04-03T22:57:48.843Z"
   },
   {
    "duration": 24,
    "start_time": "2023-04-03T22:57:49.112Z"
   },
   {
    "duration": 190,
    "start_time": "2023-04-03T22:57:49.137Z"
   },
   {
    "duration": 288,
    "start_time": "2023-04-03T22:57:49.329Z"
   },
   {
    "duration": 220,
    "start_time": "2023-04-03T22:57:49.618Z"
   },
   {
    "duration": 319,
    "start_time": "2023-04-03T22:57:49.839Z"
   },
   {
    "duration": 10,
    "start_time": "2023-04-03T22:57:50.160Z"
   },
   {
    "duration": 164,
    "start_time": "2023-04-03T22:57:50.171Z"
   },
   {
    "duration": 4,
    "start_time": "2023-04-03T22:57:50.336Z"
   },
   {
    "duration": 8,
    "start_time": "2023-04-03T22:57:50.341Z"
   },
   {
    "duration": 154,
    "start_time": "2023-04-03T22:57:50.350Z"
   },
   {
    "duration": 152,
    "start_time": "2023-04-03T22:57:50.506Z"
   },
   {
    "duration": 5,
    "start_time": "2023-04-03T22:57:50.659Z"
   },
   {
    "duration": 268,
    "start_time": "2023-04-03T22:57:50.666Z"
   },
   {
    "duration": 26,
    "start_time": "2023-04-03T22:57:50.936Z"
   },
   {
    "duration": 158,
    "start_time": "2023-04-03T22:57:50.964Z"
   },
   {
    "duration": 16,
    "start_time": "2023-04-03T22:57:51.123Z"
   },
   {
    "duration": 9,
    "start_time": "2023-04-03T22:57:51.140Z"
   },
   {
    "duration": 9,
    "start_time": "2023-04-03T22:57:51.150Z"
   },
   {
    "duration": 30,
    "start_time": "2023-04-03T22:57:51.160Z"
   },
   {
    "duration": 16,
    "start_time": "2023-04-03T22:57:51.192Z"
   },
   {
    "duration": 51,
    "start_time": "2023-04-04T08:24:43.224Z"
   },
   {
    "duration": 1282,
    "start_time": "2023-04-04T08:24:51.836Z"
   },
   {
    "duration": 114,
    "start_time": "2023-04-04T08:24:53.120Z"
   },
   {
    "duration": 74,
    "start_time": "2023-04-04T08:24:53.235Z"
   },
   {
    "duration": 49,
    "start_time": "2023-04-04T08:24:53.313Z"
   },
   {
    "duration": 15,
    "start_time": "2023-04-04T08:24:53.363Z"
   },
   {
    "duration": 14,
    "start_time": "2023-04-04T08:24:53.379Z"
   },
   {
    "duration": 30,
    "start_time": "2023-04-04T08:24:53.394Z"
   },
   {
    "duration": 19,
    "start_time": "2023-04-04T08:24:53.425Z"
   },
   {
    "duration": 45,
    "start_time": "2023-04-04T08:24:53.445Z"
   },
   {
    "duration": 12,
    "start_time": "2023-04-04T08:24:53.493Z"
   },
   {
    "duration": 49,
    "start_time": "2023-04-04T08:24:53.507Z"
   },
   {
    "duration": 19,
    "start_time": "2023-04-04T08:24:53.558Z"
   },
   {
    "duration": 31,
    "start_time": "2023-04-04T08:24:53.579Z"
   },
   {
    "duration": 19,
    "start_time": "2023-04-04T08:24:53.612Z"
   },
   {
    "duration": 25,
    "start_time": "2023-04-04T08:24:53.633Z"
   },
   {
    "duration": 285,
    "start_time": "2023-04-04T08:24:53.661Z"
   },
   {
    "duration": 349,
    "start_time": "2023-04-04T08:24:53.947Z"
   },
   {
    "duration": 21,
    "start_time": "2023-04-04T08:24:54.298Z"
   },
   {
    "duration": 352,
    "start_time": "2023-04-04T08:24:54.323Z"
   },
   {
    "duration": 365,
    "start_time": "2023-04-04T08:24:54.678Z"
   },
   {
    "duration": 249,
    "start_time": "2023-04-04T08:24:55.045Z"
   },
   {
    "duration": 349,
    "start_time": "2023-04-04T08:24:55.296Z"
   },
   {
    "duration": 11,
    "start_time": "2023-04-04T08:24:55.646Z"
   },
   {
    "duration": 190,
    "start_time": "2023-04-04T08:24:55.659Z"
   },
   {
    "duration": 5,
    "start_time": "2023-04-04T08:24:55.850Z"
   },
   {
    "duration": 16,
    "start_time": "2023-04-04T08:24:55.856Z"
   },
   {
    "duration": 194,
    "start_time": "2023-04-04T08:24:55.873Z"
   },
   {
    "duration": 172,
    "start_time": "2023-04-04T08:24:56.070Z"
   },
   {
    "duration": 5,
    "start_time": "2023-04-04T08:24:56.244Z"
   },
   {
    "duration": 300,
    "start_time": "2023-04-04T08:24:56.250Z"
   },
   {
    "duration": 45,
    "start_time": "2023-04-04T08:24:56.551Z"
   },
   {
    "duration": 209,
    "start_time": "2023-04-04T08:24:56.598Z"
   },
   {
    "duration": 10,
    "start_time": "2023-04-04T08:24:56.809Z"
   },
   {
    "duration": 16,
    "start_time": "2023-04-04T08:24:56.822Z"
   },
   {
    "duration": 11,
    "start_time": "2023-04-04T08:24:56.840Z"
   },
   {
    "duration": 62,
    "start_time": "2023-04-04T08:24:56.852Z"
   },
   {
    "duration": 14,
    "start_time": "2023-04-04T08:24:56.915Z"
   },
   {
    "duration": 34,
    "start_time": "2023-04-04T08:25:37.657Z"
   },
   {
    "duration": 12,
    "start_time": "2023-04-04T08:28:19.326Z"
   },
   {
    "duration": 11,
    "start_time": "2023-04-04T08:28:25.237Z"
   },
   {
    "duration": 17,
    "start_time": "2023-04-04T08:28:53.538Z"
   },
   {
    "duration": 25,
    "start_time": "2023-04-04T09:05:18.401Z"
   },
   {
    "duration": 261,
    "start_time": "2023-04-04T09:12:00.355Z"
   },
   {
    "duration": 336,
    "start_time": "2023-04-04T09:12:13.603Z"
   },
   {
    "duration": 264,
    "start_time": "2023-04-04T09:12:27.836Z"
   },
   {
    "duration": 358,
    "start_time": "2023-04-04T09:12:38.421Z"
   },
   {
    "duration": 362,
    "start_time": "2023-04-04T09:25:17.492Z"
   },
   {
    "duration": 269,
    "start_time": "2023-04-04T09:25:35.188Z"
   },
   {
    "duration": 376,
    "start_time": "2023-04-04T09:26:44.280Z"
   },
   {
    "duration": 206,
    "start_time": "2023-04-04T10:13:48.821Z"
   },
   {
    "duration": 251,
    "start_time": "2023-04-04T10:14:04.461Z"
   },
   {
    "duration": 53,
    "start_time": "2023-04-04T20:50:43.912Z"
   },
   {
    "duration": 1435,
    "start_time": "2023-04-04T20:51:09.027Z"
   },
   {
    "duration": 128,
    "start_time": "2023-04-04T20:51:10.465Z"
   },
   {
    "duration": 74,
    "start_time": "2023-04-04T20:51:10.595Z"
   },
   {
    "duration": 54,
    "start_time": "2023-04-04T20:51:10.671Z"
   },
   {
    "duration": 16,
    "start_time": "2023-04-04T20:51:10.728Z"
   },
   {
    "duration": 17,
    "start_time": "2023-04-04T20:51:10.746Z"
   },
   {
    "duration": 23,
    "start_time": "2023-04-04T20:51:10.765Z"
   },
   {
    "duration": 45,
    "start_time": "2023-04-04T20:51:10.790Z"
   },
   {
    "duration": 18,
    "start_time": "2023-04-04T20:51:10.836Z"
   },
   {
    "duration": 12,
    "start_time": "2023-04-04T20:51:10.856Z"
   },
   {
    "duration": 14,
    "start_time": "2023-04-04T20:51:10.870Z"
   },
   {
    "duration": 41,
    "start_time": "2023-04-04T20:51:10.885Z"
   },
   {
    "duration": 19,
    "start_time": "2023-04-04T20:51:10.927Z"
   },
   {
    "duration": 8,
    "start_time": "2023-04-04T20:51:10.949Z"
   },
   {
    "duration": 12,
    "start_time": "2023-04-04T20:51:10.959Z"
   },
   {
    "duration": 315,
    "start_time": "2023-04-04T20:51:10.973Z"
   },
   {
    "duration": 339,
    "start_time": "2023-04-04T20:51:11.290Z"
   },
   {
    "duration": 17,
    "start_time": "2023-04-04T20:51:11.631Z"
   },
   {
    "duration": 235,
    "start_time": "2023-04-04T20:51:11.650Z"
   },
   {
    "duration": 398,
    "start_time": "2023-04-04T20:51:11.887Z"
   },
   {
    "duration": 253,
    "start_time": "2023-04-04T20:51:12.287Z"
   },
   {
    "duration": 343,
    "start_time": "2023-04-04T20:51:12.542Z"
   },
   {
    "duration": 11,
    "start_time": "2023-04-04T20:51:12.887Z"
   },
   {
    "duration": 195,
    "start_time": "2023-04-04T20:51:12.899Z"
   },
   {
    "duration": 5,
    "start_time": "2023-04-04T20:51:13.096Z"
   },
   {
    "duration": 21,
    "start_time": "2023-04-04T20:51:13.103Z"
   },
   {
    "duration": 176,
    "start_time": "2023-04-04T20:51:13.126Z"
   },
   {
    "duration": 185,
    "start_time": "2023-04-04T20:51:13.305Z"
   },
   {
    "duration": 6,
    "start_time": "2023-04-04T20:51:13.492Z"
   },
   {
    "duration": 318,
    "start_time": "2023-04-04T20:51:13.500Z"
   },
   {
    "duration": 33,
    "start_time": "2023-04-04T20:51:13.820Z"
   },
   {
    "duration": 184,
    "start_time": "2023-04-04T20:51:13.855Z"
   },
   {
    "duration": 12,
    "start_time": "2023-04-04T20:51:14.041Z"
   },
   {
    "duration": 13,
    "start_time": "2023-04-04T20:51:14.055Z"
   },
   {
    "duration": 11,
    "start_time": "2023-04-04T20:51:14.070Z"
   },
   {
    "duration": 63,
    "start_time": "2023-04-04T20:51:14.083Z"
   },
   {
    "duration": 16,
    "start_time": "2023-04-04T20:51:14.148Z"
   },
   {
    "duration": 15,
    "start_time": "2023-04-04T20:57:45.279Z"
   },
   {
    "duration": 1169,
    "start_time": "2023-04-04T20:57:53.866Z"
   },
   {
    "duration": 95,
    "start_time": "2023-04-04T20:57:55.038Z"
   },
   {
    "duration": 32,
    "start_time": "2023-04-04T20:57:55.135Z"
   },
   {
    "duration": 20,
    "start_time": "2023-04-04T20:57:55.169Z"
   },
   {
    "duration": 14,
    "start_time": "2023-04-04T20:57:55.191Z"
   },
   {
    "duration": 30,
    "start_time": "2023-04-04T20:57:55.206Z"
   },
   {
    "duration": 25,
    "start_time": "2023-04-04T20:57:55.238Z"
   },
   {
    "duration": 20,
    "start_time": "2023-04-04T20:57:55.265Z"
   },
   {
    "duration": 42,
    "start_time": "2023-04-04T20:57:55.286Z"
   },
   {
    "duration": 13,
    "start_time": "2023-04-04T20:57:55.330Z"
   },
   {
    "duration": 27,
    "start_time": "2023-04-04T20:57:55.345Z"
   },
   {
    "duration": 9,
    "start_time": "2023-04-04T20:57:55.374Z"
   },
   {
    "duration": 8,
    "start_time": "2023-04-04T20:57:55.384Z"
   },
   {
    "duration": 18,
    "start_time": "2023-04-04T20:57:55.396Z"
   },
   {
    "duration": 13,
    "start_time": "2023-04-04T20:57:55.423Z"
   },
   {
    "duration": 362,
    "start_time": "2023-04-04T20:57:55.438Z"
   },
   {
    "duration": 447,
    "start_time": "2023-04-04T20:57:55.803Z"
   },
   {
    "duration": 20,
    "start_time": "2023-04-04T20:57:56.252Z"
   },
   {
    "duration": 252,
    "start_time": "2023-04-04T20:57:56.273Z"
   },
   {
    "duration": 340,
    "start_time": "2023-04-04T20:57:56.528Z"
   },
   {
    "duration": 286,
    "start_time": "2023-04-04T20:57:56.870Z"
   },
   {
    "duration": 350,
    "start_time": "2023-04-04T20:57:57.158Z"
   },
   {
    "duration": 20,
    "start_time": "2023-04-04T20:57:57.511Z"
   },
   {
    "duration": 200,
    "start_time": "2023-04-04T20:57:57.533Z"
   },
   {
    "duration": 5,
    "start_time": "2023-04-04T20:57:57.736Z"
   },
   {
    "duration": 26,
    "start_time": "2023-04-04T20:57:57.742Z"
   },
   {
    "duration": 173,
    "start_time": "2023-04-04T20:57:57.770Z"
   },
   {
    "duration": 177,
    "start_time": "2023-04-04T20:57:57.945Z"
   },
   {
    "duration": 5,
    "start_time": "2023-04-04T20:57:58.124Z"
   },
   {
    "duration": 372,
    "start_time": "2023-04-04T20:57:58.131Z"
   },
   {
    "duration": 37,
    "start_time": "2023-04-04T20:57:58.505Z"
   },
   {
    "duration": 188,
    "start_time": "2023-04-04T20:57:58.544Z"
   },
   {
    "duration": 15,
    "start_time": "2023-04-04T20:57:58.734Z"
   },
   {
    "duration": 23,
    "start_time": "2023-04-04T20:57:58.751Z"
   },
   {
    "duration": 22,
    "start_time": "2023-04-04T20:57:58.776Z"
   },
   {
    "duration": 45,
    "start_time": "2023-04-04T20:57:58.800Z"
   },
   {
    "duration": 14,
    "start_time": "2023-04-04T20:57:58.847Z"
   },
   {
    "duration": 13,
    "start_time": "2023-04-04T21:19:29.904Z"
   },
   {
    "duration": 12,
    "start_time": "2023-04-04T21:20:01.439Z"
   },
   {
    "duration": 24,
    "start_time": "2023-04-04T21:56:58.579Z"
   },
   {
    "duration": 23,
    "start_time": "2023-04-04T21:57:08.011Z"
   },
   {
    "duration": 14,
    "start_time": "2023-04-04T21:57:19.956Z"
   },
   {
    "duration": 19,
    "start_time": "2023-04-04T21:58:18.415Z"
   },
   {
    "duration": 342,
    "start_time": "2023-04-04T22:07:52.739Z"
   },
   {
    "duration": 1167,
    "start_time": "2023-04-04T22:19:22.262Z"
   },
   {
    "duration": 80,
    "start_time": "2023-04-04T22:19:23.431Z"
   },
   {
    "duration": 32,
    "start_time": "2023-04-04T22:19:23.513Z"
   },
   {
    "duration": 19,
    "start_time": "2023-04-04T22:19:23.547Z"
   },
   {
    "duration": 13,
    "start_time": "2023-04-04T22:19:23.568Z"
   },
   {
    "duration": 14,
    "start_time": "2023-04-04T22:19:23.583Z"
   },
   {
    "duration": 37,
    "start_time": "2023-04-04T22:19:23.599Z"
   },
   {
    "duration": 18,
    "start_time": "2023-04-04T22:19:23.638Z"
   },
   {
    "duration": 16,
    "start_time": "2023-04-04T22:19:23.658Z"
   },
   {
    "duration": 50,
    "start_time": "2023-04-04T22:19:23.676Z"
   },
   {
    "duration": 11,
    "start_time": "2023-04-04T22:19:23.728Z"
   },
   {
    "duration": 8,
    "start_time": "2023-04-04T22:19:23.741Z"
   },
   {
    "duration": 6,
    "start_time": "2023-04-04T22:19:23.751Z"
   },
   {
    "duration": 6,
    "start_time": "2023-04-04T22:19:23.759Z"
   },
   {
    "duration": 12,
    "start_time": "2023-04-04T22:19:23.766Z"
   },
   {
    "duration": 322,
    "start_time": "2023-04-04T22:19:23.824Z"
   },
   {
    "duration": 335,
    "start_time": "2023-04-04T22:19:24.148Z"
   },
   {
    "duration": 17,
    "start_time": "2023-04-04T22:19:24.485Z"
   },
   {
    "duration": 244,
    "start_time": "2023-04-04T22:19:24.504Z"
   },
   {
    "duration": 303,
    "start_time": "2023-04-04T22:19:24.750Z"
   },
   {
    "duration": 260,
    "start_time": "2023-04-04T22:19:25.055Z"
   },
   {
    "duration": 369,
    "start_time": "2023-04-04T22:19:25.317Z"
   },
   {
    "duration": 12,
    "start_time": "2023-04-04T22:19:25.688Z"
   },
   {
    "duration": 197,
    "start_time": "2023-04-04T22:19:25.702Z"
   },
   {
    "duration": 4,
    "start_time": "2023-04-04T22:19:25.902Z"
   },
   {
    "duration": 19,
    "start_time": "2023-04-04T22:19:25.908Z"
   },
   {
    "duration": 185,
    "start_time": "2023-04-04T22:19:25.929Z"
   },
   {
    "duration": 173,
    "start_time": "2023-04-04T22:19:26.115Z"
   },
   {
    "duration": 5,
    "start_time": "2023-04-04T22:19:26.290Z"
   },
   {
    "duration": 303,
    "start_time": "2023-04-04T22:19:26.297Z"
   },
   {
    "duration": 36,
    "start_time": "2023-04-04T22:19:26.602Z"
   },
   {
    "duration": 175,
    "start_time": "2023-04-04T22:19:26.640Z"
   },
   {
    "duration": 14,
    "start_time": "2023-04-04T22:19:26.817Z"
   },
   {
    "duration": 12,
    "start_time": "2023-04-04T22:19:26.832Z"
   },
   {
    "duration": 29,
    "start_time": "2023-04-04T22:19:26.845Z"
   },
   {
    "duration": 15,
    "start_time": "2023-04-04T22:19:26.876Z"
   },
   {
    "duration": 1008,
    "start_time": "2023-04-04T23:25:56.991Z"
   },
   {
    "duration": 85,
    "start_time": "2023-04-04T23:25:58.001Z"
   },
   {
    "duration": 31,
    "start_time": "2023-04-04T23:25:58.087Z"
   },
   {
    "duration": 21,
    "start_time": "2023-04-04T23:25:58.120Z"
   },
   {
    "duration": 12,
    "start_time": "2023-04-04T23:25:58.143Z"
   },
   {
    "duration": 13,
    "start_time": "2023-04-04T23:25:58.156Z"
   },
   {
    "duration": 24,
    "start_time": "2023-04-04T23:25:58.171Z"
   },
   {
    "duration": 49,
    "start_time": "2023-04-04T23:25:58.197Z"
   },
   {
    "duration": 16,
    "start_time": "2023-04-04T23:25:58.247Z"
   },
   {
    "duration": 12,
    "start_time": "2023-04-04T23:25:58.265Z"
   },
   {
    "duration": 14,
    "start_time": "2023-04-04T23:25:58.278Z"
   },
   {
    "duration": 7,
    "start_time": "2023-04-04T23:25:58.294Z"
   },
   {
    "duration": 9,
    "start_time": "2023-04-04T23:25:58.303Z"
   },
   {
    "duration": 6,
    "start_time": "2023-04-04T23:25:58.341Z"
   },
   {
    "duration": 20,
    "start_time": "2023-04-04T23:25:58.348Z"
   },
   {
    "duration": 283,
    "start_time": "2023-04-04T23:25:58.370Z"
   },
   {
    "duration": 304,
    "start_time": "2023-04-04T23:25:58.654Z"
   },
   {
    "duration": 16,
    "start_time": "2023-04-04T23:25:58.960Z"
   },
   {
    "duration": 224,
    "start_time": "2023-04-04T23:25:58.978Z"
   },
   {
    "duration": 345,
    "start_time": "2023-04-04T23:25:59.204Z"
   },
   {
    "duration": 256,
    "start_time": "2023-04-04T23:25:59.550Z"
   },
   {
    "duration": 363,
    "start_time": "2023-04-04T23:25:59.808Z"
   },
   {
    "duration": 11,
    "start_time": "2023-04-04T23:26:00.173Z"
   },
   {
    "duration": 179,
    "start_time": "2023-04-04T23:26:00.186Z"
   },
   {
    "duration": 5,
    "start_time": "2023-04-04T23:26:00.366Z"
   },
   {
    "duration": 39,
    "start_time": "2023-04-04T23:26:00.373Z"
   },
   {
    "duration": 172,
    "start_time": "2023-04-04T23:26:00.413Z"
   },
   {
    "duration": 175,
    "start_time": "2023-04-04T23:26:00.588Z"
   },
   {
    "duration": 4,
    "start_time": "2023-04-04T23:26:00.765Z"
   },
   {
    "duration": 301,
    "start_time": "2023-04-04T23:26:00.771Z"
   },
   {
    "duration": 28,
    "start_time": "2023-04-04T23:26:01.074Z"
   },
   {
    "duration": 162,
    "start_time": "2023-04-04T23:26:01.103Z"
   },
   {
    "duration": 11,
    "start_time": "2023-04-04T23:26:01.267Z"
   },
   {
    "duration": 16,
    "start_time": "2023-04-04T23:26:01.280Z"
   },
   {
    "duration": 71,
    "start_time": "2023-04-04T23:26:01.297Z"
   },
   {
    "duration": 28,
    "start_time": "2023-04-04T23:26:01.370Z"
   },
   {
    "duration": 1584,
    "start_time": "2023-04-05T07:56:59.733Z"
   },
   {
    "duration": 117,
    "start_time": "2023-04-05T07:57:01.319Z"
   },
   {
    "duration": 77,
    "start_time": "2023-04-05T07:57:01.437Z"
   },
   {
    "duration": 54,
    "start_time": "2023-04-05T07:57:01.515Z"
   },
   {
    "duration": 25,
    "start_time": "2023-04-05T07:57:01.572Z"
   },
   {
    "duration": 42,
    "start_time": "2023-04-05T07:57:01.599Z"
   },
   {
    "duration": 103,
    "start_time": "2023-04-05T07:57:01.642Z"
   },
   {
    "duration": 54,
    "start_time": "2023-04-05T07:57:01.747Z"
   },
   {
    "duration": 79,
    "start_time": "2023-04-05T07:57:01.803Z"
   },
   {
    "duration": 42,
    "start_time": "2023-04-05T07:57:01.884Z"
   },
   {
    "duration": 41,
    "start_time": "2023-04-05T07:57:01.928Z"
   },
   {
    "duration": 24,
    "start_time": "2023-04-05T07:57:01.971Z"
   },
   {
    "duration": 27,
    "start_time": "2023-04-05T07:57:01.997Z"
   },
   {
    "duration": 46,
    "start_time": "2023-04-05T07:57:02.029Z"
   },
   {
    "duration": 53,
    "start_time": "2023-04-05T07:57:02.076Z"
   },
   {
    "duration": 325,
    "start_time": "2023-04-05T07:57:02.131Z"
   },
   {
    "duration": 331,
    "start_time": "2023-04-05T07:57:02.458Z"
   },
   {
    "duration": 17,
    "start_time": "2023-04-05T07:57:02.791Z"
   },
   {
    "duration": 232,
    "start_time": "2023-04-05T07:57:02.809Z"
   },
   {
    "duration": 344,
    "start_time": "2023-04-05T07:57:03.043Z"
   },
   {
    "duration": 273,
    "start_time": "2023-04-05T07:57:03.389Z"
   },
   {
    "duration": 340,
    "start_time": "2023-04-05T07:57:03.664Z"
   },
   {
    "duration": 25,
    "start_time": "2023-04-05T07:57:04.006Z"
   },
   {
    "duration": 192,
    "start_time": "2023-04-05T07:57:04.033Z"
   },
   {
    "duration": 4,
    "start_time": "2023-04-05T07:57:04.227Z"
   },
   {
    "duration": 27,
    "start_time": "2023-04-05T07:57:04.233Z"
   },
   {
    "duration": 182,
    "start_time": "2023-04-05T07:57:04.262Z"
   },
   {
    "duration": 249,
    "start_time": "2023-04-05T07:57:04.446Z"
   },
   {
    "duration": 5,
    "start_time": "2023-04-05T07:57:04.696Z"
   },
   {
    "duration": 236,
    "start_time": "2023-04-05T07:57:04.703Z"
   },
   {
    "duration": 31,
    "start_time": "2023-04-05T07:57:04.941Z"
   },
   {
    "duration": 170,
    "start_time": "2023-04-05T07:57:04.973Z"
   },
   {
    "duration": 10,
    "start_time": "2023-04-05T07:57:05.145Z"
   },
   {
    "duration": 15,
    "start_time": "2023-04-05T07:57:05.157Z"
   },
   {
    "duration": 54,
    "start_time": "2023-04-05T07:57:05.174Z"
   },
   {
    "duration": 14,
    "start_time": "2023-04-05T07:57:05.230Z"
   },
   {
    "duration": 81,
    "start_time": "2023-04-05T08:17:59.386Z"
   },
   {
    "duration": 362,
    "start_time": "2023-04-05T08:18:45.052Z"
   },
   {
    "duration": 373,
    "start_time": "2023-04-05T08:19:03.204Z"
   },
   {
    "duration": 1207,
    "start_time": "2023-04-05T08:27:08.901Z"
   },
   {
    "duration": 80,
    "start_time": "2023-04-05T08:27:10.111Z"
   },
   {
    "duration": 39,
    "start_time": "2023-04-05T08:27:10.193Z"
   },
   {
    "duration": 27,
    "start_time": "2023-04-05T08:27:10.235Z"
   },
   {
    "duration": 18,
    "start_time": "2023-04-05T08:27:10.265Z"
   },
   {
    "duration": 38,
    "start_time": "2023-04-05T08:27:10.285Z"
   },
   {
    "duration": 24,
    "start_time": "2023-04-05T08:27:10.326Z"
   },
   {
    "duration": 25,
    "start_time": "2023-04-05T08:27:10.353Z"
   },
   {
    "duration": 54,
    "start_time": "2023-04-05T08:27:10.380Z"
   },
   {
    "duration": 14,
    "start_time": "2023-04-05T08:27:10.436Z"
   },
   {
    "duration": 27,
    "start_time": "2023-04-05T08:27:10.452Z"
   },
   {
    "duration": 24,
    "start_time": "2023-04-05T08:27:10.481Z"
   },
   {
    "duration": 18,
    "start_time": "2023-04-05T08:27:10.507Z"
   },
   {
    "duration": 14,
    "start_time": "2023-04-05T08:27:10.528Z"
   },
   {
    "duration": 18,
    "start_time": "2023-04-05T08:27:10.545Z"
   },
   {
    "duration": 390,
    "start_time": "2023-04-05T08:27:10.566Z"
   },
   {
    "duration": 328,
    "start_time": "2023-04-05T08:27:10.958Z"
   },
   {
    "duration": 17,
    "start_time": "2023-04-05T08:27:11.288Z"
   },
   {
    "duration": 243,
    "start_time": "2023-04-05T08:27:11.307Z"
   },
   {
    "duration": 309,
    "start_time": "2023-04-05T08:27:11.552Z"
   },
   {
    "duration": 267,
    "start_time": "2023-04-05T08:27:11.863Z"
   },
   {
    "duration": 366,
    "start_time": "2023-04-05T08:27:12.132Z"
   },
   {
    "duration": 11,
    "start_time": "2023-04-05T08:27:12.500Z"
   },
   {
    "duration": 191,
    "start_time": "2023-04-05T08:27:12.513Z"
   },
   {
    "duration": 5,
    "start_time": "2023-04-05T08:27:12.705Z"
   },
   {
    "duration": 4,
    "start_time": "2023-04-05T08:27:12.723Z"
   },
   {
    "duration": 179,
    "start_time": "2023-04-05T08:27:12.729Z"
   },
   {
    "duration": 181,
    "start_time": "2023-04-05T08:27:12.910Z"
   },
   {
    "duration": 4,
    "start_time": "2023-04-05T08:27:13.093Z"
   },
   {
    "duration": 307,
    "start_time": "2023-04-05T08:27:13.099Z"
   },
   {
    "duration": 37,
    "start_time": "2023-04-05T08:27:13.408Z"
   },
   {
    "duration": 178,
    "start_time": "2023-04-05T08:27:13.447Z"
   },
   {
    "duration": 12,
    "start_time": "2023-04-05T08:27:13.627Z"
   },
   {
    "duration": 31,
    "start_time": "2023-04-05T08:27:13.640Z"
   },
   {
    "duration": 36,
    "start_time": "2023-04-05T08:27:13.673Z"
   },
   {
    "duration": 20,
    "start_time": "2023-04-05T08:27:13.711Z"
   },
   {
    "duration": 1268,
    "start_time": "2023-04-05T08:31:58.184Z"
   },
   {
    "duration": 87,
    "start_time": "2023-04-05T08:31:59.455Z"
   },
   {
    "duration": 36,
    "start_time": "2023-04-05T08:31:59.545Z"
   },
   {
    "duration": 21,
    "start_time": "2023-04-05T08:31:59.583Z"
   },
   {
    "duration": 25,
    "start_time": "2023-04-05T08:31:59.607Z"
   },
   {
    "duration": 18,
    "start_time": "2023-04-05T08:31:59.634Z"
   },
   {
    "duration": 36,
    "start_time": "2023-04-05T08:31:59.654Z"
   },
   {
    "duration": 44,
    "start_time": "2023-04-05T08:31:59.693Z"
   },
   {
    "duration": 32,
    "start_time": "2023-04-05T08:31:59.740Z"
   },
   {
    "duration": 14,
    "start_time": "2023-04-05T08:31:59.774Z"
   },
   {
    "duration": 16,
    "start_time": "2023-04-05T08:31:59.790Z"
   },
   {
    "duration": 23,
    "start_time": "2023-04-05T08:31:59.808Z"
   },
   {
    "duration": 24,
    "start_time": "2023-04-05T08:31:59.832Z"
   },
   {
    "duration": 9,
    "start_time": "2023-04-05T08:31:59.860Z"
   },
   {
    "duration": 29,
    "start_time": "2023-04-05T08:31:59.871Z"
   },
   {
    "duration": 313,
    "start_time": "2023-04-05T08:31:59.901Z"
   },
   {
    "duration": 451,
    "start_time": "2023-04-05T08:32:00.215Z"
   },
   {
    "duration": 21,
    "start_time": "2023-04-05T08:32:00.668Z"
   },
   {
    "duration": 274,
    "start_time": "2023-04-05T08:32:00.691Z"
   },
   {
    "duration": 312,
    "start_time": "2023-04-05T08:32:00.967Z"
   },
   {
    "duration": 298,
    "start_time": "2023-04-05T08:32:01.281Z"
   },
   {
    "duration": 398,
    "start_time": "2023-04-05T08:32:01.581Z"
   },
   {
    "duration": 12,
    "start_time": "2023-04-05T08:32:01.981Z"
   },
   {
    "duration": 197,
    "start_time": "2023-04-05T08:32:01.995Z"
   },
   {
    "duration": 5,
    "start_time": "2023-04-05T08:32:02.194Z"
   },
   {
    "duration": 24,
    "start_time": "2023-04-05T08:32:02.200Z"
   },
   {
    "duration": 181,
    "start_time": "2023-04-05T08:32:02.226Z"
   },
   {
    "duration": 181,
    "start_time": "2023-04-05T08:32:02.408Z"
   },
   {
    "duration": 5,
    "start_time": "2023-04-05T08:32:02.591Z"
   },
   {
    "duration": 332,
    "start_time": "2023-04-05T08:32:02.598Z"
   },
   {
    "duration": 32,
    "start_time": "2023-04-05T08:32:02.931Z"
   },
   {
    "duration": 182,
    "start_time": "2023-04-05T08:32:02.964Z"
   },
   {
    "duration": 12,
    "start_time": "2023-04-05T08:32:03.148Z"
   },
   {
    "duration": 19,
    "start_time": "2023-04-05T08:32:03.162Z"
   },
   {
    "duration": 50,
    "start_time": "2023-04-05T08:32:03.183Z"
   },
   {
    "duration": 17,
    "start_time": "2023-04-05T08:32:03.236Z"
   },
   {
    "duration": 1192,
    "start_time": "2023-04-05T08:34:53.623Z"
   },
   {
    "duration": 79,
    "start_time": "2023-04-05T08:34:54.818Z"
   },
   {
    "duration": 31,
    "start_time": "2023-04-05T08:34:54.899Z"
   },
   {
    "duration": 20,
    "start_time": "2023-04-05T08:34:54.932Z"
   },
   {
    "duration": 13,
    "start_time": "2023-04-05T08:34:54.954Z"
   },
   {
    "duration": 14,
    "start_time": "2023-04-05T08:34:54.969Z"
   },
   {
    "duration": 41,
    "start_time": "2023-04-05T08:34:54.985Z"
   },
   {
    "duration": 20,
    "start_time": "2023-04-05T08:34:55.029Z"
   },
   {
    "duration": 18,
    "start_time": "2023-04-05T08:34:55.051Z"
   },
   {
    "duration": 12,
    "start_time": "2023-04-05T08:34:55.071Z"
   },
   {
    "duration": 47,
    "start_time": "2023-04-05T08:34:55.085Z"
   },
   {
    "duration": 9,
    "start_time": "2023-04-05T08:34:55.134Z"
   },
   {
    "duration": 16,
    "start_time": "2023-04-05T08:34:55.144Z"
   },
   {
    "duration": 17,
    "start_time": "2023-04-05T08:34:55.163Z"
   },
   {
    "duration": 21,
    "start_time": "2023-04-05T08:34:55.182Z"
   },
   {
    "duration": 323,
    "start_time": "2023-04-05T08:34:55.205Z"
   },
   {
    "duration": 329,
    "start_time": "2023-04-05T08:34:55.529Z"
   },
   {
    "duration": 17,
    "start_time": "2023-04-05T08:34:55.860Z"
   },
   {
    "duration": 227,
    "start_time": "2023-04-05T08:34:55.879Z"
   },
   {
    "duration": 337,
    "start_time": "2023-04-05T08:34:56.108Z"
   },
   {
    "duration": 258,
    "start_time": "2023-04-05T08:34:56.447Z"
   },
   {
    "duration": 383,
    "start_time": "2023-04-05T08:34:56.707Z"
   },
   {
    "duration": 11,
    "start_time": "2023-04-05T08:34:57.093Z"
   },
   {
    "duration": 201,
    "start_time": "2023-04-05T08:34:57.107Z"
   },
   {
    "duration": 17,
    "start_time": "2023-04-05T08:34:57.310Z"
   },
   {
    "duration": 25,
    "start_time": "2023-04-05T08:34:57.329Z"
   },
   {
    "duration": 174,
    "start_time": "2023-04-05T08:34:57.356Z"
   },
   {
    "duration": 175,
    "start_time": "2023-04-05T08:34:57.533Z"
   },
   {
    "duration": 5,
    "start_time": "2023-04-05T08:34:57.722Z"
   },
   {
    "duration": 302,
    "start_time": "2023-04-05T08:34:57.730Z"
   },
   {
    "duration": 32,
    "start_time": "2023-04-05T08:34:58.034Z"
   },
   {
    "duration": 169,
    "start_time": "2023-04-05T08:34:58.068Z"
   },
   {
    "duration": 12,
    "start_time": "2023-04-05T08:34:58.239Z"
   },
   {
    "duration": 29,
    "start_time": "2023-04-05T08:34:58.253Z"
   },
   {
    "duration": 41,
    "start_time": "2023-04-05T08:34:58.284Z"
   },
   {
    "duration": 16,
    "start_time": "2023-04-05T08:34:58.327Z"
   },
   {
    "duration": 1331,
    "start_time": "2023-04-05T09:22:32.385Z"
   },
   {
    "duration": 143,
    "start_time": "2023-04-05T09:22:33.718Z"
   },
   {
    "duration": 73,
    "start_time": "2023-04-05T09:22:33.863Z"
   },
   {
    "duration": 53,
    "start_time": "2023-04-05T09:22:33.938Z"
   },
   {
    "duration": 13,
    "start_time": "2023-04-05T09:22:33.993Z"
   },
   {
    "duration": 13,
    "start_time": "2023-04-05T09:22:34.008Z"
   },
   {
    "duration": 18,
    "start_time": "2023-04-05T09:22:34.023Z"
   },
   {
    "duration": 17,
    "start_time": "2023-04-05T09:22:34.043Z"
   },
   {
    "duration": 18,
    "start_time": "2023-04-05T09:22:34.061Z"
   },
   {
    "duration": 12,
    "start_time": "2023-04-05T09:22:34.082Z"
   },
   {
    "duration": 11,
    "start_time": "2023-04-05T09:22:34.124Z"
   },
   {
    "duration": 8,
    "start_time": "2023-04-05T09:22:34.136Z"
   },
   {
    "duration": 6,
    "start_time": "2023-04-05T09:22:34.146Z"
   },
   {
    "duration": 6,
    "start_time": "2023-04-05T09:22:34.154Z"
   },
   {
    "duration": 11,
    "start_time": "2023-04-05T09:22:34.161Z"
   },
   {
    "duration": 331,
    "start_time": "2023-04-05T09:22:34.174Z"
   },
   {
    "duration": 331,
    "start_time": "2023-04-05T09:22:34.507Z"
   },
   {
    "duration": 16,
    "start_time": "2023-04-05T09:22:34.840Z"
   },
   {
    "duration": 223,
    "start_time": "2023-04-05T09:22:34.858Z"
   },
   {
    "duration": 395,
    "start_time": "2023-04-05T09:22:35.083Z"
   },
   {
    "duration": 256,
    "start_time": "2023-04-05T09:22:35.480Z"
   },
   {
    "duration": 347,
    "start_time": "2023-04-05T09:22:35.737Z"
   },
   {
    "duration": 10,
    "start_time": "2023-04-05T09:22:36.086Z"
   },
   {
    "duration": 179,
    "start_time": "2023-04-05T09:22:36.097Z"
   },
   {
    "duration": 5,
    "start_time": "2023-04-05T09:22:36.277Z"
   },
   {
    "duration": 11,
    "start_time": "2023-04-05T09:22:36.283Z"
   },
   {
    "duration": 179,
    "start_time": "2023-04-05T09:22:36.295Z"
   },
   {
    "duration": 176,
    "start_time": "2023-04-05T09:22:36.477Z"
   },
   {
    "duration": 4,
    "start_time": "2023-04-05T09:22:36.655Z"
   },
   {
    "duration": 320,
    "start_time": "2023-04-05T09:22:36.661Z"
   },
   {
    "duration": 49,
    "start_time": "2023-04-05T09:22:36.983Z"
   },
   {
    "duration": 189,
    "start_time": "2023-04-05T09:22:37.034Z"
   },
   {
    "duration": 11,
    "start_time": "2023-04-05T09:22:37.225Z"
   },
   {
    "duration": 11,
    "start_time": "2023-04-05T09:22:37.237Z"
   },
   {
    "duration": 38,
    "start_time": "2023-04-05T09:22:37.250Z"
   },
   {
    "duration": 33,
    "start_time": "2023-04-05T09:22:37.290Z"
   }
  ],
  "kernelspec": {
   "display_name": "Python 3 (ipykernel)",
   "language": "python",
   "name": "python3"
  },
  "language_info": {
   "codemirror_mode": {
    "name": "ipython",
    "version": 3
   },
   "file_extension": ".py",
   "mimetype": "text/x-python",
   "name": "python",
   "nbconvert_exporter": "python",
   "pygments_lexer": "ipython3",
   "version": "3.10.9"
  },
  "toc": {
   "base_numbering": 1,
   "nav_menu": {},
   "number_sections": true,
   "sideBar": true,
   "skip_h1_title": true,
   "title_cell": "Table of Contents",
   "title_sidebar": "Contents",
   "toc_cell": false,
   "toc_position": {
    "height": "calc(100% - 180px)",
    "left": "10px",
    "top": "150px",
    "width": "165px"
   },
   "toc_section_display": true,
   "toc_window_display": true
  }
 },
 "nbformat": 4,
 "nbformat_minor": 2
}
