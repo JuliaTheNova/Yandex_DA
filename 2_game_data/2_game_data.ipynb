{
 "cells": [
  {
   "cell_type": "markdown",
   "metadata": {},
   "source": [
    "<div style=\"border-radius: 15px; border: 3px solid black; padding: 15px;\">\n",
    "<b>Привет, Юля 👋</b>\n",
    "<p>Меня зовут Данила Тарасов, я - ревьюер твоего проекта. Перейдём сразу на «ты», если не против. </p>  \n",
    "<p>При проверке я буду использовать следующие виды комментариев 🚦:</p>\n",
    "<hr>    \n",
    "<div style=\"border-radius: 3px; border: 2px solid black; padding: 0px;\">    \n",
    "<div class=\"alert alert-danger\">\n",
    "<b>Комментарий ревьюера ❌:</b> Важные замечания, без отработки которых проект не будет принят </div>\n",
    "</div>\n",
    "<hr>   \n",
    "<div style=\"border-radius: 3px; border: 2px solid black; padding: 0px;\">      \n",
    "<div class=\"alert alert-warning\">\n",
    "<b>Комментарий ревьюера ⚠️:</b> Замечания и рекомендации, необязательные к отработке (если их не больше 3-х) </div>\n",
    "</div>\n",
    "<hr>  \n",
    "<div style=\"border-radius: 3px; border: 2px solid black; padding: 0px;\">     \n",
    "<div class=\"alert alert-success\">\n",
    "<b>Комментарий ревьюера ✔️:</b> Отличные решения и идеи, которые можно и нужно использовать в будущем </div>\n",
    "</div>\n",
    "    \n",
    "<hr> \n",
    "    \n",
    "Предлагаю работать над проектом в диалоге: **Комментарии, если ты что-то меняешь в проекте, хочешь задать вопрос или отвечаешь мне, прошу выделить каким-нибудь цветом, кроме тех, что я использовал выше.** Как вариант, можешь обозначить их так:\n",
    "    \n",
    "<hr>\n",
    "    \n",
    "<div style=\"border-radius: 3px; border: 2px solid black; padding: 0px;\"> \n",
    "<div class=\"alert alert-block alert-info\">\n",
    "<b>Комментарий студента 🎓:</b>\n",
    "    \n",
    "   \n",
    "</div> \n",
    "</div>\n",
    "    \n",
    "<hr> \n",
    "    \n",
    "Также я прошу тебя **не менять, не передвигать и не удалять мои комментарии**, чтобы при последующей проверке мне было проще ориентироваться.\n",
    "        \n",
    "<hr>\n",
    "    \n",
    "**По проекту:** Молодец, была проделана большая работа (почти на отлично, посмотрю, как будут сделаны доработки)! Есть [моменты, которые нужно исправить](#result-1) - их я подробно отразил в своих комментариях. Если появятся вопросы, с радостью на них отвечу (также вопросы можно задавать преподавателю по проектам в слаке). Верю, что ты со всем справишься, и с нетерпением жду проект на повторную проверку!\n",
    "    \n",
    "**По проекту V.2:** В итоге получилась очень сильная работа! Видно, что вложено много труда, осознанность присутствует в каждой фразе и в каждом действии! Очень редко встречаются подобные проекты, которые хочется снова перечитать и ставить в пример остальным студентам! Надеюсь, что ты продолжишь использовать такой подход и после перенесёшь в работу, где, я уверен, у тебя всё получится! ⭐⭐⭐⭐⭐ \n",
    "    \n",
    "**P.s.** Такой комментарий я пишу крайне редко, если работа в итоге действительно произвела на меня впечатление\n",
    "    \n",
    "**P.s.s.** Проект принят, поздравляю! Надеюсь, что смог помочь тебе сделать ещё один шаг на пути обучения, в котором желаю тебе удачи и больших успехов! Оставил ещё пару комментариев в работе и [полезные ссылки](#benefit) в конце 😎   \n",
    "    \n",
    "\n",
    "</div>"
   ]
  },
  {
   "cell_type": "markdown",
   "metadata": {},
   "source": [
    "<div style=\"border-radius: 3px; border: 2px solid black; padding: 0px;\"> \n",
    "<div class=\"alert alert-block alert-info\">\n",
    "<b>Комментарий студента 🎓:</b>\n",
    "    Данила, привет 👋\n",
    "    Спасибо за проверку и комментарии!\n",
    "    Приятная тема для проекта, делала с душой)\n",
    "    "
   ]
  },
  {
   "cell_type": "markdown",
   "metadata": {},
   "source": [
    "# Проект для интернет-магазина \"Стримчик\"\n",
    "### Об исследовании\n",
    "Нам на изучение дан файл с данными о играх для определения стратегии рекламной компании и понимания какие закономерности приводят игры к популярности. Из открытых источников доступны исторические данные о продажах игр, оценки пользователей и экспертов, жанры и платформы (например, Xbox или PlayStation). \n",
    "### О самих данных\n",
    "Срез до 2017 года, но за 2016 могут быть неполными.\n",
    "\n",
    "Name — название игры\n",
    "\n",
    "Platform — платформа\n",
    "\n",
    "Year_of_Release — год выпуска\n",
    "\n",
    "Genre — жанр игры\n",
    "\n",
    "NA_sales — продажи в Северной Америке (миллионы проданных копий)\n",
    "\n",
    "EU_sales — продажи в Европе (миллионы проданных копий)\n",
    "\n",
    "JP_sales — продажи в Японии (миллионы проданных копий)\n",
    "\n",
    "Other_sales — продажи в других странах (миллионы проданных копий)\n",
    "\n",
    "Critic_Score — оценка критиков (максимум 100)\n",
    "\n",
    "User_Score — оценка пользователей (максимум 10)\n",
    "\n",
    "Rating — рейтинг от организации ESRB (англ. Entertainment Software Rating Board). Эта ассоциация определяет рейтинг компьютерных игр и присваивает им подходящую возрастную категорию.\n"
   ]
  },
  {
   "cell_type": "markdown",
   "metadata": {},
   "source": [
    "## Общая информация и ознакомление с данными"
   ]
  },
  {
   "cell_type": "code",
   "execution_count": 1,
   "metadata": {},
   "outputs": [],
   "source": [
    "#импорт библиотек\n",
    "import pandas as pd\n",
    "import numpy as np\n",
    "import seaborn as sns\n",
    "import scipy\n",
    "from scipy import stats as st\n",
    "import math\n",
    "import matplotlib.pyplot as plt\n",
    "import warnings\n",
    "warnings.filterwarnings('ignore')"
   ]
  },
  {
   "cell_type": "code",
   "execution_count": 2,
   "metadata": {},
   "outputs": [
    {
     "data": {
      "text/html": [
       "<div>\n",
       "<style scoped>\n",
       "    .dataframe tbody tr th:only-of-type {\n",
       "        vertical-align: middle;\n",
       "    }\n",
       "\n",
       "    .dataframe tbody tr th {\n",
       "        vertical-align: top;\n",
       "    }\n",
       "\n",
       "    .dataframe thead th {\n",
       "        text-align: right;\n",
       "    }\n",
       "</style>\n",
       "<table border=\"1\" class=\"dataframe\">\n",
       "  <thead>\n",
       "    <tr style=\"text-align: right;\">\n",
       "      <th></th>\n",
       "      <th>Name</th>\n",
       "      <th>Platform</th>\n",
       "      <th>Year_of_Release</th>\n",
       "      <th>Genre</th>\n",
       "      <th>NA_sales</th>\n",
       "      <th>EU_sales</th>\n",
       "      <th>JP_sales</th>\n",
       "      <th>Other_sales</th>\n",
       "      <th>Critic_Score</th>\n",
       "      <th>User_Score</th>\n",
       "      <th>Rating</th>\n",
       "    </tr>\n",
       "  </thead>\n",
       "  <tbody>\n",
       "    <tr>\n",
       "      <th>0</th>\n",
       "      <td>Wii Sports</td>\n",
       "      <td>Wii</td>\n",
       "      <td>2006.0</td>\n",
       "      <td>Sports</td>\n",
       "      <td>41.36</td>\n",
       "      <td>28.96</td>\n",
       "      <td>3.77</td>\n",
       "      <td>8.45</td>\n",
       "      <td>76.0</td>\n",
       "      <td>8</td>\n",
       "      <td>E</td>\n",
       "    </tr>\n",
       "    <tr>\n",
       "      <th>1</th>\n",
       "      <td>Super Mario Bros.</td>\n",
       "      <td>NES</td>\n",
       "      <td>1985.0</td>\n",
       "      <td>Platform</td>\n",
       "      <td>29.08</td>\n",
       "      <td>3.58</td>\n",
       "      <td>6.81</td>\n",
       "      <td>0.77</td>\n",
       "      <td>NaN</td>\n",
       "      <td>NaN</td>\n",
       "      <td>NaN</td>\n",
       "    </tr>\n",
       "    <tr>\n",
       "      <th>2</th>\n",
       "      <td>Mario Kart Wii</td>\n",
       "      <td>Wii</td>\n",
       "      <td>2008.0</td>\n",
       "      <td>Racing</td>\n",
       "      <td>15.68</td>\n",
       "      <td>12.76</td>\n",
       "      <td>3.79</td>\n",
       "      <td>3.29</td>\n",
       "      <td>82.0</td>\n",
       "      <td>8.3</td>\n",
       "      <td>E</td>\n",
       "    </tr>\n",
       "    <tr>\n",
       "      <th>3</th>\n",
       "      <td>Wii Sports Resort</td>\n",
       "      <td>Wii</td>\n",
       "      <td>2009.0</td>\n",
       "      <td>Sports</td>\n",
       "      <td>15.61</td>\n",
       "      <td>10.93</td>\n",
       "      <td>3.28</td>\n",
       "      <td>2.95</td>\n",
       "      <td>80.0</td>\n",
       "      <td>8</td>\n",
       "      <td>E</td>\n",
       "    </tr>\n",
       "    <tr>\n",
       "      <th>4</th>\n",
       "      <td>Pokemon Red/Pokemon Blue</td>\n",
       "      <td>GB</td>\n",
       "      <td>1996.0</td>\n",
       "      <td>Role-Playing</td>\n",
       "      <td>11.27</td>\n",
       "      <td>8.89</td>\n",
       "      <td>10.22</td>\n",
       "      <td>1.00</td>\n",
       "      <td>NaN</td>\n",
       "      <td>NaN</td>\n",
       "      <td>NaN</td>\n",
       "    </tr>\n",
       "    <tr>\n",
       "      <th>5</th>\n",
       "      <td>Tetris</td>\n",
       "      <td>GB</td>\n",
       "      <td>1989.0</td>\n",
       "      <td>Puzzle</td>\n",
       "      <td>23.20</td>\n",
       "      <td>2.26</td>\n",
       "      <td>4.22</td>\n",
       "      <td>0.58</td>\n",
       "      <td>NaN</td>\n",
       "      <td>NaN</td>\n",
       "      <td>NaN</td>\n",
       "    </tr>\n",
       "    <tr>\n",
       "      <th>6</th>\n",
       "      <td>New Super Mario Bros.</td>\n",
       "      <td>DS</td>\n",
       "      <td>2006.0</td>\n",
       "      <td>Platform</td>\n",
       "      <td>11.28</td>\n",
       "      <td>9.14</td>\n",
       "      <td>6.50</td>\n",
       "      <td>2.88</td>\n",
       "      <td>89.0</td>\n",
       "      <td>8.5</td>\n",
       "      <td>E</td>\n",
       "    </tr>\n",
       "    <tr>\n",
       "      <th>7</th>\n",
       "      <td>Wii Play</td>\n",
       "      <td>Wii</td>\n",
       "      <td>2006.0</td>\n",
       "      <td>Misc</td>\n",
       "      <td>13.96</td>\n",
       "      <td>9.18</td>\n",
       "      <td>2.93</td>\n",
       "      <td>2.84</td>\n",
       "      <td>58.0</td>\n",
       "      <td>6.6</td>\n",
       "      <td>E</td>\n",
       "    </tr>\n",
       "    <tr>\n",
       "      <th>8</th>\n",
       "      <td>New Super Mario Bros. Wii</td>\n",
       "      <td>Wii</td>\n",
       "      <td>2009.0</td>\n",
       "      <td>Platform</td>\n",
       "      <td>14.44</td>\n",
       "      <td>6.94</td>\n",
       "      <td>4.70</td>\n",
       "      <td>2.24</td>\n",
       "      <td>87.0</td>\n",
       "      <td>8.4</td>\n",
       "      <td>E</td>\n",
       "    </tr>\n",
       "    <tr>\n",
       "      <th>9</th>\n",
       "      <td>Duck Hunt</td>\n",
       "      <td>NES</td>\n",
       "      <td>1984.0</td>\n",
       "      <td>Shooter</td>\n",
       "      <td>26.93</td>\n",
       "      <td>0.63</td>\n",
       "      <td>0.28</td>\n",
       "      <td>0.47</td>\n",
       "      <td>NaN</td>\n",
       "      <td>NaN</td>\n",
       "      <td>NaN</td>\n",
       "    </tr>\n",
       "    <tr>\n",
       "      <th>10</th>\n",
       "      <td>Nintendogs</td>\n",
       "      <td>DS</td>\n",
       "      <td>2005.0</td>\n",
       "      <td>Simulation</td>\n",
       "      <td>9.05</td>\n",
       "      <td>10.95</td>\n",
       "      <td>1.93</td>\n",
       "      <td>2.74</td>\n",
       "      <td>NaN</td>\n",
       "      <td>NaN</td>\n",
       "      <td>NaN</td>\n",
       "    </tr>\n",
       "    <tr>\n",
       "      <th>11</th>\n",
       "      <td>Mario Kart DS</td>\n",
       "      <td>DS</td>\n",
       "      <td>2005.0</td>\n",
       "      <td>Racing</td>\n",
       "      <td>9.71</td>\n",
       "      <td>7.47</td>\n",
       "      <td>4.13</td>\n",
       "      <td>1.90</td>\n",
       "      <td>91.0</td>\n",
       "      <td>8.6</td>\n",
       "      <td>E</td>\n",
       "    </tr>\n",
       "    <tr>\n",
       "      <th>12</th>\n",
       "      <td>Pokemon Gold/Pokemon Silver</td>\n",
       "      <td>GB</td>\n",
       "      <td>1999.0</td>\n",
       "      <td>Role-Playing</td>\n",
       "      <td>9.00</td>\n",
       "      <td>6.18</td>\n",
       "      <td>7.20</td>\n",
       "      <td>0.71</td>\n",
       "      <td>NaN</td>\n",
       "      <td>NaN</td>\n",
       "      <td>NaN</td>\n",
       "    </tr>\n",
       "    <tr>\n",
       "      <th>13</th>\n",
       "      <td>Wii Fit</td>\n",
       "      <td>Wii</td>\n",
       "      <td>2007.0</td>\n",
       "      <td>Sports</td>\n",
       "      <td>8.92</td>\n",
       "      <td>8.03</td>\n",
       "      <td>3.60</td>\n",
       "      <td>2.15</td>\n",
       "      <td>80.0</td>\n",
       "      <td>7.7</td>\n",
       "      <td>E</td>\n",
       "    </tr>\n",
       "    <tr>\n",
       "      <th>14</th>\n",
       "      <td>Kinect Adventures!</td>\n",
       "      <td>X360</td>\n",
       "      <td>2010.0</td>\n",
       "      <td>Misc</td>\n",
       "      <td>15.00</td>\n",
       "      <td>4.89</td>\n",
       "      <td>0.24</td>\n",
       "      <td>1.69</td>\n",
       "      <td>61.0</td>\n",
       "      <td>6.3</td>\n",
       "      <td>E</td>\n",
       "    </tr>\n",
       "    <tr>\n",
       "      <th>15</th>\n",
       "      <td>Wii Fit Plus</td>\n",
       "      <td>Wii</td>\n",
       "      <td>2009.0</td>\n",
       "      <td>Sports</td>\n",
       "      <td>9.01</td>\n",
       "      <td>8.49</td>\n",
       "      <td>2.53</td>\n",
       "      <td>1.77</td>\n",
       "      <td>80.0</td>\n",
       "      <td>7.4</td>\n",
       "      <td>E</td>\n",
       "    </tr>\n",
       "    <tr>\n",
       "      <th>16</th>\n",
       "      <td>Grand Theft Auto V</td>\n",
       "      <td>PS3</td>\n",
       "      <td>2013.0</td>\n",
       "      <td>Action</td>\n",
       "      <td>7.02</td>\n",
       "      <td>9.09</td>\n",
       "      <td>0.98</td>\n",
       "      <td>3.96</td>\n",
       "      <td>97.0</td>\n",
       "      <td>8.2</td>\n",
       "      <td>M</td>\n",
       "    </tr>\n",
       "    <tr>\n",
       "      <th>17</th>\n",
       "      <td>Grand Theft Auto: San Andreas</td>\n",
       "      <td>PS2</td>\n",
       "      <td>2004.0</td>\n",
       "      <td>Action</td>\n",
       "      <td>9.43</td>\n",
       "      <td>0.40</td>\n",
       "      <td>0.41</td>\n",
       "      <td>10.57</td>\n",
       "      <td>95.0</td>\n",
       "      <td>9</td>\n",
       "      <td>M</td>\n",
       "    </tr>\n",
       "    <tr>\n",
       "      <th>18</th>\n",
       "      <td>Super Mario World</td>\n",
       "      <td>SNES</td>\n",
       "      <td>1990.0</td>\n",
       "      <td>Platform</td>\n",
       "      <td>12.78</td>\n",
       "      <td>3.75</td>\n",
       "      <td>3.54</td>\n",
       "      <td>0.55</td>\n",
       "      <td>NaN</td>\n",
       "      <td>NaN</td>\n",
       "      <td>NaN</td>\n",
       "    </tr>\n",
       "    <tr>\n",
       "      <th>19</th>\n",
       "      <td>Brain Age: Train Your Brain in Minutes a Day</td>\n",
       "      <td>DS</td>\n",
       "      <td>2005.0</td>\n",
       "      <td>Misc</td>\n",
       "      <td>4.74</td>\n",
       "      <td>9.20</td>\n",
       "      <td>4.16</td>\n",
       "      <td>2.04</td>\n",
       "      <td>77.0</td>\n",
       "      <td>7.9</td>\n",
       "      <td>E</td>\n",
       "    </tr>\n",
       "  </tbody>\n",
       "</table>\n",
       "</div>"
      ],
      "text/plain": [
       "                                            Name Platform  Year_of_Release  \\\n",
       "0                                     Wii Sports      Wii           2006.0   \n",
       "1                              Super Mario Bros.      NES           1985.0   \n",
       "2                                 Mario Kart Wii      Wii           2008.0   \n",
       "3                              Wii Sports Resort      Wii           2009.0   \n",
       "4                       Pokemon Red/Pokemon Blue       GB           1996.0   \n",
       "5                                         Tetris       GB           1989.0   \n",
       "6                          New Super Mario Bros.       DS           2006.0   \n",
       "7                                       Wii Play      Wii           2006.0   \n",
       "8                      New Super Mario Bros. Wii      Wii           2009.0   \n",
       "9                                      Duck Hunt      NES           1984.0   \n",
       "10                                    Nintendogs       DS           2005.0   \n",
       "11                                 Mario Kart DS       DS           2005.0   \n",
       "12                   Pokemon Gold/Pokemon Silver       GB           1999.0   \n",
       "13                                       Wii Fit      Wii           2007.0   \n",
       "14                            Kinect Adventures!     X360           2010.0   \n",
       "15                                  Wii Fit Plus      Wii           2009.0   \n",
       "16                            Grand Theft Auto V      PS3           2013.0   \n",
       "17                 Grand Theft Auto: San Andreas      PS2           2004.0   \n",
       "18                             Super Mario World     SNES           1990.0   \n",
       "19  Brain Age: Train Your Brain in Minutes a Day       DS           2005.0   \n",
       "\n",
       "           Genre  NA_sales  EU_sales  JP_sales  Other_sales  Critic_Score  \\\n",
       "0         Sports     41.36     28.96      3.77         8.45          76.0   \n",
       "1       Platform     29.08      3.58      6.81         0.77           NaN   \n",
       "2         Racing     15.68     12.76      3.79         3.29          82.0   \n",
       "3         Sports     15.61     10.93      3.28         2.95          80.0   \n",
       "4   Role-Playing     11.27      8.89     10.22         1.00           NaN   \n",
       "5         Puzzle     23.20      2.26      4.22         0.58           NaN   \n",
       "6       Platform     11.28      9.14      6.50         2.88          89.0   \n",
       "7           Misc     13.96      9.18      2.93         2.84          58.0   \n",
       "8       Platform     14.44      6.94      4.70         2.24          87.0   \n",
       "9        Shooter     26.93      0.63      0.28         0.47           NaN   \n",
       "10    Simulation      9.05     10.95      1.93         2.74           NaN   \n",
       "11        Racing      9.71      7.47      4.13         1.90          91.0   \n",
       "12  Role-Playing      9.00      6.18      7.20         0.71           NaN   \n",
       "13        Sports      8.92      8.03      3.60         2.15          80.0   \n",
       "14          Misc     15.00      4.89      0.24         1.69          61.0   \n",
       "15        Sports      9.01      8.49      2.53         1.77          80.0   \n",
       "16        Action      7.02      9.09      0.98         3.96          97.0   \n",
       "17        Action      9.43      0.40      0.41        10.57          95.0   \n",
       "18      Platform     12.78      3.75      3.54         0.55           NaN   \n",
       "19          Misc      4.74      9.20      4.16         2.04          77.0   \n",
       "\n",
       "   User_Score Rating  \n",
       "0           8      E  \n",
       "1         NaN    NaN  \n",
       "2         8.3      E  \n",
       "3           8      E  \n",
       "4         NaN    NaN  \n",
       "5         NaN    NaN  \n",
       "6         8.5      E  \n",
       "7         6.6      E  \n",
       "8         8.4      E  \n",
       "9         NaN    NaN  \n",
       "10        NaN    NaN  \n",
       "11        8.6      E  \n",
       "12        NaN    NaN  \n",
       "13        7.7      E  \n",
       "14        6.3      E  \n",
       "15        7.4      E  \n",
       "16        8.2      M  \n",
       "17          9      M  \n",
       "18        NaN    NaN  \n",
       "19        7.9      E  "
      ]
     },
     "metadata": {},
     "output_type": "display_data"
    }
   ],
   "source": [
    "games = pd.read_csv('/datasets/games.csv')\n",
    "display(games.head(20))"
   ]
  },
  {
   "cell_type": "markdown",
   "metadata": {},
   "source": [
    "Уже заметны некоторые проблемы с форматом и пропуски. Посмотрим детальнее."
   ]
  },
  {
   "cell_type": "code",
   "execution_count": 3,
   "metadata": {},
   "outputs": [
    {
     "name": "stdout",
     "output_type": "stream",
     "text": [
      "<class 'pandas.core.frame.DataFrame'>\n",
      "RangeIndex: 16715 entries, 0 to 16714\n",
      "Data columns (total 11 columns):\n",
      " #   Column           Non-Null Count  Dtype  \n",
      "---  ------           --------------  -----  \n",
      " 0   Name             16713 non-null  object \n",
      " 1   Platform         16715 non-null  object \n",
      " 2   Year_of_Release  16446 non-null  float64\n",
      " 3   Genre            16713 non-null  object \n",
      " 4   NA_sales         16715 non-null  float64\n",
      " 5   EU_sales         16715 non-null  float64\n",
      " 6   JP_sales         16715 non-null  float64\n",
      " 7   Other_sales      16715 non-null  float64\n",
      " 8   Critic_Score     8137 non-null   float64\n",
      " 9   User_Score       10014 non-null  object \n",
      " 10  Rating           9949 non-null   object \n",
      "dtypes: float64(6), object(5)\n",
      "memory usage: 1.4+ MB\n"
     ]
    },
    {
     "data": {
      "text/plain": [
       "Name                  2\n",
       "Platform              0\n",
       "Year_of_Release     269\n",
       "Genre                 2\n",
       "NA_sales              0\n",
       "EU_sales              0\n",
       "JP_sales              0\n",
       "Other_sales           0\n",
       "Critic_Score       8578\n",
       "User_Score         6701\n",
       "Rating             6766\n",
       "dtype: int64"
      ]
     },
     "execution_count": 3,
     "metadata": {},
     "output_type": "execute_result"
    }
   ],
   "source": [
    "games.info()\n",
    "games.isna().sum()"
   ]
  },
  {
   "cell_type": "markdown",
   "metadata": {},
   "source": [
    "Есть даже пропуски в названиях, но не в платформах. Интересно\n",
    "\n",
    "Посмотрим на полные дубли. На неполные будем смотреть чуть позже"
   ]
  },
  {
   "cell_type": "code",
   "execution_count": 4,
   "metadata": {},
   "outputs": [
    {
     "name": "stdout",
     "output_type": "stream",
     "text": [
      "Дублей найдено в файле: 0\n"
     ]
    }
   ],
   "source": [
    "print('Дублей найдено в файле:', games.duplicated().sum())"
   ]
  },
  {
   "cell_type": "code",
   "execution_count": 5,
   "metadata": {},
   "outputs": [
    {
     "data": {
      "image/png": "[encoded data removed]",
      "text/plain": [
       "<Figure size 1080x1440 with 6 Axes>"
      ]
     },
     "metadata": {
      "needs_background": "light"
     },
     "output_type": "display_data"
    }
   ],
   "source": [
    "games.hist(figsize=(15, 20));"
   ]
  },
  {
   "cell_type": "markdown",
   "metadata": {},
   "source": [
    "Можно увидеть, что преобладают игры за 2010 год и оценки критиков довольно позитивные в большинстве своем. Но это первые выводы без предобработки.  \n",
    "\n",
    "Для полноты анализа, посмотрим еще и через describe()"
   ]
  },
  {
   "cell_type": "code",
   "execution_count": 6,
   "metadata": {},
   "outputs": [
    {
     "data": {
      "text/html": [
       "<div>\n",
       "<style scoped>\n",
       "    .dataframe tbody tr th:only-of-type {\n",
       "        vertical-align: middle;\n",
       "    }\n",
       "\n",
       "    .dataframe tbody tr th {\n",
       "        vertical-align: top;\n",
       "    }\n",
       "\n",
       "    .dataframe thead th {\n",
       "        text-align: right;\n",
       "    }\n",
       "</style>\n",
       "<table border=\"1\" class=\"dataframe\">\n",
       "  <thead>\n",
       "    <tr style=\"text-align: right;\">\n",
       "      <th></th>\n",
       "      <th>Year_of_Release</th>\n",
       "      <th>NA_sales</th>\n",
       "      <th>EU_sales</th>\n",
       "      <th>JP_sales</th>\n",
       "      <th>Other_sales</th>\n",
       "      <th>Critic_Score</th>\n",
       "    </tr>\n",
       "  </thead>\n",
       "  <tbody>\n",
       "    <tr>\n",
       "      <th>count</th>\n",
       "      <td>16446.000000</td>\n",
       "      <td>16715.000000</td>\n",
       "      <td>16715.000000</td>\n",
       "      <td>16715.000000</td>\n",
       "      <td>16715.000000</td>\n",
       "      <td>8137.000000</td>\n",
       "    </tr>\n",
       "    <tr>\n",
       "      <th>mean</th>\n",
       "      <td>2006.484616</td>\n",
       "      <td>0.263377</td>\n",
       "      <td>0.145060</td>\n",
       "      <td>0.077617</td>\n",
       "      <td>0.047342</td>\n",
       "      <td>68.967679</td>\n",
       "    </tr>\n",
       "    <tr>\n",
       "      <th>std</th>\n",
       "      <td>5.877050</td>\n",
       "      <td>0.813604</td>\n",
       "      <td>0.503339</td>\n",
       "      <td>0.308853</td>\n",
       "      <td>0.186731</td>\n",
       "      <td>13.938165</td>\n",
       "    </tr>\n",
       "    <tr>\n",
       "      <th>min</th>\n",
       "      <td>1980.000000</td>\n",
       "      <td>0.000000</td>\n",
       "      <td>0.000000</td>\n",
       "      <td>0.000000</td>\n",
       "      <td>0.000000</td>\n",
       "      <td>13.000000</td>\n",
       "    </tr>\n",
       "    <tr>\n",
       "      <th>25%</th>\n",
       "      <td>2003.000000</td>\n",
       "      <td>0.000000</td>\n",
       "      <td>0.000000</td>\n",
       "      <td>0.000000</td>\n",
       "      <td>0.000000</td>\n",
       "      <td>60.000000</td>\n",
       "    </tr>\n",
       "    <tr>\n",
       "      <th>50%</th>\n",
       "      <td>2007.000000</td>\n",
       "      <td>0.080000</td>\n",
       "      <td>0.020000</td>\n",
       "      <td>0.000000</td>\n",
       "      <td>0.010000</td>\n",
       "      <td>71.000000</td>\n",
       "    </tr>\n",
       "    <tr>\n",
       "      <th>75%</th>\n",
       "      <td>2010.000000</td>\n",
       "      <td>0.240000</td>\n",
       "      <td>0.110000</td>\n",
       "      <td>0.040000</td>\n",
       "      <td>0.030000</td>\n",
       "      <td>79.000000</td>\n",
       "    </tr>\n",
       "    <tr>\n",
       "      <th>max</th>\n",
       "      <td>2016.000000</td>\n",
       "      <td>41.360000</td>\n",
       "      <td>28.960000</td>\n",
       "      <td>10.220000</td>\n",
       "      <td>10.570000</td>\n",
       "      <td>98.000000</td>\n",
       "    </tr>\n",
       "  </tbody>\n",
       "</table>\n",
       "</div>"
      ],
      "text/plain": [
       "       Year_of_Release      NA_sales      EU_sales      JP_sales  \\\n",
       "count     16446.000000  16715.000000  16715.000000  16715.000000   \n",
       "mean       2006.484616      0.263377      0.145060      0.077617   \n",
       "std           5.877050      0.813604      0.503339      0.308853   \n",
       "min        1980.000000      0.000000      0.000000      0.000000   \n",
       "25%        2003.000000      0.000000      0.000000      0.000000   \n",
       "50%        2007.000000      0.080000      0.020000      0.000000   \n",
       "75%        2010.000000      0.240000      0.110000      0.040000   \n",
       "max        2016.000000     41.360000     28.960000     10.220000   \n",
       "\n",
       "        Other_sales  Critic_Score  \n",
       "count  16715.000000   8137.000000  \n",
       "mean       0.047342     68.967679  \n",
       "std        0.186731     13.938165  \n",
       "min        0.000000     13.000000  \n",
       "25%        0.000000     60.000000  \n",
       "50%        0.010000     71.000000  \n",
       "75%        0.030000     79.000000  \n",
       "max       10.570000     98.000000  "
      ]
     },
     "execution_count": 6,
     "metadata": {},
     "output_type": "execute_result"
    }
   ],
   "source": [
    "games.describe()"
   ]
  },
  {
   "cell_type": "markdown",
   "metadata": {},
   "source": [
    "Есть довольно странные как минимальные, так и максимальные значения.\n",
    "\n",
    "Если кратко резюмировать информацию, которую мы получили, то:\n",
    "\n",
    "- Есть пропуски в данных\n",
    "\n",
    "- Есть аномальные значения\n",
    "\n",
    "- Нет явных дублей\n",
    "\n",
    "- Есть проблемы с типом полей и с названием полей"
   ]
  },
  {
   "cell_type": "markdown",
   "metadata": {},
   "source": [
    "## Подготовка данных\n",
    "### Общие правки для датасета\n",
    "Исправим названия полей и типы, а далее будем смотреть данные по столбцам"
   ]
  },
  {
   "cell_type": "code",
   "execution_count": 7,
   "metadata": {},
   "outputs": [],
   "source": [
    "#нижний регистр\n",
    "games.columns = map(str.lower, games.columns)\n",
    "\n",
    "#изменение типа полей\n",
    "games['year_of_release'] = games['year_of_release'].astype('Int64')\n"
   ]
  },
  {
   "cell_type": "markdown",
   "metadata": {},
   "source": [
    "Проверим на неявные дубли и посмотрим на качество данных\n",
    "\n",
    "### Изучение поля Name"
   ]
  },
  {
   "cell_type": "code",
   "execution_count": 8,
   "metadata": {},
   "outputs": [
    {
     "name": "stdout",
     "output_type": "stream",
     "text": [
      "Количество уникальных значений Name 11560\n"
     ]
    },
    {
     "data": {
      "text/plain": [
       "array(['Wii Sports', 'Super Mario Bros.', 'Mario Kart Wii', ...,\n",
       "       'Woody Woodpecker in Crazy Castle 5', 'LMA Manager 2007',\n",
       "       'Haitaka no Psychedelica'], dtype=object)"
      ]
     },
     "metadata": {},
     "output_type": "display_data"
    }
   ],
   "source": [
    "print('Количество уникальных значений Name', len(set(games['name'])))\n",
    "display(games['name'].unique())"
   ]
  },
  {
   "cell_type": "code",
   "execution_count": 9,
   "metadata": {},
   "outputs": [
    {
     "data": {
      "text/plain": [
       "Need for Speed: Most Wanted           12\n",
       "FIFA 14                                9\n",
       "LEGO Marvel Super Heroes               9\n",
       "Madden NFL 07                          9\n",
       "Ratatouille                            9\n",
       "                                      ..\n",
       "NFL Fever 2004                         1\n",
       "Yu-Gi-Oh! Dungeon Dice Monsters        1\n",
       "B-17: Fortress in the Sky              1\n",
       "Battle of Giants: Dinosaurs Strike     1\n",
       "Kung Zhu                               1\n",
       "Name: name, Length: 11559, dtype: int64"
      ]
     },
     "execution_count": 9,
     "metadata": {},
     "output_type": "execute_result"
    }
   ],
   "source": [
    "games['name'].value_counts()"
   ]
  },
  {
   "cell_type": "markdown",
   "metadata": {},
   "source": [
    "В теории одна и та же игра может быть выпущена в разные года, но обычно название дополняют словом Remastered или что-то подобное. Тут повторение обусловелено тем, что игры могут быть эксклюзивными и выпускаться на одной платформе, а есть мультиплатформенные, например Need for Speed: Most Wanted. Однако, стоит перепроверить."
   ]
  },
  {
   "cell_type": "code",
   "execution_count": 10,
   "metadata": {},
   "outputs": [
    {
     "data": {
      "text/html": [
       "<div>\n",
       "<style scoped>\n",
       "    .dataframe tbody tr th:only-of-type {\n",
       "        vertical-align: middle;\n",
       "    }\n",
       "\n",
       "    .dataframe tbody tr th {\n",
       "        vertical-align: top;\n",
       "    }\n",
       "\n",
       "    .dataframe thead th {\n",
       "        text-align: right;\n",
       "    }\n",
       "</style>\n",
       "<table border=\"1\" class=\"dataframe\">\n",
       "  <thead>\n",
       "    <tr style=\"text-align: right;\">\n",
       "      <th></th>\n",
       "      <th>name</th>\n",
       "      <th>platform</th>\n",
       "      <th>year_of_release</th>\n",
       "      <th>genre</th>\n",
       "      <th>na_sales</th>\n",
       "      <th>eu_sales</th>\n",
       "      <th>jp_sales</th>\n",
       "      <th>other_sales</th>\n",
       "      <th>critic_score</th>\n",
       "      <th>user_score</th>\n",
       "      <th>rating</th>\n",
       "    </tr>\n",
       "  </thead>\n",
       "  <tbody>\n",
       "    <tr>\n",
       "      <th>253</th>\n",
       "      <td>Need for Speed: Most Wanted</td>\n",
       "      <td>PS2</td>\n",
       "      <td>2005</td>\n",
       "      <td>Racing</td>\n",
       "      <td>2.03</td>\n",
       "      <td>1.79</td>\n",
       "      <td>0.08</td>\n",
       "      <td>0.47</td>\n",
       "      <td>82.0</td>\n",
       "      <td>9.1</td>\n",
       "      <td>T</td>\n",
       "    </tr>\n",
       "    <tr>\n",
       "      <th>523</th>\n",
       "      <td>Need for Speed: Most Wanted</td>\n",
       "      <td>PS3</td>\n",
       "      <td>2012</td>\n",
       "      <td>Racing</td>\n",
       "      <td>0.71</td>\n",
       "      <td>1.46</td>\n",
       "      <td>0.06</td>\n",
       "      <td>0.58</td>\n",
       "      <td>NaN</td>\n",
       "      <td>NaN</td>\n",
       "      <td>NaN</td>\n",
       "    </tr>\n",
       "    <tr>\n",
       "      <th>1190</th>\n",
       "      <td>Need for Speed: Most Wanted</td>\n",
       "      <td>X360</td>\n",
       "      <td>2012</td>\n",
       "      <td>Racing</td>\n",
       "      <td>0.62</td>\n",
       "      <td>0.78</td>\n",
       "      <td>0.01</td>\n",
       "      <td>0.15</td>\n",
       "      <td>83.0</td>\n",
       "      <td>8.5</td>\n",
       "      <td>T</td>\n",
       "    </tr>\n",
       "    <tr>\n",
       "      <th>1591</th>\n",
       "      <td>Need for Speed: Most Wanted</td>\n",
       "      <td>X360</td>\n",
       "      <td>2005</td>\n",
       "      <td>Racing</td>\n",
       "      <td>1.00</td>\n",
       "      <td>0.13</td>\n",
       "      <td>0.02</td>\n",
       "      <td>0.10</td>\n",
       "      <td>83.0</td>\n",
       "      <td>8.5</td>\n",
       "      <td>T</td>\n",
       "    </tr>\n",
       "    <tr>\n",
       "      <th>1998</th>\n",
       "      <td>Need for Speed: Most Wanted</td>\n",
       "      <td>XB</td>\n",
       "      <td>2005</td>\n",
       "      <td>Racing</td>\n",
       "      <td>0.53</td>\n",
       "      <td>0.46</td>\n",
       "      <td>0.00</td>\n",
       "      <td>0.05</td>\n",
       "      <td>83.0</td>\n",
       "      <td>8.8</td>\n",
       "      <td>T</td>\n",
       "    </tr>\n",
       "    <tr>\n",
       "      <th>2048</th>\n",
       "      <td>Need for Speed: Most Wanted</td>\n",
       "      <td>PSV</td>\n",
       "      <td>2012</td>\n",
       "      <td>Racing</td>\n",
       "      <td>0.33</td>\n",
       "      <td>0.45</td>\n",
       "      <td>0.01</td>\n",
       "      <td>0.22</td>\n",
       "      <td>NaN</td>\n",
       "      <td>NaN</td>\n",
       "      <td>NaN</td>\n",
       "    </tr>\n",
       "    <tr>\n",
       "      <th>3581</th>\n",
       "      <td>Need for Speed: Most Wanted</td>\n",
       "      <td>GC</td>\n",
       "      <td>2005</td>\n",
       "      <td>Racing</td>\n",
       "      <td>0.43</td>\n",
       "      <td>0.11</td>\n",
       "      <td>0.00</td>\n",
       "      <td>0.02</td>\n",
       "      <td>80.0</td>\n",
       "      <td>9.1</td>\n",
       "      <td>T</td>\n",
       "    </tr>\n",
       "    <tr>\n",
       "      <th>5972</th>\n",
       "      <td>Need for Speed: Most Wanted</td>\n",
       "      <td>PC</td>\n",
       "      <td>2005</td>\n",
       "      <td>Racing</td>\n",
       "      <td>0.02</td>\n",
       "      <td>0.23</td>\n",
       "      <td>0.00</td>\n",
       "      <td>0.04</td>\n",
       "      <td>82.0</td>\n",
       "      <td>8.5</td>\n",
       "      <td>T</td>\n",
       "    </tr>\n",
       "    <tr>\n",
       "      <th>6273</th>\n",
       "      <td>Need for Speed: Most Wanted</td>\n",
       "      <td>WiiU</td>\n",
       "      <td>2013</td>\n",
       "      <td>Racing</td>\n",
       "      <td>0.13</td>\n",
       "      <td>0.12</td>\n",
       "      <td>0.00</td>\n",
       "      <td>0.02</td>\n",
       "      <td>NaN</td>\n",
       "      <td>NaN</td>\n",
       "      <td>NaN</td>\n",
       "    </tr>\n",
       "    <tr>\n",
       "      <th>6410</th>\n",
       "      <td>Need for Speed: Most Wanted</td>\n",
       "      <td>DS</td>\n",
       "      <td>2005</td>\n",
       "      <td>Racing</td>\n",
       "      <td>0.24</td>\n",
       "      <td>0.01</td>\n",
       "      <td>0.00</td>\n",
       "      <td>0.02</td>\n",
       "      <td>45.0</td>\n",
       "      <td>6.1</td>\n",
       "      <td>E</td>\n",
       "    </tr>\n",
       "    <tr>\n",
       "      <th>6473</th>\n",
       "      <td>Need for Speed: Most Wanted</td>\n",
       "      <td>GBA</td>\n",
       "      <td>2005</td>\n",
       "      <td>Racing</td>\n",
       "      <td>0.19</td>\n",
       "      <td>0.07</td>\n",
       "      <td>0.00</td>\n",
       "      <td>0.00</td>\n",
       "      <td>NaN</td>\n",
       "      <td>8.3</td>\n",
       "      <td>E</td>\n",
       "    </tr>\n",
       "    <tr>\n",
       "      <th>11715</th>\n",
       "      <td>Need for Speed: Most Wanted</td>\n",
       "      <td>PC</td>\n",
       "      <td>2012</td>\n",
       "      <td>Racing</td>\n",
       "      <td>0.00</td>\n",
       "      <td>0.06</td>\n",
       "      <td>0.00</td>\n",
       "      <td>0.02</td>\n",
       "      <td>82.0</td>\n",
       "      <td>8.5</td>\n",
       "      <td>T</td>\n",
       "    </tr>\n",
       "  </tbody>\n",
       "</table>\n",
       "</div>"
      ],
      "text/plain": [
       "                              name platform  year_of_release   genre  \\\n",
       "253    Need for Speed: Most Wanted      PS2             2005  Racing   \n",
       "523    Need for Speed: Most Wanted      PS3             2012  Racing   \n",
       "1190   Need for Speed: Most Wanted     X360             2012  Racing   \n",
       "1591   Need for Speed: Most Wanted     X360             2005  Racing   \n",
       "1998   Need for Speed: Most Wanted       XB             2005  Racing   \n",
       "2048   Need for Speed: Most Wanted      PSV             2012  Racing   \n",
       "3581   Need for Speed: Most Wanted       GC             2005  Racing   \n",
       "5972   Need for Speed: Most Wanted       PC             2005  Racing   \n",
       "6273   Need for Speed: Most Wanted     WiiU             2013  Racing   \n",
       "6410   Need for Speed: Most Wanted       DS             2005  Racing   \n",
       "6473   Need for Speed: Most Wanted      GBA             2005  Racing   \n",
       "11715  Need for Speed: Most Wanted       PC             2012  Racing   \n",
       "\n",
       "       na_sales  eu_sales  jp_sales  other_sales  critic_score user_score  \\\n",
       "253        2.03      1.79      0.08         0.47          82.0        9.1   \n",
       "523        0.71      1.46      0.06         0.58           NaN        NaN   \n",
       "1190       0.62      0.78      0.01         0.15          83.0        8.5   \n",
       "1591       1.00      0.13      0.02         0.10          83.0        8.5   \n",
       "1998       0.53      0.46      0.00         0.05          83.0        8.8   \n",
       "2048       0.33      0.45      0.01         0.22           NaN        NaN   \n",
       "3581       0.43      0.11      0.00         0.02          80.0        9.1   \n",
       "5972       0.02      0.23      0.00         0.04          82.0        8.5   \n",
       "6273       0.13      0.12      0.00         0.02           NaN        NaN   \n",
       "6410       0.24      0.01      0.00         0.02          45.0        6.1   \n",
       "6473       0.19      0.07      0.00         0.00           NaN        8.3   \n",
       "11715      0.00      0.06      0.00         0.02          82.0        8.5   \n",
       "\n",
       "      rating  \n",
       "253        T  \n",
       "523      NaN  \n",
       "1190       T  \n",
       "1591       T  \n",
       "1998       T  \n",
       "2048     NaN  \n",
       "3581       T  \n",
       "5972       T  \n",
       "6273     NaN  \n",
       "6410       E  \n",
       "6473       E  \n",
       "11715      T  "
      ]
     },
     "metadata": {},
     "output_type": "display_data"
    }
   ],
   "source": [
    "display(games[games['name']=='Need for Speed: Most Wanted'])"
   ]
  },
  {
   "cell_type": "markdown",
   "metadata": {},
   "source": [
    "Возможно, игра перевыпускалась в 12-13 году, пока оставим как есть. Но мы не можем оставить 2 строки без названия, удалим их"
   ]
  },
  {
   "cell_type": "code",
   "execution_count": 11,
   "metadata": {},
   "outputs": [
    {
     "name": "stdout",
     "output_type": "stream",
     "text": [
      "0\n"
     ]
    }
   ],
   "source": [
    "games = games.dropna(subset=['name']).reset_index(drop=True)\n",
    "print(games['name'].isnull().sum())"
   ]
  },
  {
   "cell_type": "markdown",
   "metadata": {},
   "source": [
    "Строки удалены, теперь рассмотрим поле Platform\n",
    "\n",
    "### Изучение поля Platform"
   ]
  },
  {
   "cell_type": "code",
   "execution_count": 12,
   "metadata": {},
   "outputs": [
    {
     "name": "stdout",
     "output_type": "stream",
     "text": [
      "Количество уникальных значений Platform 31\n"
     ]
    },
    {
     "data": {
      "text/plain": [
       "array(['Wii', 'NES', 'GB', 'DS', 'X360', 'PS3', 'PS2', 'SNES', 'GBA',\n",
       "       'PS4', '3DS', 'N64', 'PS', 'XB', 'PC', '2600', 'PSP', 'XOne',\n",
       "       'WiiU', 'GC', 'GEN', 'DC', 'PSV', 'SAT', 'SCD', 'WS', 'NG', 'TG16',\n",
       "       '3DO', 'GG', 'PCFX'], dtype=object)"
      ]
     },
     "metadata": {},
     "output_type": "display_data"
    }
   ],
   "source": [
    "print('Количество уникальных значений Platform', len(set(games['platform'])))\n",
    "display(games['platform'].unique())"
   ]
  },
  {
   "cell_type": "markdown",
   "metadata": {},
   "source": [
    "Платформы выглядят без задвоений. Посмотрим распределение данных для платформ"
   ]
  },
  {
   "cell_type": "code",
   "execution_count": 13,
   "metadata": {},
   "outputs": [
    {
     "data": {
      "text/plain": [
       "PS2     2161\n",
       "DS      2151\n",
       "PS3     1331\n",
       "Wii     1320\n",
       "X360    1262\n",
       "PSP     1209\n",
       "PS      1197\n",
       "PC       974\n",
       "XB       824\n",
       "GBA      822\n",
       "GC       556\n",
       "3DS      520\n",
       "PSV      430\n",
       "PS4      392\n",
       "N64      319\n",
       "XOne     247\n",
       "SNES     239\n",
       "SAT      173\n",
       "WiiU     147\n",
       "2600     133\n",
       "NES       98\n",
       "GB        98\n",
       "DC        52\n",
       "GEN       27\n",
       "NG        12\n",
       "WS         6\n",
       "SCD        6\n",
       "3DO        3\n",
       "TG16       2\n",
       "PCFX       1\n",
       "GG         1\n",
       "Name: platform, dtype: int64"
      ]
     },
     "execution_count": 13,
     "metadata": {},
     "output_type": "execute_result"
    }
   ],
   "source": [
    "games['platform'].value_counts()"
   ]
  },
  {
   "cell_type": "code",
   "execution_count": 14,
   "metadata": {},
   "outputs": [
    {
     "data": {
      "text/html": [
       "<div>\n",
       "<style scoped>\n",
       "    .dataframe tbody tr th:only-of-type {\n",
       "        vertical-align: middle;\n",
       "    }\n",
       "\n",
       "    .dataframe tbody tr th {\n",
       "        vertical-align: top;\n",
       "    }\n",
       "\n",
       "    .dataframe thead th {\n",
       "        text-align: right;\n",
       "    }\n",
       "</style>\n",
       "<table border=\"1\" class=\"dataframe\">\n",
       "  <thead>\n",
       "    <tr style=\"text-align: right;\">\n",
       "      <th></th>\n",
       "      <th>name</th>\n",
       "      <th>platform</th>\n",
       "      <th>year_of_release</th>\n",
       "      <th>genre</th>\n",
       "      <th>na_sales</th>\n",
       "      <th>eu_sales</th>\n",
       "      <th>jp_sales</th>\n",
       "      <th>other_sales</th>\n",
       "      <th>critic_score</th>\n",
       "      <th>user_score</th>\n",
       "      <th>rating</th>\n",
       "    </tr>\n",
       "  </thead>\n",
       "  <tbody>\n",
       "    <tr>\n",
       "      <th>1262</th>\n",
       "      <td>Sonic CD</td>\n",
       "      <td>SCD</td>\n",
       "      <td>1993</td>\n",
       "      <td>Platform</td>\n",
       "      <td>1.0</td>\n",
       "      <td>0.36</td>\n",
       "      <td>0.09</td>\n",
       "      <td>0.05</td>\n",
       "      <td>NaN</td>\n",
       "      <td>NaN</td>\n",
       "      <td>NaN</td>\n",
       "    </tr>\n",
       "    <tr>\n",
       "      <th>3925</th>\n",
       "      <td>Final Fantasy</td>\n",
       "      <td>WS</td>\n",
       "      <td>2000</td>\n",
       "      <td>Role-Playing</td>\n",
       "      <td>0.0</td>\n",
       "      <td>0.00</td>\n",
       "      <td>0.51</td>\n",
       "      <td>0.00</td>\n",
       "      <td>NaN</td>\n",
       "      <td>NaN</td>\n",
       "      <td>NaN</td>\n",
       "    </tr>\n",
       "    <tr>\n",
       "      <th>6109</th>\n",
       "      <td>Digimon Adventure: Anode Tamer</td>\n",
       "      <td>WS</td>\n",
       "      <td>1999</td>\n",
       "      <td>Role-Playing</td>\n",
       "      <td>0.0</td>\n",
       "      <td>0.00</td>\n",
       "      <td>0.28</td>\n",
       "      <td>0.00</td>\n",
       "      <td>NaN</td>\n",
       "      <td>NaN</td>\n",
       "      <td>NaN</td>\n",
       "    </tr>\n",
       "    <tr>\n",
       "      <th>6649</th>\n",
       "      <td>Final Fantasy II</td>\n",
       "      <td>WS</td>\n",
       "      <td>2001</td>\n",
       "      <td>Role-Playing</td>\n",
       "      <td>0.0</td>\n",
       "      <td>0.00</td>\n",
       "      <td>0.25</td>\n",
       "      <td>0.00</td>\n",
       "      <td>NaN</td>\n",
       "      <td>NaN</td>\n",
       "      <td>NaN</td>\n",
       "    </tr>\n",
       "    <tr>\n",
       "      <th>6662</th>\n",
       "      <td>Samurai Shodown II</td>\n",
       "      <td>NG</td>\n",
       "      <td>1994</td>\n",
       "      <td>Fighting</td>\n",
       "      <td>0.0</td>\n",
       "      <td>0.00</td>\n",
       "      <td>0.25</td>\n",
       "      <td>0.00</td>\n",
       "      <td>NaN</td>\n",
       "      <td>NaN</td>\n",
       "      <td>NaN</td>\n",
       "    </tr>\n",
       "    <tr>\n",
       "      <th>7016</th>\n",
       "      <td>The King of Fighters '95 (CD)</td>\n",
       "      <td>NG</td>\n",
       "      <td>1994</td>\n",
       "      <td>Fighting</td>\n",
       "      <td>0.0</td>\n",
       "      <td>0.00</td>\n",
       "      <td>0.23</td>\n",
       "      <td>0.00</td>\n",
       "      <td>NaN</td>\n",
       "      <td>NaN</td>\n",
       "      <td>NaN</td>\n",
       "    </tr>\n",
       "    <tr>\n",
       "      <th>7498</th>\n",
       "      <td>The King of Fighters '95</td>\n",
       "      <td>NG</td>\n",
       "      <td>1995</td>\n",
       "      <td>Fighting</td>\n",
       "      <td>0.0</td>\n",
       "      <td>0.00</td>\n",
       "      <td>0.20</td>\n",
       "      <td>0.00</td>\n",
       "      <td>NaN</td>\n",
       "      <td>NaN</td>\n",
       "      <td>NaN</td>\n",
       "    </tr>\n",
       "    <tr>\n",
       "      <th>7541</th>\n",
       "      <td>Samurai Spirits (CD)</td>\n",
       "      <td>NG</td>\n",
       "      <td>1994</td>\n",
       "      <td>Fighting</td>\n",
       "      <td>0.0</td>\n",
       "      <td>0.00</td>\n",
       "      <td>0.20</td>\n",
       "      <td>0.00</td>\n",
       "      <td>NaN</td>\n",
       "      <td>NaN</td>\n",
       "      <td>NaN</td>\n",
       "    </tr>\n",
       "    <tr>\n",
       "      <th>8038</th>\n",
       "      <td>Chocobo no Fushigi Dungeon for WonderSwan</td>\n",
       "      <td>WS</td>\n",
       "      <td>1999</td>\n",
       "      <td>Role-Playing</td>\n",
       "      <td>0.0</td>\n",
       "      <td>0.00</td>\n",
       "      <td>0.18</td>\n",
       "      <td>0.00</td>\n",
       "      <td>NaN</td>\n",
       "      <td>NaN</td>\n",
       "      <td>NaN</td>\n",
       "    </tr>\n",
       "    <tr>\n",
       "      <th>8293</th>\n",
       "      <td>Super Robot Taisen Compact 2 Dai-1-Bu</td>\n",
       "      <td>WS</td>\n",
       "      <td>2000</td>\n",
       "      <td>Strategy</td>\n",
       "      <td>0.0</td>\n",
       "      <td>0.00</td>\n",
       "      <td>0.17</td>\n",
       "      <td>0.00</td>\n",
       "      <td>NaN</td>\n",
       "      <td>NaN</td>\n",
       "      <td>NaN</td>\n",
       "    </tr>\n",
       "    <tr>\n",
       "      <th>9007</th>\n",
       "      <td>Shining Force CD</td>\n",
       "      <td>SCD</td>\n",
       "      <td>1994</td>\n",
       "      <td>Strategy</td>\n",
       "      <td>0.0</td>\n",
       "      <td>0.00</td>\n",
       "      <td>0.14</td>\n",
       "      <td>0.00</td>\n",
       "      <td>NaN</td>\n",
       "      <td>NaN</td>\n",
       "      <td>NaN</td>\n",
       "    </tr>\n",
       "    <tr>\n",
       "      <th>9200</th>\n",
       "      <td>The King of Fighters '94 (CD)</td>\n",
       "      <td>NG</td>\n",
       "      <td>1993</td>\n",
       "      <td>Fighting</td>\n",
       "      <td>0.0</td>\n",
       "      <td>0.00</td>\n",
       "      <td>0.14</td>\n",
       "      <td>0.00</td>\n",
       "      <td>NaN</td>\n",
       "      <td>NaN</td>\n",
       "      <td>NaN</td>\n",
       "    </tr>\n",
       "    <tr>\n",
       "      <th>9222</th>\n",
       "      <td>Doukyuusei</td>\n",
       "      <td>TG16</td>\n",
       "      <td>1995</td>\n",
       "      <td>Adventure</td>\n",
       "      <td>0.0</td>\n",
       "      <td>0.00</td>\n",
       "      <td>0.14</td>\n",
       "      <td>0.00</td>\n",
       "      <td>NaN</td>\n",
       "      <td>NaN</td>\n",
       "      <td>NaN</td>\n",
       "    </tr>\n",
       "    <tr>\n",
       "      <th>9709</th>\n",
       "      <td>The King of Fighters '94</td>\n",
       "      <td>NG</td>\n",
       "      <td>1994</td>\n",
       "      <td>Fighting</td>\n",
       "      <td>0.0</td>\n",
       "      <td>0.00</td>\n",
       "      <td>0.12</td>\n",
       "      <td>0.00</td>\n",
       "      <td>NaN</td>\n",
       "      <td>NaN</td>\n",
       "      <td>NaN</td>\n",
       "    </tr>\n",
       "    <tr>\n",
       "      <th>11527</th>\n",
       "      <td>Samurai Shodown III</td>\n",
       "      <td>NG</td>\n",
       "      <td>1995</td>\n",
       "      <td>Fighting</td>\n",
       "      <td>0.0</td>\n",
       "      <td>0.00</td>\n",
       "      <td>0.08</td>\n",
       "      <td>0.00</td>\n",
       "      <td>NaN</td>\n",
       "      <td>NaN</td>\n",
       "      <td>NaN</td>\n",
       "    </tr>\n",
       "    <tr>\n",
       "      <th>11780</th>\n",
       "      <td>Formula One World Championship: Beyond the Limit</td>\n",
       "      <td>SCD</td>\n",
       "      <td>1994</td>\n",
       "      <td>Racing</td>\n",
       "      <td>0.0</td>\n",
       "      <td>0.00</td>\n",
       "      <td>0.07</td>\n",
       "      <td>0.00</td>\n",
       "      <td>NaN</td>\n",
       "      <td>NaN</td>\n",
       "      <td>NaN</td>\n",
       "    </tr>\n",
       "    <tr>\n",
       "      <th>12118</th>\n",
       "      <td>Samurai Shodown</td>\n",
       "      <td>NG</td>\n",
       "      <td>1993</td>\n",
       "      <td>Fighting</td>\n",
       "      <td>0.0</td>\n",
       "      <td>0.00</td>\n",
       "      <td>0.07</td>\n",
       "      <td>0.00</td>\n",
       "      <td>NaN</td>\n",
       "      <td>NaN</td>\n",
       "      <td>NaN</td>\n",
       "    </tr>\n",
       "    <tr>\n",
       "      <th>12611</th>\n",
       "      <td>Record of Lodoss War: Eiyuu Sensou</td>\n",
       "      <td>SCD</td>\n",
       "      <td>1994</td>\n",
       "      <td>Role-Playing</td>\n",
       "      <td>0.0</td>\n",
       "      <td>0.00</td>\n",
       "      <td>0.06</td>\n",
       "      <td>0.00</td>\n",
       "      <td>NaN</td>\n",
       "      <td>NaN</td>\n",
       "      <td>NaN</td>\n",
       "    </tr>\n",
       "    <tr>\n",
       "      <th>12662</th>\n",
       "      <td>Policenauts</td>\n",
       "      <td>3DO</td>\n",
       "      <td>1995</td>\n",
       "      <td>Adventure</td>\n",
       "      <td>0.0</td>\n",
       "      <td>0.00</td>\n",
       "      <td>0.06</td>\n",
       "      <td>0.00</td>\n",
       "      <td>NaN</td>\n",
       "      <td>NaN</td>\n",
       "      <td>NaN</td>\n",
       "    </tr>\n",
       "    <tr>\n",
       "      <th>12822</th>\n",
       "      <td>The King of Fighters '96</td>\n",
       "      <td>NG</td>\n",
       "      <td>1996</td>\n",
       "      <td>Fighting</td>\n",
       "      <td>0.0</td>\n",
       "      <td>0.00</td>\n",
       "      <td>0.06</td>\n",
       "      <td>0.00</td>\n",
       "      <td>NaN</td>\n",
       "      <td>NaN</td>\n",
       "      <td>NaN</td>\n",
       "    </tr>\n",
       "    <tr>\n",
       "      <th>13009</th>\n",
       "      <td>Game no Kanzume Vol 2</td>\n",
       "      <td>SCD</td>\n",
       "      <td>1994</td>\n",
       "      <td>Misc</td>\n",
       "      <td>0.0</td>\n",
       "      <td>0.00</td>\n",
       "      <td>0.05</td>\n",
       "      <td>0.00</td>\n",
       "      <td>NaN</td>\n",
       "      <td>NaN</td>\n",
       "      <td>NaN</td>\n",
       "    </tr>\n",
       "    <tr>\n",
       "      <th>13488</th>\n",
       "      <td>Game no Kanzume Vol 1</td>\n",
       "      <td>SCD</td>\n",
       "      <td>1994</td>\n",
       "      <td>Misc</td>\n",
       "      <td>0.0</td>\n",
       "      <td>0.00</td>\n",
       "      <td>0.04</td>\n",
       "      <td>0.00</td>\n",
       "      <td>NaN</td>\n",
       "      <td>NaN</td>\n",
       "      <td>NaN</td>\n",
       "    </tr>\n",
       "    <tr>\n",
       "      <th>13570</th>\n",
       "      <td>Sonic the Hedgehog 2 (8-bit)</td>\n",
       "      <td>GG</td>\n",
       "      <td>1992</td>\n",
       "      <td>Platform</td>\n",
       "      <td>0.0</td>\n",
       "      <td>0.00</td>\n",
       "      <td>0.04</td>\n",
       "      <td>0.00</td>\n",
       "      <td>NaN</td>\n",
       "      <td>NaN</td>\n",
       "      <td>NaN</td>\n",
       "    </tr>\n",
       "    <tr>\n",
       "      <th>13967</th>\n",
       "      <td>Art of Fighting 3: The Path of the Warrior</td>\n",
       "      <td>NG</td>\n",
       "      <td>1996</td>\n",
       "      <td>Fighting</td>\n",
       "      <td>0.0</td>\n",
       "      <td>0.00</td>\n",
       "      <td>0.04</td>\n",
       "      <td>0.00</td>\n",
       "      <td>NaN</td>\n",
       "      <td>NaN</td>\n",
       "      <td>NaN</td>\n",
       "    </tr>\n",
       "    <tr>\n",
       "      <th>14223</th>\n",
       "      <td>SD Gundam G Generation: Gather Beat 2</td>\n",
       "      <td>WS</td>\n",
       "      <td>2001</td>\n",
       "      <td>Strategy</td>\n",
       "      <td>0.0</td>\n",
       "      <td>0.00</td>\n",
       "      <td>0.03</td>\n",
       "      <td>0.00</td>\n",
       "      <td>NaN</td>\n",
       "      <td>NaN</td>\n",
       "      <td>NaN</td>\n",
       "    </tr>\n",
       "    <tr>\n",
       "      <th>14498</th>\n",
       "      <td>Far East of Eden Shinden</td>\n",
       "      <td>NG</td>\n",
       "      <td>1995</td>\n",
       "      <td>Fighting</td>\n",
       "      <td>0.0</td>\n",
       "      <td>0.00</td>\n",
       "      <td>0.03</td>\n",
       "      <td>0.00</td>\n",
       "      <td>NaN</td>\n",
       "      <td>NaN</td>\n",
       "      <td>NaN</td>\n",
       "    </tr>\n",
       "    <tr>\n",
       "      <th>14632</th>\n",
       "      <td>Blue Breaker: Ken Yorimo Hohoemi o</td>\n",
       "      <td>PCFX</td>\n",
       "      <td>1996</td>\n",
       "      <td>Role-Playing</td>\n",
       "      <td>0.0</td>\n",
       "      <td>0.00</td>\n",
       "      <td>0.03</td>\n",
       "      <td>0.00</td>\n",
       "      <td>NaN</td>\n",
       "      <td>NaN</td>\n",
       "      <td>NaN</td>\n",
       "    </tr>\n",
       "    <tr>\n",
       "      <th>15074</th>\n",
       "      <td>Bust-A-Move</td>\n",
       "      <td>3DO</td>\n",
       "      <td>1994</td>\n",
       "      <td>Puzzle</td>\n",
       "      <td>0.0</td>\n",
       "      <td>0.00</td>\n",
       "      <td>0.02</td>\n",
       "      <td>0.00</td>\n",
       "      <td>NaN</td>\n",
       "      <td>NaN</td>\n",
       "      <td>NaN</td>\n",
       "    </tr>\n",
       "    <tr>\n",
       "      <th>15558</th>\n",
       "      <td>Sotsugyou II: Neo Generation Special</td>\n",
       "      <td>3DO</td>\n",
       "      <td>1995</td>\n",
       "      <td>Simulation</td>\n",
       "      <td>0.0</td>\n",
       "      <td>0.00</td>\n",
       "      <td>0.02</td>\n",
       "      <td>0.00</td>\n",
       "      <td>NaN</td>\n",
       "      <td>NaN</td>\n",
       "      <td>NaN</td>\n",
       "    </tr>\n",
       "    <tr>\n",
       "      <th>15631</th>\n",
       "      <td>Ginga Fukei Densetsu: Sapphire</td>\n",
       "      <td>TG16</td>\n",
       "      <td>1995</td>\n",
       "      <td>Shooter</td>\n",
       "      <td>0.0</td>\n",
       "      <td>0.00</td>\n",
       "      <td>0.02</td>\n",
       "      <td>0.00</td>\n",
       "      <td>NaN</td>\n",
       "      <td>NaN</td>\n",
       "      <td>NaN</td>\n",
       "    </tr>\n",
       "    <tr>\n",
       "      <th>15653</th>\n",
       "      <td>Super Dodge Ball</td>\n",
       "      <td>NG</td>\n",
       "      <td>1995</td>\n",
       "      <td>Sports</td>\n",
       "      <td>0.0</td>\n",
       "      <td>0.00</td>\n",
       "      <td>0.02</td>\n",
       "      <td>0.00</td>\n",
       "      <td>NaN</td>\n",
       "      <td>NaN</td>\n",
       "      <td>NaN</td>\n",
       "    </tr>\n",
       "  </tbody>\n",
       "</table>\n",
       "</div>"
      ],
      "text/plain": [
       "                                                   name platform  \\\n",
       "1262                                           Sonic CD      SCD   \n",
       "3925                                      Final Fantasy       WS   \n",
       "6109                     Digimon Adventure: Anode Tamer       WS   \n",
       "6649                                   Final Fantasy II       WS   \n",
       "6662                                 Samurai Shodown II       NG   \n",
       "7016                      The King of Fighters '95 (CD)       NG   \n",
       "7498                           The King of Fighters '95       NG   \n",
       "7541                               Samurai Spirits (CD)       NG   \n",
       "8038          Chocobo no Fushigi Dungeon for WonderSwan       WS   \n",
       "8293              Super Robot Taisen Compact 2 Dai-1-Bu       WS   \n",
       "9007                                   Shining Force CD      SCD   \n",
       "9200                      The King of Fighters '94 (CD)       NG   \n",
       "9222                                         Doukyuusei     TG16   \n",
       "9709                           The King of Fighters '94       NG   \n",
       "11527                               Samurai Shodown III       NG   \n",
       "11780  Formula One World Championship: Beyond the Limit      SCD   \n",
       "12118                                   Samurai Shodown       NG   \n",
       "12611                Record of Lodoss War: Eiyuu Sensou      SCD   \n",
       "12662                                       Policenauts      3DO   \n",
       "12822                          The King of Fighters '96       NG   \n",
       "13009                             Game no Kanzume Vol 2      SCD   \n",
       "13488                             Game no Kanzume Vol 1      SCD   \n",
       "13570                      Sonic the Hedgehog 2 (8-bit)       GG   \n",
       "13967        Art of Fighting 3: The Path of the Warrior       NG   \n",
       "14223             SD Gundam G Generation: Gather Beat 2       WS   \n",
       "14498                          Far East of Eden Shinden       NG   \n",
       "14632                Blue Breaker: Ken Yorimo Hohoemi o     PCFX   \n",
       "15074                                       Bust-A-Move      3DO   \n",
       "15558              Sotsugyou II: Neo Generation Special      3DO   \n",
       "15631                    Ginga Fukei Densetsu: Sapphire     TG16   \n",
       "15653                                  Super Dodge Ball       NG   \n",
       "\n",
       "       year_of_release         genre  na_sales  eu_sales  jp_sales  \\\n",
       "1262              1993      Platform       1.0      0.36      0.09   \n",
       "3925              2000  Role-Playing       0.0      0.00      0.51   \n",
       "6109              1999  Role-Playing       0.0      0.00      0.28   \n",
       "6649              2001  Role-Playing       0.0      0.00      0.25   \n",
       "6662              1994      Fighting       0.0      0.00      0.25   \n",
       "7016              1994      Fighting       0.0      0.00      0.23   \n",
       "7498              1995      Fighting       0.0      0.00      0.20   \n",
       "7541              1994      Fighting       0.0      0.00      0.20   \n",
       "8038              1999  Role-Playing       0.0      0.00      0.18   \n",
       "8293              2000      Strategy       0.0      0.00      0.17   \n",
       "9007              1994      Strategy       0.0      0.00      0.14   \n",
       "9200              1993      Fighting       0.0      0.00      0.14   \n",
       "9222              1995     Adventure       0.0      0.00      0.14   \n",
       "9709              1994      Fighting       0.0      0.00      0.12   \n",
       "11527             1995      Fighting       0.0      0.00      0.08   \n",
       "11780             1994        Racing       0.0      0.00      0.07   \n",
       "12118             1993      Fighting       0.0      0.00      0.07   \n",
       "12611             1994  Role-Playing       0.0      0.00      0.06   \n",
       "12662             1995     Adventure       0.0      0.00      0.06   \n",
       "12822             1996      Fighting       0.0      0.00      0.06   \n",
       "13009             1994          Misc       0.0      0.00      0.05   \n",
       "13488             1994          Misc       0.0      0.00      0.04   \n",
       "13570             1992      Platform       0.0      0.00      0.04   \n",
       "13967             1996      Fighting       0.0      0.00      0.04   \n",
       "14223             2001      Strategy       0.0      0.00      0.03   \n",
       "14498             1995      Fighting       0.0      0.00      0.03   \n",
       "14632             1996  Role-Playing       0.0      0.00      0.03   \n",
       "15074             1994        Puzzle       0.0      0.00      0.02   \n",
       "15558             1995    Simulation       0.0      0.00      0.02   \n",
       "15631             1995       Shooter       0.0      0.00      0.02   \n",
       "15653             1995        Sports       0.0      0.00      0.02   \n",
       "\n",
       "       other_sales  critic_score user_score rating  \n",
       "1262          0.05           NaN        NaN    NaN  \n",
       "3925          0.00           NaN        NaN    NaN  \n",
       "6109          0.00           NaN        NaN    NaN  \n",
       "6649          0.00           NaN        NaN    NaN  \n",
       "6662          0.00           NaN        NaN    NaN  \n",
       "7016          0.00           NaN        NaN    NaN  \n",
       "7498          0.00           NaN        NaN    NaN  \n",
       "7541          0.00           NaN        NaN    NaN  \n",
       "8038          0.00           NaN        NaN    NaN  \n",
       "8293          0.00           NaN        NaN    NaN  \n",
       "9007          0.00           NaN        NaN    NaN  \n",
       "9200          0.00           NaN        NaN    NaN  \n",
       "9222          0.00           NaN        NaN    NaN  \n",
       "9709          0.00           NaN        NaN    NaN  \n",
       "11527         0.00           NaN        NaN    NaN  \n",
       "11780         0.00           NaN        NaN    NaN  \n",
       "12118         0.00           NaN        NaN    NaN  \n",
       "12611         0.00           NaN        NaN    NaN  \n",
       "12662         0.00           NaN        NaN    NaN  \n",
       "12822         0.00           NaN        NaN    NaN  \n",
       "13009         0.00           NaN        NaN    NaN  \n",
       "13488         0.00           NaN        NaN    NaN  \n",
       "13570         0.00           NaN        NaN    NaN  \n",
       "13967         0.00           NaN        NaN    NaN  \n",
       "14223         0.00           NaN        NaN    NaN  \n",
       "14498         0.00           NaN        NaN    NaN  \n",
       "14632         0.00           NaN        NaN    NaN  \n",
       "15074         0.00           NaN        NaN    NaN  \n",
       "15558         0.00           NaN        NaN    NaN  \n",
       "15631         0.00           NaN        NaN    NaN  \n",
       "15653         0.00           NaN        NaN    NaN  "
      ]
     },
     "metadata": {},
     "output_type": "display_data"
    }
   ],
   "source": [
    "# проверка малопопулярных консолей\n",
    "display(games[games['platform'].isin(['NG', 'SCD', 'WS', '3DO', 'TG16', 'GG', 'PCFX'])]) #31 запись"
   ]
  },
  {
   "cell_type": "markdown",
   "metadata": {},
   "source": [
    "Эти игры связывает то, что они были выпущены довольно давно и для выбранных платформ мало игр. Возможно, мы от них сможем избавиться чуть позже\n",
    "\n",
    "### Изучение поля Year_of_release"
   ]
  },
  {
   "cell_type": "code",
   "execution_count": 15,
   "metadata": {},
   "outputs": [
    {
     "data": {
      "text/plain": [
       "Text(0.5, 1.0, 'year_of_release')"
      ]
     },
     "execution_count": 15,
     "metadata": {},
     "output_type": "execute_result"
    },
    {
     "data": {
      "image/png": "[encoded data removed]",
      "text/plain": [
       "<Figure size 720x720 with 1 Axes>"
      ]
     },
     "metadata": {
      "needs_background": "light"
     },
     "output_type": "display_data"
    }
   ],
   "source": [
    "games['year_of_release'].sort_values().plot(y = 'year_of_release', kind = 'hist', bins = 100, figsize=(10, 10), \n",
    "                                        range=(games['year_of_release'].min(),games['year_of_release'].max()))\n",
    "plt.title('year_of_release')"
   ]
  },
  {
   "cell_type": "markdown",
   "metadata": {},
   "source": [
    "Очевидно, что самый пик игр пришелся на 2008-2009, а игры до 1990 были редки. Посмотрим на пропуски"
   ]
  },
  {
   "cell_type": "code",
   "execution_count": 16,
   "metadata": {},
   "outputs": [
    {
     "data": {
      "text/html": [
       "<div>\n",
       "<style scoped>\n",
       "    .dataframe tbody tr th:only-of-type {\n",
       "        vertical-align: middle;\n",
       "    }\n",
       "\n",
       "    .dataframe tbody tr th {\n",
       "        vertical-align: top;\n",
       "    }\n",
       "\n",
       "    .dataframe thead th {\n",
       "        text-align: right;\n",
       "    }\n",
       "</style>\n",
       "<table border=\"1\" class=\"dataframe\">\n",
       "  <thead>\n",
       "    <tr style=\"text-align: right;\">\n",
       "      <th></th>\n",
       "      <th>name</th>\n",
       "      <th>platform</th>\n",
       "      <th>year_of_release</th>\n",
       "      <th>genre</th>\n",
       "      <th>na_sales</th>\n",
       "      <th>eu_sales</th>\n",
       "      <th>jp_sales</th>\n",
       "      <th>other_sales</th>\n",
       "      <th>critic_score</th>\n",
       "      <th>user_score</th>\n",
       "      <th>rating</th>\n",
       "    </tr>\n",
       "  </thead>\n",
       "  <tbody>\n",
       "    <tr>\n",
       "      <th>183</th>\n",
       "      <td>Madden NFL 2004</td>\n",
       "      <td>PS2</td>\n",
       "      <td>&lt;NA&gt;</td>\n",
       "      <td>Sports</td>\n",
       "      <td>4.26</td>\n",
       "      <td>0.26</td>\n",
       "      <td>0.01</td>\n",
       "      <td>0.71</td>\n",
       "      <td>94.0</td>\n",
       "      <td>8.5</td>\n",
       "      <td>E</td>\n",
       "    </tr>\n",
       "    <tr>\n",
       "      <th>377</th>\n",
       "      <td>FIFA Soccer 2004</td>\n",
       "      <td>PS2</td>\n",
       "      <td>&lt;NA&gt;</td>\n",
       "      <td>Sports</td>\n",
       "      <td>0.59</td>\n",
       "      <td>2.36</td>\n",
       "      <td>0.04</td>\n",
       "      <td>0.51</td>\n",
       "      <td>84.0</td>\n",
       "      <td>6.4</td>\n",
       "      <td>E</td>\n",
       "    </tr>\n",
       "    <tr>\n",
       "      <th>456</th>\n",
       "      <td>LEGO Batman: The Videogame</td>\n",
       "      <td>Wii</td>\n",
       "      <td>&lt;NA&gt;</td>\n",
       "      <td>Action</td>\n",
       "      <td>1.80</td>\n",
       "      <td>0.97</td>\n",
       "      <td>0.00</td>\n",
       "      <td>0.29</td>\n",
       "      <td>74.0</td>\n",
       "      <td>7.9</td>\n",
       "      <td>E10+</td>\n",
       "    </tr>\n",
       "    <tr>\n",
       "      <th>475</th>\n",
       "      <td>wwe Smackdown vs. Raw 2006</td>\n",
       "      <td>PS2</td>\n",
       "      <td>&lt;NA&gt;</td>\n",
       "      <td>Fighting</td>\n",
       "      <td>1.57</td>\n",
       "      <td>1.02</td>\n",
       "      <td>0.00</td>\n",
       "      <td>0.41</td>\n",
       "      <td>NaN</td>\n",
       "      <td>NaN</td>\n",
       "      <td>NaN</td>\n",
       "    </tr>\n",
       "    <tr>\n",
       "      <th>609</th>\n",
       "      <td>Space Invaders</td>\n",
       "      <td>2600</td>\n",
       "      <td>&lt;NA&gt;</td>\n",
       "      <td>Shooter</td>\n",
       "      <td>2.36</td>\n",
       "      <td>0.14</td>\n",
       "      <td>0.00</td>\n",
       "      <td>0.03</td>\n",
       "      <td>NaN</td>\n",
       "      <td>NaN</td>\n",
       "      <td>NaN</td>\n",
       "    </tr>\n",
       "    <tr>\n",
       "      <th>...</th>\n",
       "      <td>...</td>\n",
       "      <td>...</td>\n",
       "      <td>...</td>\n",
       "      <td>...</td>\n",
       "      <td>...</td>\n",
       "      <td>...</td>\n",
       "      <td>...</td>\n",
       "      <td>...</td>\n",
       "      <td>...</td>\n",
       "      <td>...</td>\n",
       "      <td>...</td>\n",
       "    </tr>\n",
       "    <tr>\n",
       "      <th>16371</th>\n",
       "      <td>PDC World Championship Darts 2008</td>\n",
       "      <td>PSP</td>\n",
       "      <td>&lt;NA&gt;</td>\n",
       "      <td>Sports</td>\n",
       "      <td>0.01</td>\n",
       "      <td>0.00</td>\n",
       "      <td>0.00</td>\n",
       "      <td>0.00</td>\n",
       "      <td>43.0</td>\n",
       "      <td>tbd</td>\n",
       "      <td>E10+</td>\n",
       "    </tr>\n",
       "    <tr>\n",
       "      <th>16403</th>\n",
       "      <td>Freaky Flyers</td>\n",
       "      <td>GC</td>\n",
       "      <td>&lt;NA&gt;</td>\n",
       "      <td>Racing</td>\n",
       "      <td>0.01</td>\n",
       "      <td>0.00</td>\n",
       "      <td>0.00</td>\n",
       "      <td>0.00</td>\n",
       "      <td>69.0</td>\n",
       "      <td>6.5</td>\n",
       "      <td>T</td>\n",
       "    </tr>\n",
       "    <tr>\n",
       "      <th>16446</th>\n",
       "      <td>Inversion</td>\n",
       "      <td>PC</td>\n",
       "      <td>&lt;NA&gt;</td>\n",
       "      <td>Shooter</td>\n",
       "      <td>0.01</td>\n",
       "      <td>0.00</td>\n",
       "      <td>0.00</td>\n",
       "      <td>0.00</td>\n",
       "      <td>59.0</td>\n",
       "      <td>6.7</td>\n",
       "      <td>M</td>\n",
       "    </tr>\n",
       "    <tr>\n",
       "      <th>16456</th>\n",
       "      <td>Hakuouki: Shinsengumi Kitan</td>\n",
       "      <td>PS3</td>\n",
       "      <td>&lt;NA&gt;</td>\n",
       "      <td>Adventure</td>\n",
       "      <td>0.01</td>\n",
       "      <td>0.00</td>\n",
       "      <td>0.00</td>\n",
       "      <td>0.00</td>\n",
       "      <td>NaN</td>\n",
       "      <td>NaN</td>\n",
       "      <td>NaN</td>\n",
       "    </tr>\n",
       "    <tr>\n",
       "      <th>16520</th>\n",
       "      <td>Virtua Quest</td>\n",
       "      <td>GC</td>\n",
       "      <td>&lt;NA&gt;</td>\n",
       "      <td>Role-Playing</td>\n",
       "      <td>0.01</td>\n",
       "      <td>0.00</td>\n",
       "      <td>0.00</td>\n",
       "      <td>0.00</td>\n",
       "      <td>55.0</td>\n",
       "      <td>5.5</td>\n",
       "      <td>T</td>\n",
       "    </tr>\n",
       "  </tbody>\n",
       "</table>\n",
       "<p>269 rows × 11 columns</p>\n",
       "</div>"
      ],
      "text/plain": [
       "                                    name platform  year_of_release  \\\n",
       "183                      Madden NFL 2004      PS2             <NA>   \n",
       "377                     FIFA Soccer 2004      PS2             <NA>   \n",
       "456           LEGO Batman: The Videogame      Wii             <NA>   \n",
       "475           wwe Smackdown vs. Raw 2006      PS2             <NA>   \n",
       "609                       Space Invaders     2600             <NA>   \n",
       "...                                  ...      ...              ...   \n",
       "16371  PDC World Championship Darts 2008      PSP             <NA>   \n",
       "16403                      Freaky Flyers       GC             <NA>   \n",
       "16446                          Inversion       PC             <NA>   \n",
       "16456        Hakuouki: Shinsengumi Kitan      PS3             <NA>   \n",
       "16520                       Virtua Quest       GC             <NA>   \n",
       "\n",
       "              genre  na_sales  eu_sales  jp_sales  other_sales  critic_score  \\\n",
       "183          Sports      4.26      0.26      0.01         0.71          94.0   \n",
       "377          Sports      0.59      2.36      0.04         0.51          84.0   \n",
       "456          Action      1.80      0.97      0.00         0.29          74.0   \n",
       "475        Fighting      1.57      1.02      0.00         0.41           NaN   \n",
       "609         Shooter      2.36      0.14      0.00         0.03           NaN   \n",
       "...             ...       ...       ...       ...          ...           ...   \n",
       "16371        Sports      0.01      0.00      0.00         0.00          43.0   \n",
       "16403        Racing      0.01      0.00      0.00         0.00          69.0   \n",
       "16446       Shooter      0.01      0.00      0.00         0.00          59.0   \n",
       "16456     Adventure      0.01      0.00      0.00         0.00           NaN   \n",
       "16520  Role-Playing      0.01      0.00      0.00         0.00          55.0   \n",
       "\n",
       "      user_score rating  \n",
       "183          8.5      E  \n",
       "377          6.4      E  \n",
       "456          7.9   E10+  \n",
       "475          NaN    NaN  \n",
       "609          NaN    NaN  \n",
       "...          ...    ...  \n",
       "16371        tbd   E10+  \n",
       "16403        6.5      T  \n",
       "16446        6.7      M  \n",
       "16456        NaN    NaN  \n",
       "16520        5.5      T  \n",
       "\n",
       "[269 rows x 11 columns]"
      ]
     },
     "metadata": {},
     "output_type": "display_data"
    }
   ],
   "source": [
    "display(games[games['year_of_release'].isnull()])"
   ]
  },
  {
   "cell_type": "markdown",
   "metadata": {},
   "source": [
    "До этого мы разбирали пример, где Need for Speed: Most Wanted была выпущена на разных платформах в примерно одни и те же года. Обычно дата релиза для всех платформ +- близка - игру стараются выпустить сразу и на всем, однако не стоит их заподнять значениями с других платформ - на примере NFS мы видим перевыпуск игры и не совсем понятно какой из этих значений проставлять как год. Плюс мы можем получить ошибки в данных, такие как, например, игра вышла на X360 в 1994 году(получила такой вывод опытным путем..), а 100% достоверность заполнения нельзя гарантировать. Просто удалим пустые данные по годам."
   ]
  },
  {
   "cell_type": "code",
   "execution_count": 17,
   "metadata": {},
   "outputs": [
    {
     "data": {
      "text/plain": [
       "0"
      ]
     },
     "metadata": {},
     "output_type": "display_data"
    }
   ],
   "source": [
    "games = games.dropna(subset=['year_of_release']).reset_index(drop=True)\n",
    "\n",
    "display(len(games[games['year_of_release'].isnull()]))"
   ]
  },
  {
   "cell_type": "markdown",
   "metadata": {},
   "source": [
    "### Изучение поля Genre"
   ]
  },
  {
   "cell_type": "code",
   "execution_count": 18,
   "metadata": {},
   "outputs": [
    {
     "name": "stdout",
     "output_type": "stream",
     "text": [
      "Количество уникальных значений Genre 12\n"
     ]
    },
    {
     "data": {
      "text/plain": [
       "array(['Sports', 'Platform', 'Racing', 'Role-Playing', 'Puzzle', 'Misc',\n",
       "       'Shooter', 'Simulation', 'Action', 'Fighting', 'Adventure',\n",
       "       'Strategy'], dtype=object)"
      ]
     },
     "metadata": {},
     "output_type": "display_data"
    },
    {
     "data": {
      "text/plain": [
       "0"
      ]
     },
     "execution_count": 18,
     "metadata": {},
     "output_type": "execute_result"
    }
   ],
   "source": [
    "print('Количество уникальных значений Genre', len(set(games['genre'])))\n",
    "display(games['genre'].unique())\n",
    "\n",
    "games['genre'].isna().sum()"
   ]
  },
  {
   "cell_type": "markdown",
   "metadata": {},
   "source": [
    "Неявных дублей не выявлено. Посмотрим количество для каждого жанра и не будем вносить изменений."
   ]
  },
  {
   "cell_type": "code",
   "execution_count": 19,
   "metadata": {},
   "outputs": [
    {
     "data": {
      "text/plain": [
       "Action          3307\n",
       "Sports          2306\n",
       "Misc            1721\n",
       "Role-Playing    1481\n",
       "Shooter         1296\n",
       "Adventure       1293\n",
       "Racing          1226\n",
       "Platform         878\n",
       "Simulation       857\n",
       "Fighting         837\n",
       "Strategy         673\n",
       "Puzzle           569\n",
       "Name: genre, dtype: int64"
      ]
     },
     "execution_count": 19,
     "metadata": {},
     "output_type": "execute_result"
    }
   ],
   "source": [
    "games['genre'].value_counts()"
   ]
  },
  {
   "cell_type": "markdown",
   "metadata": {},
   "source": [
    "Довольно много игр с жанром Action и мало Puzzle. Хотя пазлы и довольно популярны, но не на этих платформах - в них обычно играют на телефонах, которые тут не указаны\n",
    "\n",
    "### Добавление поля Общих продаж"
   ]
  },
  {
   "cell_type": "code",
   "execution_count": 20,
   "metadata": {},
   "outputs": [
    {
     "data": {
      "text/html": [
       "<div>\n",
       "<style scoped>\n",
       "    .dataframe tbody tr th:only-of-type {\n",
       "        vertical-align: middle;\n",
       "    }\n",
       "\n",
       "    .dataframe tbody tr th {\n",
       "        vertical-align: top;\n",
       "    }\n",
       "\n",
       "    .dataframe thead th {\n",
       "        text-align: right;\n",
       "    }\n",
       "</style>\n",
       "<table border=\"1\" class=\"dataframe\">\n",
       "  <thead>\n",
       "    <tr style=\"text-align: right;\">\n",
       "      <th></th>\n",
       "      <th>name</th>\n",
       "      <th>platform</th>\n",
       "      <th>year_of_release</th>\n",
       "      <th>genre</th>\n",
       "      <th>na_sales</th>\n",
       "      <th>eu_sales</th>\n",
       "      <th>jp_sales</th>\n",
       "      <th>other_sales</th>\n",
       "      <th>critic_score</th>\n",
       "      <th>user_score</th>\n",
       "      <th>rating</th>\n",
       "      <th>total_sales</th>\n",
       "    </tr>\n",
       "  </thead>\n",
       "  <tbody>\n",
       "    <tr>\n",
       "      <th>0</th>\n",
       "      <td>Wii Sports</td>\n",
       "      <td>Wii</td>\n",
       "      <td>2006</td>\n",
       "      <td>Sports</td>\n",
       "      <td>41.36</td>\n",
       "      <td>28.96</td>\n",
       "      <td>3.77</td>\n",
       "      <td>8.45</td>\n",
       "      <td>76.0</td>\n",
       "      <td>8</td>\n",
       "      <td>E</td>\n",
       "      <td>82.54</td>\n",
       "    </tr>\n",
       "    <tr>\n",
       "      <th>1</th>\n",
       "      <td>Super Mario Bros.</td>\n",
       "      <td>NES</td>\n",
       "      <td>1985</td>\n",
       "      <td>Platform</td>\n",
       "      <td>29.08</td>\n",
       "      <td>3.58</td>\n",
       "      <td>6.81</td>\n",
       "      <td>0.77</td>\n",
       "      <td>NaN</td>\n",
       "      <td>NaN</td>\n",
       "      <td>NaN</td>\n",
       "      <td>40.24</td>\n",
       "    </tr>\n",
       "    <tr>\n",
       "      <th>2</th>\n",
       "      <td>Mario Kart Wii</td>\n",
       "      <td>Wii</td>\n",
       "      <td>2008</td>\n",
       "      <td>Racing</td>\n",
       "      <td>15.68</td>\n",
       "      <td>12.76</td>\n",
       "      <td>3.79</td>\n",
       "      <td>3.29</td>\n",
       "      <td>82.0</td>\n",
       "      <td>8.3</td>\n",
       "      <td>E</td>\n",
       "      <td>35.52</td>\n",
       "    </tr>\n",
       "    <tr>\n",
       "      <th>3</th>\n",
       "      <td>Wii Sports Resort</td>\n",
       "      <td>Wii</td>\n",
       "      <td>2009</td>\n",
       "      <td>Sports</td>\n",
       "      <td>15.61</td>\n",
       "      <td>10.93</td>\n",
       "      <td>3.28</td>\n",
       "      <td>2.95</td>\n",
       "      <td>80.0</td>\n",
       "      <td>8</td>\n",
       "      <td>E</td>\n",
       "      <td>32.77</td>\n",
       "    </tr>\n",
       "    <tr>\n",
       "      <th>4</th>\n",
       "      <td>Pokemon Red/Pokemon Blue</td>\n",
       "      <td>GB</td>\n",
       "      <td>1996</td>\n",
       "      <td>Role-Playing</td>\n",
       "      <td>11.27</td>\n",
       "      <td>8.89</td>\n",
       "      <td>10.22</td>\n",
       "      <td>1.00</td>\n",
       "      <td>NaN</td>\n",
       "      <td>NaN</td>\n",
       "      <td>NaN</td>\n",
       "      <td>31.38</td>\n",
       "    </tr>\n",
       "  </tbody>\n",
       "</table>\n",
       "</div>"
      ],
      "text/plain": [
       "                       name platform  year_of_release         genre  na_sales  \\\n",
       "0                Wii Sports      Wii             2006        Sports     41.36   \n",
       "1         Super Mario Bros.      NES             1985      Platform     29.08   \n",
       "2            Mario Kart Wii      Wii             2008        Racing     15.68   \n",
       "3         Wii Sports Resort      Wii             2009        Sports     15.61   \n",
       "4  Pokemon Red/Pokemon Blue       GB             1996  Role-Playing     11.27   \n",
       "\n",
       "   eu_sales  jp_sales  other_sales  critic_score user_score rating  \\\n",
       "0     28.96      3.77         8.45          76.0          8      E   \n",
       "1      3.58      6.81         0.77           NaN        NaN    NaN   \n",
       "2     12.76      3.79         3.29          82.0        8.3      E   \n",
       "3     10.93      3.28         2.95          80.0          8      E   \n",
       "4      8.89     10.22         1.00           NaN        NaN    NaN   \n",
       "\n",
       "   total_sales  \n",
       "0        82.54  \n",
       "1        40.24  \n",
       "2        35.52  \n",
       "3        32.77  \n",
       "4        31.38  "
      ]
     },
     "metadata": {},
     "output_type": "display_data"
    }
   ],
   "source": [
    "games['total_sales'] = games['na_sales'] + games['eu_sales'] + games['jp_sales'] + games['other_sales']\n",
    "\n",
    "display(games.head())"
   ]
  },
  {
   "cell_type": "markdown",
   "metadata": {},
   "source": [
    "Отлично, поле добавлено. Посмотрим есть ли нулевые продажи"
   ]
  },
  {
   "cell_type": "code",
   "execution_count": 21,
   "metadata": {},
   "outputs": [
    {
     "data": {
      "text/html": [
       "<div>\n",
       "<style scoped>\n",
       "    .dataframe tbody tr th:only-of-type {\n",
       "        vertical-align: middle;\n",
       "    }\n",
       "\n",
       "    .dataframe tbody tr th {\n",
       "        vertical-align: top;\n",
       "    }\n",
       "\n",
       "    .dataframe thead th {\n",
       "        text-align: right;\n",
       "    }\n",
       "</style>\n",
       "<table border=\"1\" class=\"dataframe\">\n",
       "  <thead>\n",
       "    <tr style=\"text-align: right;\">\n",
       "      <th></th>\n",
       "      <th>name</th>\n",
       "      <th>platform</th>\n",
       "      <th>year_of_release</th>\n",
       "      <th>genre</th>\n",
       "      <th>na_sales</th>\n",
       "      <th>eu_sales</th>\n",
       "      <th>jp_sales</th>\n",
       "      <th>other_sales</th>\n",
       "      <th>critic_score</th>\n",
       "      <th>user_score</th>\n",
       "      <th>rating</th>\n",
       "      <th>total_sales</th>\n",
       "    </tr>\n",
       "  </thead>\n",
       "  <tbody>\n",
       "    <tr>\n",
       "      <th>16405</th>\n",
       "      <td>G1 Jockey 4 2008</td>\n",
       "      <td>PS3</td>\n",
       "      <td>2008</td>\n",
       "      <td>Sports</td>\n",
       "      <td>0.0</td>\n",
       "      <td>0.0</td>\n",
       "      <td>0.0</td>\n",
       "      <td>0.0</td>\n",
       "      <td>NaN</td>\n",
       "      <td>NaN</td>\n",
       "      <td>NaN</td>\n",
       "      <td>0.0</td>\n",
       "    </tr>\n",
       "    <tr>\n",
       "      <th>16438</th>\n",
       "      <td>SCORE International Baja 1000: The Official Game</td>\n",
       "      <td>PS2</td>\n",
       "      <td>2008</td>\n",
       "      <td>Racing</td>\n",
       "      <td>0.0</td>\n",
       "      <td>0.0</td>\n",
       "      <td>0.0</td>\n",
       "      <td>0.0</td>\n",
       "      <td>NaN</td>\n",
       "      <td>NaN</td>\n",
       "      <td>NaN</td>\n",
       "      <td>0.0</td>\n",
       "    </tr>\n",
       "  </tbody>\n",
       "</table>\n",
       "</div>"
      ],
      "text/plain": [
       "                                                   name platform  \\\n",
       "16405                                  G1 Jockey 4 2008      PS3   \n",
       "16438  SCORE International Baja 1000: The Official Game      PS2   \n",
       "\n",
       "       year_of_release   genre  na_sales  eu_sales  jp_sales  other_sales  \\\n",
       "16405             2008  Sports       0.0       0.0       0.0          0.0   \n",
       "16438             2008  Racing       0.0       0.0       0.0          0.0   \n",
       "\n",
       "       critic_score user_score rating  total_sales  \n",
       "16405           NaN        NaN    NaN          0.0  \n",
       "16438           NaN        NaN    NaN          0.0  "
      ]
     },
     "metadata": {},
     "output_type": "display_data"
    }
   ],
   "source": [
    "display(games[games['total_sales']<0.01])"
   ]
  },
  {
   "cell_type": "markdown",
   "metadata": {},
   "source": [
    "Возможно, это игры из разряда Free2Play, которые могли распространяться бесплатно. Судя по году, такое могло быть - примерно в это время стали появляться такие варианты распространения игр. Но если такая модель существует, то она не объясняет отсутствие оценок. Думаю, мы можем считать эти данные не информативными и можем от них избавиться."
   ]
  },
  {
   "cell_type": "code",
   "execution_count": 22,
   "metadata": {},
   "outputs": [
    {
     "data": {
      "text/plain": [
       "0"
      ]
     },
     "metadata": {},
     "output_type": "display_data"
    }
   ],
   "source": [
    "games = games[games['total_sales']!=0.0]\n",
    "display(len(games[games['total_sales']<0.01]))"
   ]
  },
  {
   "cell_type": "markdown",
   "metadata": {},
   "source": [
    "### Изучение полей Critic_score и User_score\n",
    "В этих полях встречаются значения tbd и nan и это может быть связано с разными факторами - игра могла быть в раннем доступе(технически еще не релиз), поэтому оценок могло не быть, либо на момент среза их еще не поступило, либо мог произойти сбой. В любом случае мы не сможем заполнить эти пробелы без искажений, поэтому только лишь преобразуем tbd в nan."
   ]
  },
  {
   "cell_type": "code",
   "execution_count": 23,
   "metadata": {},
   "outputs": [],
   "source": [
    "games.loc[games['critic_score'] == 'tbd', 'critic_score'] = float('nan')\n",
    "games.loc[games['user_score'] == 'tbd', 'user_score'] = float('nan')"
   ]
  },
  {
   "cell_type": "markdown",
   "metadata": {},
   "source": [
    "Теперь можно заменить типы данных для этих столбцов"
   ]
  },
  {
   "cell_type": "code",
   "execution_count": 24,
   "metadata": {},
   "outputs": [],
   "source": [
    "games['user_score'] = games['user_score'].astype('float64')\n",
    "games['critic_score'] = games['critic_score'].astype('Int64')"
   ]
  },
  {
   "cell_type": "markdown",
   "metadata": {},
   "source": [
    "### Изучение полей Rating\n",
    "Посмотрим какие уникальные значения есть и зафиксируем сколько пустых значений в датасете"
   ]
  },
  {
   "cell_type": "code",
   "execution_count": 25,
   "metadata": {},
   "outputs": [
    {
     "data": {
      "text/plain": [
       "array(['E', nan, 'M', 'T', 'E10+', 'K-A', 'AO', 'EC', 'RP'], dtype=object)"
      ]
     },
     "metadata": {},
     "output_type": "display_data"
    },
    {
     "data": {
      "text/plain": [
       "6674"
      ]
     },
     "execution_count": 25,
     "metadata": {},
     "output_type": "execute_result"
    }
   ],
   "source": [
    "display(games['rating'].unique())\n",
    "\n",
    "games['rating'].isna().sum()"
   ]
  },
  {
   "cell_type": "markdown",
   "metadata": {},
   "source": [
    "У нас есть мультиплатформенные игры в которых есть пропуски по рейтингу. Маловероятно, что одна и таже игра на разных платформах будет с разным рейтингом, поэтому заполним алгоритмом. "
   ]
  },
  {
   "cell_type": "code",
   "execution_count": 26,
   "metadata": {},
   "outputs": [],
   "source": [
    "not_empty = games[games['rating'].notnull()]"
   ]
  },
  {
   "cell_type": "code",
   "execution_count": 27,
   "metadata": {},
   "outputs": [],
   "source": [
    "def release(row, **kwargs):\n",
    "    col = 'rating'\n",
    "    rows = not_empty[not_empty['name'] == row['name']]\n",
    "   \n",
    "    if len(rows) > 0:\n",
    "        return rows.iloc[0][col]\n",
    "    \n",
    "    return row[col]\n"
   ]
  },
  {
   "cell_type": "code",
   "execution_count": 28,
   "metadata": {},
   "outputs": [],
   "source": [
    "games['rating'] = games.apply(release, axis=1)"
   ]
  },
  {
   "cell_type": "code",
   "execution_count": 29,
   "metadata": {},
   "outputs": [
    {
     "data": {
      "text/plain": [
       "6257"
      ]
     },
     "execution_count": 29,
     "metadata": {},
     "output_type": "execute_result"
    }
   ],
   "source": [
    "games['rating'].isna().sum()"
   ]
  },
  {
   "cell_type": "markdown",
   "metadata": {},
   "source": [
    "Количество пустых значений сократилось, теперь заполним оставшиеся. Мы не можем предположить, какие рейтинги имеют остальные игры, и т.к их более 6к, и мы не сможем заполнить их вручную, взяв рейтинг с поисковиков. Заполним просто 'Не определен'"
   ]
  },
  {
   "cell_type": "code",
   "execution_count": 30,
   "metadata": {},
   "outputs": [],
   "source": [
    "games.rating.fillna('Не определен', inplace=True)"
   ]
  },
  {
   "cell_type": "code",
   "execution_count": 31,
   "metadata": {},
   "outputs": [
    {
     "name": "stdout",
     "output_type": "stream",
     "text": [
      "Дублей найдено в файле: 0\n"
     ]
    }
   ],
   "source": [
    "games['rating'].isna().sum()\n",
    "print('Дублей найдено в файле:', games.duplicated().sum())"
   ]
  },
  {
   "cell_type": "markdown",
   "metadata": {},
   "source": [
    "### Общий вывод по пункту Подготовка данных\n",
    "\n",
    "Мы привели к нижнему регистру названия полей\n",
    "\n",
    "Изменили для некоторых полей тип данных:\n",
    "\n",
    " - year_of_release перевели в целочисленный тип данных, т.к года не могут быть с плавающей точкой\n",
    " - user_score преобразовали в числовой тип с плавающй точкой. т.к пользовательский рейтинг по десятибальной шкале\n",
    " - а уже critic_score просто в целочисленный тип, т.к тут десятые доли не важны из-за того что градация отслеживается по стобальной шкале\n",
    " Выяснили, что нам не попались полные дубли, но и по анализу всех полей, мы выяснили, что и скрытых дублей нет.\n",
    " \n",
    "Ублали строки с пустыми Name, т.к невозможно идентифицировать какая это игра\n",
    " \n",
    "Сделали первичный анализ по платформам.\n",
    " \n",
    "Для year_of_release удалили оставшиеся пустые значения\n",
    "\n",
    "Сделали первичный анализ по жанрам.\n",
    " \n",
    "Добавили поле Общие продажи(total_sales), заодно удалив записи, где продажи составили 0\n",
    " \n",
    "Изменили tbd на nan в столбцах с критикой для простоты работы с данными в дальнейшем исследовании\n",
    " \n",
    "Заполнили rating для мультиплатформенных игр, из-за того, что рейтинг не будет отличаться. Заодно заполнили пустые значения \"Не определен\" из-за невозможности заполнения пустых значений\n",
    " \n",
    "После обработок проверили повторно на полные дубли, убедиться, что их не наплодили преобразованиями данных"
   ]
  },
  {
   "cell_type": "markdown",
   "metadata": {},
   "source": [
    "## Исследовательский анализ данных\n",
    "### Анализ количества игр в разрезе по годам\n",
    "Мы уже выводили график выпуска игр по годам, вернемся и проанализируем спады и подъемы"
   ]
  },
  {
   "cell_type": "code",
   "execution_count": 32,
   "metadata": {},
   "outputs": [
    {
     "data": {
      "text/plain": [
       "Text(0.5, 1.0, 'year_of_release')"
      ]
     },
     "execution_count": 32,
     "metadata": {},
     "output_type": "execute_result"
    },
    {
     "data": {
      "image/png": "[encoded data removed]",
      "text/plain": [
       "<Figure size 1440x576 with 1 Axes>"
      ]
     },
     "metadata": {
      "needs_background": "light"
     },
     "output_type": "display_data"
    }
   ],
   "source": [
    "games['year_of_release'].sort_values().plot(y = 'year_of_release', kind = 'hist', bins = 100, figsize=(20, 8), \n",
    "                                        range=(games['year_of_release'].min(),games['year_of_release'].max()))\n",
    "plt.title('year_of_release')"
   ]
  },
  {
   "cell_type": "markdown",
   "metadata": {},
   "source": [
    "Не забываем о том, что данные за 2016 могут быть не в полном объеме. \n",
    "\n",
    "До 1994 года были зачатки индустрии. Можно связать с тем, что были довольно популярны игровые автоматы и малое кол-во разработок игр из-за не развитости платформ, их были буквально единицы. Далее, примерно с 1995-2012 стали разрабатываться все новые и новые консоли, и, как следствие, популяризация игр. При этом, игры стали частью семейного досуга - для игры не нужно было выходить куда-то - приставки набирали популярность, а компьютеры стали появляться у многих семей. Мультиплатформенность тут сыграла свою роль, т.к, например, консоли PlayStation и Xbox имели свои эксклюзивы, и приставки покупались довольно часто из-за каких-то конкретных игр. Другая история с играми на PC - стали создаваться магазины-клиенты, которые потихоньку отходили от дисковых носителей и весь свой список игр ты мог скачать из интернета со Steam, Origin и т.д. С 2012 мы можем наблюдать сильный спад по количеству продаваемых игр. Я это связываю с несколькими факторами. Для начала, в этот период разработчики игр хотели занять как можно больше платформ, но их и так уже был переизбыток - множество игр выпускалось сразу на большом кол-ве платформ, что было конечно удобно, но это не значило, что копия будет куплена на еще одно устройство. Темпы жизни менялись и многие компании попытались открыть для себя рынок мобильных игр, а их у нас в датасете нет. Далее произошел бум стриминговых платформ, где можно посмотреть как люди проходят игры и это могло сказываться на продажах. Ну, и как последний пункт, могу предположить, что в это время Valve выпустили свои популярные игры до этого момента и взяли перерыв в разработке, что сказалось на фанатах их игр.\n",
    "\n",
    "### Анализ количества игр в разрезе по платформам\n",
    "В прошлом пункте мы предроложили, что в определенный период был бум платформ, теперь рассмотрим так ли это на самом деле."
   ]
  },
  {
   "cell_type": "code",
   "execution_count": 33,
   "metadata": {},
   "outputs": [],
   "source": [
    "def games_and_platforms(games):\n",
    "    return (\n",
    "        games\n",
    "            .pivot_table(index='platform', values='total_sales', aggfunc='sum')\n",
    "            .sort_values('total_sales', ascending=False)\n",
    "    )"
   ]
  },
  {
   "cell_type": "code",
   "execution_count": 34,
   "metadata": {},
   "outputs": [],
   "source": [
    "def make_bar_plot(games):\n",
    "    (\n",
    "        games\n",
    "            .plot(kind='bar', y='total_sales', figsize=(10, 5), legend=False)\n",
    "            .set(xlabel='Платформа', ylabel='Глобальные продажи')\n",
    "    )\n",
    "    plt.show()\n"
   ]
  },
  {
   "cell_type": "code",
   "execution_count": 35,
   "metadata": {},
   "outputs": [
    {
     "data": {
      "image/png": "[encoded data removed]",
      "text/plain": [
       "<Figure size 720x360 with 1 Axes>"
      ]
     },
     "metadata": {
      "needs_background": "light"
     },
     "output_type": "display_data"
    }
   ],
   "source": [
    "make_bar_plot(games_and_platforms(games))"
   ]
  },
  {
   "cell_type": "markdown",
   "metadata": {},
   "source": [
    "Мы уже рассматривали данные по самым малочисленным консолям, и, заметили закономерность, что эти консоли были выпущены в самом начале становления игровой индустрии. Возможно, из-за не популярности игр, в то время эти консоли были отброшены на обочину или же из-за каких-то технических проблем. В то время игровая индустрия только начинала развиваться и это были, своего рода, попытки понять, что нужно покупателю. Рассмотрим популярные платформы. Я бы выделила первые 5 платформ, т.к далее идет большой спад. На 2016 год данных для PS4 было мало, т.к она только вышла. Еще у меня есть сомнения, что PC не занимает настолько низкий рейтинг. Погуглив, нашла, что в 2016 году PC и XboxOne признали лучшими платформами года. Возможно, в 2016 году так и было, но обычно продажи на PC 'срывают куш' под конец года(много игр стараются выпустить в период ноябрь-декабрь, т.к он экономически выгодный), возможно, тут мало данных на этот год.\n",
    "\n",
    "Выведем топ консолей и посмотрим динамику по годам для каждой отдельно\n",
    "#### PS2\n",
    "\n",
    "Срок жизни консоли ограничивался с 4 марта 2000 года по 4 января 2013, как подсказывает нам Википедия. Примерно это мы видим на графиках. У нас только данные заканчиваются на 2011 году, следовательно тут нет последнего года продаж. Могу предположить, что магазин либо мог перестать закупать диски в последний год, т.к спадал спрос, либо же есть ошибка в данных. В любом случае это не уменьшит популярность консоли и не сможет сильно исказить результат.\n",
    "\n",
    "График показывает как консоль жила чуть более 10 лет на рынке. Два года к играм рос интерес, а далее был довольно стабилен, и, логично, что в 2008 году стал падать. Могу предположить, что это могло быть связано со всплеском PC-игр в это время, либо же с анонсами новой консоли PS3."
   ]
  },
  {
   "cell_type": "code",
   "execution_count": 36,
   "metadata": {},
   "outputs": [
    {
     "data": {
      "image/png": "[encoded data removed]",
      "text/plain": [
       "<Figure size 432x288 with 1 Axes>"
      ]
     },
     "metadata": {
      "needs_background": "light"
     },
     "output_type": "display_data"
    }
   ],
   "source": [
    "plt.hist(games.query('platform == \"PS2\"')['year_of_release'], bins=100)\n",
    "plt.title('PS2')\n",
    "plt.xlabel('Года')\n",
    "plt.ylabel('Продажи')\n",
    "plt.show()"
   ]
  },
  {
   "cell_type": "markdown",
   "metadata": {},
   "source": [
    "#### X360\n",
    "\n",
    "Для консоли X360 выпуск начался с 22 ноября 2005 по 20 апреля 2016, что примерно по годам мы и видим на графике. \n",
    "Интерес к приставке довольно быстро рос до 2011 года включительно, но потом стал резко падать. Есть предположение, что из-за нестабильности приставки, от нее стали потихоньку отказываться. Об этом может свидетельствовать одна из версий Xbox 360 S, которая совсем быстро слилась с рынков. В любом случае, до 2011 года компания Микрософт подогревала интерес к консоли - выпускались игры для такого девайса, как Kinect, однако и его потом сделали совместимым с PC, что могло повлиять на продажи игр. Есть предположение, что на рынок, в то время, выходила более конкурентноспособная консоль, что могло и стать последней точкой. В любом случае, консоль продержалась 10+ лет, что похвально)"
   ]
  },
  {
   "cell_type": "code",
   "execution_count": 37,
   "metadata": {},
   "outputs": [
    {
     "data": {
      "image/png": "[encoded data removed]",
      "text/plain": [
       "<Figure size 432x288 with 1 Axes>"
      ]
     },
     "metadata": {
      "needs_background": "light"
     },
     "output_type": "display_data"
    }
   ],
   "source": [
    "plt.hist(games.query('platform == \"X360\"')['year_of_release'], bins=100)\n",
    "plt.title('X360')\n",
    "plt.xlabel('Года')\n",
    "plt.ylabel('Продажи')\n",
    "plt.show()"
   ]
  },
  {
   "cell_type": "markdown",
   "metadata": {},
   "source": [
    "#### PS3\n",
    "\n",
    "Прямой конкурент для XBox просуществовал с 11 ноября 2006 по 29 мая 2017(примерно эти даты и отражены). Интересно, что две конкурирующие приставки очень похожи по графикам продаж, правда у PS3 спад не такой резкий после 2011 года. Есть предположение, что приставка была стабильнее, но выпуски эксклюзивных игр стали прекращаться. Скорее всего компания Sony стала анонсировать свои други разработки и интерес к этой консоли стал просто плавно угасать. Консоль аналогично продержалась на рынке 10 лет"
   ]
  },
  {
   "cell_type": "code",
   "execution_count": 38,
   "metadata": {},
   "outputs": [
    {
     "data": {
      "image/png": "[encoded data removed]",
      "text/plain": [
       "<Figure size 432x288 with 1 Axes>"
      ]
     },
     "metadata": {
      "needs_background": "light"
     },
     "output_type": "display_data"
    }
   ],
   "source": [
    "plt.hist(games.query('platform == \"PS3\"')['year_of_release'], bins=100)\n",
    "plt.title('PS3')\n",
    "plt.xlabel('Года')\n",
    "plt.ylabel('Продажи')\n",
    "plt.show()"
   ]
  },
  {
   "cell_type": "markdown",
   "metadata": {},
   "source": [
    "#### Wii\n",
    "Данная консоль существовала с 19 ноября 2006 по 20 октября 2013, но у нас есть 11 записей после 2013 года. Не совсем смогла понять как это могло произойти, возможно, сбой в поле year_of_release, однако, эти записи не сильно влияют на оценку из-за их малого количества, удалим их.\n",
    "\n",
    "По самой консоли можно сказать, что прожила она в районе 7 лет и интерес стал к ней падать после презентации новой консоли в 2011 году. Пик популярности пришелся на 2009 год"
   ]
  },
  {
   "cell_type": "code",
   "execution_count": 39,
   "metadata": {},
   "outputs": [
    {
     "data": {
      "image/png": "[encoded data removed]",
      "text/plain": [
       "<Figure size 432x288 with 1 Axes>"
      ]
     },
     "metadata": {
      "needs_background": "light"
     },
     "output_type": "display_data"
    }
   ],
   "source": [
    "plt.hist(games.query('platform == \"Wii\"')['year_of_release'], bins=100)\n",
    "plt.title('Wii')\n",
    "plt.xlabel('Года')\n",
    "plt.ylabel('Продажи')\n",
    "plt.show()"
   ]
  },
  {
   "cell_type": "code",
   "execution_count": 40,
   "metadata": {},
   "outputs": [
    {
     "data": {
      "text/plain": [
       "0"
      ]
     },
     "metadata": {},
     "output_type": "display_data"
    }
   ],
   "source": [
    "games = games.loc[~((games['platform'] == \"Wii\") & (games['year_of_release'] > 2013))]\n",
    "display(len(games.query('(platform == \"Wii\") & (year_of_release > 2013)')))"
   ]
  },
  {
   "cell_type": "code",
   "execution_count": 41,
   "metadata": {},
   "outputs": [
    {
     "data": {
      "image/png": "[encoded data removed]",
      "text/plain": [
       "<Figure size 432x288 with 1 Axes>"
      ]
     },
     "metadata": {
      "needs_background": "light"
     },
     "output_type": "display_data"
    }
   ],
   "source": [
    "plt.hist(games.query('platform == \"Wii\"')['year_of_release'], bins=100)\n",
    "plt.title('Wii')\n",
    "plt.xlabel('Года')\n",
    "plt.ylabel('Продажи')\n",
    "plt.show()"
   ]
  },
  {
   "cell_type": "markdown",
   "metadata": {},
   "source": [
    "#### DS\n",
    "\n",
    "Эта консоль просуществовала с 21 ноября 2004 по 31 августа 2013, но у нас график начинается с 1985 года. Удалим эту запись\n",
    "\n",
    "На втором графике видим, что интерес пользователей плавно рос до 2008 года, а после уже стал плавно опускаться. По нашим данным - это самая популярная портативная консоль. Скорее всего это было обусловлено хорошим качеством консоли и стабильными разработками игр для нее, что и дало консоли 9 лет жизни на рынке."
   ]
  },
  {
   "cell_type": "code",
   "execution_count": 42,
   "metadata": {},
   "outputs": [
    {
     "data": {
      "image/png": "[encoded data removed]",
      "text/plain": [
       "<Figure size 432x288 with 1 Axes>"
      ]
     },
     "metadata": {
      "needs_background": "light"
     },
     "output_type": "display_data"
    }
   ],
   "source": [
    "plt.hist(games.query('platform == \"DS\"')['year_of_release'], bins=100)\n",
    "plt.title('DS')\n",
    "plt.xlabel('Года')\n",
    "plt.ylabel('Продажи')\n",
    "plt.show()"
   ]
  },
  {
   "cell_type": "code",
   "execution_count": 43,
   "metadata": {},
   "outputs": [
    {
     "data": {
      "text/plain": [
       "0"
      ]
     },
     "metadata": {},
     "output_type": "display_data"
    },
    {
     "data": {
      "image/png": "[encoded data removed]",
      "text/plain": [
       "<Figure size 432x288 with 1 Axes>"
      ]
     },
     "metadata": {
      "needs_background": "light"
     },
     "output_type": "display_data"
    }
   ],
   "source": [
    "games = games.loc[~((games['platform'] == \"DS\") & (games['year_of_release'] < 2004))]\n",
    "\n",
    "display(len(games.query('(platform == \"DS\") & (year_of_release < 2004)')))\n",
    "\n",
    "plt.hist(games.query('platform == \"DS\"')['year_of_release'], bins=100)\n",
    "plt.title('DS')\n",
    "plt.xlabel('Года')\n",
    "plt.ylabel('Продажи')\n",
    "plt.show()"
   ]
  },
  {
   "cell_type": "markdown",
   "metadata": {},
   "source": [
    "### Актуальный период и прибыльные платформы\n",
    "\n",
    "Предположим, что актуальный период - это последние 2 года. Возьмем пять топовых платформ за этот период"
   ]
  },
  {
   "cell_type": "code",
   "execution_count": 44,
   "metadata": {},
   "outputs": [
    {
     "data": {
      "text/plain": [
       "<AxesSubplot:xlabel='year_of_release'>"
      ]
     },
     "execution_count": 44,
     "metadata": {},
     "output_type": "execute_result"
    },
    {
     "data": {
      "image/png": "[encoded data removed]",
      "text/plain": [
       "<Figure size 1080x360 with 1 Axes>"
      ]
     },
     "metadata": {
      "needs_background": "light"
     },
     "output_type": "display_data"
    }
   ],
   "source": [
    "actual_data_top = games.query('year_of_release > 2013')\n",
    "top=games['platform'].unique()\n",
    "\n",
    "actual_data_top.query('platform in @top').pivot_table(index='year_of_release', \n",
    "                                                              columns = 'platform', \n",
    "                                                              values='total_sales', \n",
    "                                                              aggfunc='sum').plot(figsize=(15, 5), \n",
    "                                                                                  colormap = plt.cm.nipy_spectral)"
   ]
  },
  {
   "cell_type": "markdown",
   "metadata": {},
   "source": [
    "На графике мы видим, что у нас за этот период только 2 новые платформы - PS4 и XOne. Хоть у них и есть спад, но мы не можем 100% сказать это спад из-за неполных данных или же естественный спад. Эти платформы довольно свежие, поэтому будем учитывать их. Далее мы видим менее популярные, но достаточно стабильные платформы - 3DS, WiiU, PC. Возможно они не принесут высокой выручки, но зато будут довольно плавны в доходе. Стоит учитывать и их."
   ]
  },
  {
   "cell_type": "markdown",
   "metadata": {},
   "source": [
    "### Глобальные продажи игр в разбивке по платформам"
   ]
  },
  {
   "cell_type": "code",
   "execution_count": 45,
   "metadata": {},
   "outputs": [
    {
     "data": {
      "text/plain": [
       "(0.0, 3.0)"
      ]
     },
     "execution_count": 45,
     "metadata": {},
     "output_type": "execute_result"
    },
    {
     "data": {
      "image/png": "[encoded data removed]",
      "text/plain": [
       "<Figure size 1080x720 with 1 Axes>"
      ]
     },
     "metadata": {
      "needs_background": "light"
     },
     "output_type": "display_data"
    }
   ],
   "source": [
    "actual_data_top.boxplot(by='platform', column='total_sales', figsize=(15,10)).set_ylim(0,3)"
   ]
  },
  {
   "cell_type": "markdown",
   "metadata": {},
   "source": [
    "График показывает, что мы верно определили PS4, WiiU, XOne,3DS но по PC не все так однозначно. Однако, я бы не стала исключать PC, т.к это актуальная платформа. Есть результаты и лучше, но они относятся к приставкам, которые находятся уже на спаде, либо которые вышли из эксплуатации."
   ]
  },
  {
   "cell_type": "markdown",
   "metadata": {},
   "source": [
    "### Влияние отзывов на продажи в разрезе популярных платформ\n",
    "Для начала сохраним отдельно для каждой консоли выборки и будем с ними работать."
   ]
  },
  {
   "cell_type": "code",
   "execution_count": 46,
   "metadata": {},
   "outputs": [],
   "source": [
    "actual_ps4 = actual_data_top.query('platform == \"PS4\"')\n",
    "actual_xone = actual_data_top.query('platform == \"XOne\"')\n",
    "actual_wiiu = actual_data_top.query('platform == \"WiiU\"')\n",
    "actual_pc = actual_data_top.query('platform == \"PC\"')\n",
    "actual_3ds = actual_data_top.query('platform == \"3DS\"')"
   ]
  },
  {
   "cell_type": "markdown",
   "metadata": {},
   "source": [
    "#### PS4\n"
   ]
  },
  {
   "cell_type": "code",
   "execution_count": 47,
   "metadata": {},
   "outputs": [
    {
     "data": {
      "text/plain": [
       "<AxesSubplot:title={'center':'PS4'}, xlabel='user_score', ylabel='total_sales'>"
      ]
     },
     "execution_count": 47,
     "metadata": {},
     "output_type": "execute_result"
    },
    {
     "data": {
      "image/png": "[encoded data removed]",
      "text/plain": [
       "<Figure size 432x288 with 1 Axes>"
      ]
     },
     "metadata": {
      "needs_background": "light"
     },
     "output_type": "display_data"
    }
   ],
   "source": [
    "actual_ps4.plot(x='user_score', y='total_sales', kind='scatter', title='PS4')"
   ]
  },
  {
   "cell_type": "code",
   "execution_count": 48,
   "metadata": {},
   "outputs": [
    {
     "data": {
      "text/html": [
       "<div>\n",
       "<style scoped>\n",
       "    .dataframe tbody tr th:only-of-type {\n",
       "        vertical-align: middle;\n",
       "    }\n",
       "\n",
       "    .dataframe tbody tr th {\n",
       "        vertical-align: top;\n",
       "    }\n",
       "\n",
       "    .dataframe thead th {\n",
       "        text-align: right;\n",
       "    }\n",
       "</style>\n",
       "<table border=\"1\" class=\"dataframe\">\n",
       "  <thead>\n",
       "    <tr style=\"text-align: right;\">\n",
       "      <th></th>\n",
       "      <th>critic_score</th>\n",
       "      <th>user_score</th>\n",
       "      <th>total_sales</th>\n",
       "    </tr>\n",
       "  </thead>\n",
       "  <tbody>\n",
       "    <tr>\n",
       "      <th>critic_score</th>\n",
       "      <td>1.000000</td>\n",
       "      <td>0.546434</td>\n",
       "      <td>0.402661</td>\n",
       "    </tr>\n",
       "    <tr>\n",
       "      <th>user_score</th>\n",
       "      <td>0.546434</td>\n",
       "      <td>1.000000</td>\n",
       "      <td>-0.040132</td>\n",
       "    </tr>\n",
       "    <tr>\n",
       "      <th>total_sales</th>\n",
       "      <td>0.402661</td>\n",
       "      <td>-0.040132</td>\n",
       "      <td>1.000000</td>\n",
       "    </tr>\n",
       "  </tbody>\n",
       "</table>\n",
       "</div>"
      ],
      "text/plain": [
       "              critic_score  user_score  total_sales\n",
       "critic_score      1.000000    0.546434     0.402661\n",
       "user_score        0.546434    1.000000    -0.040132\n",
       "total_sales       0.402661   -0.040132     1.000000"
      ]
     },
     "execution_count": 48,
     "metadata": {},
     "output_type": "execute_result"
    }
   ],
   "source": [
    "columns = ['critic_score','user_score', 'total_sales']\n",
    "subset = actual_ps4[columns]\n",
    "\n",
    "subset.corr()"
   ]
  },
  {
   "cell_type": "markdown",
   "metadata": {},
   "source": [
    "Для PS4 мы видим следующую тенденцию:\n",
    " - зависимости продаж от оценок юзеров совершенно нет\n",
    " - слабая зависимость продаж от оценок критиков\n",
    " - средняя зависимость оценок юзеров от критиков \n",
    " "
   ]
  },
  {
   "cell_type": "markdown",
   "metadata": {},
   "source": [
    "#### XOne\n"
   ]
  },
  {
   "cell_type": "code",
   "execution_count": 49,
   "metadata": {},
   "outputs": [
    {
     "data": {
      "text/plain": [
       "<AxesSubplot:title={'center':'XOne'}, xlabel='user_score', ylabel='total_sales'>"
      ]
     },
     "execution_count": 49,
     "metadata": {},
     "output_type": "execute_result"
    },
    {
     "data": {
      "image/png": "[encoded data removed]",
      "text/plain": [
       "<Figure size 432x288 with 1 Axes>"
      ]
     },
     "metadata": {
      "needs_background": "light"
     },
     "output_type": "display_data"
    }
   ],
   "source": [
    "actual_xone.plot(x='user_score', y='total_sales', kind='scatter', title='XOne')"
   ]
  },
  {
   "cell_type": "code",
   "execution_count": 50,
   "metadata": {},
   "outputs": [
    {
     "data": {
      "text/html": [
       "<div>\n",
       "<style scoped>\n",
       "    .dataframe tbody tr th:only-of-type {\n",
       "        vertical-align: middle;\n",
       "    }\n",
       "\n",
       "    .dataframe tbody tr th {\n",
       "        vertical-align: top;\n",
       "    }\n",
       "\n",
       "    .dataframe thead th {\n",
       "        text-align: right;\n",
       "    }\n",
       "</style>\n",
       "<table border=\"1\" class=\"dataframe\">\n",
       "  <thead>\n",
       "    <tr style=\"text-align: right;\">\n",
       "      <th></th>\n",
       "      <th>critic_score</th>\n",
       "      <th>user_score</th>\n",
       "      <th>total_sales</th>\n",
       "    </tr>\n",
       "  </thead>\n",
       "  <tbody>\n",
       "    <tr>\n",
       "      <th>critic_score</th>\n",
       "      <td>1.000000</td>\n",
       "      <td>0.440977</td>\n",
       "      <td>0.428677</td>\n",
       "    </tr>\n",
       "    <tr>\n",
       "      <th>user_score</th>\n",
       "      <td>0.440977</td>\n",
       "      <td>1.000000</td>\n",
       "      <td>-0.070384</td>\n",
       "    </tr>\n",
       "    <tr>\n",
       "      <th>total_sales</th>\n",
       "      <td>0.428677</td>\n",
       "      <td>-0.070384</td>\n",
       "      <td>1.000000</td>\n",
       "    </tr>\n",
       "  </tbody>\n",
       "</table>\n",
       "</div>"
      ],
      "text/plain": [
       "              critic_score  user_score  total_sales\n",
       "critic_score      1.000000    0.440977     0.428677\n",
       "user_score        0.440977    1.000000    -0.070384\n",
       "total_sales       0.428677   -0.070384     1.000000"
      ]
     },
     "execution_count": 50,
     "metadata": {},
     "output_type": "execute_result"
    }
   ],
   "source": [
    "columns = ['critic_score','user_score', 'total_sales']\n",
    "subset = actual_xone[columns]\n",
    "\n",
    "subset.corr()"
   ]
  },
  {
   "cell_type": "markdown",
   "metadata": {},
   "source": [
    "Для XOne мы видим, что:\n",
    " - оценки юзеров не имеют влияние на глобальные продажи этой платформы\n",
    " - оценки критиков имеют слабое влияние на продажи\n",
    " - слабая зависимость оценок пользователей от критиков"
   ]
  },
  {
   "cell_type": "markdown",
   "metadata": {},
   "source": [
    "#### WiiU\n"
   ]
  },
  {
   "cell_type": "code",
   "execution_count": 51,
   "metadata": {},
   "outputs": [
    {
     "data": {
      "text/plain": [
       "<AxesSubplot:title={'center':'WiiU'}, xlabel='user_score', ylabel='total_sales'>"
      ]
     },
     "execution_count": 51,
     "metadata": {},
     "output_type": "execute_result"
    },
    {
     "data": {
      "image/png": "[encoded data removed]",
      "text/plain": [
       "<Figure size 432x288 with 1 Axes>"
      ]
     },
     "metadata": {
      "needs_background": "light"
     },
     "output_type": "display_data"
    }
   ],
   "source": [
    "actual_wiiu.plot(x='user_score', y='total_sales', kind='scatter', title='WiiU')"
   ]
  },
  {
   "cell_type": "code",
   "execution_count": 52,
   "metadata": {},
   "outputs": [
    {
     "data": {
      "text/html": [
       "<div>\n",
       "<style scoped>\n",
       "    .dataframe tbody tr th:only-of-type {\n",
       "        vertical-align: middle;\n",
       "    }\n",
       "\n",
       "    .dataframe tbody tr th {\n",
       "        vertical-align: top;\n",
       "    }\n",
       "\n",
       "    .dataframe thead th {\n",
       "        text-align: right;\n",
       "    }\n",
       "</style>\n",
       "<table border=\"1\" class=\"dataframe\">\n",
       "  <thead>\n",
       "    <tr style=\"text-align: right;\">\n",
       "      <th></th>\n",
       "      <th>critic_score</th>\n",
       "      <th>user_score</th>\n",
       "      <th>total_sales</th>\n",
       "    </tr>\n",
       "  </thead>\n",
       "  <tbody>\n",
       "    <tr>\n",
       "      <th>critic_score</th>\n",
       "      <td>1.000000</td>\n",
       "      <td>0.763536</td>\n",
       "      <td>0.370201</td>\n",
       "    </tr>\n",
       "    <tr>\n",
       "      <th>user_score</th>\n",
       "      <td>0.763536</td>\n",
       "      <td>1.000000</td>\n",
       "      <td>0.407926</td>\n",
       "    </tr>\n",
       "    <tr>\n",
       "      <th>total_sales</th>\n",
       "      <td>0.370201</td>\n",
       "      <td>0.407926</td>\n",
       "      <td>1.000000</td>\n",
       "    </tr>\n",
       "  </tbody>\n",
       "</table>\n",
       "</div>"
      ],
      "text/plain": [
       "              critic_score  user_score  total_sales\n",
       "critic_score      1.000000    0.763536     0.370201\n",
       "user_score        0.763536    1.000000     0.407926\n",
       "total_sales       0.370201    0.407926     1.000000"
      ]
     },
     "execution_count": 52,
     "metadata": {},
     "output_type": "execute_result"
    }
   ],
   "source": [
    "columns = ['critic_score','user_score', 'total_sales']\n",
    "subset = actual_wiiu[columns]\n",
    "\n",
    "subset.corr()"
   ]
  },
  {
   "cell_type": "markdown",
   "metadata": {},
   "source": [
    "Для платформы WiiU почти нет зависимости от оценок критиков и пользователей. Явная зависимость оценок юзеров от критиков"
   ]
  },
  {
   "cell_type": "markdown",
   "metadata": {},
   "source": [
    "#### PC\n"
   ]
  },
  {
   "cell_type": "code",
   "execution_count": 53,
   "metadata": {},
   "outputs": [
    {
     "data": {
      "text/plain": [
       "<AxesSubplot:title={'center':'PC'}, xlabel='user_score', ylabel='total_sales'>"
      ]
     },
     "execution_count": 53,
     "metadata": {},
     "output_type": "execute_result"
    },
    {
     "data": {
      "image/png": "[encoded data removed]",
      "text/plain": [
       "<Figure size 432x288 with 1 Axes>"
      ]
     },
     "metadata": {
      "needs_background": "light"
     },
     "output_type": "display_data"
    }
   ],
   "source": [
    "actual_pc.plot(x='user_score', y='total_sales', kind='scatter', title='PC')"
   ]
  },
  {
   "cell_type": "code",
   "execution_count": 54,
   "metadata": {},
   "outputs": [
    {
     "data": {
      "text/html": [
       "<div>\n",
       "<style scoped>\n",
       "    .dataframe tbody tr th:only-of-type {\n",
       "        vertical-align: middle;\n",
       "    }\n",
       "\n",
       "    .dataframe tbody tr th {\n",
       "        vertical-align: top;\n",
       "    }\n",
       "\n",
       "    .dataframe thead th {\n",
       "        text-align: right;\n",
       "    }\n",
       "</style>\n",
       "<table border=\"1\" class=\"dataframe\">\n",
       "  <thead>\n",
       "    <tr style=\"text-align: right;\">\n",
       "      <th></th>\n",
       "      <th>critic_score</th>\n",
       "      <th>user_score</th>\n",
       "      <th>total_sales</th>\n",
       "    </tr>\n",
       "  </thead>\n",
       "  <tbody>\n",
       "    <tr>\n",
       "      <th>critic_score</th>\n",
       "      <td>1.000000</td>\n",
       "      <td>0.466099</td>\n",
       "      <td>0.174634</td>\n",
       "    </tr>\n",
       "    <tr>\n",
       "      <th>user_score</th>\n",
       "      <td>0.466099</td>\n",
       "      <td>1.000000</td>\n",
       "      <td>-0.071597</td>\n",
       "    </tr>\n",
       "    <tr>\n",
       "      <th>total_sales</th>\n",
       "      <td>0.174634</td>\n",
       "      <td>-0.071597</td>\n",
       "      <td>1.000000</td>\n",
       "    </tr>\n",
       "  </tbody>\n",
       "</table>\n",
       "</div>"
      ],
      "text/plain": [
       "              critic_score  user_score  total_sales\n",
       "critic_score      1.000000    0.466099     0.174634\n",
       "user_score        0.466099    1.000000    -0.071597\n",
       "total_sales       0.174634   -0.071597     1.000000"
      ]
     },
     "execution_count": 54,
     "metadata": {},
     "output_type": "execute_result"
    }
   ],
   "source": [
    "columns = ['critic_score','user_score', 'total_sales']\n",
    "subset = actual_pc[columns]\n",
    "\n",
    "subset.corr()"
   ]
  },
  {
   "cell_type": "markdown",
   "metadata": {},
   "source": [
    "Оценки критиков и пользователей не влияют на продажи, а отзывы критиков почти не имеют влияния на юзеров."
   ]
  },
  {
   "cell_type": "markdown",
   "metadata": {},
   "source": [
    "#### 3DS\n"
   ]
  },
  {
   "cell_type": "code",
   "execution_count": 55,
   "metadata": {},
   "outputs": [
    {
     "data": {
      "text/plain": [
       "<AxesSubplot:title={'center':'3DS'}, xlabel='user_score', ylabel='total_sales'>"
      ]
     },
     "execution_count": 55,
     "metadata": {},
     "output_type": "execute_result"
    },
    {
     "data": {
      "image/png": "[encoded data removed]",
      "text/plain": [
       "<Figure size 432x288 with 1 Axes>"
      ]
     },
     "metadata": {
      "needs_background": "light"
     },
     "output_type": "display_data"
    }
   ],
   "source": [
    "actual_3ds.plot(x='user_score', y='total_sales', kind='scatter', title='3DS')"
   ]
  },
  {
   "cell_type": "code",
   "execution_count": 56,
   "metadata": {},
   "outputs": [
    {
     "data": {
      "text/html": [
       "<div>\n",
       "<style scoped>\n",
       "    .dataframe tbody tr th:only-of-type {\n",
       "        vertical-align: middle;\n",
       "    }\n",
       "\n",
       "    .dataframe tbody tr th {\n",
       "        vertical-align: top;\n",
       "    }\n",
       "\n",
       "    .dataframe thead th {\n",
       "        text-align: right;\n",
       "    }\n",
       "</style>\n",
       "<table border=\"1\" class=\"dataframe\">\n",
       "  <thead>\n",
       "    <tr style=\"text-align: right;\">\n",
       "      <th></th>\n",
       "      <th>critic_score</th>\n",
       "      <th>user_score</th>\n",
       "      <th>total_sales</th>\n",
       "    </tr>\n",
       "  </thead>\n",
       "  <tbody>\n",
       "    <tr>\n",
       "      <th>critic_score</th>\n",
       "      <td>1.000000</td>\n",
       "      <td>0.862485</td>\n",
       "      <td>0.314117</td>\n",
       "    </tr>\n",
       "    <tr>\n",
       "      <th>user_score</th>\n",
       "      <td>0.862485</td>\n",
       "      <td>1.000000</td>\n",
       "      <td>0.215193</td>\n",
       "    </tr>\n",
       "    <tr>\n",
       "      <th>total_sales</th>\n",
       "      <td>0.314117</td>\n",
       "      <td>0.215193</td>\n",
       "      <td>1.000000</td>\n",
       "    </tr>\n",
       "  </tbody>\n",
       "</table>\n",
       "</div>"
      ],
      "text/plain": [
       "              critic_score  user_score  total_sales\n",
       "critic_score      1.000000    0.862485     0.314117\n",
       "user_score        0.862485    1.000000     0.215193\n",
       "total_sales       0.314117    0.215193     1.000000"
      ]
     },
     "execution_count": 56,
     "metadata": {},
     "output_type": "execute_result"
    }
   ],
   "source": [
    "columns = ['critic_score','user_score', 'total_sales']\n",
    "subset = actual_3ds[columns]\n",
    "\n",
    "subset.corr()"
   ]
  },
  {
   "cell_type": "markdown",
   "metadata": {},
   "source": [
    "Оценки критиков и пользователей имеют совсем мизерное взияние на продажи игр. Явная зависимость оценок юзеров от критиков"
   ]
  },
  {
   "cell_type": "markdown",
   "metadata": {},
   "source": [
    "#### Общий вывод по продажам\n",
    "\n",
    "Зависимости от оценок пользователей для всех выбраных платформ почти нет.\n",
    "\n",
    "Зависимость от оценок критиков просматривается чуть сильнее, но она почти не влияет на продажи.\n",
    "\n",
    "Средняя зависисмость оценок критиков и пользователей для этих платформ, за выбранный период. Только для 3ds есть влияние\n",
    "\n",
    "\n",
    "### Популярность жанров\n",
    "Выведем общий график продаж по жанрам"
   ]
  },
  {
   "cell_type": "code",
   "execution_count": 57,
   "metadata": {},
   "outputs": [
    {
     "data": {
      "text/plain": [
       "<AxesSubplot:ylabel='total_sales'>"
      ]
     },
     "execution_count": 57,
     "metadata": {},
     "output_type": "execute_result"
    },
    {
     "data": {
      "image/png": "[encoded data removed]",
      "text/plain": [
       "<Figure size 720x720 with 1 Axes>"
      ]
     },
     "metadata": {},
     "output_type": "display_data"
    }
   ],
   "source": [
    "actual_data_top.pivot_table(index = 'genre'\n",
    "                            , values = 'total_sales'\n",
    "                            , aggfunc = 'sum', ).sort_values(ascending=False, \n",
    "                                                           by = 'total_sales').plot(kind='pie',\n",
    "                                                                                    figsize=(10,10), \n",
    "                                                                                    y= 'total_sales',  \n",
    "                                                                                    autopct='%1.0f%%',\n",
    "                                                                                    colormap = plt.cm.rainbow)\n"
   ]
  },
  {
   "cell_type": "markdown",
   "metadata": {},
   "source": [
    "Мы видим 4 явных лидера - Action, Shooter, Sports, Role-Playing. Я бы сказала, что Action и Shooter - это довольно обобщенные категории, поэтому они настолько многочисленные. Сейчас на маркетплейсах добавляются много разных жанров на одну и ту же игру, т.к часто нельзя ее идентифицировать по одному жанру. Но я не могу отрицать, что эти жанры встречаются чаще всего в таких списках.\n",
    "\n",
    "По малопродаваемым жанрам у нас получилось, что это Puzzle, Strategy, Simulation.\n",
    "\n",
    "Посмотрим еще на средние и медианные значения "
   ]
  },
  {
   "cell_type": "code",
   "execution_count": 58,
   "metadata": {},
   "outputs": [
    {
     "data": {
      "text/plain": [
       "(0.0, 3.0)"
      ]
     },
     "execution_count": 58,
     "metadata": {},
     "output_type": "execute_result"
    },
    {
     "data": {
      "image/png": "[encoded data removed]",
      "text/plain": [
       "<Figure size 1080x720 with 1 Axes>"
      ]
     },
     "metadata": {
      "needs_background": "light"
     },
     "output_type": "display_data"
    }
   ],
   "source": [
    "actual_data_top.boxplot(by='genre', column='total_sales', figsize=(15,10)).set_ylim(0,3)"
   ]
  },
  {
   "cell_type": "code",
   "execution_count": 59,
   "metadata": {},
   "outputs": [
    {
     "data": {
      "text/plain": [
       "genre\n",
       "Shooter         0.515\n",
       "Sports          0.180\n",
       "Platform        0.140\n",
       "Fighting        0.125\n",
       "Role-Playing    0.110\n",
       "Simulation      0.100\n",
       "Action          0.090\n",
       "Racing          0.090\n",
       "Misc            0.085\n",
       "Strategy        0.060\n",
       "Puzzle          0.045\n",
       "Adventure       0.030\n",
       "Name: total_sales, dtype: float64"
      ]
     },
     "execution_count": 59,
     "metadata": {},
     "output_type": "execute_result"
    }
   ],
   "source": [
    "actual_data_top.groupby('genre').median()['total_sales'].sort_values(ascending=False)"
   ]
  },
  {
   "cell_type": "markdown",
   "metadata": {},
   "source": [
    "Мы видим, что медианные значения подтвердили хорошие продажи Shooter'ов, а далее идут Sports, Platform. Посмотрим еще мредние значения.                    "
   ]
  },
  {
   "cell_type": "code",
   "execution_count": 60,
   "metadata": {},
   "outputs": [
    {
     "data": {
      "text/plain": [
       "genre\n",
       "Shooter         1.335469\n",
       "Sports          0.680750\n",
       "Platform        0.476053\n",
       "Fighting        0.470333\n",
       "Role-Playing    0.459005\n",
       "Racing          0.398841\n",
       "Action          0.323279\n",
       "Misc            0.312818\n",
       "Simulation      0.298409\n",
       "Puzzle          0.157857\n",
       "Strategy        0.107027\n",
       "Adventure       0.094402\n",
       "Name: total_sales, dtype: float64"
      ]
     },
     "execution_count": 60,
     "metadata": {},
     "output_type": "execute_result"
    }
   ],
   "source": [
    "actual_data_top.groupby('genre').mean()['total_sales'].sort_values(ascending=False)"
   ]
  },
  {
   "cell_type": "markdown",
   "metadata": {},
   "source": [
    "Средние значения нам показали аналогичные топ-3, как и в медиане"
   ]
  },
  {
   "cell_type": "markdown",
   "metadata": {},
   "source": [
    "### Общий вывод по пункту Исследовательский анализ данных\n",
    "\n",
    "Мы выяснили следующее:\n",
    "\n",
    " - До 1994 года игры продавались не очень хорошо, далее в период 1995-2012 был стабильный рост интереса к играм, а уже после 2012 года случился спад в продажах.\n",
    " \n",
    " - Выделили топ 5 консолей, которые показали хорошие продажи по всему миру - PS2, X360, PS3, Wii, DS. Для некоторых нашли аномалии и удалили.\n",
    " \n",
    " - За актуальный период с 2014 мы выделили следующие прибыльные платформы - PS4, XOne, WiiU, PC, 3DS\n",
    " \n",
    " - Выяснили, что продажи почти не имеют зависимости от оценок критиков и совсем не зависят от оценок пользователей. Между собой оценки пользователей и критиков имеют среднюю зависимость.\n",
    " \n",
    " - Лидеры по жанрам продаж - это Action, Shooter, Sports, Role-Playing, а аутсайдеры - Puzzle, Strategy, Simulation\n",
    " \n",
    " - По средним и медианым значениям выгодными популярными жанрами являются Shooter, Sports, Platform\n",
    " \n",
    "## Портрет пользователя каждого региона\n",
    "\n",
    "### Популярные платформы (топ-5) для NA, EU, JP \n",
    "\n",
    "#### Платформы NA"
   ]
  },
  {
   "cell_type": "code",
   "execution_count": 61,
   "metadata": {},
   "outputs": [
    {
     "data": {
      "text/plain": [
       "<AxesSubplot:xlabel='platform'>"
      ]
     },
     "execution_count": 61,
     "metadata": {},
     "output_type": "execute_result"
    },
    {
     "data": {
      "image/png": "[encoded data removed]",
      "text/plain": [
       "<Figure size 1080x360 with 1 Axes>"
      ]
     },
     "metadata": {
      "needs_background": "light"
     },
     "output_type": "display_data"
    }
   ],
   "source": [
    "actual_data_top.pivot_table(index = 'platform'\n",
    "                            , values = 'na_sales'\n",
    "                            , aggfunc = 'sum').sort_values(ascending=False,\n",
    "                                                           by = 'na_sales').plot(kind = 'bar', figsize=(15,5))"
   ]
  },
  {
   "cell_type": "markdown",
   "metadata": {},
   "source": [
    "Мы видим, что для Американского рынка лидируют новые конcоли - это PS4 и XOne, им немного уступают, но держатся в топе X360, 3DS, PS3. Остальное малопопулярно\n",
    "\n",
    "#### Платформы EU"
   ]
  },
  {
   "cell_type": "code",
   "execution_count": 62,
   "metadata": {},
   "outputs": [
    {
     "data": {
      "text/plain": [
       "<AxesSubplot:xlabel='platform'>"
      ]
     },
     "execution_count": 62,
     "metadata": {},
     "output_type": "execute_result"
    },
    {
     "data": {
      "image/png": "[encoded data removed]",
      "text/plain": [
       "<Figure size 1080x360 with 1 Axes>"
      ]
     },
     "metadata": {
      "needs_background": "light"
     },
     "output_type": "display_data"
    }
   ],
   "source": [
    "actual_data_top.pivot_table(index = 'platform'\n",
    "                            , values = 'eu_sales'\n",
    "                            , aggfunc = 'sum').sort_values(ascending=False,\n",
    "                                                           by = 'eu_sales').plot(kind = 'bar', figsize=(15,5))"
   ]
  },
  {
   "cell_type": "markdown",
   "metadata": {},
   "source": [
    "Для Европейского рынка сохраняется тенденция популярности PS4 и XOne, но для второй консоли видна сильная просадка. PS3, PC, 3DS занимают остальные 3 позиции в топе. \n",
    "\n",
    "#### Платформы JP"
   ]
  },
  {
   "cell_type": "code",
   "execution_count": 63,
   "metadata": {},
   "outputs": [
    {
     "data": {
      "text/plain": [
       "<AxesSubplot:xlabel='platform'>"
      ]
     },
     "execution_count": 63,
     "metadata": {},
     "output_type": "execute_result"
    },
    {
     "data": {
      "image/png": "[encoded data removed]",
      "text/plain": [
       "<Figure size 1080x360 with 1 Axes>"
      ]
     },
     "metadata": {
      "needs_background": "light"
     },
     "output_type": "display_data"
    }
   ],
   "source": [
    "actual_data_top.pivot_table(index = 'platform'\n",
    "                            , values = 'jp_sales'\n",
    "                            , aggfunc = 'sum').sort_values(ascending=False,\n",
    "                                                           by = 'jp_sales').plot(kind = 'bar', figsize=(15,5))"
   ]
  },
  {
   "cell_type": "markdown",
   "metadata": {},
   "source": [
    "На японском рынке отдают предпочтение консолям своего производства. В топ попали 3DS, PS4, PSV, PS3, WiiU, из них 2 являются портативными консолями. Скорее всего их популярность обусловлена тем, что там ритм жизни очень отличается от размеренных темпов Америки и Европы, и, если ты хочешь поиграть, то это можно сделать в дороге, например. \n",
    "\n",
    "### Популярные жанры (топ-5) для NA, EU, JP \n",
    "\n",
    "#### Жанры NA\n",
    "Выведем актуальные данные для Американского рынка"
   ]
  },
  {
   "cell_type": "code",
   "execution_count": 64,
   "metadata": {},
   "outputs": [
    {
     "data": {
      "text/html": [
       "<div>\n",
       "<style scoped>\n",
       "    .dataframe tbody tr th:only-of-type {\n",
       "        vertical-align: middle;\n",
       "    }\n",
       "\n",
       "    .dataframe tbody tr th {\n",
       "        vertical-align: top;\n",
       "    }\n",
       "\n",
       "    .dataframe thead th {\n",
       "        text-align: right;\n",
       "    }\n",
       "</style>\n",
       "<table border=\"1\" class=\"dataframe\">\n",
       "  <thead>\n",
       "    <tr style=\"text-align: right;\">\n",
       "      <th></th>\n",
       "      <th>na_sales</th>\n",
       "    </tr>\n",
       "    <tr>\n",
       "      <th>genre</th>\n",
       "      <th></th>\n",
       "    </tr>\n",
       "  </thead>\n",
       "  <tbody>\n",
       "    <tr>\n",
       "      <th>Shooter</th>\n",
       "      <td>79.02</td>\n",
       "    </tr>\n",
       "    <tr>\n",
       "      <th>Action</th>\n",
       "      <td>72.10</td>\n",
       "    </tr>\n",
       "    <tr>\n",
       "      <th>Sports</th>\n",
       "      <td>45.98</td>\n",
       "    </tr>\n",
       "    <tr>\n",
       "      <th>Role-Playing</th>\n",
       "      <td>33.47</td>\n",
       "    </tr>\n",
       "    <tr>\n",
       "      <th>Misc</th>\n",
       "      <td>13.59</td>\n",
       "    </tr>\n",
       "    <tr>\n",
       "      <th>Fighting</th>\n",
       "      <td>12.43</td>\n",
       "    </tr>\n",
       "    <tr>\n",
       "      <th>Racing</th>\n",
       "      <td>8.74</td>\n",
       "    </tr>\n",
       "    <tr>\n",
       "      <th>Platform</th>\n",
       "      <td>6.79</td>\n",
       "    </tr>\n",
       "    <tr>\n",
       "      <th>Adventure</th>\n",
       "      <td>5.60</td>\n",
       "    </tr>\n",
       "    <tr>\n",
       "      <th>Simulation</th>\n",
       "      <td>2.63</td>\n",
       "    </tr>\n",
       "    <tr>\n",
       "      <th>Strategy</th>\n",
       "      <td>0.98</td>\n",
       "    </tr>\n",
       "    <tr>\n",
       "      <th>Puzzle</th>\n",
       "      <td>0.65</td>\n",
       "    </tr>\n",
       "  </tbody>\n",
       "</table>\n",
       "</div>"
      ],
      "text/plain": [
       "              na_sales\n",
       "genre                 \n",
       "Shooter          79.02\n",
       "Action           72.10\n",
       "Sports           45.98\n",
       "Role-Playing     33.47\n",
       "Misc             13.59\n",
       "Fighting         12.43\n",
       "Racing            8.74\n",
       "Platform          6.79\n",
       "Adventure         5.60\n",
       "Simulation        2.63\n",
       "Strategy          0.98\n",
       "Puzzle            0.65"
      ]
     },
     "execution_count": 64,
     "metadata": {},
     "output_type": "execute_result"
    }
   ],
   "source": [
    "actual_data_top.pivot_table(index = 'genre', \n",
    "                            values = 'na_sales', \n",
    "                            aggfunc = 'sum').sort_values(ascending=False, \n",
    "                                                         by = 'na_sales')"
   ]
  },
  {
   "cell_type": "markdown",
   "metadata": {},
   "source": [
    "В топ-5 попадают Shooter, Action, Sports, Role-Playing, Misc. Причем Shooter и Action идут почти на ровне.\n",
    "\n",
    "#### Жанры EU\n",
    "Выведем актуальные данные для Европейского рынка"
   ]
  },
  {
   "cell_type": "code",
   "execution_count": 65,
   "metadata": {},
   "outputs": [
    {
     "data": {
      "text/html": [
       "<div>\n",
       "<style scoped>\n",
       "    .dataframe tbody tr th:only-of-type {\n",
       "        vertical-align: middle;\n",
       "    }\n",
       "\n",
       "    .dataframe tbody tr th {\n",
       "        vertical-align: top;\n",
       "    }\n",
       "\n",
       "    .dataframe thead th {\n",
       "        text-align: right;\n",
       "    }\n",
       "</style>\n",
       "<table border=\"1\" class=\"dataframe\">\n",
       "  <thead>\n",
       "    <tr style=\"text-align: right;\">\n",
       "      <th></th>\n",
       "      <th>eu_sales</th>\n",
       "    </tr>\n",
       "    <tr>\n",
       "      <th>genre</th>\n",
       "      <th></th>\n",
       "    </tr>\n",
       "  </thead>\n",
       "  <tbody>\n",
       "    <tr>\n",
       "      <th>Action</th>\n",
       "      <td>74.01</td>\n",
       "    </tr>\n",
       "    <tr>\n",
       "      <th>Shooter</th>\n",
       "      <td>65.52</td>\n",
       "    </tr>\n",
       "    <tr>\n",
       "      <th>Sports</th>\n",
       "      <td>45.36</td>\n",
       "    </tr>\n",
       "    <tr>\n",
       "      <th>Role-Playing</th>\n",
       "      <td>28.17</td>\n",
       "    </tr>\n",
       "    <tr>\n",
       "      <th>Racing</th>\n",
       "      <td>14.13</td>\n",
       "    </tr>\n",
       "    <tr>\n",
       "      <th>Misc</th>\n",
       "      <td>11.44</td>\n",
       "    </tr>\n",
       "    <tr>\n",
       "      <th>Simulation</th>\n",
       "      <td>7.30</td>\n",
       "    </tr>\n",
       "    <tr>\n",
       "      <th>Platform</th>\n",
       "      <td>6.80</td>\n",
       "    </tr>\n",
       "    <tr>\n",
       "      <th>Fighting</th>\n",
       "      <td>6.69</td>\n",
       "    </tr>\n",
       "    <tr>\n",
       "      <th>Adventure</th>\n",
       "      <td>6.36</td>\n",
       "    </tr>\n",
       "    <tr>\n",
       "      <th>Strategy</th>\n",
       "      <td>1.79</td>\n",
       "    </tr>\n",
       "    <tr>\n",
       "      <th>Puzzle</th>\n",
       "      <td>0.52</td>\n",
       "    </tr>\n",
       "  </tbody>\n",
       "</table>\n",
       "</div>"
      ],
      "text/plain": [
       "              eu_sales\n",
       "genre                 \n",
       "Action           74.01\n",
       "Shooter          65.52\n",
       "Sports           45.36\n",
       "Role-Playing     28.17\n",
       "Racing           14.13\n",
       "Misc             11.44\n",
       "Simulation        7.30\n",
       "Platform          6.80\n",
       "Fighting          6.69\n",
       "Adventure         6.36\n",
       "Strategy          1.79\n",
       "Puzzle            0.52"
      ]
     },
     "execution_count": 65,
     "metadata": {},
     "output_type": "execute_result"
    }
   ],
   "source": [
    "actual_data_top.pivot_table(index = 'genre', \n",
    "                            values = 'eu_sales', \n",
    "                            aggfunc = 'sum').sort_values(ascending=False, \n",
    "                                                         by = 'eu_sales')"
   ]
  },
  {
   "cell_type": "markdown",
   "metadata": {},
   "source": [
    "Тут примерно похожая картина -  Action, Shooter, Sports, Role-Playing, Racing. Но, если сравнивать рынки, то Misc в Европе уступает по популярности, зато жанр Racing более популярен\n",
    "\n",
    "#### Жанры JP\n",
    "Выведем актуальные данные для Японского рынка"
   ]
  },
  {
   "cell_type": "code",
   "execution_count": 66,
   "metadata": {},
   "outputs": [
    {
     "data": {
      "text/html": [
       "<div>\n",
       "<style scoped>\n",
       "    .dataframe tbody tr th:only-of-type {\n",
       "        vertical-align: middle;\n",
       "    }\n",
       "\n",
       "    .dataframe tbody tr th {\n",
       "        vertical-align: top;\n",
       "    }\n",
       "\n",
       "    .dataframe thead th {\n",
       "        text-align: right;\n",
       "    }\n",
       "</style>\n",
       "<table border=\"1\" class=\"dataframe\">\n",
       "  <thead>\n",
       "    <tr style=\"text-align: right;\">\n",
       "      <th></th>\n",
       "      <th>jp_sales</th>\n",
       "    </tr>\n",
       "    <tr>\n",
       "      <th>genre</th>\n",
       "      <th></th>\n",
       "    </tr>\n",
       "  </thead>\n",
       "  <tbody>\n",
       "    <tr>\n",
       "      <th>Role-Playing</th>\n",
       "      <td>31.16</td>\n",
       "    </tr>\n",
       "    <tr>\n",
       "      <th>Action</th>\n",
       "      <td>29.58</td>\n",
       "    </tr>\n",
       "    <tr>\n",
       "      <th>Fighting</th>\n",
       "      <td>6.37</td>\n",
       "    </tr>\n",
       "    <tr>\n",
       "      <th>Misc</th>\n",
       "      <td>5.61</td>\n",
       "    </tr>\n",
       "    <tr>\n",
       "      <th>Shooter</th>\n",
       "      <td>4.87</td>\n",
       "    </tr>\n",
       "    <tr>\n",
       "      <th>Adventure</th>\n",
       "      <td>3.60</td>\n",
       "    </tr>\n",
       "    <tr>\n",
       "      <th>Sports</th>\n",
       "      <td>3.26</td>\n",
       "    </tr>\n",
       "    <tr>\n",
       "      <th>Platform</th>\n",
       "      <td>2.69</td>\n",
       "    </tr>\n",
       "    <tr>\n",
       "      <th>Simulation</th>\n",
       "      <td>2.31</td>\n",
       "    </tr>\n",
       "    <tr>\n",
       "      <th>Racing</th>\n",
       "      <td>1.76</td>\n",
       "    </tr>\n",
       "    <tr>\n",
       "      <th>Strategy</th>\n",
       "      <td>0.95</td>\n",
       "    </tr>\n",
       "    <tr>\n",
       "      <th>Puzzle</th>\n",
       "      <td>0.93</td>\n",
       "    </tr>\n",
       "  </tbody>\n",
       "</table>\n",
       "</div>"
      ],
      "text/plain": [
       "              jp_sales\n",
       "genre                 \n",
       "Role-Playing     31.16\n",
       "Action           29.58\n",
       "Fighting          6.37\n",
       "Misc              5.61\n",
       "Shooter           4.87\n",
       "Adventure         3.60\n",
       "Sports            3.26\n",
       "Platform          2.69\n",
       "Simulation        2.31\n",
       "Racing            1.76\n",
       "Strategy          0.95\n",
       "Puzzle            0.93"
      ]
     },
     "execution_count": 66,
     "metadata": {},
     "output_type": "execute_result"
    }
   ],
   "source": [
    "actual_data_top.pivot_table(index = 'genre', \n",
    "                            values = 'jp_sales', \n",
    "                            aggfunc = 'sum').sort_values(ascending=False, \n",
    "                                                         by = 'jp_sales')"
   ]
  },
  {
   "cell_type": "markdown",
   "metadata": {},
   "source": [
    "Японский рынок всегда имел свои особенности, так и получилось тут. Популярные жанры - Role-Playing, Action, Fighting, Misc, Shooter. В топ ворвались Role-Playing и Fighting. Данные игры довольно хорошо всегда продавались на японском рынке и зачастую некоторые серии игр создавались именно для этого рынка.\n",
    "\n",
    "### Влияние рейтинга ESRB на продажи по регионам\n",
    "Построим график для сравнения сразу на всех рынках"
   ]
  },
  {
   "cell_type": "code",
   "execution_count": 67,
   "metadata": {
    "scrolled": true
   },
   "outputs": [
    {
     "data": {
      "text/plain": [
       "<AxesSubplot:>"
      ]
     },
     "execution_count": 67,
     "metadata": {},
     "output_type": "execute_result"
    },
    {
     "data": {
      "image/png": "[encoded data removed]",
      "text/plain": [
       "<Figure size 720x576 with 1 Axes>"
      ]
     },
     "metadata": {
      "needs_background": "light"
     },
     "output_type": "display_data"
    }
   ],
   "source": [
    "na_ratings_top = actual_data_top.groupby('rating').sum().na_sales\n",
    "na_ratings_top \n",
    "\n",
    "eu_ratings_top =  actual_data_top.groupby('rating').sum().eu_sales\n",
    "eu_ratings_top\n",
    "\n",
    "jp_ratings_top = actual_data_top.groupby('rating').sum().jp_sales\n",
    "jp_ratings_top\n",
    "\n",
    "data_to_plot = pd.DataFrame([na_ratings_top, eu_ratings_top, jp_ratings_top])\n",
    "data_to_plot.plot(kind='bar', figsize=(10,8))"
   ]
  },
  {
   "cell_type": "markdown",
   "metadata": {},
   "source": [
    "У нас осталась актуальная градация рейтингов и отфильтровались старые. Расшифровка:\n",
    "\n",
    "«E» («Everyone») — «Для всех»:\n",
    "\n",
    "«E10+» («Everyone 10 and older») — «Для всех старше 10 лет»\n",
    "\n",
    "«M» («Mature») — «От 17 лет»\n",
    "\n",
    "«T» («Teen») — «Подросткам 13—19 лет»\n",
    "\n",
    "\n",
    "\n",
    "Графики показывают, что для Американского рынка:\n",
    " - преобладают игры рейтинг которых от 17 лет\n",
    " - малопопулярны игры от 10 и старше\n",
    " \n",
    "для Европейского рынка примерно аналогичная ситуация:\n",
    " - преобладают игры рейтинг которых от 17 лет\n",
    " - малопопулярны игры от 10 и старше\n",
    " \n",
    "для Японского рынка:\n",
    " - преобладают игры для которых рейтинг Не определен\n",
    " - малопопулярны игры от 10 и старше\n",
    " \n",
    "### Общий вывод по пункту Портрет пользователя каждого региона\n",
    "\n",
    "Подытожим по рынкам, начнем с Американского.\n",
    "\n",
    "Если ориентироваться на этот рынок,то успешными будут игры на консоли PS4 и XOne, игры приоритетные в жанрах Shooter, Action, Sports, либо с рейтингом M(От 17 лет).\n",
    "\n",
    "Европейский рынок\n",
    "\n",
    "Для европейских пользователей характерно выбирать игры для PS4 и XOne, в жанрах предпочтение Action, Shooter, Sports, а в рейтингах популярны игры M(От 17 лет).\n",
    "\n",
    "Японский рынок\n",
    "\n",
    "Он всегда отличался по своим предпочтения, а именно - консоли 3DS, PS4, PSV(2 из них портативные), любимые жанры Role-Playing, Action, Fighting, а рейтинг оказаля Не определен. Это могу связать с тем, что в выгрузке, возможно могли не учесть, что у них есть своя система оценки возрастного рейтинга.\n",
    " \n",
    "## Проверка гипотез\n",
    "### Средние пользовательские рейтинги платформ Xbox One и PC одинаковые\n",
    "\n",
    "Нулевая гипотеза H₀:\n",
    "\n",
    "Средние пользовательские рейтинги платформ XOne и PC одинаковые\n",
    "\n",
    "Альтернативная гипотеза H₁:\n",
    "\n",
    "Средние пользовательские рейтинги платформ XOne и PC не равны"
   ]
  },
  {
   "cell_type": "code",
   "execution_count": 68,
   "metadata": {},
   "outputs": [
    {
     "name": "stdout",
     "output_type": "stream",
     "text": [
      "Не можем отклонить нулевую гипотезу\n"
     ]
    }
   ],
   "source": [
    "alpha = 0.01\n",
    "\n",
    "a = actual_data_top.loc[actual_data_top['platform']=='XOne'].user_score.dropna().values\n",
    "b = actual_data_top.loc[actual_data_top['platform']=='PC'].user_score.dropna().values\n",
    "\n",
    "if st.ttest_ind(a,b).pvalue>alpha:\n",
    "    print('Не можем отклонить нулевую гипотезу')\n",
    "else:\n",
    "    print('Отклоняем нулевую гипотезу')\n",
    "   "
   ]
  },
  {
   "cell_type": "markdown",
   "metadata": {},
   "source": [
    "Соответственно, высока вероятность того, что рейтинги платформ XOne и PC одинаковые\n",
    "\n",
    "### Средние пользовательские рейтинги жанров Action и Sports разные\n",
    "\n",
    "Нулевая гипотеза H₀:\n",
    "\n",
    "Средние пользовательские рейтинги жанров Action и Sports одинаковые\n",
    "\n",
    "Альтернативная гипотеза H₁:\n",
    "\n",
    "Средние пользовательские рейтинги жанров Action и Sports разные"
   ]
  },
  {
   "cell_type": "code",
   "execution_count": 69,
   "metadata": {},
   "outputs": [
    {
     "name": "stdout",
     "output_type": "stream",
     "text": [
      "Отклоняем нулевую гипотезу\n"
     ]
    }
   ],
   "source": [
    "alpha = 0.01\n",
    "\n",
    "a = actual_data_top.loc[actual_data_top['genre']=='Action'].user_score.dropna().values\n",
    "b = actual_data_top.loc[actual_data_top['genre']=='Sports'].user_score.dropna().values\n",
    "\n",
    "if st.ttest_ind(a,b,equal_var=False).pvalue>alpha:\n",
    "    print('Не можем отклонить нулевую гипотезу')\n",
    "else:\n",
    "    print('Отклоняем нулевую гипотезу')\n",
    " "
   ]
  },
  {
   "cell_type": "markdown",
   "metadata": {},
   "source": [
    "Следовательно, высока вероятность того, что средние пользовательские рейтинги жанров Action и Sports разные.\n",
    "\n",
    "## Общий вывод\n",
    "\n",
    "Если говорить об успешности той или иной игры, то нужно учитывать:\n",
    "\n",
    "- На какой рынок она была ориентирована. Можно выделить Американско-европейский и отдельно специфический Японский\n",
    "\n",
    "- Мультиплатформенность может положительно сказаться для игр, которые будут ориентированны на PS4, XOne, если говорить о Американско-европейском рынке. Для Японского рынка нужно делать упор на портативные консоли и PS4.\n",
    "\n",
    "- Для жанров больше всего подходят популярные Action, Shooter, Sports, Role-Playing\n",
    "\n",
    "- Оценки критиков частично могут оказывать влияние на рекламу, но это не гарантирует огромных продаж.\n",
    "\n",
    "- Довольно распространенный рейтинг М(от 17 и выше) \n",
    "\n",
    "- Нужно следить за актуальностью консолей - средний срок жизни у них варьируется около 10 лет\n",
    "\n",
    "- Высока вероятность того, что пользовательские рейтинги платформ XOne и PC одинаковые\n",
    "\n",
    "- Высока вероятность того, что пользовательские рейтинги жанров Action и Sports разные\n"
   ]
  },
  {
   "cell_type": "markdown",
   "metadata": {},
   "source": [
    "<a id='result-1'></a>"
   ]
  },
  {
   "cell_type": "markdown",
   "metadata": {},
   "source": [
    "<a id='benefit'></a>"
   ]
  },
  {
   "cell_type": "markdown",
   "metadata": {},
   "source": [
    "<div style=\"border-radius: 15px; border: 3px solid black; padding: 15px;\">\n",
    "    \n",
    "   \n",
    "<b> Комментарий ревьюера для отличников 👑:</b> \n",
    "    \n",
    "Очень сильная работа! Видно, что вложено много труда, осознанность присутствует в каждой фразе и в каждом действии! Очень редко встречаются подобные проекты, которые хочется снова перечитать и ставить в пример остальным студентам! Надеюсь, что ты продолжишь использовать такой подход и после перенесёшь в работу, где, я уверен, у тебя всё получится! ⭐⭐⭐⭐⭐ \n",
    "    \n",
    "**P.s.** Такой комментарий я пишу крайне редко, если работа действительно произвела на меня впечатление         \n",
    "    \n",
    "</div>    "
   ]
  },
  {
   "cell_type": "markdown",
   "metadata": {},
   "source": [
    "<div style=\"border-radius: 15px; border: 3px solid black; padding: 15px;\">\n",
    "<b>Итог. Комментарий ревьюера V.2: </b>\n",
    "       \n",
    "Проект принят, поздравляю, было очень приятно с тобой поработать! Надеюсь, что смог помочь тебе сделать ещё один шаг на пути обучения, в котором желаю тебе удачи и больших успехов! **P.s.** Для меня важно получать обратную связь, чтобы постоянно развиваться и улучшать свой подход в работе, поэтому буду рад, если ты напишешь пару слов с пожеланиями/предложениями/замечаниями в отзыве о ревью (сделать это можно внизу страницы проекта в тренажёре)\n",
    "    \n",
    "</div> "
   ]
  },
  {
   "cell_type": "markdown",
   "metadata": {},
   "source": [
    "<div style=\"border-radius: 3px; border: 2px solid black; padding: 0px;\">     \n",
    "<div class=\"alert alert-success\">\n",
    "<b>Комментарий ревьюера V.2 ✔️:</b> \n",
    "   \n",
    "И небольшой подарок от меня в виде полезных ссылок, которые могут пригодиться в будущих исследованиях 😉 (от начального до продвинутого уровня (есть и на английском)):\n",
    "    \n",
    "* https://extremepresentation.typepad.com/.a/6a00d8341bfd2e53ef0111683a7591970c-pi - Схема для выбора визуализации в зависимости от задач;\n",
    "* https://habr.com/ru/post/521894/ - Формат таблиц в pandas с помощью style. В том числе цветовое выделение;\n",
    "* https://habr.com/ru/post/468295 - 50 оттенков matplotlib. С кодом и примерами;\n",
    "* https://www.litres.ru/aleksandr-bogachev/grafiki-kotorye-ubezhdaut-vseh/ - Книга о том, как строить графики, от подготовки данных до конкретных подписей;\n",
    "* https://datavizproject.com/ - Сайт, подробно представлюящий практически все типы визуализаций;\n",
    "* https://pandas.pydata.org/pandas-docs/stable/user_guide/style.html - Более сложные примеры по использованию style;\n",
    "* https://habr.com/ru/post/502958 - Шпаргалка по plotly. Набор опций с подробным описанием и примерами. С чего начать погружение в мир интерактивности и чем продолжить.\n",
    "    \n",
    "\n",
    "</div>\n",
    "</div>"
   ]
  }
 ],
 "metadata": {
  "ExecuteTimeLog": [
   {
    "duration": 1445,
    "start_time": "2022-11-24T18:36:55.033Z"
   },
   {
    "duration": 172,
    "start_time": "2022-11-24T18:38:19.546Z"
   },
   {
    "duration": 156,
    "start_time": "2022-11-24T18:39:00.530Z"
   },
   {
    "duration": 66,
    "start_time": "2022-11-24T18:39:12.996Z"
   },
   {
    "duration": 25,
    "start_time": "2022-11-24T18:49:04.165Z"
   },
   {
    "duration": 10,
    "start_time": "2022-11-24T18:52:56.336Z"
   },
   {
    "duration": 11,
    "start_time": "2022-11-24T18:53:05.532Z"
   },
   {
    "duration": 24,
    "start_time": "2022-11-24T18:53:14.991Z"
   },
   {
    "duration": 828,
    "start_time": "2022-11-24T18:55:30.439Z"
   },
   {
    "duration": 39,
    "start_time": "2022-11-24T19:00:07.011Z"
   },
   {
    "duration": 8,
    "start_time": "2022-11-24T19:17:10.552Z"
   },
   {
    "duration": 7,
    "start_time": "2022-11-24T19:19:29.949Z"
   },
   {
    "duration": 24,
    "start_time": "2022-11-24T19:23:10.763Z"
   },
   {
    "duration": 28,
    "start_time": "2022-11-24T19:23:17.131Z"
   },
   {
    "duration": 3,
    "start_time": "2022-11-24T19:31:59.174Z"
   },
   {
    "duration": 665,
    "start_time": "2022-11-24T19:32:01.677Z"
   },
   {
    "duration": 4,
    "start_time": "2022-11-24T19:32:27.184Z"
   },
   {
    "duration": 92,
    "start_time": "2022-11-24T19:32:27.190Z"
   },
   {
    "duration": 18,
    "start_time": "2022-11-24T19:32:27.284Z"
   },
   {
    "duration": 15,
    "start_time": "2022-11-24T19:32:27.304Z"
   },
   {
    "duration": 719,
    "start_time": "2022-11-24T19:32:27.321Z"
   },
   {
    "duration": 27,
    "start_time": "2022-11-24T19:32:28.042Z"
   },
   {
    "duration": 8,
    "start_time": "2022-11-24T19:32:28.070Z"
   },
   {
    "duration": 9,
    "start_time": "2022-11-24T19:32:28.096Z"
   },
   {
    "duration": 4,
    "start_time": "2022-11-24T19:32:53.522Z"
   },
   {
    "duration": 68,
    "start_time": "2022-11-24T19:32:53.529Z"
   },
   {
    "duration": 19,
    "start_time": "2022-11-24T19:32:53.599Z"
   },
   {
    "duration": 14,
    "start_time": "2022-11-24T19:32:53.620Z"
   },
   {
    "duration": 884,
    "start_time": "2022-11-24T19:32:53.636Z"
   },
   {
    "duration": 41,
    "start_time": "2022-11-24T19:32:54.522Z"
   },
   {
    "duration": 32,
    "start_time": "2022-11-24T19:32:54.565Z"
   },
   {
    "duration": 9,
    "start_time": "2022-11-24T19:32:54.599Z"
   },
   {
    "duration": 4,
    "start_time": "2022-11-24T19:40:13.952Z"
   },
   {
    "duration": 63,
    "start_time": "2022-11-24T19:40:13.958Z"
   },
   {
    "duration": 19,
    "start_time": "2022-11-24T19:40:14.022Z"
   },
   {
    "duration": 15,
    "start_time": "2022-11-24T19:40:14.043Z"
   },
   {
    "duration": 739,
    "start_time": "2022-11-24T19:40:14.060Z"
   },
   {
    "duration": 28,
    "start_time": "2022-11-24T19:40:14.800Z"
   },
   {
    "duration": 3,
    "start_time": "2022-11-24T19:40:14.829Z"
   },
   {
    "duration": 860,
    "start_time": "2022-11-24T19:40:14.833Z"
   },
   {
    "duration": 0,
    "start_time": "2022-11-24T19:40:15.694Z"
   },
   {
    "duration": 10,
    "start_time": "2022-11-24T19:40:30.944Z"
   },
   {
    "duration": 7,
    "start_time": "2022-11-24T19:40:50.921Z"
   },
   {
    "duration": 9,
    "start_time": "2022-11-24T19:40:53.841Z"
   },
   {
    "duration": 7,
    "start_time": "2022-11-24T19:41:01.458Z"
   },
   {
    "duration": 11,
    "start_time": "2022-11-24T19:42:11.717Z"
   },
   {
    "duration": 18,
    "start_time": "2022-11-24T19:45:48.128Z"
   },
   {
    "duration": 68,
    "start_time": "2022-11-24T20:48:44.550Z"
   },
   {
    "duration": 25,
    "start_time": "2022-11-24T20:51:27.236Z"
   },
   {
    "duration": 11,
    "start_time": "2022-11-24T20:53:54.595Z"
   },
   {
    "duration": 17,
    "start_time": "2022-11-24T20:54:04.364Z"
   },
   {
    "duration": 18,
    "start_time": "2022-11-24T20:54:24.437Z"
   },
   {
    "duration": 23,
    "start_time": "2022-11-24T20:54:57.927Z"
   },
   {
    "duration": 15,
    "start_time": "2022-11-24T20:55:32.169Z"
   },
   {
    "duration": 13,
    "start_time": "2022-11-24T20:55:47.611Z"
   },
   {
    "duration": 13,
    "start_time": "2022-11-24T20:56:07.418Z"
   },
   {
    "duration": 13,
    "start_time": "2022-11-24T20:56:24.523Z"
   },
   {
    "duration": 13,
    "start_time": "2022-11-24T20:56:39.380Z"
   },
   {
    "duration": 19,
    "start_time": "2022-11-24T20:58:47.121Z"
   },
   {
    "duration": 12,
    "start_time": "2022-11-24T20:59:00.019Z"
   },
   {
    "duration": 17,
    "start_time": "2022-11-24T20:59:09.539Z"
   },
   {
    "duration": 58,
    "start_time": "2022-11-25T22:02:29.595Z"
   },
   {
    "duration": 1310,
    "start_time": "2022-11-25T22:02:36.120Z"
   },
   {
    "duration": 214,
    "start_time": "2022-11-25T22:02:37.433Z"
   },
   {
    "duration": 19,
    "start_time": "2022-11-25T22:02:37.648Z"
   },
   {
    "duration": 20,
    "start_time": "2022-11-25T22:02:37.669Z"
   },
   {
    "duration": 726,
    "start_time": "2022-11-25T22:02:37.690Z"
   },
   {
    "duration": 29,
    "start_time": "2022-11-25T22:02:38.418Z"
   },
   {
    "duration": 3,
    "start_time": "2022-11-25T22:02:38.448Z"
   },
   {
    "duration": 9,
    "start_time": "2022-11-25T22:02:38.453Z"
   },
   {
    "duration": 18,
    "start_time": "2022-11-25T22:02:38.464Z"
   },
   {
    "duration": 58,
    "start_time": "2022-11-25T22:02:38.484Z"
   },
   {
    "duration": 9,
    "start_time": "2022-11-25T22:02:38.544Z"
   },
   {
    "duration": 11,
    "start_time": "2022-11-25T22:02:38.555Z"
   },
   {
    "duration": 22,
    "start_time": "2022-11-25T22:02:43.945Z"
   },
   {
    "duration": 72,
    "start_time": "2022-11-25T22:03:47.317Z"
   },
   {
    "duration": 24,
    "start_time": "2022-11-25T22:04:02.260Z"
   },
   {
    "duration": 3,
    "start_time": "2022-11-25T22:19:48.445Z"
   },
   {
    "duration": 69,
    "start_time": "2022-11-25T22:19:48.450Z"
   },
   {
    "duration": 18,
    "start_time": "2022-11-25T22:19:48.520Z"
   },
   {
    "duration": 14,
    "start_time": "2022-11-25T22:19:48.540Z"
   },
   {
    "duration": 788,
    "start_time": "2022-11-25T22:19:48.555Z"
   },
   {
    "duration": 28,
    "start_time": "2022-11-25T22:19:49.344Z"
   },
   {
    "duration": 3,
    "start_time": "2022-11-25T22:19:49.373Z"
   },
   {
    "duration": 12,
    "start_time": "2022-11-25T22:19:49.378Z"
   },
   {
    "duration": 16,
    "start_time": "2022-11-25T22:19:49.421Z"
   },
   {
    "duration": 20,
    "start_time": "2022-11-25T22:19:49.439Z"
   },
   {
    "duration": 68,
    "start_time": "2022-11-25T22:19:55.140Z"
   },
   {
    "duration": 15,
    "start_time": "2022-11-25T22:21:49.995Z"
   },
   {
    "duration": 8,
    "start_time": "2022-11-25T22:22:58.157Z"
   },
   {
    "duration": 11,
    "start_time": "2022-11-25T22:23:53.456Z"
   },
   {
    "duration": 4,
    "start_time": "2022-11-25T22:33:41.293Z"
   },
   {
    "duration": 66,
    "start_time": "2022-11-25T22:33:41.298Z"
   },
   {
    "duration": 17,
    "start_time": "2022-11-25T22:33:41.366Z"
   },
   {
    "duration": 15,
    "start_time": "2022-11-25T22:33:41.385Z"
   },
   {
    "duration": 817,
    "start_time": "2022-11-25T22:33:41.402Z"
   },
   {
    "duration": 28,
    "start_time": "2022-11-25T22:33:42.221Z"
   },
   {
    "duration": 3,
    "start_time": "2022-11-25T22:33:42.251Z"
   },
   {
    "duration": 11,
    "start_time": "2022-11-25T22:33:42.256Z"
   },
   {
    "duration": 13,
    "start_time": "2022-11-25T22:33:42.268Z"
   },
   {
    "duration": 52,
    "start_time": "2022-11-25T22:33:42.284Z"
   },
   {
    "duration": 11,
    "start_time": "2022-11-25T22:33:42.337Z"
   },
   {
    "duration": 7,
    "start_time": "2022-11-25T22:33:42.349Z"
   },
   {
    "duration": 7,
    "start_time": "2022-11-25T22:33:42.358Z"
   },
   {
    "duration": 56,
    "start_time": "2022-11-25T22:33:42.367Z"
   },
   {
    "duration": 3,
    "start_time": "2022-11-25T22:41:31.943Z"
   },
   {
    "duration": 96,
    "start_time": "2022-11-25T22:41:31.948Z"
   },
   {
    "duration": 18,
    "start_time": "2022-11-25T22:41:32.046Z"
   },
   {
    "duration": 18,
    "start_time": "2022-11-25T22:41:32.065Z"
   },
   {
    "duration": 710,
    "start_time": "2022-11-25T22:41:32.086Z"
   },
   {
    "duration": 39,
    "start_time": "2022-11-25T22:41:32.798Z"
   },
   {
    "duration": 19,
    "start_time": "2022-11-25T22:41:46.166Z"
   },
   {
    "duration": 0,
    "start_time": "2022-11-25T22:41:46.187Z"
   },
   {
    "duration": 0,
    "start_time": "2022-11-25T22:41:46.188Z"
   },
   {
    "duration": 0,
    "start_time": "2022-11-25T22:41:46.189Z"
   },
   {
    "duration": 0,
    "start_time": "2022-11-25T22:41:46.189Z"
   },
   {
    "duration": 0,
    "start_time": "2022-11-25T22:41:46.190Z"
   },
   {
    "duration": 0,
    "start_time": "2022-11-25T22:41:46.191Z"
   },
   {
    "duration": 0,
    "start_time": "2022-11-25T22:41:46.192Z"
   },
   {
    "duration": 18,
    "start_time": "2022-11-25T22:42:39.626Z"
   },
   {
    "duration": 4,
    "start_time": "2022-11-25T22:43:01.363Z"
   },
   {
    "duration": 5,
    "start_time": "2022-11-25T22:43:17.100Z"
   },
   {
    "duration": 10,
    "start_time": "2022-11-25T22:43:17.107Z"
   },
   {
    "duration": 13,
    "start_time": "2022-11-25T22:43:17.119Z"
   },
   {
    "duration": 18,
    "start_time": "2022-11-25T22:43:17.133Z"
   },
   {
    "duration": 10,
    "start_time": "2022-11-25T22:43:17.153Z"
   },
   {
    "duration": 7,
    "start_time": "2022-11-25T22:43:17.165Z"
   },
   {
    "duration": 15,
    "start_time": "2022-11-25T22:43:17.174Z"
   },
   {
    "duration": 53,
    "start_time": "2022-11-25T22:43:17.192Z"
   },
   {
    "duration": 100,
    "start_time": "2022-11-25T22:49:53.415Z"
   },
   {
    "duration": 243,
    "start_time": "2022-11-25T22:50:26.282Z"
   },
   {
    "duration": 1332,
    "start_time": "2022-11-25T22:50:39.865Z"
   },
   {
    "duration": 131,
    "start_time": "2022-11-25T22:50:47.659Z"
   },
   {
    "duration": 403,
    "start_time": "2022-11-25T22:50:52.763Z"
   },
   {
    "duration": 330,
    "start_time": "2022-11-25T23:24:29.801Z"
   },
   {
    "duration": 306,
    "start_time": "2022-11-25T23:24:47.458Z"
   },
   {
    "duration": 295,
    "start_time": "2022-11-25T23:24:58.010Z"
   },
   {
    "duration": 266,
    "start_time": "2022-11-25T23:25:11.122Z"
   },
   {
    "duration": 12,
    "start_time": "2022-11-26T00:27:47.904Z"
   },
   {
    "duration": 22,
    "start_time": "2022-11-26T00:27:57.055Z"
   },
   {
    "duration": 27,
    "start_time": "2022-11-26T00:46:03.663Z"
   },
   {
    "duration": 3,
    "start_time": "2022-11-26T00:48:20.711Z"
   },
   {
    "duration": 72,
    "start_time": "2022-11-26T00:48:20.716Z"
   },
   {
    "duration": 17,
    "start_time": "2022-11-26T00:48:20.789Z"
   },
   {
    "duration": 12,
    "start_time": "2022-11-26T00:48:20.808Z"
   },
   {
    "duration": 840,
    "start_time": "2022-11-26T00:48:20.822Z"
   },
   {
    "duration": 31,
    "start_time": "2022-11-26T00:48:21.664Z"
   },
   {
    "duration": 5,
    "start_time": "2022-11-26T00:48:21.696Z"
   },
   {
    "duration": 27,
    "start_time": "2022-11-26T00:48:21.702Z"
   },
   {
    "duration": 13,
    "start_time": "2022-11-26T00:48:21.731Z"
   },
   {
    "duration": 19,
    "start_time": "2022-11-26T00:48:21.747Z"
   },
   {
    "duration": 11,
    "start_time": "2022-11-26T00:48:21.768Z"
   },
   {
    "duration": 42,
    "start_time": "2022-11-26T00:48:21.781Z"
   },
   {
    "duration": 6,
    "start_time": "2022-11-26T00:48:21.825Z"
   },
   {
    "duration": 26,
    "start_time": "2022-11-26T00:48:21.833Z"
   },
   {
    "duration": 284,
    "start_time": "2022-11-26T00:48:21.862Z"
   },
   {
    "duration": 22,
    "start_time": "2022-11-26T00:48:22.148Z"
   },
   {
    "duration": 345,
    "start_time": "2022-11-26T00:48:27.094Z"
   },
   {
    "duration": 5,
    "start_time": "2022-11-26T00:53:25.286Z"
   },
   {
    "duration": 5,
    "start_time": "2022-11-26T00:54:22.008Z"
   },
   {
    "duration": 3,
    "start_time": "2022-11-26T00:54:33.208Z"
   },
   {
    "duration": 21770,
    "start_time": "2022-11-26T00:54:43.891Z"
   },
   {
    "duration": 8,
    "start_time": "2022-11-26T00:55:05.663Z"
   },
   {
    "duration": 21457,
    "start_time": "2022-11-26T00:55:27.167Z"
   },
   {
    "duration": 23,
    "start_time": "2022-11-26T00:55:48.647Z"
   },
   {
    "duration": 5,
    "start_time": "2022-11-26T00:58:59.950Z"
   },
   {
    "duration": 3,
    "start_time": "2022-11-26T00:59:02.774Z"
   },
   {
    "duration": 19,
    "start_time": "2022-11-26T00:59:05.310Z"
   },
   {
    "duration": 6,
    "start_time": "2022-11-26T00:59:49.104Z"
   },
   {
    "duration": 4,
    "start_time": "2022-11-26T00:59:51.416Z"
   },
   {
    "duration": 20,
    "start_time": "2022-11-26T00:59:53.351Z"
   },
   {
    "duration": 4,
    "start_time": "2022-11-26T01:00:03.066Z"
   },
   {
    "duration": 92,
    "start_time": "2022-11-26T01:00:03.072Z"
   },
   {
    "duration": 19,
    "start_time": "2022-11-26T01:00:03.166Z"
   },
   {
    "duration": 34,
    "start_time": "2022-11-26T01:00:03.187Z"
   },
   {
    "duration": 697,
    "start_time": "2022-11-26T01:00:03.225Z"
   },
   {
    "duration": 28,
    "start_time": "2022-11-26T01:00:03.924Z"
   },
   {
    "duration": 5,
    "start_time": "2022-11-26T01:00:03.954Z"
   },
   {
    "duration": 23,
    "start_time": "2022-11-26T01:00:03.960Z"
   },
   {
    "duration": 31,
    "start_time": "2022-11-26T01:00:03.984Z"
   },
   {
    "duration": 45,
    "start_time": "2022-11-26T01:00:04.016Z"
   },
   {
    "duration": 33,
    "start_time": "2022-11-26T01:00:04.063Z"
   },
   {
    "duration": 20,
    "start_time": "2022-11-26T01:00:04.098Z"
   },
   {
    "duration": 27,
    "start_time": "2022-11-26T01:00:04.120Z"
   },
   {
    "duration": 42,
    "start_time": "2022-11-26T01:00:04.150Z"
   },
   {
    "duration": 283,
    "start_time": "2022-11-26T01:00:04.193Z"
   },
   {
    "duration": 19,
    "start_time": "2022-11-26T01:00:04.478Z"
   },
   {
    "duration": 23,
    "start_time": "2022-11-26T01:00:04.499Z"
   },
   {
    "duration": 3,
    "start_time": "2022-11-26T01:00:04.524Z"
   },
   {
    "duration": 35,
    "start_time": "2022-11-26T01:00:04.528Z"
   },
   {
    "duration": 4,
    "start_time": "2022-11-26T01:00:25.844Z"
   },
   {
    "duration": 75,
    "start_time": "2022-11-26T01:00:25.851Z"
   },
   {
    "duration": 20,
    "start_time": "2022-11-26T01:00:25.928Z"
   },
   {
    "duration": 13,
    "start_time": "2022-11-26T01:00:25.949Z"
   },
   {
    "duration": 863,
    "start_time": "2022-11-26T01:00:25.964Z"
   },
   {
    "duration": 27,
    "start_time": "2022-11-26T01:00:26.829Z"
   },
   {
    "duration": 5,
    "start_time": "2022-11-26T01:00:26.857Z"
   },
   {
    "duration": 11,
    "start_time": "2022-11-26T01:00:26.864Z"
   },
   {
    "duration": 46,
    "start_time": "2022-11-26T01:00:26.877Z"
   },
   {
    "duration": 18,
    "start_time": "2022-11-26T01:00:26.925Z"
   },
   {
    "duration": 11,
    "start_time": "2022-11-26T01:00:26.944Z"
   },
   {
    "duration": 7,
    "start_time": "2022-11-26T01:00:26.956Z"
   },
   {
    "duration": 8,
    "start_time": "2022-11-26T01:00:26.964Z"
   },
   {
    "duration": 60,
    "start_time": "2022-11-26T01:00:26.974Z"
   },
   {
    "duration": 268,
    "start_time": "2022-11-26T01:00:27.035Z"
   },
   {
    "duration": 27,
    "start_time": "2022-11-26T01:00:27.304Z"
   },
   {
    "duration": 9,
    "start_time": "2022-11-26T01:00:27.332Z"
   },
   {
    "duration": 4,
    "start_time": "2022-11-26T01:00:27.342Z"
   },
   {
    "duration": 22,
    "start_time": "2022-11-26T01:00:27.347Z"
   },
   {
    "duration": 4,
    "start_time": "2022-11-26T01:01:01.861Z"
   },
   {
    "duration": 71,
    "start_time": "2022-11-26T01:01:01.866Z"
   },
   {
    "duration": 19,
    "start_time": "2022-11-26T01:01:01.939Z"
   },
   {
    "duration": 26,
    "start_time": "2022-11-26T01:01:01.960Z"
   },
   {
    "duration": 700,
    "start_time": "2022-11-26T01:01:01.988Z"
   },
   {
    "duration": 38,
    "start_time": "2022-11-26T01:01:02.690Z"
   },
   {
    "duration": 4,
    "start_time": "2022-11-26T01:01:02.730Z"
   },
   {
    "duration": 14,
    "start_time": "2022-11-26T01:01:02.736Z"
   },
   {
    "duration": 30,
    "start_time": "2022-11-26T01:01:02.752Z"
   },
   {
    "duration": 32,
    "start_time": "2022-11-26T01:01:02.784Z"
   },
   {
    "duration": 25,
    "start_time": "2022-11-26T01:01:02.817Z"
   },
   {
    "duration": 8,
    "start_time": "2022-11-26T01:01:02.843Z"
   },
   {
    "duration": 20,
    "start_time": "2022-11-26T01:01:02.853Z"
   },
   {
    "duration": 25,
    "start_time": "2022-11-26T01:01:02.875Z"
   },
   {
    "duration": 263,
    "start_time": "2022-11-26T01:01:02.902Z"
   },
   {
    "duration": 22,
    "start_time": "2022-11-26T01:01:03.166Z"
   },
   {
    "duration": 5,
    "start_time": "2022-11-26T01:01:03.189Z"
   },
   {
    "duration": 7,
    "start_time": "2022-11-26T01:01:03.195Z"
   },
   {
    "duration": 29,
    "start_time": "2022-11-26T01:01:03.223Z"
   },
   {
    "duration": 3,
    "start_time": "2022-11-26T01:01:20.047Z"
   },
   {
    "duration": 74,
    "start_time": "2022-11-26T01:01:20.054Z"
   },
   {
    "duration": 21,
    "start_time": "2022-11-26T01:01:20.130Z"
   },
   {
    "duration": 15,
    "start_time": "2022-11-26T01:01:20.153Z"
   },
   {
    "duration": 906,
    "start_time": "2022-11-26T01:01:20.171Z"
   },
   {
    "duration": 47,
    "start_time": "2022-11-26T01:01:21.079Z"
   },
   {
    "duration": 5,
    "start_time": "2022-11-26T01:01:21.128Z"
   },
   {
    "duration": 11,
    "start_time": "2022-11-26T01:01:21.135Z"
   },
   {
    "duration": 13,
    "start_time": "2022-11-26T01:01:21.148Z"
   },
   {
    "duration": 18,
    "start_time": "2022-11-26T01:01:21.163Z"
   },
   {
    "duration": 14,
    "start_time": "2022-11-26T01:01:21.222Z"
   },
   {
    "duration": 6,
    "start_time": "2022-11-26T01:01:21.238Z"
   },
   {
    "duration": 8,
    "start_time": "2022-11-26T01:01:21.245Z"
   },
   {
    "duration": 26,
    "start_time": "2022-11-26T01:01:21.256Z"
   },
   {
    "duration": 302,
    "start_time": "2022-11-26T01:01:21.283Z"
   },
   {
    "duration": 36,
    "start_time": "2022-11-26T01:01:21.587Z"
   },
   {
    "duration": 7,
    "start_time": "2022-11-26T01:01:21.625Z"
   },
   {
    "duration": 23,
    "start_time": "2022-11-26T01:01:21.634Z"
   },
   {
    "duration": 22,
    "start_time": "2022-11-26T01:01:21.659Z"
   },
   {
    "duration": 3,
    "start_time": "2022-11-26T01:01:50.303Z"
   },
   {
    "duration": 21,
    "start_time": "2022-11-26T01:01:53.023Z"
   },
   {
    "duration": 6,
    "start_time": "2022-11-26T01:09:28.246Z"
   },
   {
    "duration": 22093,
    "start_time": "2022-11-26T01:09:30.301Z"
   },
   {
    "duration": 35,
    "start_time": "2022-11-26T01:09:52.396Z"
   },
   {
    "duration": 3,
    "start_time": "2022-11-26T01:10:13.321Z"
   },
   {
    "duration": 69,
    "start_time": "2022-11-26T01:10:13.326Z"
   },
   {
    "duration": 19,
    "start_time": "2022-11-26T01:10:13.397Z"
   },
   {
    "duration": 13,
    "start_time": "2022-11-26T01:10:13.417Z"
   },
   {
    "duration": 716,
    "start_time": "2022-11-26T01:10:13.432Z"
   },
   {
    "duration": 29,
    "start_time": "2022-11-26T01:10:14.150Z"
   },
   {
    "duration": 6,
    "start_time": "2022-11-26T01:10:14.181Z"
   },
   {
    "duration": 41,
    "start_time": "2022-11-26T01:10:14.189Z"
   },
   {
    "duration": 14,
    "start_time": "2022-11-26T01:10:14.232Z"
   },
   {
    "duration": 17,
    "start_time": "2022-11-26T01:10:14.248Z"
   },
   {
    "duration": 11,
    "start_time": "2022-11-26T01:10:14.266Z"
   },
   {
    "duration": 44,
    "start_time": "2022-11-26T01:10:14.280Z"
   },
   {
    "duration": 9,
    "start_time": "2022-11-26T01:10:14.326Z"
   },
   {
    "duration": 23,
    "start_time": "2022-11-26T01:10:14.338Z"
   },
   {
    "duration": 296,
    "start_time": "2022-11-26T01:10:14.363Z"
   },
   {
    "duration": 21,
    "start_time": "2022-11-26T01:10:14.661Z"
   },
   {
    "duration": 7,
    "start_time": "2022-11-26T01:10:14.684Z"
   },
   {
    "duration": 22562,
    "start_time": "2022-11-26T01:10:14.692Z"
   },
   {
    "duration": 21,
    "start_time": "2022-11-26T01:10:37.255Z"
   },
   {
    "duration": 3,
    "start_time": "2022-11-26T01:14:28.215Z"
   },
   {
    "duration": 65,
    "start_time": "2022-11-26T01:14:28.220Z"
   },
   {
    "duration": 18,
    "start_time": "2022-11-26T01:14:28.287Z"
   },
   {
    "duration": 18,
    "start_time": "2022-11-26T01:14:28.308Z"
   },
   {
    "duration": 723,
    "start_time": "2022-11-26T01:14:28.328Z"
   },
   {
    "duration": 28,
    "start_time": "2022-11-26T01:14:29.052Z"
   },
   {
    "duration": 5,
    "start_time": "2022-11-26T01:14:29.081Z"
   },
   {
    "duration": 35,
    "start_time": "2022-11-26T01:14:29.087Z"
   },
   {
    "duration": 11,
    "start_time": "2022-11-26T01:14:29.124Z"
   },
   {
    "duration": 26,
    "start_time": "2022-11-26T01:14:29.138Z"
   },
   {
    "duration": 12,
    "start_time": "2022-11-26T01:14:29.166Z"
   },
   {
    "duration": 8,
    "start_time": "2022-11-26T01:14:29.180Z"
   },
   {
    "duration": 39,
    "start_time": "2022-11-26T01:14:29.190Z"
   },
   {
    "duration": 27,
    "start_time": "2022-11-26T01:14:29.231Z"
   },
   {
    "duration": 503,
    "start_time": "2022-11-26T01:14:29.260Z"
   },
   {
    "duration": 20,
    "start_time": "2022-11-26T01:14:29.765Z"
   },
   {
    "duration": 5,
    "start_time": "2022-11-26T01:14:29.786Z"
   },
   {
    "duration": 4,
    "start_time": "2022-11-26T01:14:29.793Z"
   },
   {
    "duration": 20992,
    "start_time": "2022-11-26T01:14:29.798Z"
   },
   {
    "duration": 20,
    "start_time": "2022-11-26T01:14:50.792Z"
   },
   {
    "duration": 7,
    "start_time": "2022-11-26T01:22:58.207Z"
   },
   {
    "duration": 7,
    "start_time": "2022-11-26T01:23:11.047Z"
   },
   {
    "duration": 9,
    "start_time": "2022-11-26T01:25:51.487Z"
   },
   {
    "duration": 135,
    "start_time": "2022-11-26T01:39:08.000Z"
   },
   {
    "duration": 5,
    "start_time": "2022-11-26T01:44:54.034Z"
   },
   {
    "duration": 8,
    "start_time": "2022-11-26T01:44:56.474Z"
   },
   {
    "duration": 7,
    "start_time": "2022-11-26T01:45:04.706Z"
   },
   {
    "duration": 78,
    "start_time": "2022-11-26T01:46:03.725Z"
   },
   {
    "duration": 82,
    "start_time": "2022-11-26T01:46:24.878Z"
   },
   {
    "duration": 71,
    "start_time": "2022-11-26T01:47:56.594Z"
   },
   {
    "duration": 78,
    "start_time": "2022-11-26T01:48:13.204Z"
   },
   {
    "duration": 7,
    "start_time": "2022-11-26T01:50:23.698Z"
   },
   {
    "duration": 7,
    "start_time": "2022-11-26T01:51:45.694Z"
   },
   {
    "duration": 10,
    "start_time": "2022-11-26T01:56:04.469Z"
   },
   {
    "duration": 5,
    "start_time": "2022-11-26T02:00:06.111Z"
   },
   {
    "duration": 16,
    "start_time": "2022-11-26T02:00:39.113Z"
   },
   {
    "duration": 22,
    "start_time": "2022-11-26T02:05:33.896Z"
   },
   {
    "duration": 21,
    "start_time": "2022-11-26T02:06:01.545Z"
   },
   {
    "duration": 13,
    "start_time": "2022-11-26T02:06:17.498Z"
   },
   {
    "duration": 4,
    "start_time": "2022-11-26T02:17:24.484Z"
   },
   {
    "duration": 10,
    "start_time": "2022-11-26T02:17:32.756Z"
   },
   {
    "duration": 15,
    "start_time": "2022-11-26T02:18:03.676Z"
   },
   {
    "duration": 27,
    "start_time": "2022-11-26T02:18:45.647Z"
   },
   {
    "duration": 4,
    "start_time": "2022-11-26T02:19:46.300Z"
   },
   {
    "duration": 67,
    "start_time": "2022-11-26T02:19:46.306Z"
   },
   {
    "duration": 21,
    "start_time": "2022-11-26T02:19:46.375Z"
   },
   {
    "duration": 14,
    "start_time": "2022-11-26T02:19:46.397Z"
   },
   {
    "duration": 690,
    "start_time": "2022-11-26T02:19:46.422Z"
   },
   {
    "duration": 38,
    "start_time": "2022-11-26T02:19:47.113Z"
   },
   {
    "duration": 5,
    "start_time": "2022-11-26T02:19:47.153Z"
   },
   {
    "duration": 13,
    "start_time": "2022-11-26T02:19:47.160Z"
   },
   {
    "duration": 13,
    "start_time": "2022-11-26T02:19:47.174Z"
   },
   {
    "duration": 47,
    "start_time": "2022-11-26T02:19:47.189Z"
   },
   {
    "duration": 20,
    "start_time": "2022-11-26T02:19:53.522Z"
   },
   {
    "duration": 4,
    "start_time": "2022-11-26T02:20:28.471Z"
   },
   {
    "duration": 65,
    "start_time": "2022-11-26T02:20:28.477Z"
   },
   {
    "duration": 19,
    "start_time": "2022-11-26T02:20:28.544Z"
   },
   {
    "duration": 13,
    "start_time": "2022-11-26T02:20:28.564Z"
   },
   {
    "duration": 701,
    "start_time": "2022-11-26T02:20:28.579Z"
   },
   {
    "duration": 40,
    "start_time": "2022-11-26T02:20:29.282Z"
   },
   {
    "duration": 4,
    "start_time": "2022-11-26T02:20:29.324Z"
   },
   {
    "duration": 35,
    "start_time": "2022-11-26T02:20:29.329Z"
   },
   {
    "duration": 21,
    "start_time": "2022-11-26T02:20:29.365Z"
   },
   {
    "duration": 25,
    "start_time": "2022-11-26T02:20:29.388Z"
   },
   {
    "duration": 15,
    "start_time": "2022-11-26T02:20:29.414Z"
   },
   {
    "duration": 7,
    "start_time": "2022-11-26T02:20:29.431Z"
   },
   {
    "duration": 12,
    "start_time": "2022-11-26T02:20:29.440Z"
   },
   {
    "duration": 29,
    "start_time": "2022-11-26T02:20:29.455Z"
   },
   {
    "duration": 314,
    "start_time": "2022-11-26T02:20:29.485Z"
   },
   {
    "duration": 21,
    "start_time": "2022-11-26T02:20:32.508Z"
   },
   {
    "duration": 3,
    "start_time": "2022-11-26T02:21:06.481Z"
   },
   {
    "duration": 75,
    "start_time": "2022-11-26T02:21:06.486Z"
   },
   {
    "duration": 18,
    "start_time": "2022-11-26T02:21:06.563Z"
   },
   {
    "duration": 14,
    "start_time": "2022-11-26T02:21:06.582Z"
   },
   {
    "duration": 926,
    "start_time": "2022-11-26T02:21:06.598Z"
   },
   {
    "duration": 28,
    "start_time": "2022-11-26T02:21:07.526Z"
   },
   {
    "duration": 5,
    "start_time": "2022-11-26T02:21:07.555Z"
   },
   {
    "duration": 9,
    "start_time": "2022-11-26T02:21:07.562Z"
   },
   {
    "duration": 13,
    "start_time": "2022-11-26T02:21:07.573Z"
   },
   {
    "duration": 18,
    "start_time": "2022-11-26T02:21:07.622Z"
   },
   {
    "duration": 10,
    "start_time": "2022-11-26T02:21:07.641Z"
   },
   {
    "duration": 7,
    "start_time": "2022-11-26T02:21:07.653Z"
   },
   {
    "duration": 9,
    "start_time": "2022-11-26T02:21:07.662Z"
   },
   {
    "duration": 63,
    "start_time": "2022-11-26T02:21:07.673Z"
   },
   {
    "duration": 292,
    "start_time": "2022-11-26T02:21:07.737Z"
   },
   {
    "duration": 21,
    "start_time": "2022-11-26T02:21:08.031Z"
   },
   {
    "duration": 5,
    "start_time": "2022-11-26T02:21:08.054Z"
   },
   {
    "duration": 14,
    "start_time": "2022-11-26T02:21:08.061Z"
   },
   {
    "duration": 21136,
    "start_time": "2022-11-26T02:21:08.077Z"
   },
   {
    "duration": 20,
    "start_time": "2022-11-26T02:21:29.215Z"
   },
   {
    "duration": 9,
    "start_time": "2022-11-26T02:21:29.237Z"
   },
   {
    "duration": 6,
    "start_time": "2022-11-26T02:21:29.247Z"
   },
   {
    "duration": 22,
    "start_time": "2022-11-26T02:21:39.944Z"
   },
   {
    "duration": 4,
    "start_time": "2022-11-26T02:24:14.083Z"
   },
   {
    "duration": 90,
    "start_time": "2022-11-26T02:24:14.090Z"
   },
   {
    "duration": 23,
    "start_time": "2022-11-26T02:24:14.182Z"
   },
   {
    "duration": 25,
    "start_time": "2022-11-26T02:24:14.207Z"
   },
   {
    "duration": 697,
    "start_time": "2022-11-26T02:24:14.235Z"
   },
   {
    "duration": 29,
    "start_time": "2022-11-26T02:24:14.934Z"
   },
   {
    "duration": 5,
    "start_time": "2022-11-26T02:24:14.965Z"
   },
   {
    "duration": 13,
    "start_time": "2022-11-26T02:24:14.972Z"
   },
   {
    "duration": 43,
    "start_time": "2022-11-26T02:24:14.987Z"
   },
   {
    "duration": 19,
    "start_time": "2022-11-26T02:24:15.031Z"
   },
   {
    "duration": 15,
    "start_time": "2022-11-26T02:24:15.052Z"
   },
   {
    "duration": 7,
    "start_time": "2022-11-26T02:24:15.069Z"
   },
   {
    "duration": 8,
    "start_time": "2022-11-26T02:24:15.077Z"
   },
   {
    "duration": 56,
    "start_time": "2022-11-26T02:24:15.088Z"
   },
   {
    "duration": 282,
    "start_time": "2022-11-26T02:24:15.146Z"
   },
   {
    "duration": 22,
    "start_time": "2022-11-26T02:24:15.430Z"
   },
   {
    "duration": 6,
    "start_time": "2022-11-26T02:24:15.453Z"
   },
   {
    "duration": 6,
    "start_time": "2022-11-26T02:24:15.460Z"
   },
   {
    "duration": 21543,
    "start_time": "2022-11-26T02:24:15.468Z"
   },
   {
    "duration": 26,
    "start_time": "2022-11-26T02:24:37.013Z"
   },
   {
    "duration": 9,
    "start_time": "2022-11-26T02:24:37.041Z"
   },
   {
    "duration": 9,
    "start_time": "2022-11-26T02:24:37.051Z"
   },
   {
    "duration": 22,
    "start_time": "2022-11-26T02:24:37.061Z"
   },
   {
    "duration": 48,
    "start_time": "2022-11-26T02:24:37.084Z"
   },
   {
    "duration": 11,
    "start_time": "2022-11-26T02:24:49.233Z"
   },
   {
    "duration": 20,
    "start_time": "2022-11-26T02:24:52.697Z"
   },
   {
    "duration": 38,
    "start_time": "2022-11-26T02:48:34.586Z"
   },
   {
    "duration": 6,
    "start_time": "2022-11-26T02:48:40.425Z"
   },
   {
    "duration": 29,
    "start_time": "2022-11-26T02:48:44.258Z"
   },
   {
    "duration": 7,
    "start_time": "2022-11-26T02:53:27.065Z"
   },
   {
    "duration": 3,
    "start_time": "2022-11-26T02:54:22.899Z"
   },
   {
    "duration": 13,
    "start_time": "2022-11-26T02:54:37.948Z"
   },
   {
    "duration": 3,
    "start_time": "2022-11-26T03:05:50.749Z"
   },
   {
    "duration": 82,
    "start_time": "2022-11-26T03:05:50.754Z"
   },
   {
    "duration": 19,
    "start_time": "2022-11-26T03:05:50.838Z"
   },
   {
    "duration": 13,
    "start_time": "2022-11-26T03:05:50.859Z"
   },
   {
    "duration": 698,
    "start_time": "2022-11-26T03:05:50.874Z"
   },
   {
    "duration": 31,
    "start_time": "2022-11-26T03:05:51.574Z"
   },
   {
    "duration": 5,
    "start_time": "2022-11-26T03:05:51.621Z"
   },
   {
    "duration": 11,
    "start_time": "2022-11-26T03:05:51.628Z"
   },
   {
    "duration": 14,
    "start_time": "2022-11-26T03:05:51.644Z"
   },
   {
    "duration": 23,
    "start_time": "2022-11-26T03:05:51.660Z"
   },
   {
    "duration": 46,
    "start_time": "2022-11-26T03:05:51.685Z"
   },
   {
    "duration": 8,
    "start_time": "2022-11-26T03:05:51.733Z"
   },
   {
    "duration": 10,
    "start_time": "2022-11-26T03:05:51.743Z"
   },
   {
    "duration": 29,
    "start_time": "2022-11-26T03:05:51.754Z"
   },
   {
    "duration": 537,
    "start_time": "2022-11-26T03:05:51.785Z"
   },
   {
    "duration": 21,
    "start_time": "2022-11-26T03:05:52.323Z"
   },
   {
    "duration": 6,
    "start_time": "2022-11-26T03:05:52.345Z"
   },
   {
    "duration": 9,
    "start_time": "2022-11-26T03:05:52.352Z"
   },
   {
    "duration": 21085,
    "start_time": "2022-11-26T03:05:52.362Z"
   },
   {
    "duration": 21,
    "start_time": "2022-11-26T03:06:13.449Z"
   },
   {
    "duration": 9,
    "start_time": "2022-11-26T03:06:13.471Z"
   },
   {
    "duration": 6,
    "start_time": "2022-11-26T03:06:13.481Z"
   },
   {
    "duration": 47,
    "start_time": "2022-11-26T03:06:13.489Z"
   },
   {
    "duration": 15,
    "start_time": "2022-11-26T03:06:13.539Z"
   },
   {
    "duration": 14,
    "start_time": "2022-11-26T03:06:13.555Z"
   },
   {
    "duration": 7,
    "start_time": "2022-11-26T03:06:13.571Z"
   },
   {
    "duration": 43,
    "start_time": "2022-11-26T03:06:13.579Z"
   },
   {
    "duration": 9,
    "start_time": "2022-11-26T03:06:59.729Z"
   },
   {
    "duration": 7,
    "start_time": "2022-11-26T03:12:32.034Z"
   },
   {
    "duration": 4,
    "start_time": "2022-11-26T03:12:34.514Z"
   },
   {
    "duration": 16183,
    "start_time": "2022-11-26T03:12:36.986Z"
   },
   {
    "duration": 24,
    "start_time": "2022-11-26T03:12:55.291Z"
   },
   {
    "duration": 5,
    "start_time": "2022-11-26T03:13:22.373Z"
   },
   {
    "duration": 4,
    "start_time": "2022-11-26T03:17:06.128Z"
   },
   {
    "duration": 5,
    "start_time": "2022-11-26T03:17:15.968Z"
   },
   {
    "duration": 44,
    "start_time": "2022-11-26T13:27:20.308Z"
   },
   {
    "duration": 1232,
    "start_time": "2022-11-26T13:27:37.542Z"
   },
   {
    "duration": 121,
    "start_time": "2022-11-26T13:27:38.776Z"
   },
   {
    "duration": 19,
    "start_time": "2022-11-26T13:27:38.899Z"
   },
   {
    "duration": 15,
    "start_time": "2022-11-26T13:27:38.921Z"
   },
   {
    "duration": 678,
    "start_time": "2022-11-26T13:27:38.937Z"
   },
   {
    "duration": 27,
    "start_time": "2022-11-26T13:27:39.617Z"
   },
   {
    "duration": 5,
    "start_time": "2022-11-26T13:27:39.645Z"
   },
   {
    "duration": 23,
    "start_time": "2022-11-26T13:27:39.651Z"
   },
   {
    "duration": 30,
    "start_time": "2022-11-26T13:27:39.675Z"
   },
   {
    "duration": 16,
    "start_time": "2022-11-26T13:27:39.708Z"
   },
   {
    "duration": 20,
    "start_time": "2022-11-26T13:27:39.725Z"
   },
   {
    "duration": 14,
    "start_time": "2022-11-26T13:27:39.746Z"
   },
   {
    "duration": 21,
    "start_time": "2022-11-26T13:27:39.761Z"
   },
   {
    "duration": 26,
    "start_time": "2022-11-26T13:27:39.784Z"
   },
   {
    "duration": 296,
    "start_time": "2022-11-26T13:27:39.812Z"
   },
   {
    "duration": 21,
    "start_time": "2022-11-26T13:27:40.111Z"
   },
   {
    "duration": 9,
    "start_time": "2022-11-26T13:27:40.134Z"
   },
   {
    "duration": 21,
    "start_time": "2022-11-26T13:27:40.144Z"
   },
   {
    "duration": 21635,
    "start_time": "2022-11-26T13:27:40.167Z"
   },
   {
    "duration": 18,
    "start_time": "2022-11-26T13:28:01.804Z"
   },
   {
    "duration": 45,
    "start_time": "2022-11-26T13:28:01.824Z"
   },
   {
    "duration": 28,
    "start_time": "2022-11-26T13:28:01.870Z"
   },
   {
    "duration": 23,
    "start_time": "2022-11-26T13:28:01.900Z"
   },
   {
    "duration": 25,
    "start_time": "2022-11-26T13:28:01.925Z"
   },
   {
    "duration": 11,
    "start_time": "2022-11-26T13:28:01.952Z"
   },
   {
    "duration": 9,
    "start_time": "2022-11-26T13:28:01.965Z"
   },
   {
    "duration": 16,
    "start_time": "2022-11-26T13:28:01.975Z"
   },
   {
    "duration": 10,
    "start_time": "2022-11-26T13:28:01.994Z"
   },
   {
    "duration": 11,
    "start_time": "2022-11-26T13:28:02.006Z"
   },
   {
    "duration": 8,
    "start_time": "2022-11-26T13:28:02.018Z"
   },
   {
    "duration": 16345,
    "start_time": "2022-11-26T13:28:02.028Z"
   },
   {
    "duration": 6,
    "start_time": "2022-11-26T13:28:18.375Z"
   },
   {
    "duration": 18,
    "start_time": "2022-11-26T13:28:18.382Z"
   },
   {
    "duration": 19,
    "start_time": "2022-11-26T13:28:18.402Z"
   },
   {
    "duration": 4,
    "start_time": "2022-11-26T13:33:27.881Z"
   },
   {
    "duration": 568,
    "start_time": "2022-11-26T13:33:32.170Z"
   },
   {
    "duration": 556,
    "start_time": "2022-11-26T13:33:49.195Z"
   },
   {
    "duration": 560,
    "start_time": "2022-11-26T13:34:10.796Z"
   },
   {
    "duration": 10,
    "start_time": "2022-11-26T13:37:27.070Z"
   },
   {
    "duration": 3,
    "start_time": "2022-11-26T13:37:49.698Z"
   },
   {
    "duration": 75,
    "start_time": "2022-11-26T13:37:49.703Z"
   },
   {
    "duration": 19,
    "start_time": "2022-11-26T13:37:49.780Z"
   },
   {
    "duration": 33,
    "start_time": "2022-11-26T13:37:49.801Z"
   },
   {
    "duration": 864,
    "start_time": "2022-11-26T13:37:49.835Z"
   },
   {
    "duration": 27,
    "start_time": "2022-11-26T13:37:50.701Z"
   },
   {
    "duration": 4,
    "start_time": "2022-11-26T13:37:50.729Z"
   },
   {
    "duration": 24,
    "start_time": "2022-11-26T13:37:50.735Z"
   },
   {
    "duration": 37,
    "start_time": "2022-11-26T13:37:50.761Z"
   },
   {
    "duration": 17,
    "start_time": "2022-11-26T13:37:50.800Z"
   },
   {
    "duration": 13,
    "start_time": "2022-11-26T13:37:50.818Z"
   },
   {
    "duration": 7,
    "start_time": "2022-11-26T13:37:50.833Z"
   },
   {
    "duration": 19,
    "start_time": "2022-11-26T13:37:50.841Z"
   },
   {
    "duration": 52,
    "start_time": "2022-11-26T13:37:50.862Z"
   },
   {
    "duration": 281,
    "start_time": "2022-11-26T13:37:50.916Z"
   },
   {
    "duration": 21,
    "start_time": "2022-11-26T13:37:51.199Z"
   },
   {
    "duration": 6,
    "start_time": "2022-11-26T13:37:51.222Z"
   },
   {
    "duration": 19,
    "start_time": "2022-11-26T13:37:51.230Z"
   },
   {
    "duration": 22058,
    "start_time": "2022-11-26T13:37:51.251Z"
   },
   {
    "duration": 24,
    "start_time": "2022-11-26T13:38:13.311Z"
   },
   {
    "duration": 8,
    "start_time": "2022-11-26T13:38:22.088Z"
   },
   {
    "duration": 21,
    "start_time": "2022-11-26T13:38:31.457Z"
   },
   {
    "duration": 5,
    "start_time": "2022-11-26T13:40:19.025Z"
   },
   {
    "duration": 115,
    "start_time": "2022-11-26T13:40:19.033Z"
   },
   {
    "duration": 25,
    "start_time": "2022-11-26T13:40:19.150Z"
   },
   {
    "duration": 46,
    "start_time": "2022-11-26T13:40:19.176Z"
   },
   {
    "duration": 748,
    "start_time": "2022-11-26T13:40:19.224Z"
   },
   {
    "duration": 44,
    "start_time": "2022-11-26T13:40:19.974Z"
   },
   {
    "duration": 7,
    "start_time": "2022-11-26T13:40:20.020Z"
   },
   {
    "duration": 64,
    "start_time": "2022-11-26T13:40:20.029Z"
   },
   {
    "duration": 22,
    "start_time": "2022-11-26T13:40:20.095Z"
   },
   {
    "duration": 34,
    "start_time": "2022-11-26T13:40:20.121Z"
   },
   {
    "duration": 18,
    "start_time": "2022-11-26T13:40:20.157Z"
   },
   {
    "duration": 9,
    "start_time": "2022-11-26T13:40:20.176Z"
   },
   {
    "duration": 8,
    "start_time": "2022-11-26T13:40:20.198Z"
   },
   {
    "duration": 44,
    "start_time": "2022-11-26T13:40:20.208Z"
   },
   {
    "duration": 311,
    "start_time": "2022-11-26T13:40:20.255Z"
   },
   {
    "duration": 30,
    "start_time": "2022-11-26T13:40:20.568Z"
   },
   {
    "duration": 6,
    "start_time": "2022-11-26T13:40:20.600Z"
   },
   {
    "duration": 17,
    "start_time": "2022-11-26T13:40:20.608Z"
   },
   {
    "duration": 22530,
    "start_time": "2022-11-26T13:40:20.628Z"
   },
   {
    "duration": 20,
    "start_time": "2022-11-26T13:40:43.160Z"
   },
   {
    "duration": 30,
    "start_time": "2022-11-26T13:40:43.181Z"
   },
   {
    "duration": 13,
    "start_time": "2022-11-26T13:40:43.213Z"
   },
   {
    "duration": 19,
    "start_time": "2022-11-26T13:40:43.228Z"
   },
   {
    "duration": 27,
    "start_time": "2022-11-26T13:40:43.249Z"
   },
   {
    "duration": 20,
    "start_time": "2022-11-26T13:40:43.278Z"
   },
   {
    "duration": 10,
    "start_time": "2022-11-26T13:40:43.300Z"
   },
   {
    "duration": 16,
    "start_time": "2022-11-26T13:40:43.312Z"
   },
   {
    "duration": 33,
    "start_time": "2022-11-26T13:40:43.331Z"
   },
   {
    "duration": 13,
    "start_time": "2022-11-26T13:40:43.366Z"
   },
   {
    "duration": 19,
    "start_time": "2022-11-26T13:40:43.381Z"
   },
   {
    "duration": 11,
    "start_time": "2022-11-26T13:40:43.402Z"
   },
   {
    "duration": 17292,
    "start_time": "2022-11-26T13:40:43.414Z"
   },
   {
    "duration": 6,
    "start_time": "2022-11-26T13:41:00.707Z"
   },
   {
    "duration": 44,
    "start_time": "2022-11-26T13:41:00.715Z"
   },
   {
    "duration": 53,
    "start_time": "2022-11-26T13:41:00.762Z"
   },
   {
    "duration": 2,
    "start_time": "2022-11-26T13:42:52.622Z"
   },
   {
    "duration": 3,
    "start_time": "2022-11-26T14:17:49.755Z"
   },
   {
    "duration": 78,
    "start_time": "2022-11-26T14:17:49.759Z"
   },
   {
    "duration": 18,
    "start_time": "2022-11-26T14:17:49.838Z"
   },
   {
    "duration": 12,
    "start_time": "2022-11-26T14:17:49.858Z"
   },
   {
    "duration": 792,
    "start_time": "2022-11-26T14:17:49.871Z"
   },
   {
    "duration": 44,
    "start_time": "2022-11-26T14:17:50.665Z"
   },
   {
    "duration": 5,
    "start_time": "2022-11-26T14:17:50.711Z"
   },
   {
    "duration": 11,
    "start_time": "2022-11-26T14:17:50.718Z"
   },
   {
    "duration": 11,
    "start_time": "2022-11-26T14:17:50.731Z"
   },
   {
    "duration": 16,
    "start_time": "2022-11-26T14:17:50.746Z"
   },
   {
    "duration": 10,
    "start_time": "2022-11-26T14:17:50.798Z"
   },
   {
    "duration": 8,
    "start_time": "2022-11-26T14:17:50.810Z"
   },
   {
    "duration": 8,
    "start_time": "2022-11-26T14:17:50.820Z"
   },
   {
    "duration": 22,
    "start_time": "2022-11-26T14:17:50.830Z"
   },
   {
    "duration": 255,
    "start_time": "2022-11-26T14:17:50.897Z"
   },
   {
    "duration": 20,
    "start_time": "2022-11-26T14:17:51.153Z"
   },
   {
    "duration": 24,
    "start_time": "2022-11-26T14:17:51.175Z"
   },
   {
    "duration": 4,
    "start_time": "2022-11-26T14:17:51.201Z"
   },
   {
    "duration": 21586,
    "start_time": "2022-11-26T14:17:51.207Z"
   },
   {
    "duration": 19,
    "start_time": "2022-11-26T14:18:12.794Z"
   },
   {
    "duration": 13,
    "start_time": "2022-11-26T14:18:12.814Z"
   },
   {
    "duration": 8,
    "start_time": "2022-11-26T14:18:12.828Z"
   },
   {
    "duration": 5,
    "start_time": "2022-11-26T14:18:12.838Z"
   },
   {
    "duration": 57,
    "start_time": "2022-11-26T14:18:12.845Z"
   },
   {
    "duration": 12,
    "start_time": "2022-11-26T14:18:12.903Z"
   },
   {
    "duration": 9,
    "start_time": "2022-11-26T14:18:12.917Z"
   },
   {
    "duration": 4,
    "start_time": "2022-11-26T14:18:12.928Z"
   },
   {
    "duration": 7,
    "start_time": "2022-11-26T14:18:12.935Z"
   },
   {
    "duration": 20,
    "start_time": "2022-11-26T14:18:12.943Z"
   },
   {
    "duration": 33,
    "start_time": "2022-11-26T14:18:12.964Z"
   },
   {
    "duration": 3,
    "start_time": "2022-11-26T14:18:12.999Z"
   },
   {
    "duration": 16004,
    "start_time": "2022-11-26T14:18:13.003Z"
   },
   {
    "duration": 6,
    "start_time": "2022-11-26T14:18:29.009Z"
   },
   {
    "duration": 9,
    "start_time": "2022-11-26T14:18:29.016Z"
   },
   {
    "duration": 18,
    "start_time": "2022-11-26T14:18:29.027Z"
   },
   {
    "duration": 329,
    "start_time": "2022-11-26T14:18:34.650Z"
   },
   {
    "duration": 296,
    "start_time": "2022-11-26T14:18:47.131Z"
   },
   {
    "duration": 267,
    "start_time": "2022-11-26T14:18:59.415Z"
   },
   {
    "duration": 411,
    "start_time": "2022-11-26T14:19:34.877Z"
   },
   {
    "duration": 4,
    "start_time": "2022-11-26T15:53:26.402Z"
   },
   {
    "duration": 3,
    "start_time": "2022-11-26T15:53:27.747Z"
   },
   {
    "duration": 242,
    "start_time": "2022-11-26T15:53:28.779Z"
   },
   {
    "duration": 4,
    "start_time": "2022-11-26T15:54:37.894Z"
   },
   {
    "duration": 3,
    "start_time": "2022-11-26T15:54:38.535Z"
   },
   {
    "duration": 246,
    "start_time": "2022-11-26T15:54:39.046Z"
   },
   {
    "duration": 3,
    "start_time": "2022-11-26T15:56:57.789Z"
   },
   {
    "duration": 265,
    "start_time": "2022-11-26T15:56:59.853Z"
   },
   {
    "duration": 4,
    "start_time": "2022-11-26T15:57:08.493Z"
   },
   {
    "duration": 263,
    "start_time": "2022-11-26T15:57:09.319Z"
   },
   {
    "duration": 3,
    "start_time": "2022-11-26T15:57:30.978Z"
   },
   {
    "duration": 284,
    "start_time": "2022-11-26T15:57:32.351Z"
   },
   {
    "duration": 4,
    "start_time": "2022-11-26T15:57:39.096Z"
   },
   {
    "duration": 295,
    "start_time": "2022-11-26T15:57:39.591Z"
   },
   {
    "duration": 3,
    "start_time": "2022-11-26T15:58:37.794Z"
   },
   {
    "duration": 275,
    "start_time": "2022-11-26T15:58:39.058Z"
   },
   {
    "duration": 4,
    "start_time": "2022-11-26T15:59:20.614Z"
   },
   {
    "duration": 393,
    "start_time": "2022-11-26T15:59:21.598Z"
   },
   {
    "duration": 3,
    "start_time": "2022-11-26T15:59:36.990Z"
   },
   {
    "duration": 255,
    "start_time": "2022-11-26T15:59:37.630Z"
   },
   {
    "duration": 3,
    "start_time": "2022-11-26T16:00:06.008Z"
   },
   {
    "duration": 284,
    "start_time": "2022-11-26T16:00:06.615Z"
   },
   {
    "duration": 4,
    "start_time": "2022-11-26T16:01:03.458Z"
   },
   {
    "duration": 294,
    "start_time": "2022-11-26T16:01:04.642Z"
   },
   {
    "duration": 10,
    "start_time": "2022-11-26T16:57:29.126Z"
   },
   {
    "duration": 12,
    "start_time": "2022-11-26T16:57:47.110Z"
   },
   {
    "duration": 50,
    "start_time": "2022-11-26T17:02:33.037Z"
   },
   {
    "duration": 9,
    "start_time": "2022-11-26T17:02:51.646Z"
   },
   {
    "duration": 18,
    "start_time": "2022-11-26T17:03:12.919Z"
   },
   {
    "duration": 1425,
    "start_time": "2022-11-26T17:03:46.041Z"
   },
   {
    "duration": 1316,
    "start_time": "2022-11-26T17:06:13.840Z"
   },
   {
    "duration": 47,
    "start_time": "2022-11-26T17:06:43.026Z"
   },
   {
    "duration": 1429,
    "start_time": "2022-11-26T17:06:59.345Z"
   },
   {
    "duration": 1280,
    "start_time": "2022-11-26T17:07:07.402Z"
   },
   {
    "duration": 1345,
    "start_time": "2022-11-26T17:07:38.228Z"
   },
   {
    "duration": 1577,
    "start_time": "2022-11-26T17:07:55.068Z"
   },
   {
    "duration": 45,
    "start_time": "2022-11-26T17:08:27.263Z"
   },
   {
    "duration": 41,
    "start_time": "2022-11-26T17:08:38.751Z"
   },
   {
    "duration": 50,
    "start_time": "2022-11-26T17:08:52.695Z"
   },
   {
    "duration": 28,
    "start_time": "2022-11-26T18:04:18.081Z"
   },
   {
    "duration": 25,
    "start_time": "2022-11-26T18:04:39.387Z"
   },
   {
    "duration": 23,
    "start_time": "2022-11-26T18:05:02.306Z"
   },
   {
    "duration": 40,
    "start_time": "2022-11-26T18:05:26.597Z"
   },
   {
    "duration": 612,
    "start_time": "2022-11-26T18:16:25.450Z"
   },
   {
    "duration": 513,
    "start_time": "2022-11-26T18:17:35.121Z"
   },
   {
    "duration": 3,
    "start_time": "2022-11-26T18:17:53.545Z"
   },
   {
    "duration": 524,
    "start_time": "2022-11-26T18:17:58.449Z"
   },
   {
    "duration": 15,
    "start_time": "2022-11-26T18:18:32.699Z"
   },
   {
    "duration": 496,
    "start_time": "2022-11-26T18:18:50.116Z"
   },
   {
    "duration": 23,
    "start_time": "2022-11-26T18:19:53.567Z"
   },
   {
    "duration": 127,
    "start_time": "2022-11-26T18:20:16.211Z"
   },
   {
    "duration": 278,
    "start_time": "2022-11-26T18:20:24.569Z"
   },
   {
    "duration": 97,
    "start_time": "2022-11-26T18:20:29.434Z"
   },
   {
    "duration": 724,
    "start_time": "2022-11-26T18:20:46.706Z"
   },
   {
    "duration": 121,
    "start_time": "2022-11-26T18:21:09.605Z"
   },
   {
    "duration": 147,
    "start_time": "2022-11-26T18:21:15.844Z"
   },
   {
    "duration": 277,
    "start_time": "2022-11-26T18:21:27.157Z"
   },
   {
    "duration": 186,
    "start_time": "2022-11-26T18:22:19.063Z"
   },
   {
    "duration": 165,
    "start_time": "2022-11-26T18:22:31.624Z"
   },
   {
    "duration": 178,
    "start_time": "2022-11-26T18:22:42.042Z"
   },
   {
    "duration": 54,
    "start_time": "2022-11-26T18:24:18.254Z"
   },
   {
    "duration": 109,
    "start_time": "2022-11-26T18:24:29.637Z"
   },
   {
    "duration": 23,
    "start_time": "2022-11-26T18:24:37.445Z"
   },
   {
    "duration": 182,
    "start_time": "2022-11-26T18:24:44.878Z"
   },
   {
    "duration": 155,
    "start_time": "2022-11-26T18:34:26.220Z"
   },
   {
    "duration": 163,
    "start_time": "2022-11-26T18:35:37.267Z"
   },
   {
    "duration": 167,
    "start_time": "2022-11-26T18:36:11.059Z"
   },
   {
    "duration": 190,
    "start_time": "2022-11-26T18:36:44.628Z"
   },
   {
    "duration": 164,
    "start_time": "2022-11-26T18:38:41.201Z"
   },
   {
    "duration": 285,
    "start_time": "2022-11-26T18:39:32.499Z"
   },
   {
    "duration": 212,
    "start_time": "2022-11-26T18:39:47.390Z"
   },
   {
    "duration": 224,
    "start_time": "2022-11-26T21:33:20.915Z"
   },
   {
    "duration": 243,
    "start_time": "2022-11-26T21:38:18.705Z"
   },
   {
    "duration": 231,
    "start_time": "2022-11-26T21:40:57.098Z"
   },
   {
    "duration": 62,
    "start_time": "2022-11-26T21:42:12.717Z"
   },
   {
    "duration": 50,
    "start_time": "2022-11-26T21:42:26.606Z"
   },
   {
    "duration": 266,
    "start_time": "2022-11-26T21:42:33.974Z"
   },
   {
    "duration": 390,
    "start_time": "2022-11-26T21:42:47.495Z"
   },
   {
    "duration": 3,
    "start_time": "2022-11-26T21:47:48.032Z"
   },
   {
    "duration": 73,
    "start_time": "2022-11-26T21:47:48.037Z"
   },
   {
    "duration": 19,
    "start_time": "2022-11-26T21:47:48.111Z"
   },
   {
    "duration": 38,
    "start_time": "2022-11-26T21:47:53.622Z"
   },
   {
    "duration": 26,
    "start_time": "2022-11-26T21:48:06.183Z"
   },
   {
    "duration": 3,
    "start_time": "2022-11-26T21:50:18.816Z"
   },
   {
    "duration": 79,
    "start_time": "2022-11-26T21:50:18.821Z"
   },
   {
    "duration": 20,
    "start_time": "2022-11-26T21:50:18.902Z"
   },
   {
    "duration": 25,
    "start_time": "2022-11-26T21:50:18.924Z"
   },
   {
    "duration": 692,
    "start_time": "2022-11-26T21:50:18.950Z"
   },
   {
    "duration": 31,
    "start_time": "2022-11-26T21:50:19.645Z"
   },
   {
    "duration": 19,
    "start_time": "2022-11-26T21:50:19.678Z"
   },
   {
    "duration": 9,
    "start_time": "2022-11-26T21:50:19.699Z"
   },
   {
    "duration": 12,
    "start_time": "2022-11-26T21:50:19.710Z"
   },
   {
    "duration": 15,
    "start_time": "2022-11-26T21:50:19.723Z"
   },
   {
    "duration": 11,
    "start_time": "2022-11-26T21:50:19.740Z"
   },
   {
    "duration": 7,
    "start_time": "2022-11-26T21:50:19.752Z"
   },
   {
    "duration": 9,
    "start_time": "2022-11-26T21:50:19.797Z"
   },
   {
    "duration": 23,
    "start_time": "2022-11-26T21:50:19.808Z"
   },
   {
    "duration": 297,
    "start_time": "2022-11-26T21:50:19.833Z"
   },
   {
    "duration": 20,
    "start_time": "2022-11-26T21:50:20.131Z"
   },
   {
    "duration": 4,
    "start_time": "2022-11-26T21:50:20.153Z"
   },
   {
    "duration": 7,
    "start_time": "2022-11-26T21:50:20.159Z"
   },
   {
    "duration": 5,
    "start_time": "2022-11-26T21:50:20.167Z"
   },
   {
    "duration": 10,
    "start_time": "2022-11-26T21:50:20.173Z"
   },
   {
    "duration": 17,
    "start_time": "2022-11-26T21:50:20.197Z"
   },
   {
    "duration": 8,
    "start_time": "2022-11-26T21:50:20.216Z"
   },
   {
    "duration": 6,
    "start_time": "2022-11-26T21:50:20.226Z"
   },
   {
    "duration": 15,
    "start_time": "2022-11-26T21:50:20.235Z"
   },
   {
    "duration": 53,
    "start_time": "2022-11-26T21:50:20.251Z"
   },
   {
    "duration": 11,
    "start_time": "2022-11-26T21:50:20.307Z"
   },
   {
    "duration": 6,
    "start_time": "2022-11-26T21:50:20.319Z"
   },
   {
    "duration": 6,
    "start_time": "2022-11-26T21:50:20.326Z"
   },
   {
    "duration": 8,
    "start_time": "2022-11-26T21:50:20.334Z"
   },
   {
    "duration": 7,
    "start_time": "2022-11-26T21:50:20.343Z"
   },
   {
    "duration": 3,
    "start_time": "2022-11-26T21:50:20.351Z"
   },
   {
    "duration": 16791,
    "start_time": "2022-11-26T21:50:20.355Z"
   },
   {
    "duration": 5,
    "start_time": "2022-11-26T21:50:37.147Z"
   },
   {
    "duration": 6,
    "start_time": "2022-11-26T21:50:37.157Z"
   },
   {
    "duration": 22,
    "start_time": "2022-11-26T21:50:37.164Z"
   },
   {
    "duration": 274,
    "start_time": "2022-11-26T21:50:37.197Z"
   },
   {
    "duration": 3,
    "start_time": "2022-11-26T21:50:37.472Z"
   },
   {
    "duration": 9,
    "start_time": "2022-11-26T21:50:37.477Z"
   },
   {
    "duration": 271,
    "start_time": "2022-11-26T21:50:37.487Z"
   },
   {
    "duration": 377,
    "start_time": "2022-11-26T21:50:37.759Z"
   },
   {
    "duration": 22,
    "start_time": "2022-11-26T21:51:42.001Z"
   },
   {
    "duration": 15,
    "start_time": "2022-11-26T21:51:54.041Z"
   },
   {
    "duration": 4,
    "start_time": "2022-11-26T21:52:14.390Z"
   },
   {
    "duration": 71,
    "start_time": "2022-11-26T21:52:14.395Z"
   },
   {
    "duration": 18,
    "start_time": "2022-11-26T21:52:14.468Z"
   },
   {
    "duration": 30,
    "start_time": "2022-11-26T21:52:14.488Z"
   },
   {
    "duration": 710,
    "start_time": "2022-11-26T21:52:14.520Z"
   },
   {
    "duration": 25,
    "start_time": "2022-11-26T21:52:15.231Z"
   },
   {
    "duration": 4,
    "start_time": "2022-11-26T21:52:15.257Z"
   },
   {
    "duration": 10,
    "start_time": "2022-11-26T21:52:15.262Z"
   },
   {
    "duration": 10,
    "start_time": "2022-11-26T21:52:15.296Z"
   },
   {
    "duration": 16,
    "start_time": "2022-11-26T21:52:15.307Z"
   },
   {
    "duration": 11,
    "start_time": "2022-11-26T21:52:15.324Z"
   },
   {
    "duration": 7,
    "start_time": "2022-11-26T21:52:15.337Z"
   },
   {
    "duration": 8,
    "start_time": "2022-11-26T21:52:15.346Z"
   },
   {
    "duration": 21,
    "start_time": "2022-11-26T21:52:15.397Z"
   },
   {
    "duration": 267,
    "start_time": "2022-11-26T21:52:15.419Z"
   },
   {
    "duration": 26,
    "start_time": "2022-11-26T21:52:15.688Z"
   },
   {
    "duration": 3,
    "start_time": "2022-11-26T21:52:15.715Z"
   },
   {
    "duration": 10,
    "start_time": "2022-11-26T21:52:15.719Z"
   },
   {
    "duration": 7,
    "start_time": "2022-11-26T21:52:15.730Z"
   },
   {
    "duration": 7,
    "start_time": "2022-11-26T21:52:15.738Z"
   },
   {
    "duration": 13,
    "start_time": "2022-11-26T21:52:15.746Z"
   },
   {
    "duration": 8,
    "start_time": "2022-11-26T21:52:15.761Z"
   },
   {
    "duration": 29,
    "start_time": "2022-11-26T21:52:15.771Z"
   },
   {
    "duration": 14,
    "start_time": "2022-11-26T21:52:15.803Z"
   },
   {
    "duration": 11,
    "start_time": "2022-11-26T21:52:15.819Z"
   },
   {
    "duration": 9,
    "start_time": "2022-11-26T21:52:15.831Z"
   },
   {
    "duration": 5,
    "start_time": "2022-11-26T21:52:15.841Z"
   },
   {
    "duration": 9,
    "start_time": "2022-11-26T21:52:15.847Z"
   },
   {
    "duration": 45,
    "start_time": "2022-11-26T21:52:15.857Z"
   },
   {
    "duration": 5,
    "start_time": "2022-11-26T21:52:15.904Z"
   },
   {
    "duration": 3,
    "start_time": "2022-11-26T21:52:15.911Z"
   },
   {
    "duration": 16994,
    "start_time": "2022-11-26T21:52:15.915Z"
   },
   {
    "duration": 5,
    "start_time": "2022-11-26T21:52:32.911Z"
   },
   {
    "duration": 19,
    "start_time": "2022-11-26T21:52:32.917Z"
   },
   {
    "duration": 25,
    "start_time": "2022-11-26T21:52:32.937Z"
   },
   {
    "duration": 293,
    "start_time": "2022-11-26T21:52:32.964Z"
   },
   {
    "duration": 3,
    "start_time": "2022-11-26T21:52:33.259Z"
   },
   {
    "duration": 7,
    "start_time": "2022-11-26T21:52:33.263Z"
   },
   {
    "duration": 270,
    "start_time": "2022-11-26T21:52:33.271Z"
   },
   {
    "duration": 359,
    "start_time": "2022-11-26T21:52:33.543Z"
   },
   {
    "duration": 22,
    "start_time": "2022-11-26T21:52:33.904Z"
   },
   {
    "duration": 48,
    "start_time": "2022-11-26T21:52:33.928Z"
   },
   {
    "duration": 0,
    "start_time": "2022-11-26T21:52:33.977Z"
   },
   {
    "duration": 15,
    "start_time": "2022-11-26T21:53:30.510Z"
   },
   {
    "duration": 249,
    "start_time": "2022-11-26T21:53:58.657Z"
   },
   {
    "duration": 220,
    "start_time": "2022-11-26T21:55:06.556Z"
   },
   {
    "duration": 228,
    "start_time": "2022-11-26T21:55:17.332Z"
   },
   {
    "duration": 214,
    "start_time": "2022-11-26T21:56:01.023Z"
   },
   {
    "duration": 224,
    "start_time": "2022-11-26T22:23:26.193Z"
   },
   {
    "duration": 340,
    "start_time": "2022-11-26T22:23:40.642Z"
   },
   {
    "duration": 195,
    "start_time": "2022-11-26T22:39:06.267Z"
   },
   {
    "duration": 213,
    "start_time": "2022-11-26T22:52:09.304Z"
   },
   {
    "duration": 18,
    "start_time": "2022-11-26T22:55:03.833Z"
   },
   {
    "duration": 21,
    "start_time": "2022-11-26T22:56:37.222Z"
   },
   {
    "duration": 45,
    "start_time": "2022-11-26T22:57:05.176Z"
   },
   {
    "duration": 19,
    "start_time": "2022-11-26T22:57:14.311Z"
   },
   {
    "duration": 19,
    "start_time": "2022-11-26T22:59:05.678Z"
   },
   {
    "duration": 3,
    "start_time": "2022-11-26T22:59:45.731Z"
   },
   {
    "duration": 69,
    "start_time": "2022-11-26T22:59:45.736Z"
   },
   {
    "duration": 18,
    "start_time": "2022-11-26T22:59:45.806Z"
   },
   {
    "duration": 33,
    "start_time": "2022-11-26T22:59:57.112Z"
   },
   {
    "duration": 25,
    "start_time": "2022-11-26T23:00:08.402Z"
   },
   {
    "duration": 3,
    "start_time": "2022-11-26T23:06:22.815Z"
   },
   {
    "duration": 123,
    "start_time": "2022-11-26T23:06:22.820Z"
   },
   {
    "duration": 20,
    "start_time": "2022-11-26T23:06:22.944Z"
   },
   {
    "duration": 16,
    "start_time": "2022-11-26T23:06:22.966Z"
   },
   {
    "duration": 723,
    "start_time": "2022-11-26T23:06:22.998Z"
   },
   {
    "duration": 28,
    "start_time": "2022-11-26T23:06:23.723Z"
   },
   {
    "duration": 13,
    "start_time": "2022-11-26T23:06:23.753Z"
   },
   {
    "duration": 25,
    "start_time": "2022-11-26T23:06:23.768Z"
   },
   {
    "duration": 20,
    "start_time": "2022-11-26T23:06:23.799Z"
   },
   {
    "duration": 61,
    "start_time": "2022-11-26T23:06:23.820Z"
   },
   {
    "duration": 26,
    "start_time": "2022-11-26T23:06:23.882Z"
   },
   {
    "duration": 27,
    "start_time": "2022-11-26T23:06:23.910Z"
   },
   {
    "duration": 24,
    "start_time": "2022-11-26T23:06:23.939Z"
   },
   {
    "duration": 33,
    "start_time": "2022-11-26T23:06:23.965Z"
   },
   {
    "duration": 285,
    "start_time": "2022-11-26T23:06:24.000Z"
   },
   {
    "duration": 28,
    "start_time": "2022-11-26T23:06:24.287Z"
   },
   {
    "duration": 2,
    "start_time": "2022-11-26T23:06:24.317Z"
   },
   {
    "duration": 29,
    "start_time": "2022-11-26T23:06:24.321Z"
   },
   {
    "duration": 17,
    "start_time": "2022-11-26T23:06:24.352Z"
   },
   {
    "duration": 22,
    "start_time": "2022-11-26T23:06:24.370Z"
   },
   {
    "duration": 26,
    "start_time": "2022-11-26T23:06:24.394Z"
   },
   {
    "duration": 18,
    "start_time": "2022-11-26T23:06:24.421Z"
   },
   {
    "duration": 10,
    "start_time": "2022-11-26T23:06:24.441Z"
   },
   {
    "duration": 36,
    "start_time": "2022-11-26T23:06:24.454Z"
   },
   {
    "duration": 16,
    "start_time": "2022-11-26T23:06:24.492Z"
   },
   {
    "duration": 12,
    "start_time": "2022-11-26T23:06:24.510Z"
   },
   {
    "duration": 6,
    "start_time": "2022-11-26T23:06:24.524Z"
   },
   {
    "duration": 20,
    "start_time": "2022-11-26T23:06:24.531Z"
   },
   {
    "duration": 24,
    "start_time": "2022-11-26T23:06:24.553Z"
   },
   {
    "duration": 20,
    "start_time": "2022-11-26T23:06:24.579Z"
   },
   {
    "duration": 49,
    "start_time": "2022-11-26T23:06:24.601Z"
   },
   {
    "duration": 17259,
    "start_time": "2022-11-26T23:06:24.653Z"
   },
   {
    "duration": 5,
    "start_time": "2022-11-26T23:06:41.914Z"
   },
   {
    "duration": 9,
    "start_time": "2022-11-26T23:06:41.921Z"
   },
   {
    "duration": 19,
    "start_time": "2022-11-26T23:06:41.931Z"
   },
   {
    "duration": 479,
    "start_time": "2022-11-26T23:06:41.951Z"
   },
   {
    "duration": 3,
    "start_time": "2022-11-26T23:06:42.432Z"
   },
   {
    "duration": 6,
    "start_time": "2022-11-26T23:06:42.436Z"
   },
   {
    "duration": 307,
    "start_time": "2022-11-26T23:06:42.444Z"
   },
   {
    "duration": 228,
    "start_time": "2022-11-26T23:06:42.752Z"
   },
   {
    "duration": 236,
    "start_time": "2022-11-26T23:06:42.982Z"
   },
   {
    "duration": 221,
    "start_time": "2022-11-26T23:06:43.220Z"
   },
   {
    "duration": 237,
    "start_time": "2022-11-26T23:06:43.443Z"
   },
   {
    "duration": 25,
    "start_time": "2022-11-26T23:06:54.541Z"
   },
   {
    "duration": 19,
    "start_time": "2022-11-26T23:07:36.543Z"
   },
   {
    "duration": 206,
    "start_time": "2022-11-26T23:16:25.193Z"
   },
   {
    "duration": 23,
    "start_time": "2022-11-26T23:16:59.644Z"
   },
   {
    "duration": 15,
    "start_time": "2022-11-26T23:17:09.381Z"
   },
   {
    "duration": 6,
    "start_time": "2022-11-27T00:15:11.149Z"
   },
   {
    "duration": 13,
    "start_time": "2022-11-27T00:15:14.237Z"
   },
   {
    "duration": 11,
    "start_time": "2022-11-27T00:16:12.856Z"
   },
   {
    "duration": 14,
    "start_time": "2022-11-27T00:18:13.245Z"
   },
   {
    "duration": 361,
    "start_time": "2022-11-27T00:21:21.983Z"
   },
   {
    "duration": 15,
    "start_time": "2022-11-27T00:26:49.792Z"
   },
   {
    "duration": 12,
    "start_time": "2022-11-27T00:27:01.264Z"
   },
   {
    "duration": 206,
    "start_time": "2022-11-27T00:27:28.970Z"
   },
   {
    "duration": 213,
    "start_time": "2022-11-27T00:30:56.388Z"
   },
   {
    "duration": 237,
    "start_time": "2022-11-27T00:40:04.384Z"
   },
   {
    "duration": 212,
    "start_time": "2022-11-27T00:40:07.960Z"
   },
   {
    "duration": 3,
    "start_time": "2022-11-27T00:54:33.679Z"
   },
   {
    "duration": 69,
    "start_time": "2022-11-27T00:54:33.684Z"
   },
   {
    "duration": 18,
    "start_time": "2022-11-27T00:54:33.754Z"
   },
   {
    "duration": 28,
    "start_time": "2022-11-27T00:54:33.774Z"
   },
   {
    "duration": 860,
    "start_time": "2022-11-27T00:54:33.803Z"
   },
   {
    "duration": 38,
    "start_time": "2022-11-27T00:54:34.664Z"
   },
   {
    "duration": 5,
    "start_time": "2022-11-27T00:54:34.704Z"
   },
   {
    "duration": 11,
    "start_time": "2022-11-27T00:54:34.710Z"
   },
   {
    "duration": 12,
    "start_time": "2022-11-27T00:54:34.723Z"
   },
   {
    "duration": 16,
    "start_time": "2022-11-27T00:54:34.739Z"
   },
   {
    "duration": 48,
    "start_time": "2022-11-27T00:54:34.757Z"
   },
   {
    "duration": 7,
    "start_time": "2022-11-27T00:54:34.807Z"
   },
   {
    "duration": 12,
    "start_time": "2022-11-27T00:54:34.815Z"
   },
   {
    "duration": 25,
    "start_time": "2022-11-27T00:54:34.828Z"
   },
   {
    "duration": 281,
    "start_time": "2022-11-27T00:54:34.855Z"
   },
   {
    "duration": 19,
    "start_time": "2022-11-27T00:54:35.138Z"
   },
   {
    "duration": 5,
    "start_time": "2022-11-27T00:54:35.158Z"
   },
   {
    "duration": 12,
    "start_time": "2022-11-27T00:54:35.165Z"
   },
   {
    "duration": 32,
    "start_time": "2022-11-27T00:54:35.178Z"
   },
   {
    "duration": 9,
    "start_time": "2022-11-27T00:54:35.211Z"
   },
   {
    "duration": 20,
    "start_time": "2022-11-27T00:54:35.222Z"
   },
   {
    "duration": 17,
    "start_time": "2022-11-27T00:54:35.244Z"
   },
   {
    "duration": 24,
    "start_time": "2022-11-27T00:54:35.263Z"
   },
   {
    "duration": 36,
    "start_time": "2022-11-27T00:54:35.289Z"
   },
   {
    "duration": 12,
    "start_time": "2022-11-27T00:54:35.327Z"
   },
   {
    "duration": 17,
    "start_time": "2022-11-27T00:54:35.340Z"
   },
   {
    "duration": 11,
    "start_time": "2022-11-27T00:54:35.358Z"
   },
   {
    "duration": 9,
    "start_time": "2022-11-27T00:54:35.372Z"
   },
   {
    "duration": 21,
    "start_time": "2022-11-27T00:54:35.382Z"
   },
   {
    "duration": 13,
    "start_time": "2022-11-27T00:54:35.404Z"
   },
   {
    "duration": 14,
    "start_time": "2022-11-27T00:54:35.418Z"
   },
   {
    "duration": 16818,
    "start_time": "2022-11-27T00:54:35.433Z"
   },
   {
    "duration": 4,
    "start_time": "2022-11-27T00:54:52.253Z"
   },
   {
    "duration": 9,
    "start_time": "2022-11-27T00:54:52.259Z"
   },
   {
    "duration": 30,
    "start_time": "2022-11-27T00:54:52.270Z"
   },
   {
    "duration": 286,
    "start_time": "2022-11-27T00:54:52.302Z"
   },
   {
    "duration": 7,
    "start_time": "2022-11-27T00:54:52.590Z"
   },
   {
    "duration": 4,
    "start_time": "2022-11-27T00:54:52.598Z"
   },
   {
    "duration": 274,
    "start_time": "2022-11-27T00:54:52.603Z"
   },
   {
    "duration": 213,
    "start_time": "2022-11-27T00:54:52.878Z"
   },
   {
    "duration": 232,
    "start_time": "2022-11-27T00:54:53.092Z"
   },
   {
    "duration": 225,
    "start_time": "2022-11-27T00:54:53.326Z"
   },
   {
    "duration": 397,
    "start_time": "2022-11-27T00:54:53.553Z"
   },
   {
    "duration": 16,
    "start_time": "2022-11-27T00:54:53.952Z"
   },
   {
    "duration": 237,
    "start_time": "2022-11-27T00:54:53.969Z"
   },
   {
    "duration": 218,
    "start_time": "2022-11-27T00:54:54.207Z"
   },
   {
    "duration": 256,
    "start_time": "2022-11-27T00:54:54.426Z"
   },
   {
    "duration": 26,
    "start_time": "2022-11-27T01:16:05.253Z"
   },
   {
    "duration": 6,
    "start_time": "2022-11-27T01:16:23.928Z"
   },
   {
    "duration": 177,
    "start_time": "2022-11-27T01:21:05.356Z"
   },
   {
    "duration": 20,
    "start_time": "2022-11-27T01:22:13.647Z"
   },
   {
    "duration": 262,
    "start_time": "2022-11-27T01:23:28.684Z"
   },
   {
    "duration": 254,
    "start_time": "2022-11-27T01:26:04.820Z"
   },
   {
    "duration": 11,
    "start_time": "2022-11-27T01:37:16.957Z"
   },
   {
    "duration": 8,
    "start_time": "2022-11-27T01:45:45.646Z"
   },
   {
    "duration": 604,
    "start_time": "2022-11-27T01:45:57.501Z"
   },
   {
    "duration": 212,
    "start_time": "2022-11-27T01:46:18.464Z"
   },
   {
    "duration": 151,
    "start_time": "2022-11-27T01:48:43.943Z"
   },
   {
    "duration": 51,
    "start_time": "2022-11-27T01:49:03.424Z"
   },
   {
    "duration": 164,
    "start_time": "2022-11-27T01:50:00.437Z"
   },
   {
    "duration": 143,
    "start_time": "2022-11-27T01:51:49.041Z"
   },
   {
    "duration": 9,
    "start_time": "2022-11-27T02:01:28.149Z"
   },
   {
    "duration": 8,
    "start_time": "2022-11-27T02:01:36.534Z"
   },
   {
    "duration": 98,
    "start_time": "2022-11-27T02:01:48.162Z"
   },
   {
    "duration": 13,
    "start_time": "2022-11-27T02:03:41.965Z"
   },
   {
    "duration": 222,
    "start_time": "2022-11-27T02:03:48.782Z"
   },
   {
    "duration": 98,
    "start_time": "2022-11-27T02:05:00.706Z"
   },
   {
    "duration": 98,
    "start_time": "2022-11-27T02:05:05.778Z"
   },
   {
    "duration": 213,
    "start_time": "2022-11-27T02:10:27.010Z"
   },
   {
    "duration": 242,
    "start_time": "2022-11-27T02:10:39.002Z"
   },
   {
    "duration": 644,
    "start_time": "2022-11-27T02:11:12.347Z"
   },
   {
    "duration": 231,
    "start_time": "2022-11-27T02:11:27.029Z"
   },
   {
    "duration": 1274,
    "start_time": "2022-11-27T12:20:31.879Z"
   },
   {
    "duration": 114,
    "start_time": "2022-11-27T12:20:33.154Z"
   },
   {
    "duration": 19,
    "start_time": "2022-11-27T12:20:33.270Z"
   },
   {
    "duration": 14,
    "start_time": "2022-11-27T12:20:33.290Z"
   },
   {
    "duration": 725,
    "start_time": "2022-11-27T12:20:33.307Z"
   },
   {
    "duration": 27,
    "start_time": "2022-11-27T12:20:34.034Z"
   },
   {
    "duration": 5,
    "start_time": "2022-11-27T12:20:34.062Z"
   },
   {
    "duration": 33,
    "start_time": "2022-11-27T12:20:34.068Z"
   },
   {
    "duration": 10,
    "start_time": "2022-11-27T12:20:34.102Z"
   },
   {
    "duration": 16,
    "start_time": "2022-11-27T12:20:34.113Z"
   },
   {
    "duration": 14,
    "start_time": "2022-11-27T12:20:34.130Z"
   },
   {
    "duration": 5,
    "start_time": "2022-11-27T12:20:34.146Z"
   },
   {
    "duration": 45,
    "start_time": "2022-11-27T12:20:34.153Z"
   },
   {
    "duration": 21,
    "start_time": "2022-11-27T12:20:34.201Z"
   },
   {
    "duration": 270,
    "start_time": "2022-11-27T12:20:34.223Z"
   },
   {
    "duration": 19,
    "start_time": "2022-11-27T12:20:34.497Z"
   },
   {
    "duration": 10,
    "start_time": "2022-11-27T12:20:34.518Z"
   },
   {
    "duration": 5,
    "start_time": "2022-11-27T12:20:34.529Z"
   },
   {
    "duration": 7,
    "start_time": "2022-11-27T12:20:34.536Z"
   },
   {
    "duration": 5,
    "start_time": "2022-11-27T12:20:34.545Z"
   },
   {
    "duration": 13,
    "start_time": "2022-11-27T12:20:34.551Z"
   },
   {
    "duration": 9,
    "start_time": "2022-11-27T12:20:34.565Z"
   },
   {
    "duration": 8,
    "start_time": "2022-11-27T12:20:34.598Z"
   },
   {
    "duration": 17,
    "start_time": "2022-11-27T12:20:34.607Z"
   },
   {
    "duration": 15,
    "start_time": "2022-11-27T12:20:34.626Z"
   },
   {
    "duration": 56,
    "start_time": "2022-11-27T12:20:34.643Z"
   },
   {
    "duration": 15,
    "start_time": "2022-11-27T12:20:34.701Z"
   },
   {
    "duration": 17,
    "start_time": "2022-11-27T12:20:34.718Z"
   },
   {
    "duration": 16,
    "start_time": "2022-11-27T12:20:34.737Z"
   },
   {
    "duration": 7,
    "start_time": "2022-11-27T12:20:34.757Z"
   },
   {
    "duration": 14,
    "start_time": "2022-11-27T12:20:34.765Z"
   },
   {
    "duration": 16616,
    "start_time": "2022-11-27T12:20:34.781Z"
   },
   {
    "duration": 5,
    "start_time": "2022-11-27T12:20:51.398Z"
   },
   {
    "duration": 7,
    "start_time": "2022-11-27T12:20:51.405Z"
   },
   {
    "duration": 16,
    "start_time": "2022-11-27T12:20:51.413Z"
   },
   {
    "duration": 390,
    "start_time": "2022-11-27T12:20:51.431Z"
   },
   {
    "duration": 4,
    "start_time": "2022-11-27T12:20:51.823Z"
   },
   {
    "duration": 10,
    "start_time": "2022-11-27T12:20:51.829Z"
   },
   {
    "duration": 124,
    "start_time": "2022-11-27T12:20:51.841Z"
   },
   {
    "duration": 0,
    "start_time": "2022-11-27T12:20:51.968Z"
   },
   {
    "duration": 0,
    "start_time": "2022-11-27T12:20:51.969Z"
   },
   {
    "duration": 0,
    "start_time": "2022-11-27T12:20:51.970Z"
   },
   {
    "duration": 0,
    "start_time": "2022-11-27T12:20:51.971Z"
   },
   {
    "duration": 0,
    "start_time": "2022-11-27T12:20:51.972Z"
   },
   {
    "duration": 0,
    "start_time": "2022-11-27T12:20:51.974Z"
   },
   {
    "duration": 0,
    "start_time": "2022-11-27T12:20:51.975Z"
   },
   {
    "duration": 0,
    "start_time": "2022-11-27T12:20:51.976Z"
   },
   {
    "duration": 0,
    "start_time": "2022-11-27T12:20:51.977Z"
   },
   {
    "duration": 4,
    "start_time": "2022-11-27T12:22:16.098Z"
   },
   {
    "duration": 4,
    "start_time": "2022-11-27T12:22:17.555Z"
   },
   {
    "duration": 10,
    "start_time": "2022-11-27T12:22:18.755Z"
   },
   {
    "duration": 233,
    "start_time": "2022-11-27T12:22:42.947Z"
   },
   {
    "duration": 3,
    "start_time": "2022-11-27T12:24:48.251Z"
   },
   {
    "duration": 3,
    "start_time": "2022-11-27T12:24:49.026Z"
   },
   {
    "duration": 7,
    "start_time": "2022-11-27T12:24:49.651Z"
   },
   {
    "duration": 4,
    "start_time": "2022-11-27T12:33:12.044Z"
   },
   {
    "duration": 3,
    "start_time": "2022-11-27T12:33:13.837Z"
   },
   {
    "duration": 246,
    "start_time": "2022-11-27T12:33:15.140Z"
   },
   {
    "duration": 3,
    "start_time": "2022-11-27T12:33:53.302Z"
   },
   {
    "duration": 3,
    "start_time": "2022-11-27T12:33:53.878Z"
   },
   {
    "duration": 240,
    "start_time": "2022-11-27T12:33:54.799Z"
   },
   {
    "duration": 5,
    "start_time": "2022-11-27T12:34:40.745Z"
   },
   {
    "duration": 4,
    "start_time": "2022-11-27T12:34:41.336Z"
   },
   {
    "duration": 243,
    "start_time": "2022-11-27T12:34:42.008Z"
   },
   {
    "duration": 3,
    "start_time": "2022-11-27T12:35:03.557Z"
   },
   {
    "duration": 104,
    "start_time": "2022-11-27T12:35:03.562Z"
   },
   {
    "duration": 19,
    "start_time": "2022-11-27T12:35:03.668Z"
   },
   {
    "duration": 25,
    "start_time": "2022-11-27T12:35:03.689Z"
   },
   {
    "duration": 753,
    "start_time": "2022-11-27T12:35:03.715Z"
   },
   {
    "duration": 36,
    "start_time": "2022-11-27T12:35:04.469Z"
   },
   {
    "duration": 4,
    "start_time": "2022-11-27T12:35:04.506Z"
   },
   {
    "duration": 45,
    "start_time": "2022-11-27T12:35:04.511Z"
   },
   {
    "duration": 31,
    "start_time": "2022-11-27T12:35:04.558Z"
   },
   {
    "duration": 44,
    "start_time": "2022-11-27T12:35:04.590Z"
   },
   {
    "duration": 41,
    "start_time": "2022-11-27T12:35:04.635Z"
   },
   {
    "duration": 25,
    "start_time": "2022-11-27T12:35:04.678Z"
   },
   {
    "duration": 41,
    "start_time": "2022-11-27T12:35:04.704Z"
   },
   {
    "duration": 47,
    "start_time": "2022-11-27T12:35:04.747Z"
   },
   {
    "duration": 324,
    "start_time": "2022-11-27T12:35:04.796Z"
   },
   {
    "duration": 20,
    "start_time": "2022-11-27T12:35:05.121Z"
   },
   {
    "duration": 32,
    "start_time": "2022-11-27T12:35:05.142Z"
   },
   {
    "duration": 34,
    "start_time": "2022-11-27T12:35:05.175Z"
   },
   {
    "duration": 37,
    "start_time": "2022-11-27T12:35:05.210Z"
   },
   {
    "duration": 39,
    "start_time": "2022-11-27T12:35:05.249Z"
   },
   {
    "duration": 36,
    "start_time": "2022-11-27T12:35:05.289Z"
   },
   {
    "duration": 24,
    "start_time": "2022-11-27T12:35:05.327Z"
   },
   {
    "duration": 45,
    "start_time": "2022-11-27T12:35:05.353Z"
   },
   {
    "duration": 56,
    "start_time": "2022-11-27T12:35:05.402Z"
   },
   {
    "duration": 26,
    "start_time": "2022-11-27T12:35:05.460Z"
   },
   {
    "duration": 24,
    "start_time": "2022-11-27T12:35:05.488Z"
   },
   {
    "duration": 18,
    "start_time": "2022-11-27T12:35:05.514Z"
   },
   {
    "duration": 13,
    "start_time": "2022-11-27T12:35:05.533Z"
   },
   {
    "duration": 36,
    "start_time": "2022-11-27T12:35:05.548Z"
   },
   {
    "duration": 27,
    "start_time": "2022-11-27T12:35:05.586Z"
   },
   {
    "duration": 27,
    "start_time": "2022-11-27T12:35:05.615Z"
   },
   {
    "duration": 16998,
    "start_time": "2022-11-27T12:35:05.644Z"
   },
   {
    "duration": 5,
    "start_time": "2022-11-27T12:35:22.644Z"
   },
   {
    "duration": 13,
    "start_time": "2022-11-27T12:35:22.650Z"
   },
   {
    "duration": 18,
    "start_time": "2022-11-27T12:35:22.664Z"
   },
   {
    "duration": 274,
    "start_time": "2022-11-27T12:35:22.698Z"
   },
   {
    "duration": 3,
    "start_time": "2022-11-27T12:35:22.974Z"
   },
   {
    "duration": 9,
    "start_time": "2022-11-27T12:35:22.978Z"
   },
   {
    "duration": 243,
    "start_time": "2022-11-27T12:35:22.997Z"
   },
   {
    "duration": 208,
    "start_time": "2022-11-27T12:35:23.241Z"
   },
   {
    "duration": 220,
    "start_time": "2022-11-27T12:35:23.450Z"
   },
   {
    "duration": 307,
    "start_time": "2022-11-27T12:35:23.672Z"
   },
   {
    "duration": 224,
    "start_time": "2022-11-27T12:35:23.981Z"
   },
   {
    "duration": 15,
    "start_time": "2022-11-27T12:35:24.207Z"
   },
   {
    "duration": 223,
    "start_time": "2022-11-27T12:35:24.223Z"
   },
   {
    "duration": 200,
    "start_time": "2022-11-27T12:35:24.448Z"
   },
   {
    "duration": 211,
    "start_time": "2022-11-27T12:35:24.649Z"
   },
   {
    "duration": 329,
    "start_time": "2022-11-27T12:35:24.862Z"
   },
   {
    "duration": 350,
    "start_time": "2022-11-27T12:40:33.514Z"
   },
   {
    "duration": 246,
    "start_time": "2022-11-27T12:40:45.378Z"
   },
   {
    "duration": 266,
    "start_time": "2022-11-27T12:41:19.925Z"
   },
   {
    "duration": 680,
    "start_time": "2022-11-27T12:41:50.070Z"
   },
   {
    "duration": 423,
    "start_time": "2022-11-27T12:42:20.168Z"
   },
   {
    "duration": 356,
    "start_time": "2022-11-27T12:42:29.424Z"
   },
   {
    "duration": 248,
    "start_time": "2022-11-27T12:42:35.897Z"
   },
   {
    "duration": 213,
    "start_time": "2022-11-27T12:42:45.322Z"
   },
   {
    "duration": 258,
    "start_time": "2022-11-27T12:42:54.025Z"
   },
   {
    "duration": 263,
    "start_time": "2022-11-27T12:44:35.830Z"
   },
   {
    "duration": 257,
    "start_time": "2022-11-27T12:44:56.320Z"
   },
   {
    "duration": 434,
    "start_time": "2022-11-27T12:45:04.456Z"
   },
   {
    "duration": 358,
    "start_time": "2022-11-27T12:45:16.914Z"
   },
   {
    "duration": 283,
    "start_time": "2022-11-27T12:45:27.306Z"
   },
   {
    "duration": 269,
    "start_time": "2022-11-27T12:45:37.138Z"
   },
   {
    "duration": 256,
    "start_time": "2022-11-27T12:46:02.523Z"
   },
   {
    "duration": 317,
    "start_time": "2022-11-27T12:51:57.020Z"
   },
   {
    "duration": 249,
    "start_time": "2022-11-27T12:52:13.117Z"
   },
   {
    "duration": 3,
    "start_time": "2022-11-27T13:32:16.721Z"
   },
   {
    "duration": 63,
    "start_time": "2022-11-27T13:32:16.727Z"
   },
   {
    "duration": 18,
    "start_time": "2022-11-27T13:32:16.791Z"
   },
   {
    "duration": 13,
    "start_time": "2022-11-27T13:32:16.810Z"
   },
   {
    "duration": 647,
    "start_time": "2022-11-27T13:32:16.825Z"
   },
   {
    "duration": 34,
    "start_time": "2022-11-27T13:32:17.473Z"
   },
   {
    "duration": 4,
    "start_time": "2022-11-27T13:32:17.509Z"
   },
   {
    "duration": 14,
    "start_time": "2022-11-27T13:32:17.514Z"
   },
   {
    "duration": 12,
    "start_time": "2022-11-27T13:32:17.529Z"
   },
   {
    "duration": 16,
    "start_time": "2022-11-27T13:32:17.542Z"
   },
   {
    "duration": 38,
    "start_time": "2022-11-27T13:32:17.559Z"
   },
   {
    "duration": 6,
    "start_time": "2022-11-27T13:32:17.599Z"
   },
   {
    "duration": 15,
    "start_time": "2022-11-27T13:32:17.607Z"
   },
   {
    "duration": 27,
    "start_time": "2022-11-27T13:32:17.623Z"
   },
   {
    "duration": 251,
    "start_time": "2022-11-27T13:32:17.652Z"
   },
   {
    "duration": 20,
    "start_time": "2022-11-27T13:32:17.904Z"
   },
   {
    "duration": 5,
    "start_time": "2022-11-27T13:32:17.925Z"
   },
   {
    "duration": 6,
    "start_time": "2022-11-27T13:32:17.932Z"
   },
   {
    "duration": 18,
    "start_time": "2022-11-27T13:32:17.939Z"
   },
   {
    "duration": 7,
    "start_time": "2022-11-27T13:32:17.959Z"
   },
   {
    "duration": 31,
    "start_time": "2022-11-27T13:32:17.968Z"
   },
   {
    "duration": 10,
    "start_time": "2022-11-27T13:32:18.000Z"
   },
   {
    "duration": 9,
    "start_time": "2022-11-27T13:32:18.011Z"
   },
   {
    "duration": 18,
    "start_time": "2022-11-27T13:32:18.022Z"
   },
   {
    "duration": 14,
    "start_time": "2022-11-27T13:32:18.041Z"
   },
   {
    "duration": 47,
    "start_time": "2022-11-27T13:32:18.056Z"
   },
   {
    "duration": 5,
    "start_time": "2022-11-27T13:32:18.105Z"
   },
   {
    "duration": 9,
    "start_time": "2022-11-27T13:32:18.112Z"
   },
   {
    "duration": 9,
    "start_time": "2022-11-27T13:32:18.122Z"
   },
   {
    "duration": 7,
    "start_time": "2022-11-27T13:32:18.132Z"
   },
   {
    "duration": 3,
    "start_time": "2022-11-27T13:32:18.140Z"
   },
   {
    "duration": 17004,
    "start_time": "2022-11-27T13:32:18.145Z"
   },
   {
    "duration": 5,
    "start_time": "2022-11-27T13:32:35.151Z"
   },
   {
    "duration": 10,
    "start_time": "2022-11-27T13:32:35.157Z"
   },
   {
    "duration": 33,
    "start_time": "2022-11-27T13:32:35.169Z"
   },
   {
    "duration": 356,
    "start_time": "2022-11-27T13:32:35.203Z"
   },
   {
    "duration": 3,
    "start_time": "2022-11-27T13:32:35.562Z"
   },
   {
    "duration": 9,
    "start_time": "2022-11-27T13:32:35.567Z"
   },
   {
    "duration": 383,
    "start_time": "2022-11-27T13:32:35.577Z"
   },
   {
    "duration": 235,
    "start_time": "2022-11-27T13:32:35.961Z"
   },
   {
    "duration": 245,
    "start_time": "2022-11-27T13:32:36.197Z"
   },
   {
    "duration": 226,
    "start_time": "2022-11-27T13:32:36.443Z"
   },
   {
    "duration": 229,
    "start_time": "2022-11-27T13:32:36.670Z"
   },
   {
    "duration": 16,
    "start_time": "2022-11-27T13:32:36.901Z"
   },
   {
    "duration": 270,
    "start_time": "2022-11-27T13:32:36.918Z"
   },
   {
    "duration": 344,
    "start_time": "2022-11-27T13:32:37.196Z"
   },
   {
    "duration": 242,
    "start_time": "2022-11-27T13:32:37.542Z"
   },
   {
    "duration": 236,
    "start_time": "2022-11-27T13:32:43.615Z"
   },
   {
    "duration": 3,
    "start_time": "2022-11-27T13:32:59.740Z"
   },
   {
    "duration": 66,
    "start_time": "2022-11-27T13:32:59.745Z"
   },
   {
    "duration": 19,
    "start_time": "2022-11-27T13:32:59.813Z"
   },
   {
    "duration": 12,
    "start_time": "2022-11-27T13:32:59.835Z"
   },
   {
    "duration": 728,
    "start_time": "2022-11-27T13:32:59.849Z"
   },
   {
    "duration": 35,
    "start_time": "2022-11-27T13:33:00.578Z"
   },
   {
    "duration": 11,
    "start_time": "2022-11-27T13:33:00.614Z"
   },
   {
    "duration": 35,
    "start_time": "2022-11-27T13:33:00.626Z"
   },
   {
    "duration": 33,
    "start_time": "2022-11-27T13:33:00.662Z"
   },
   {
    "duration": 19,
    "start_time": "2022-11-27T13:33:00.698Z"
   },
   {
    "duration": 37,
    "start_time": "2022-11-27T13:33:00.719Z"
   },
   {
    "duration": 41,
    "start_time": "2022-11-27T13:33:00.758Z"
   },
   {
    "duration": 28,
    "start_time": "2022-11-27T13:33:00.800Z"
   },
   {
    "duration": 38,
    "start_time": "2022-11-27T13:33:00.829Z"
   },
   {
    "duration": 271,
    "start_time": "2022-11-27T13:33:00.869Z"
   },
   {
    "duration": 22,
    "start_time": "2022-11-27T13:33:01.142Z"
   },
   {
    "duration": 10,
    "start_time": "2022-11-27T13:33:01.166Z"
   },
   {
    "duration": 9,
    "start_time": "2022-11-27T13:33:01.177Z"
   },
   {
    "duration": 17,
    "start_time": "2022-11-27T13:33:01.187Z"
   },
   {
    "duration": 35,
    "start_time": "2022-11-27T13:33:01.206Z"
   },
   {
    "duration": 34,
    "start_time": "2022-11-27T13:33:01.242Z"
   },
   {
    "duration": 24,
    "start_time": "2022-11-27T13:33:01.278Z"
   },
   {
    "duration": 35,
    "start_time": "2022-11-27T13:33:01.303Z"
   },
   {
    "duration": 22,
    "start_time": "2022-11-27T13:33:01.339Z"
   },
   {
    "duration": 13,
    "start_time": "2022-11-27T13:33:01.363Z"
   },
   {
    "duration": 11,
    "start_time": "2022-11-27T13:33:01.378Z"
   },
   {
    "duration": 47,
    "start_time": "2022-11-27T13:33:01.391Z"
   },
   {
    "duration": 33,
    "start_time": "2022-11-27T13:33:01.443Z"
   },
   {
    "duration": 30,
    "start_time": "2022-11-27T13:33:01.477Z"
   },
   {
    "duration": 73,
    "start_time": "2022-11-27T13:33:01.509Z"
   },
   {
    "duration": 32,
    "start_time": "2022-11-27T13:33:01.584Z"
   },
   {
    "duration": 17035,
    "start_time": "2022-11-27T13:33:01.618Z"
   },
   {
    "duration": 6,
    "start_time": "2022-11-27T13:33:18.654Z"
   },
   {
    "duration": 10,
    "start_time": "2022-11-27T13:33:18.661Z"
   },
   {
    "duration": 26,
    "start_time": "2022-11-27T13:33:18.673Z"
   },
   {
    "duration": 279,
    "start_time": "2022-11-27T13:33:18.701Z"
   },
   {
    "duration": 4,
    "start_time": "2022-11-27T13:33:18.982Z"
   },
   {
    "duration": 6,
    "start_time": "2022-11-27T13:33:18.997Z"
   },
   {
    "duration": 253,
    "start_time": "2022-11-27T13:33:19.005Z"
   },
   {
    "duration": 208,
    "start_time": "2022-11-27T13:33:19.260Z"
   },
   {
    "duration": 224,
    "start_time": "2022-11-27T13:33:19.470Z"
   },
   {
    "duration": 208,
    "start_time": "2022-11-27T13:33:19.697Z"
   },
   {
    "duration": 245,
    "start_time": "2022-11-27T13:33:19.906Z"
   },
   {
    "duration": 13,
    "start_time": "2022-11-27T13:33:20.153Z"
   },
   {
    "duration": 336,
    "start_time": "2022-11-27T13:33:20.167Z"
   },
   {
    "duration": 209,
    "start_time": "2022-11-27T13:33:20.505Z"
   },
   {
    "duration": 217,
    "start_time": "2022-11-27T13:33:20.715Z"
   },
   {
    "duration": 230,
    "start_time": "2022-11-27T13:33:29.457Z"
   },
   {
    "duration": 226,
    "start_time": "2022-11-27T13:34:28.845Z"
   },
   {
    "duration": 27,
    "start_time": "2022-11-27T14:11:11.221Z"
   },
   {
    "duration": 11,
    "start_time": "2022-11-27T14:11:37.608Z"
   },
   {
    "duration": 15,
    "start_time": "2022-11-27T14:12:35.682Z"
   },
   {
    "duration": 3,
    "start_time": "2022-11-27T14:12:46.014Z"
   },
   {
    "duration": 67,
    "start_time": "2022-11-27T14:12:46.019Z"
   },
   {
    "duration": 18,
    "start_time": "2022-11-27T14:12:46.087Z"
   },
   {
    "duration": 13,
    "start_time": "2022-11-27T14:12:46.107Z"
   },
   {
    "duration": 809,
    "start_time": "2022-11-27T14:12:46.121Z"
   },
   {
    "duration": 29,
    "start_time": "2022-11-27T14:12:46.932Z"
   },
   {
    "duration": 5,
    "start_time": "2022-11-27T14:12:46.963Z"
   },
   {
    "duration": 8,
    "start_time": "2022-11-27T14:12:46.998Z"
   },
   {
    "duration": 14,
    "start_time": "2022-11-27T14:12:47.008Z"
   },
   {
    "duration": 22,
    "start_time": "2022-11-27T14:12:47.023Z"
   },
   {
    "duration": 11,
    "start_time": "2022-11-27T14:12:47.046Z"
   },
   {
    "duration": 7,
    "start_time": "2022-11-27T14:12:47.058Z"
   },
   {
    "duration": 33,
    "start_time": "2022-11-27T14:12:47.066Z"
   },
   {
    "duration": 28,
    "start_time": "2022-11-27T14:12:47.102Z"
   },
   {
    "duration": 268,
    "start_time": "2022-11-27T14:12:47.131Z"
   },
   {
    "duration": 20,
    "start_time": "2022-11-27T14:12:47.401Z"
   },
   {
    "duration": 2,
    "start_time": "2022-11-27T14:12:47.422Z"
   },
   {
    "duration": 23,
    "start_time": "2022-11-27T14:12:47.426Z"
   },
   {
    "duration": 19,
    "start_time": "2022-11-27T14:12:47.450Z"
   },
   {
    "duration": 16,
    "start_time": "2022-11-27T14:12:47.471Z"
   },
   {
    "duration": 37,
    "start_time": "2022-11-27T14:12:47.489Z"
   },
   {
    "duration": 20,
    "start_time": "2022-11-27T14:12:47.528Z"
   },
   {
    "duration": 12,
    "start_time": "2022-11-27T14:12:47.550Z"
   },
   {
    "duration": 23,
    "start_time": "2022-11-27T14:12:47.565Z"
   },
   {
    "duration": 13,
    "start_time": "2022-11-27T14:12:47.590Z"
   },
   {
    "duration": 13,
    "start_time": "2022-11-27T14:12:47.605Z"
   },
   {
    "duration": 15,
    "start_time": "2022-11-27T14:12:47.619Z"
   },
   {
    "duration": 10,
    "start_time": "2022-11-27T14:12:47.635Z"
   },
   {
    "duration": 19,
    "start_time": "2022-11-27T14:12:47.647Z"
   },
   {
    "duration": 22,
    "start_time": "2022-11-27T14:12:47.668Z"
   },
   {
    "duration": 18,
    "start_time": "2022-11-27T14:12:47.692Z"
   },
   {
    "duration": 16900,
    "start_time": "2022-11-27T14:12:47.711Z"
   },
   {
    "duration": 5,
    "start_time": "2022-11-27T14:13:04.613Z"
   },
   {
    "duration": 12,
    "start_time": "2022-11-27T14:13:04.619Z"
   },
   {
    "duration": 32,
    "start_time": "2022-11-27T14:13:04.632Z"
   },
   {
    "duration": 350,
    "start_time": "2022-11-27T14:13:04.666Z"
   },
   {
    "duration": 3,
    "start_time": "2022-11-27T14:13:05.017Z"
   },
   {
    "duration": 7,
    "start_time": "2022-11-27T14:13:05.021Z"
   },
   {
    "duration": 246,
    "start_time": "2022-11-27T14:13:05.029Z"
   },
   {
    "duration": 211,
    "start_time": "2022-11-27T14:13:05.277Z"
   },
   {
    "duration": 250,
    "start_time": "2022-11-27T14:13:05.490Z"
   },
   {
    "duration": 336,
    "start_time": "2022-11-27T14:13:05.742Z"
   },
   {
    "duration": 226,
    "start_time": "2022-11-27T14:13:06.080Z"
   },
   {
    "duration": 13,
    "start_time": "2022-11-27T14:13:06.307Z"
   },
   {
    "duration": 238,
    "start_time": "2022-11-27T14:13:06.322Z"
   },
   {
    "duration": 220,
    "start_time": "2022-11-27T14:13:06.561Z"
   },
   {
    "duration": 231,
    "start_time": "2022-11-27T14:13:06.783Z"
   },
   {
    "duration": 259,
    "start_time": "2022-11-27T14:13:07.016Z"
   },
   {
    "duration": 366,
    "start_time": "2022-11-27T14:13:07.277Z"
   },
   {
    "duration": 13,
    "start_time": "2022-11-27T14:13:24.988Z"
   },
   {
    "duration": 144,
    "start_time": "2022-11-27T14:17:38.753Z"
   },
   {
    "duration": 130,
    "start_time": "2022-11-27T14:19:01.317Z"
   },
   {
    "duration": 10,
    "start_time": "2022-11-27T14:22:38.858Z"
   },
   {
    "duration": 134,
    "start_time": "2022-11-27T14:24:57.392Z"
   },
   {
    "duration": 125,
    "start_time": "2022-11-27T14:28:04.258Z"
   },
   {
    "duration": 143,
    "start_time": "2022-11-27T14:28:21.874Z"
   },
   {
    "duration": 126,
    "start_time": "2022-11-27T14:28:29.573Z"
   },
   {
    "duration": 158,
    "start_time": "2022-11-27T14:42:35.533Z"
   },
   {
    "duration": 145,
    "start_time": "2022-11-27T14:42:39.678Z"
   },
   {
    "duration": 9,
    "start_time": "2022-11-27T14:42:45.727Z"
   },
   {
    "duration": 135,
    "start_time": "2022-11-27T14:51:29.572Z"
   },
   {
    "duration": 10,
    "start_time": "2022-11-27T14:51:32.258Z"
   },
   {
    "duration": 123,
    "start_time": "2022-11-27T14:55:25.133Z"
   },
   {
    "duration": 12,
    "start_time": "2022-11-27T14:55:26.797Z"
   },
   {
    "duration": 43,
    "start_time": "2022-11-27T14:56:53.802Z"
   },
   {
    "duration": 138,
    "start_time": "2022-11-27T14:58:00.718Z"
   },
   {
    "duration": 9,
    "start_time": "2022-11-27T14:58:03.974Z"
   },
   {
    "duration": 65,
    "start_time": "2022-11-27T15:12:21.463Z"
   },
   {
    "duration": 1105,
    "start_time": "2022-11-27T15:12:51.592Z"
   },
   {
    "duration": 74,
    "start_time": "2022-11-27T15:12:52.699Z"
   },
   {
    "duration": 21,
    "start_time": "2022-11-27T15:12:52.774Z"
   },
   {
    "duration": 14,
    "start_time": "2022-11-27T15:12:52.796Z"
   },
   {
    "duration": 695,
    "start_time": "2022-11-27T15:12:52.812Z"
   },
   {
    "duration": 27,
    "start_time": "2022-11-27T15:12:53.509Z"
   },
   {
    "duration": 12,
    "start_time": "2022-11-27T15:12:53.537Z"
   },
   {
    "duration": 9,
    "start_time": "2022-11-27T15:12:53.551Z"
   },
   {
    "duration": 11,
    "start_time": "2022-11-27T15:12:53.561Z"
   },
   {
    "duration": 16,
    "start_time": "2022-11-27T15:12:53.597Z"
   },
   {
    "duration": 13,
    "start_time": "2022-11-27T15:12:53.614Z"
   },
   {
    "duration": 6,
    "start_time": "2022-11-27T15:12:53.628Z"
   },
   {
    "duration": 9,
    "start_time": "2022-11-27T15:12:53.635Z"
   },
   {
    "duration": 51,
    "start_time": "2022-11-27T15:12:53.647Z"
   },
   {
    "duration": 273,
    "start_time": "2022-11-27T15:12:53.700Z"
   },
   {
    "duration": 28,
    "start_time": "2022-11-27T15:12:53.975Z"
   },
   {
    "duration": 2,
    "start_time": "2022-11-27T15:12:54.005Z"
   },
   {
    "duration": 7,
    "start_time": "2022-11-27T15:12:54.008Z"
   },
   {
    "duration": 5,
    "start_time": "2022-11-27T15:12:54.017Z"
   },
   {
    "duration": 5,
    "start_time": "2022-11-27T15:12:54.023Z"
   },
   {
    "duration": 14,
    "start_time": "2022-11-27T15:12:54.029Z"
   },
   {
    "duration": 8,
    "start_time": "2022-11-27T15:12:54.044Z"
   },
   {
    "duration": 9,
    "start_time": "2022-11-27T15:12:54.053Z"
   },
   {
    "duration": 48,
    "start_time": "2022-11-27T15:12:54.064Z"
   },
   {
    "duration": 12,
    "start_time": "2022-11-27T15:12:54.114Z"
   },
   {
    "duration": 10,
    "start_time": "2022-11-27T15:12:54.128Z"
   },
   {
    "duration": 5,
    "start_time": "2022-11-27T15:12:54.140Z"
   },
   {
    "duration": 7,
    "start_time": "2022-11-27T15:12:54.146Z"
   },
   {
    "duration": 9,
    "start_time": "2022-11-27T15:12:54.154Z"
   },
   {
    "duration": 36,
    "start_time": "2022-11-27T15:12:54.164Z"
   },
   {
    "duration": 10,
    "start_time": "2022-11-27T15:12:54.201Z"
   },
   {
    "duration": 16426,
    "start_time": "2022-11-27T15:12:54.212Z"
   },
   {
    "duration": 5,
    "start_time": "2022-11-27T15:13:10.640Z"
   },
   {
    "duration": 6,
    "start_time": "2022-11-27T15:13:10.647Z"
   },
   {
    "duration": 17,
    "start_time": "2022-11-27T15:13:10.654Z"
   },
   {
    "duration": 291,
    "start_time": "2022-11-27T15:13:10.672Z"
   },
   {
    "duration": 3,
    "start_time": "2022-11-27T15:13:10.964Z"
   },
   {
    "duration": 7,
    "start_time": "2022-11-27T15:13:10.969Z"
   },
   {
    "duration": 257,
    "start_time": "2022-11-27T15:13:10.977Z"
   },
   {
    "duration": 290,
    "start_time": "2022-11-27T15:13:11.235Z"
   },
   {
    "duration": 218,
    "start_time": "2022-11-27T15:13:11.529Z"
   },
   {
    "duration": 209,
    "start_time": "2022-11-27T15:13:11.749Z"
   },
   {
    "duration": 218,
    "start_time": "2022-11-27T15:13:11.959Z"
   },
   {
    "duration": 26,
    "start_time": "2022-11-27T15:13:12.179Z"
   },
   {
    "duration": 228,
    "start_time": "2022-11-27T15:13:12.206Z"
   },
   {
    "duration": 287,
    "start_time": "2022-11-27T15:13:12.436Z"
   },
   {
    "duration": 219,
    "start_time": "2022-11-27T15:13:12.724Z"
   },
   {
    "duration": 253,
    "start_time": "2022-11-27T15:13:12.944Z"
   },
   {
    "duration": 238,
    "start_time": "2022-11-27T15:13:13.199Z"
   },
   {
    "duration": 12,
    "start_time": "2022-11-27T15:13:13.439Z"
   },
   {
    "duration": 144,
    "start_time": "2022-11-27T15:13:13.453Z"
   },
   {
    "duration": 9,
    "start_time": "2022-11-27T15:13:13.599Z"
   },
   {
    "duration": 132,
    "start_time": "2022-11-27T15:13:13.609Z"
   },
   {
    "duration": 9,
    "start_time": "2022-11-27T15:13:13.742Z"
   },
   {
    "duration": 131,
    "start_time": "2022-11-27T15:13:13.752Z"
   },
   {
    "duration": 20,
    "start_time": "2022-11-27T15:13:13.884Z"
   },
   {
    "duration": 150,
    "start_time": "2022-11-27T15:13:13.905Z"
   },
   {
    "duration": 11,
    "start_time": "2022-11-27T15:13:14.056Z"
   },
   {
    "duration": 47,
    "start_time": "2022-11-27T15:19:51.765Z"
   },
   {
    "duration": 311,
    "start_time": "2022-11-27T15:20:23.263Z"
   },
   {
    "duration": 45,
    "start_time": "2022-11-27T15:20:39.167Z"
   },
   {
    "duration": 48,
    "start_time": "2022-11-27T15:20:46.512Z"
   },
   {
    "duration": 42,
    "start_time": "2022-11-27T15:20:51.801Z"
   },
   {
    "duration": 61,
    "start_time": "2022-11-27T15:20:55.891Z"
   },
   {
    "duration": 4,
    "start_time": "2022-11-27T15:23:04.695Z"
   },
   {
    "duration": 3,
    "start_time": "2022-11-27T15:23:12.903Z"
   },
   {
    "duration": 408,
    "start_time": "2022-11-27T15:23:44.145Z"
   },
   {
    "duration": 308,
    "start_time": "2022-11-27T15:26:20.585Z"
   },
   {
    "duration": 319,
    "start_time": "2022-11-27T15:26:25.049Z"
   },
   {
    "duration": 360,
    "start_time": "2022-11-27T15:26:34.290Z"
   },
   {
    "duration": 363,
    "start_time": "2022-11-27T15:26:51.602Z"
   },
   {
    "duration": 94,
    "start_time": "2022-11-27T16:46:35.037Z"
   },
   {
    "duration": 11,
    "start_time": "2022-11-27T16:47:57.882Z"
   },
   {
    "duration": 14,
    "start_time": "2022-11-27T16:48:33.499Z"
   },
   {
    "duration": 152,
    "start_time": "2022-11-27T16:48:50.947Z"
   },
   {
    "duration": 224,
    "start_time": "2022-11-27T16:55:58.401Z"
   },
   {
    "duration": 151,
    "start_time": "2022-11-27T17:01:23.138Z"
   },
   {
    "duration": 179,
    "start_time": "2022-11-27T17:20:50.117Z"
   },
   {
    "duration": 13,
    "start_time": "2022-11-27T17:22:47.267Z"
   },
   {
    "duration": 15,
    "start_time": "2022-11-27T17:24:10.519Z"
   },
   {
    "duration": 12,
    "start_time": "2022-11-27T17:24:20.896Z"
   },
   {
    "duration": 2,
    "start_time": "2022-11-27T17:27:11.569Z"
   },
   {
    "duration": 15,
    "start_time": "2022-11-27T17:27:51.625Z"
   },
   {
    "duration": 19,
    "start_time": "2022-11-27T17:30:21.354Z"
   },
   {
    "duration": 16,
    "start_time": "2022-11-27T17:30:54.794Z"
   },
   {
    "duration": 13,
    "start_time": "2022-11-27T17:33:59.660Z"
   },
   {
    "duration": 193,
    "start_time": "2022-11-27T17:42:53.527Z"
   },
   {
    "duration": 222,
    "start_time": "2022-11-27T17:43:55.138Z"
   },
   {
    "duration": 270,
    "start_time": "2022-11-27T17:50:02.430Z"
   },
   {
    "duration": 15,
    "start_time": "2022-11-27T18:46:36.272Z"
   },
   {
    "duration": 9,
    "start_time": "2022-11-27T18:47:11.658Z"
   },
   {
    "duration": 11,
    "start_time": "2022-11-27T18:53:01.308Z"
   },
   {
    "duration": 8,
    "start_time": "2022-11-27T18:53:36.350Z"
   },
   {
    "duration": 9,
    "start_time": "2022-11-27T18:53:50.095Z"
   },
   {
    "duration": 11,
    "start_time": "2022-11-27T18:54:00.127Z"
   },
   {
    "duration": 17,
    "start_time": "2022-11-27T18:55:33.804Z"
   },
   {
    "duration": 9,
    "start_time": "2022-11-27T18:55:43.652Z"
   },
   {
    "duration": 8,
    "start_time": "2022-11-27T19:38:56.158Z"
   },
   {
    "duration": 1081,
    "start_time": "2022-11-27T19:58:27.334Z"
   },
   {
    "duration": 69,
    "start_time": "2022-11-27T19:58:28.417Z"
   },
   {
    "duration": 18,
    "start_time": "2022-11-27T19:58:28.488Z"
   },
   {
    "duration": 13,
    "start_time": "2022-11-27T19:58:28.509Z"
   },
   {
    "duration": 702,
    "start_time": "2022-11-27T19:58:28.523Z"
   },
   {
    "duration": 26,
    "start_time": "2022-11-27T19:58:29.226Z"
   },
   {
    "duration": 5,
    "start_time": "2022-11-27T19:58:29.254Z"
   },
   {
    "duration": 9,
    "start_time": "2022-11-27T19:58:29.261Z"
   },
   {
    "duration": 33,
    "start_time": "2022-11-27T19:58:29.272Z"
   },
   {
    "duration": 18,
    "start_time": "2022-11-27T19:58:29.307Z"
   },
   {
    "duration": 13,
    "start_time": "2022-11-27T19:58:29.326Z"
   },
   {
    "duration": 5,
    "start_time": "2022-11-27T19:58:29.341Z"
   },
   {
    "duration": 9,
    "start_time": "2022-11-27T19:58:29.348Z"
   },
   {
    "duration": 54,
    "start_time": "2022-11-27T19:58:29.358Z"
   },
   {
    "duration": 262,
    "start_time": "2022-11-27T19:58:29.413Z"
   },
   {
    "duration": 28,
    "start_time": "2022-11-27T19:58:29.676Z"
   },
   {
    "duration": 2,
    "start_time": "2022-11-27T19:58:29.706Z"
   },
   {
    "duration": 6,
    "start_time": "2022-11-27T19:58:29.709Z"
   },
   {
    "duration": 7,
    "start_time": "2022-11-27T19:58:29.717Z"
   },
   {
    "duration": 6,
    "start_time": "2022-11-27T19:58:29.725Z"
   },
   {
    "duration": 16,
    "start_time": "2022-11-27T19:58:29.732Z"
   },
   {
    "duration": 8,
    "start_time": "2022-11-27T19:58:29.749Z"
   },
   {
    "duration": 7,
    "start_time": "2022-11-27T19:58:29.758Z"
   },
   {
    "duration": 42,
    "start_time": "2022-11-27T19:58:29.766Z"
   },
   {
    "duration": 11,
    "start_time": "2022-11-27T19:58:29.810Z"
   },
   {
    "duration": 9,
    "start_time": "2022-11-27T19:58:29.822Z"
   },
   {
    "duration": 5,
    "start_time": "2022-11-27T19:58:29.833Z"
   },
   {
    "duration": 6,
    "start_time": "2022-11-27T19:58:29.841Z"
   },
   {
    "duration": 8,
    "start_time": "2022-11-27T19:58:29.849Z"
   },
   {
    "duration": 7,
    "start_time": "2022-11-27T19:58:29.897Z"
   },
   {
    "duration": 5,
    "start_time": "2022-11-27T19:58:29.905Z"
   },
   {
    "duration": 16780,
    "start_time": "2022-11-27T19:58:29.911Z"
   },
   {
    "duration": 6,
    "start_time": "2022-11-27T19:58:46.693Z"
   },
   {
    "duration": 10,
    "start_time": "2022-11-27T19:58:46.701Z"
   },
   {
    "duration": 22,
    "start_time": "2022-11-27T19:58:46.712Z"
   },
   {
    "duration": 298,
    "start_time": "2022-11-27T19:58:46.736Z"
   },
   {
    "duration": 4,
    "start_time": "2022-11-27T19:58:47.036Z"
   },
   {
    "duration": 5,
    "start_time": "2022-11-27T19:58:47.042Z"
   },
   {
    "duration": 250,
    "start_time": "2022-11-27T19:58:47.049Z"
   },
   {
    "duration": 289,
    "start_time": "2022-11-27T19:58:47.300Z"
   },
   {
    "duration": 220,
    "start_time": "2022-11-27T19:58:47.591Z"
   },
   {
    "duration": 224,
    "start_time": "2022-11-27T19:58:47.812Z"
   },
   {
    "duration": 214,
    "start_time": "2022-11-27T19:58:48.038Z"
   },
   {
    "duration": 15,
    "start_time": "2022-11-27T19:58:48.253Z"
   },
   {
    "duration": 231,
    "start_time": "2022-11-27T19:58:48.269Z"
   },
   {
    "duration": 296,
    "start_time": "2022-11-27T19:58:48.502Z"
   },
   {
    "duration": 234,
    "start_time": "2022-11-27T19:58:48.800Z"
   },
   {
    "duration": 274,
    "start_time": "2022-11-27T19:58:49.036Z"
   },
   {
    "duration": 262,
    "start_time": "2022-11-27T19:58:49.312Z"
   },
   {
    "duration": 22,
    "start_time": "2022-11-27T19:58:49.575Z"
   },
   {
    "duration": 135,
    "start_time": "2022-11-27T19:58:49.599Z"
   },
   {
    "duration": 9,
    "start_time": "2022-11-27T19:58:49.736Z"
   },
   {
    "duration": 129,
    "start_time": "2022-11-27T19:58:49.746Z"
   },
   {
    "duration": 8,
    "start_time": "2022-11-27T19:58:49.877Z"
   },
   {
    "duration": 160,
    "start_time": "2022-11-27T19:58:49.897Z"
   },
   {
    "duration": 11,
    "start_time": "2022-11-27T19:58:50.058Z"
   },
   {
    "duration": 192,
    "start_time": "2022-11-27T19:58:50.070Z"
   },
   {
    "duration": 10,
    "start_time": "2022-11-27T19:58:50.264Z"
   },
   {
    "duration": 406,
    "start_time": "2022-11-27T19:58:50.276Z"
   },
   {
    "duration": 277,
    "start_time": "2022-11-27T19:58:50.684Z"
   },
   {
    "duration": 194,
    "start_time": "2022-11-27T19:58:50.964Z"
   },
   {
    "duration": 188,
    "start_time": "2022-11-27T19:58:51.159Z"
   },
   {
    "duration": 13,
    "start_time": "2022-11-27T19:58:51.349Z"
   },
   {
    "duration": 40,
    "start_time": "2022-11-27T19:58:51.364Z"
   },
   {
    "duration": 13,
    "start_time": "2022-11-27T19:58:51.406Z"
   },
   {
    "duration": 225,
    "start_time": "2022-11-27T19:58:51.421Z"
   },
   {
    "duration": 8,
    "start_time": "2022-11-27T19:58:51.648Z"
   },
   {
    "duration": 15,
    "start_time": "2022-11-27T19:58:51.659Z"
   },
   {
    "duration": 4,
    "start_time": "2022-11-27T20:25:47.838Z"
   },
   {
    "duration": 9,
    "start_time": "2022-11-27T20:28:03.565Z"
   },
   {
    "duration": 7,
    "start_time": "2022-11-27T20:28:27.103Z"
   },
   {
    "duration": 11,
    "start_time": "2022-11-27T20:29:21.306Z"
   },
   {
    "duration": 208,
    "start_time": "2022-11-27T20:29:41.139Z"
   },
   {
    "duration": 14,
    "start_time": "2022-11-27T20:30:30.373Z"
   },
   {
    "duration": 14,
    "start_time": "2022-11-27T20:30:43.054Z"
   },
   {
    "duration": 14,
    "start_time": "2022-11-27T20:30:50.750Z"
   },
   {
    "duration": 1114,
    "start_time": "2022-11-27T20:31:10.493Z"
   },
   {
    "duration": 68,
    "start_time": "2022-11-27T20:31:11.609Z"
   },
   {
    "duration": 17,
    "start_time": "2022-11-27T20:31:11.681Z"
   },
   {
    "duration": 15,
    "start_time": "2022-11-27T20:31:11.700Z"
   },
   {
    "duration": 719,
    "start_time": "2022-11-27T20:31:11.717Z"
   },
   {
    "duration": 28,
    "start_time": "2022-11-27T20:31:12.438Z"
   },
   {
    "duration": 29,
    "start_time": "2022-11-27T20:31:12.468Z"
   },
   {
    "duration": 9,
    "start_time": "2022-11-27T20:31:12.500Z"
   },
   {
    "duration": 13,
    "start_time": "2022-11-27T20:31:12.513Z"
   },
   {
    "duration": 22,
    "start_time": "2022-11-27T20:31:12.528Z"
   },
   {
    "duration": 50,
    "start_time": "2022-11-27T20:31:12.551Z"
   },
   {
    "duration": 9,
    "start_time": "2022-11-27T20:31:12.603Z"
   },
   {
    "duration": 9,
    "start_time": "2022-11-27T20:31:12.614Z"
   },
   {
    "duration": 31,
    "start_time": "2022-11-27T20:31:12.625Z"
   },
   {
    "duration": 301,
    "start_time": "2022-11-27T20:31:12.657Z"
   },
   {
    "duration": 20,
    "start_time": "2022-11-27T20:31:12.960Z"
   },
   {
    "duration": 22,
    "start_time": "2022-11-27T20:31:12.982Z"
   },
   {
    "duration": 14,
    "start_time": "2022-11-27T20:31:13.005Z"
   },
   {
    "duration": 9,
    "start_time": "2022-11-27T20:31:13.021Z"
   },
   {
    "duration": 22,
    "start_time": "2022-11-27T20:31:13.031Z"
   },
   {
    "duration": 46,
    "start_time": "2022-11-27T20:31:13.055Z"
   },
   {
    "duration": 14,
    "start_time": "2022-11-27T20:31:13.103Z"
   },
   {
    "duration": 8,
    "start_time": "2022-11-27T20:31:13.118Z"
   },
   {
    "duration": 6,
    "start_time": "2022-11-27T20:31:13.128Z"
   },
   {
    "duration": 7,
    "start_time": "2022-11-27T20:31:13.135Z"
   },
   {
    "duration": 10,
    "start_time": "2022-11-27T20:31:13.143Z"
   },
   {
    "duration": 2,
    "start_time": "2022-11-27T20:31:13.157Z"
   },
   {
    "duration": 16691,
    "start_time": "2022-11-27T20:31:13.161Z"
   },
   {
    "duration": 4,
    "start_time": "2022-11-27T20:31:29.854Z"
   },
   {
    "duration": 7,
    "start_time": "2022-11-27T20:31:29.860Z"
   },
   {
    "duration": 29,
    "start_time": "2022-11-27T20:31:29.869Z"
   },
   {
    "duration": 321,
    "start_time": "2022-11-27T20:31:29.899Z"
   },
   {
    "duration": 4,
    "start_time": "2022-11-27T20:31:30.222Z"
   },
   {
    "duration": 16,
    "start_time": "2022-11-27T20:31:30.228Z"
   },
   {
    "duration": 252,
    "start_time": "2022-11-27T20:31:30.245Z"
   },
   {
    "duration": 329,
    "start_time": "2022-11-27T20:31:30.499Z"
   },
   {
    "duration": 241,
    "start_time": "2022-11-27T20:31:30.830Z"
   },
   {
    "duration": 206,
    "start_time": "2022-11-27T20:31:31.073Z"
   },
   {
    "duration": 211,
    "start_time": "2022-11-27T20:31:31.281Z"
   },
   {
    "duration": 13,
    "start_time": "2022-11-27T20:31:31.494Z"
   },
   {
    "duration": 231,
    "start_time": "2022-11-27T20:31:31.508Z"
   },
   {
    "duration": 310,
    "start_time": "2022-11-27T20:31:31.741Z"
   },
   {
    "duration": 221,
    "start_time": "2022-11-27T20:31:32.053Z"
   },
   {
    "duration": 247,
    "start_time": "2022-11-27T20:31:32.276Z"
   },
   {
    "duration": 239,
    "start_time": "2022-11-27T20:31:32.524Z"
   },
   {
    "duration": 12,
    "start_time": "2022-11-27T20:31:32.764Z"
   },
   {
    "duration": 147,
    "start_time": "2022-11-27T20:31:32.777Z"
   },
   {
    "duration": 9,
    "start_time": "2022-11-27T20:31:32.925Z"
   },
   {
    "duration": 136,
    "start_time": "2022-11-27T20:31:32.935Z"
   },
   {
    "duration": 10,
    "start_time": "2022-11-27T20:31:33.072Z"
   },
   {
    "duration": 135,
    "start_time": "2022-11-27T20:31:33.083Z"
   },
   {
    "duration": 9,
    "start_time": "2022-11-27T20:31:33.220Z"
   },
   {
    "duration": 145,
    "start_time": "2022-11-27T20:31:33.230Z"
   },
   {
    "duration": 9,
    "start_time": "2022-11-27T20:31:33.377Z"
   },
   {
    "duration": 313,
    "start_time": "2022-11-27T20:31:33.388Z"
   },
   {
    "duration": 247,
    "start_time": "2022-11-27T20:31:33.703Z"
   },
   {
    "duration": 166,
    "start_time": "2022-11-27T20:31:33.952Z"
   },
   {
    "duration": 156,
    "start_time": "2022-11-27T20:31:34.120Z"
   },
   {
    "duration": 22,
    "start_time": "2022-11-27T20:31:34.277Z"
   },
   {
    "duration": 12,
    "start_time": "2022-11-27T20:31:34.300Z"
   },
   {
    "duration": 12,
    "start_time": "2022-11-27T20:31:34.313Z"
   },
   {
    "duration": 197,
    "start_time": "2022-11-27T20:31:34.327Z"
   },
   {
    "duration": 6,
    "start_time": "2022-11-27T20:31:34.526Z"
   },
   {
    "duration": 9,
    "start_time": "2022-11-27T20:31:34.534Z"
   },
   {
    "duration": 1080,
    "start_time": "2022-11-27T21:10:49.707Z"
   },
   {
    "duration": 70,
    "start_time": "2022-11-27T21:10:50.789Z"
   },
   {
    "duration": 18,
    "start_time": "2022-11-27T21:10:50.861Z"
   },
   {
    "duration": 16,
    "start_time": "2022-11-27T21:10:50.881Z"
   },
   {
    "duration": 682,
    "start_time": "2022-11-27T21:10:50.898Z"
   },
   {
    "duration": 42,
    "start_time": "2022-11-27T21:10:51.582Z"
   },
   {
    "duration": 11,
    "start_time": "2022-11-27T21:10:51.625Z"
   },
   {
    "duration": 12,
    "start_time": "2022-11-27T21:10:51.637Z"
   },
   {
    "duration": 13,
    "start_time": "2022-11-27T21:10:51.650Z"
   },
   {
    "duration": 39,
    "start_time": "2022-11-27T21:10:51.665Z"
   },
   {
    "duration": 14,
    "start_time": "2022-11-27T21:10:51.705Z"
   },
   {
    "duration": 7,
    "start_time": "2022-11-27T21:10:51.721Z"
   },
   {
    "duration": 15,
    "start_time": "2022-11-27T21:10:51.729Z"
   },
   {
    "duration": 54,
    "start_time": "2022-11-27T21:10:51.745Z"
   },
   {
    "duration": 288,
    "start_time": "2022-11-27T21:10:51.801Z"
   },
   {
    "duration": 22,
    "start_time": "2022-11-27T21:10:52.091Z"
   },
   {
    "duration": 8,
    "start_time": "2022-11-27T21:10:52.114Z"
   },
   {
    "duration": 9,
    "start_time": "2022-11-27T21:10:52.124Z"
   },
   {
    "duration": 5,
    "start_time": "2022-11-27T21:10:52.134Z"
   },
   {
    "duration": 15,
    "start_time": "2022-11-27T21:10:52.141Z"
   },
   {
    "duration": 51,
    "start_time": "2022-11-27T21:10:52.157Z"
   },
   {
    "duration": 6,
    "start_time": "2022-11-27T21:10:52.210Z"
   },
   {
    "duration": 6,
    "start_time": "2022-11-27T21:10:52.217Z"
   },
   {
    "duration": 6,
    "start_time": "2022-11-27T21:10:52.224Z"
   },
   {
    "duration": 11,
    "start_time": "2022-11-27T21:10:52.231Z"
   },
   {
    "duration": 7,
    "start_time": "2022-11-27T21:10:52.244Z"
   },
   {
    "duration": 4,
    "start_time": "2022-11-27T21:10:52.252Z"
   },
   {
    "duration": 16304,
    "start_time": "2022-11-27T21:10:52.300Z"
   },
   {
    "duration": 5,
    "start_time": "2022-11-27T21:11:08.606Z"
   },
   {
    "duration": 36,
    "start_time": "2022-11-27T21:11:08.612Z"
   },
   {
    "duration": 40,
    "start_time": "2022-11-27T21:11:08.649Z"
   },
   {
    "duration": 288,
    "start_time": "2022-11-27T21:11:08.690Z"
   },
   {
    "duration": 3,
    "start_time": "2022-11-27T21:11:08.979Z"
   },
   {
    "duration": 43,
    "start_time": "2022-11-27T21:11:08.983Z"
   },
   {
    "duration": 237,
    "start_time": "2022-11-27T21:11:09.027Z"
   },
   {
    "duration": 283,
    "start_time": "2022-11-27T21:11:09.265Z"
   },
   {
    "duration": 213,
    "start_time": "2022-11-27T21:11:09.549Z"
   },
   {
    "duration": 212,
    "start_time": "2022-11-27T21:11:09.763Z"
   },
   {
    "duration": 230,
    "start_time": "2022-11-27T21:11:09.976Z"
   },
   {
    "duration": 11,
    "start_time": "2022-11-27T21:11:10.208Z"
   },
   {
    "duration": 224,
    "start_time": "2022-11-27T21:11:10.220Z"
   },
   {
    "duration": 290,
    "start_time": "2022-11-27T21:11:10.445Z"
   },
   {
    "duration": 214,
    "start_time": "2022-11-27T21:11:10.736Z"
   },
   {
    "duration": 251,
    "start_time": "2022-11-27T21:11:10.951Z"
   },
   {
    "duration": 235,
    "start_time": "2022-11-27T21:11:11.203Z"
   },
   {
    "duration": 12,
    "start_time": "2022-11-27T21:11:11.439Z"
   },
   {
    "duration": 132,
    "start_time": "2022-11-27T21:11:11.452Z"
   },
   {
    "duration": 8,
    "start_time": "2022-11-27T21:11:11.597Z"
   },
   {
    "duration": 139,
    "start_time": "2022-11-27T21:11:11.607Z"
   },
   {
    "duration": 9,
    "start_time": "2022-11-27T21:11:11.748Z"
   },
   {
    "duration": 140,
    "start_time": "2022-11-27T21:11:11.758Z"
   },
   {
    "duration": 8,
    "start_time": "2022-11-27T21:11:11.900Z"
   },
   {
    "duration": 152,
    "start_time": "2022-11-27T21:11:11.910Z"
   },
   {
    "duration": 9,
    "start_time": "2022-11-27T21:11:12.064Z"
   },
   {
    "duration": 316,
    "start_time": "2022-11-27T21:11:12.074Z"
   },
   {
    "duration": 238,
    "start_time": "2022-11-27T21:11:12.392Z"
   },
   {
    "duration": 161,
    "start_time": "2022-11-27T21:11:12.632Z"
   },
   {
    "duration": 151,
    "start_time": "2022-11-27T21:11:12.797Z"
   },
   {
    "duration": 13,
    "start_time": "2022-11-27T21:11:12.950Z"
   },
   {
    "duration": 32,
    "start_time": "2022-11-27T21:11:12.965Z"
   },
   {
    "duration": 58,
    "start_time": "2022-11-27T21:11:12.998Z"
   },
   {
    "duration": 178,
    "start_time": "2022-11-27T21:11:13.057Z"
   },
   {
    "duration": 8,
    "start_time": "2022-11-27T21:11:13.236Z"
   },
   {
    "duration": 30,
    "start_time": "2022-11-27T21:11:13.245Z"
   },
   {
    "duration": 1200,
    "start_time": "2022-11-28T10:55:21.456Z"
   },
   {
    "duration": 75,
    "start_time": "2022-11-28T10:55:22.658Z"
   },
   {
    "duration": 21,
    "start_time": "2022-11-28T10:55:22.734Z"
   },
   {
    "duration": 62,
    "start_time": "2022-11-28T10:55:22.757Z"
   },
   {
    "duration": 850,
    "start_time": "2022-11-28T10:55:22.821Z"
   },
   {
    "duration": 39,
    "start_time": "2022-11-28T10:55:23.673Z"
   },
   {
    "duration": 9,
    "start_time": "2022-11-28T10:55:23.715Z"
   },
   {
    "duration": 40,
    "start_time": "2022-11-28T10:55:23.727Z"
   },
   {
    "duration": 52,
    "start_time": "2022-11-28T10:55:23.769Z"
   },
   {
    "duration": 41,
    "start_time": "2022-11-28T10:55:23.825Z"
   },
   {
    "duration": 44,
    "start_time": "2022-11-28T10:55:23.868Z"
   },
   {
    "duration": 20,
    "start_time": "2022-11-28T10:55:23.913Z"
   },
   {
    "duration": 33,
    "start_time": "2022-11-28T10:55:23.935Z"
   },
   {
    "duration": 45,
    "start_time": "2022-11-28T10:55:23.970Z"
   },
   {
    "duration": 328,
    "start_time": "2022-11-28T10:55:24.017Z"
   },
   {
    "duration": 22,
    "start_time": "2022-11-28T10:55:24.347Z"
   },
   {
    "duration": 12,
    "start_time": "2022-11-28T10:55:24.371Z"
   },
   {
    "duration": 32,
    "start_time": "2022-11-28T10:55:24.384Z"
   },
   {
    "duration": 6,
    "start_time": "2022-11-28T10:55:24.418Z"
   },
   {
    "duration": 20,
    "start_time": "2022-11-28T10:55:24.426Z"
   },
   {
    "duration": 16,
    "start_time": "2022-11-28T10:55:24.447Z"
   },
   {
    "duration": 9,
    "start_time": "2022-11-28T10:55:24.465Z"
   },
   {
    "duration": 41,
    "start_time": "2022-11-28T10:55:24.476Z"
   },
   {
    "duration": 10,
    "start_time": "2022-11-28T10:55:24.519Z"
   },
   {
    "duration": 10,
    "start_time": "2022-11-28T10:55:24.531Z"
   },
   {
    "duration": 10,
    "start_time": "2022-11-28T10:55:24.543Z"
   },
   {
    "duration": 12,
    "start_time": "2022-11-28T10:55:24.555Z"
   },
   {
    "duration": 18940,
    "start_time": "2022-11-28T10:55:24.572Z"
   },
   {
    "duration": 6,
    "start_time": "2022-11-28T10:55:43.514Z"
   },
   {
    "duration": 10,
    "start_time": "2022-11-28T10:55:43.523Z"
   },
   {
    "duration": 34,
    "start_time": "2022-11-28T10:55:43.535Z"
   },
   {
    "duration": 378,
    "start_time": "2022-11-28T10:55:43.571Z"
   },
   {
    "duration": 5,
    "start_time": "2022-11-28T10:55:43.951Z"
   },
   {
    "duration": 62,
    "start_time": "2022-11-28T10:55:43.957Z"
   },
   {
    "duration": 332,
    "start_time": "2022-11-28T10:55:44.021Z"
   },
   {
    "duration": 379,
    "start_time": "2022-11-28T10:55:44.355Z"
   },
   {
    "duration": 311,
    "start_time": "2022-11-28T10:55:44.736Z"
   },
   {
    "duration": 272,
    "start_time": "2022-11-28T10:55:45.050Z"
   },
   {
    "duration": 285,
    "start_time": "2022-11-28T10:55:45.325Z"
   },
   {
    "duration": 14,
    "start_time": "2022-11-28T10:55:45.612Z"
   },
   {
    "duration": 285,
    "start_time": "2022-11-28T10:55:45.628Z"
   },
   {
    "duration": 423,
    "start_time": "2022-11-28T10:55:45.915Z"
   },
   {
    "duration": 349,
    "start_time": "2022-11-28T10:55:46.341Z"
   },
   {
    "duration": 387,
    "start_time": "2022-11-28T10:55:46.692Z"
   },
   {
    "duration": 295,
    "start_time": "2022-11-28T10:55:47.081Z"
   },
   {
    "duration": 14,
    "start_time": "2022-11-28T10:55:47.378Z"
   },
   {
    "duration": 167,
    "start_time": "2022-11-28T10:55:47.394Z"
   },
   {
    "duration": 13,
    "start_time": "2022-11-28T10:55:47.563Z"
   },
   {
    "duration": 179,
    "start_time": "2022-11-28T10:55:47.577Z"
   },
   {
    "duration": 11,
    "start_time": "2022-11-28T10:55:47.757Z"
   },
   {
    "duration": 168,
    "start_time": "2022-11-28T10:55:47.770Z"
   },
   {
    "duration": 11,
    "start_time": "2022-11-28T10:55:47.940Z"
   },
   {
    "duration": 187,
    "start_time": "2022-11-28T10:55:47.952Z"
   },
   {
    "duration": 11,
    "start_time": "2022-11-28T10:55:48.141Z"
   },
   {
    "duration": 435,
    "start_time": "2022-11-28T10:55:48.154Z"
   },
   {
    "duration": 320,
    "start_time": "2022-11-28T10:55:48.592Z"
   },
   {
    "duration": 206,
    "start_time": "2022-11-28T10:55:48.914Z"
   },
   {
    "duration": 305,
    "start_time": "2022-11-28T10:55:49.123Z"
   },
   {
    "duration": 23,
    "start_time": "2022-11-28T10:55:49.430Z"
   },
   {
    "duration": 57,
    "start_time": "2022-11-28T10:55:49.455Z"
   },
   {
    "duration": 56,
    "start_time": "2022-11-28T10:55:49.514Z"
   },
   {
    "duration": 289,
    "start_time": "2022-11-28T10:55:49.572Z"
   },
   {
    "duration": 9,
    "start_time": "2022-11-28T10:55:49.863Z"
   },
   {
    "duration": 56,
    "start_time": "2022-11-28T10:55:49.873Z"
   },
   {
    "duration": 1221,
    "start_time": "2022-11-28T10:57:52.074Z"
   },
   {
    "duration": 79,
    "start_time": "2022-11-28T10:57:53.297Z"
   },
   {
    "duration": 23,
    "start_time": "2022-11-28T10:57:53.378Z"
   },
   {
    "duration": 18,
    "start_time": "2022-11-28T10:57:53.403Z"
   },
   {
    "duration": 847,
    "start_time": "2022-11-28T10:57:53.425Z"
   },
   {
    "duration": 42,
    "start_time": "2022-11-28T10:57:54.274Z"
   },
   {
    "duration": 5,
    "start_time": "2022-11-28T10:57:54.318Z"
   },
   {
    "duration": 27,
    "start_time": "2022-11-28T10:57:54.325Z"
   },
   {
    "duration": 22,
    "start_time": "2022-11-28T10:57:54.353Z"
   },
   {
    "duration": 20,
    "start_time": "2022-11-28T10:57:54.377Z"
   },
   {
    "duration": 30,
    "start_time": "2022-11-28T10:57:54.399Z"
   },
   {
    "duration": 6,
    "start_time": "2022-11-28T10:57:54.431Z"
   },
   {
    "duration": 10,
    "start_time": "2022-11-28T10:57:54.439Z"
   },
   {
    "duration": 24,
    "start_time": "2022-11-28T10:57:54.452Z"
   },
   {
    "duration": 326,
    "start_time": "2022-11-28T10:57:54.477Z"
   },
   {
    "duration": 40,
    "start_time": "2022-11-28T10:57:54.805Z"
   },
   {
    "duration": 12,
    "start_time": "2022-11-28T10:57:54.846Z"
   },
   {
    "duration": 10,
    "start_time": "2022-11-28T10:57:54.860Z"
   },
   {
    "duration": 23,
    "start_time": "2022-11-28T10:57:54.872Z"
   },
   {
    "duration": 24,
    "start_time": "2022-11-28T10:57:54.912Z"
   },
   {
    "duration": 18,
    "start_time": "2022-11-28T10:57:54.938Z"
   },
   {
    "duration": 8,
    "start_time": "2022-11-28T10:57:54.957Z"
   },
   {
    "duration": 7,
    "start_time": "2022-11-28T10:57:54.967Z"
   },
   {
    "duration": 38,
    "start_time": "2022-11-28T10:57:54.976Z"
   },
   {
    "duration": 13,
    "start_time": "2022-11-28T10:57:55.016Z"
   },
   {
    "duration": 10,
    "start_time": "2022-11-28T10:57:55.031Z"
   },
   {
    "duration": 7,
    "start_time": "2022-11-28T10:57:55.043Z"
   },
   {
    "duration": 18912,
    "start_time": "2022-11-28T10:57:55.052Z"
   },
   {
    "duration": 6,
    "start_time": "2022-11-28T10:58:13.966Z"
   },
   {
    "duration": 7,
    "start_time": "2022-11-28T10:58:13.974Z"
   },
   {
    "duration": 33,
    "start_time": "2022-11-28T10:58:13.982Z"
   },
   {
    "duration": 364,
    "start_time": "2022-11-28T10:58:14.017Z"
   },
   {
    "duration": 3,
    "start_time": "2022-11-28T10:58:14.383Z"
   },
   {
    "duration": 11,
    "start_time": "2022-11-28T10:58:14.388Z"
   },
   {
    "duration": 296,
    "start_time": "2022-11-28T10:58:14.401Z"
   },
   {
    "duration": 366,
    "start_time": "2022-11-28T10:58:14.698Z"
   },
   {
    "duration": 297,
    "start_time": "2022-11-28T10:58:15.066Z"
   },
   {
    "duration": 268,
    "start_time": "2022-11-28T10:58:15.365Z"
   },
   {
    "duration": 285,
    "start_time": "2022-11-28T10:58:15.637Z"
   },
   {
    "duration": 16,
    "start_time": "2022-11-28T10:58:15.924Z"
   },
   {
    "duration": 323,
    "start_time": "2022-11-28T10:58:15.945Z"
   },
   {
    "duration": 376,
    "start_time": "2022-11-28T10:58:16.282Z"
   },
   {
    "duration": 341,
    "start_time": "2022-11-28T10:58:16.660Z"
   },
   {
    "duration": 369,
    "start_time": "2022-11-28T10:58:17.003Z"
   },
   {
    "duration": 319,
    "start_time": "2022-11-28T10:58:17.374Z"
   },
   {
    "duration": 30,
    "start_time": "2022-11-28T10:58:17.695Z"
   },
   {
    "duration": 184,
    "start_time": "2022-11-28T10:58:17.728Z"
   },
   {
    "duration": 12,
    "start_time": "2022-11-28T10:58:17.914Z"
   },
   {
    "duration": 174,
    "start_time": "2022-11-28T10:58:17.928Z"
   },
   {
    "duration": 12,
    "start_time": "2022-11-28T10:58:18.112Z"
   },
   {
    "duration": 188,
    "start_time": "2022-11-28T10:58:18.126Z"
   },
   {
    "duration": 11,
    "start_time": "2022-11-28T10:58:18.316Z"
   },
   {
    "duration": 184,
    "start_time": "2022-11-28T10:58:18.330Z"
   },
   {
    "duration": 11,
    "start_time": "2022-11-28T10:58:18.516Z"
   },
   {
    "duration": 391,
    "start_time": "2022-11-28T10:58:18.529Z"
   },
   {
    "duration": 308,
    "start_time": "2022-11-28T10:58:18.922Z"
   },
   {
    "duration": 228,
    "start_time": "2022-11-28T10:58:19.232Z"
   },
   {
    "duration": 189,
    "start_time": "2022-11-28T10:58:19.461Z"
   },
   {
    "duration": 15,
    "start_time": "2022-11-28T10:58:19.651Z"
   },
   {
    "duration": 17,
    "start_time": "2022-11-28T10:58:19.667Z"
   },
   {
    "duration": 39,
    "start_time": "2022-11-28T10:58:19.686Z"
   },
   {
    "duration": 223,
    "start_time": "2022-11-28T10:58:19.727Z"
   },
   {
    "duration": 9,
    "start_time": "2022-11-28T10:58:19.952Z"
   },
   {
    "duration": 22,
    "start_time": "2022-11-28T10:58:19.963Z"
   },
   {
    "duration": 1363,
    "start_time": "2022-11-28T11:00:01.971Z"
   },
   {
    "duration": 78,
    "start_time": "2022-11-28T11:00:03.336Z"
   },
   {
    "duration": 30,
    "start_time": "2022-11-28T11:00:03.416Z"
   },
   {
    "duration": 22,
    "start_time": "2022-11-28T11:00:03.448Z"
   },
   {
    "duration": 865,
    "start_time": "2022-11-28T11:00:03.472Z"
   },
   {
    "duration": 34,
    "start_time": "2022-11-28T11:00:04.339Z"
   },
   {
    "duration": 5,
    "start_time": "2022-11-28T11:00:04.375Z"
   },
   {
    "duration": 33,
    "start_time": "2022-11-28T11:00:04.381Z"
   },
   {
    "duration": 12,
    "start_time": "2022-11-28T11:00:04.416Z"
   },
   {
    "duration": 31,
    "start_time": "2022-11-28T11:00:04.431Z"
   },
   {
    "duration": 19,
    "start_time": "2022-11-28T11:00:04.464Z"
   },
   {
    "duration": 28,
    "start_time": "2022-11-28T11:00:04.485Z"
   },
   {
    "duration": 8,
    "start_time": "2022-11-28T11:00:04.515Z"
   },
   {
    "duration": 28,
    "start_time": "2022-11-28T11:00:04.525Z"
   },
   {
    "duration": 386,
    "start_time": "2022-11-28T11:00:04.555Z"
   },
   {
    "duration": 26,
    "start_time": "2022-11-28T11:00:04.943Z"
   },
   {
    "duration": 14,
    "start_time": "2022-11-28T11:00:04.970Z"
   },
   {
    "duration": 32,
    "start_time": "2022-11-28T11:00:04.986Z"
   },
   {
    "duration": 11,
    "start_time": "2022-11-28T11:00:05.019Z"
   },
   {
    "duration": 24,
    "start_time": "2022-11-28T11:00:05.032Z"
   },
   {
    "duration": 16,
    "start_time": "2022-11-28T11:00:05.058Z"
   },
   {
    "duration": 40,
    "start_time": "2022-11-28T11:00:05.076Z"
   },
   {
    "duration": 8,
    "start_time": "2022-11-28T11:00:05.118Z"
   },
   {
    "duration": 29,
    "start_time": "2022-11-28T11:00:05.128Z"
   },
   {
    "duration": 36,
    "start_time": "2022-11-28T11:00:05.159Z"
   },
   {
    "duration": 9,
    "start_time": "2022-11-28T11:00:05.197Z"
   },
   {
    "duration": 9,
    "start_time": "2022-11-28T11:00:05.208Z"
   },
   {
    "duration": 20048,
    "start_time": "2022-11-28T11:00:05.222Z"
   },
   {
    "duration": 6,
    "start_time": "2022-11-28T11:00:25.272Z"
   },
   {
    "duration": 10,
    "start_time": "2022-11-28T11:00:25.280Z"
   },
   {
    "duration": 36,
    "start_time": "2022-11-28T11:00:25.293Z"
   },
   {
    "duration": 352,
    "start_time": "2022-11-28T11:00:25.331Z"
   },
   {
    "duration": 3,
    "start_time": "2022-11-28T11:00:25.685Z"
   },
   {
    "duration": 14,
    "start_time": "2022-11-28T11:00:25.691Z"
   },
   {
    "duration": 309,
    "start_time": "2022-11-28T11:00:25.707Z"
   },
   {
    "duration": 393,
    "start_time": "2022-11-28T11:00:26.018Z"
   },
   {
    "duration": 364,
    "start_time": "2022-11-28T11:00:26.413Z"
   },
   {
    "duration": 288,
    "start_time": "2022-11-28T11:00:26.780Z"
   },
   {
    "duration": 270,
    "start_time": "2022-11-28T11:00:27.070Z"
   },
   {
    "duration": 13,
    "start_time": "2022-11-28T11:00:27.342Z"
   },
   {
    "duration": 280,
    "start_time": "2022-11-28T11:00:27.357Z"
   },
   {
    "duration": 391,
    "start_time": "2022-11-28T11:00:27.638Z"
   },
   {
    "duration": 278,
    "start_time": "2022-11-28T11:00:28.031Z"
   },
   {
    "duration": 311,
    "start_time": "2022-11-28T11:00:28.311Z"
   },
   {
    "duration": 304,
    "start_time": "2022-11-28T11:00:28.624Z"
   },
   {
    "duration": 14,
    "start_time": "2022-11-28T11:00:28.930Z"
   },
   {
    "duration": 178,
    "start_time": "2022-11-28T11:00:28.946Z"
   },
   {
    "duration": 12,
    "start_time": "2022-11-28T11:00:29.125Z"
   },
   {
    "duration": 178,
    "start_time": "2022-11-28T11:00:29.139Z"
   },
   {
    "duration": 13,
    "start_time": "2022-11-28T11:00:29.320Z"
   },
   {
    "duration": 177,
    "start_time": "2022-11-28T11:00:29.335Z"
   },
   {
    "duration": 11,
    "start_time": "2022-11-28T11:00:29.514Z"
   },
   {
    "duration": 175,
    "start_time": "2022-11-28T11:00:29.527Z"
   },
   {
    "duration": 18,
    "start_time": "2022-11-28T11:00:29.704Z"
   },
   {
    "duration": 394,
    "start_time": "2022-11-28T11:00:29.724Z"
   },
   {
    "duration": 330,
    "start_time": "2022-11-28T11:00:30.120Z"
   },
   {
    "duration": 223,
    "start_time": "2022-11-28T11:00:30.452Z"
   },
   {
    "duration": 206,
    "start_time": "2022-11-28T11:00:30.677Z"
   },
   {
    "duration": 93,
    "start_time": "2022-11-28T11:00:30.885Z"
   },
   {
    "duration": 50,
    "start_time": "2022-11-28T11:00:30.980Z"
   },
   {
    "duration": 62,
    "start_time": "2022-11-28T11:00:31.032Z"
   },
   {
    "duration": 333,
    "start_time": "2022-11-28T11:00:31.096Z"
   },
   {
    "duration": 10,
    "start_time": "2022-11-28T11:00:31.431Z"
   },
   {
    "duration": 39,
    "start_time": "2022-11-28T11:00:31.443Z"
   },
   {
    "duration": 85,
    "start_time": "2022-11-28T20:26:31.190Z"
   },
   {
    "duration": 1319,
    "start_time": "2022-11-28T20:30:00.940Z"
   },
   {
    "duration": 210,
    "start_time": "2022-11-28T20:30:02.261Z"
   },
   {
    "duration": 21,
    "start_time": "2022-11-28T20:30:02.473Z"
   },
   {
    "duration": 19,
    "start_time": "2022-11-28T20:30:02.496Z"
   },
   {
    "duration": 707,
    "start_time": "2022-11-28T20:30:02.518Z"
   },
   {
    "duration": 26,
    "start_time": "2022-11-28T20:30:03.227Z"
   },
   {
    "duration": 9,
    "start_time": "2022-11-28T20:30:03.254Z"
   },
   {
    "duration": 35,
    "start_time": "2022-11-28T20:30:03.265Z"
   },
   {
    "duration": 14,
    "start_time": "2022-11-28T20:30:03.302Z"
   },
   {
    "duration": 21,
    "start_time": "2022-11-28T20:30:03.318Z"
   },
   {
    "duration": 22,
    "start_time": "2022-11-28T20:30:03.341Z"
   },
   {
    "duration": 6,
    "start_time": "2022-11-28T20:30:03.365Z"
   },
   {
    "duration": 9,
    "start_time": "2022-11-28T20:30:03.373Z"
   },
   {
    "duration": 33,
    "start_time": "2022-11-28T20:30:03.385Z"
   },
   {
    "duration": 285,
    "start_time": "2022-11-28T20:30:03.419Z"
   },
   {
    "duration": 23,
    "start_time": "2022-11-28T20:30:03.705Z"
   },
   {
    "duration": 14,
    "start_time": "2022-11-28T20:30:03.730Z"
   },
   {
    "duration": 10,
    "start_time": "2022-11-28T20:30:03.745Z"
   },
   {
    "duration": 7,
    "start_time": "2022-11-28T20:30:03.757Z"
   },
   {
    "duration": 16,
    "start_time": "2022-11-28T20:30:03.766Z"
   },
   {
    "duration": 45,
    "start_time": "2022-11-28T20:30:03.784Z"
   },
   {
    "duration": 6,
    "start_time": "2022-11-28T20:30:03.831Z"
   },
   {
    "duration": 5,
    "start_time": "2022-11-28T20:30:03.839Z"
   },
   {
    "duration": 10,
    "start_time": "2022-11-28T20:30:03.846Z"
   },
   {
    "duration": 16,
    "start_time": "2022-11-28T20:30:03.858Z"
   },
   {
    "duration": 7,
    "start_time": "2022-11-28T20:30:03.876Z"
   },
   {
    "duration": 15,
    "start_time": "2022-11-28T20:30:03.885Z"
   },
   {
    "duration": 17249,
    "start_time": "2022-11-28T20:30:03.902Z"
   },
   {
    "duration": 5,
    "start_time": "2022-11-28T20:30:21.153Z"
   },
   {
    "duration": 6,
    "start_time": "2022-11-28T20:30:21.160Z"
   },
   {
    "duration": 18,
    "start_time": "2022-11-28T20:30:21.168Z"
   },
   {
    "duration": 304,
    "start_time": "2022-11-28T20:30:21.187Z"
   },
   {
    "duration": 3,
    "start_time": "2022-11-28T20:30:21.493Z"
   },
   {
    "duration": 12,
    "start_time": "2022-11-28T20:30:21.497Z"
   },
   {
    "duration": 264,
    "start_time": "2022-11-28T20:30:21.511Z"
   },
   {
    "duration": 310,
    "start_time": "2022-11-28T20:30:21.777Z"
   },
   {
    "duration": 239,
    "start_time": "2022-11-28T20:30:22.089Z"
   },
   {
    "duration": 228,
    "start_time": "2022-11-28T20:30:22.330Z"
   },
   {
    "duration": 247,
    "start_time": "2022-11-28T20:30:22.560Z"
   },
   {
    "duration": 15,
    "start_time": "2022-11-28T20:30:22.809Z"
   },
   {
    "duration": 250,
    "start_time": "2022-11-28T20:30:22.828Z"
   },
   {
    "duration": 331,
    "start_time": "2022-11-28T20:30:23.079Z"
   },
   {
    "duration": 235,
    "start_time": "2022-11-28T20:30:23.412Z"
   },
   {
    "duration": 273,
    "start_time": "2022-11-28T20:30:23.649Z"
   },
   {
    "duration": 288,
    "start_time": "2022-11-28T20:30:23.923Z"
   },
   {
    "duration": 23,
    "start_time": "2022-11-28T20:30:24.213Z"
   },
   {
    "duration": 154,
    "start_time": "2022-11-28T20:30:24.238Z"
   },
   {
    "duration": 10,
    "start_time": "2022-11-28T20:30:24.393Z"
   },
   {
    "duration": 144,
    "start_time": "2022-11-28T20:30:24.404Z"
   },
   {
    "duration": 10,
    "start_time": "2022-11-28T20:30:24.550Z"
   },
   {
    "duration": 147,
    "start_time": "2022-11-28T20:30:24.561Z"
   },
   {
    "duration": 18,
    "start_time": "2022-11-28T20:30:24.710Z"
   },
   {
    "duration": 146,
    "start_time": "2022-11-28T20:30:24.729Z"
   },
   {
    "duration": 9,
    "start_time": "2022-11-28T20:30:24.876Z"
   },
   {
    "duration": 342,
    "start_time": "2022-11-28T20:30:24.887Z"
   },
   {
    "duration": 273,
    "start_time": "2022-11-28T20:30:25.230Z"
   },
   {
    "duration": 177,
    "start_time": "2022-11-28T20:30:25.505Z"
   },
   {
    "duration": 177,
    "start_time": "2022-11-28T20:30:25.684Z"
   },
   {
    "duration": 17,
    "start_time": "2022-11-28T20:30:25.863Z"
   },
   {
    "duration": 19,
    "start_time": "2022-11-28T20:30:25.883Z"
   },
   {
    "duration": 26,
    "start_time": "2022-11-28T20:30:25.904Z"
   },
   {
    "duration": 188,
    "start_time": "2022-11-28T20:30:25.932Z"
   },
   {
    "duration": 8,
    "start_time": "2022-11-28T20:30:26.122Z"
   },
   {
    "duration": 11,
    "start_time": "2022-11-28T20:30:26.132Z"
   },
   {
    "duration": 15,
    "start_time": "2022-11-28T20:48:46.331Z"
   },
   {
    "duration": 13,
    "start_time": "2022-11-28T20:49:01.543Z"
   },
   {
    "duration": 156,
    "start_time": "2022-11-28T20:49:01.559Z"
   },
   {
    "duration": 15,
    "start_time": "2022-11-28T20:49:01.717Z"
   },
   {
    "duration": 144,
    "start_time": "2022-11-28T20:49:01.735Z"
   },
   {
    "duration": 10,
    "start_time": "2022-11-28T20:49:01.880Z"
   },
   {
    "duration": 155,
    "start_time": "2022-11-28T20:49:01.892Z"
   },
   {
    "duration": 11,
    "start_time": "2022-11-28T20:49:02.048Z"
   },
   {
    "duration": 155,
    "start_time": "2022-11-28T20:49:02.061Z"
   },
   {
    "duration": 13,
    "start_time": "2022-11-28T20:49:02.217Z"
   },
   {
    "duration": 344,
    "start_time": "2022-11-28T20:49:02.234Z"
   },
   {
    "duration": 177,
    "start_time": "2022-11-28T20:49:02.579Z"
   },
   {
    "duration": 183,
    "start_time": "2022-11-28T20:49:02.758Z"
   },
   {
    "duration": 168,
    "start_time": "2022-11-28T20:49:02.943Z"
   },
   {
    "duration": 20,
    "start_time": "2022-11-28T20:49:03.112Z"
   },
   {
    "duration": 38,
    "start_time": "2022-11-28T20:49:03.133Z"
   },
   {
    "duration": 21,
    "start_time": "2022-11-28T20:49:03.173Z"
   },
   {
    "duration": 204,
    "start_time": "2022-11-28T20:49:03.196Z"
   },
   {
    "duration": 7,
    "start_time": "2022-11-28T20:49:03.402Z"
   },
   {
    "duration": 18,
    "start_time": "2022-11-28T20:49:03.411Z"
   },
   {
    "duration": 261,
    "start_time": "2022-11-28T20:51:26.497Z"
   },
   {
    "duration": 10,
    "start_time": "2022-11-28T20:51:26.760Z"
   },
   {
    "duration": 171,
    "start_time": "2022-11-28T20:51:26.772Z"
   },
   {
    "duration": 10,
    "start_time": "2022-11-28T20:51:26.944Z"
   },
   {
    "duration": 152,
    "start_time": "2022-11-28T20:51:26.956Z"
   },
   {
    "duration": 14,
    "start_time": "2022-11-28T20:51:27.110Z"
   },
   {
    "duration": 247,
    "start_time": "2022-11-28T20:51:27.125Z"
   },
   {
    "duration": 58,
    "start_time": "2022-11-28T20:51:27.373Z"
   },
   {
    "duration": 389,
    "start_time": "2022-11-28T20:51:27.433Z"
   },
   {
    "duration": 188,
    "start_time": "2022-11-28T20:51:27.824Z"
   },
   {
    "duration": 184,
    "start_time": "2022-11-28T20:51:28.014Z"
   },
   {
    "duration": 177,
    "start_time": "2022-11-28T20:51:28.200Z"
   },
   {
    "duration": 14,
    "start_time": "2022-11-28T20:51:28.379Z"
   },
   {
    "duration": 28,
    "start_time": "2022-11-28T20:51:28.395Z"
   },
   {
    "duration": 17,
    "start_time": "2022-11-28T20:51:28.426Z"
   },
   {
    "duration": 222,
    "start_time": "2022-11-28T20:51:28.445Z"
   },
   {
    "duration": 7,
    "start_time": "2022-11-28T20:51:28.669Z"
   },
   {
    "duration": 9,
    "start_time": "2022-11-28T20:51:28.678Z"
   },
   {
    "duration": 116,
    "start_time": "2022-11-28T20:57:39.861Z"
   },
   {
    "duration": 1118,
    "start_time": "2022-11-28T20:58:58.309Z"
   },
   {
    "duration": 69,
    "start_time": "2022-11-28T20:58:59.429Z"
   },
   {
    "duration": 19,
    "start_time": "2022-11-28T20:58:59.499Z"
   },
   {
    "duration": 14,
    "start_time": "2022-11-28T20:58:59.520Z"
   },
   {
    "duration": 764,
    "start_time": "2022-11-28T20:58:59.535Z"
   },
   {
    "duration": 38,
    "start_time": "2022-11-28T20:59:00.300Z"
   },
   {
    "duration": 5,
    "start_time": "2022-11-28T20:59:00.339Z"
   },
   {
    "duration": 27,
    "start_time": "2022-11-28T20:59:00.346Z"
   },
   {
    "duration": 27,
    "start_time": "2022-11-28T20:59:00.375Z"
   },
   {
    "duration": 35,
    "start_time": "2022-11-28T20:59:00.405Z"
   },
   {
    "duration": 38,
    "start_time": "2022-11-28T20:59:00.442Z"
   },
   {
    "duration": 19,
    "start_time": "2022-11-28T20:59:00.481Z"
   },
   {
    "duration": 39,
    "start_time": "2022-11-28T20:59:00.501Z"
   },
   {
    "duration": 58,
    "start_time": "2022-11-28T20:59:00.542Z"
   },
   {
    "duration": 274,
    "start_time": "2022-11-28T20:59:00.602Z"
   },
   {
    "duration": 23,
    "start_time": "2022-11-28T20:59:00.878Z"
   },
   {
    "duration": 26,
    "start_time": "2022-11-28T20:59:00.903Z"
   },
   {
    "duration": 10,
    "start_time": "2022-11-28T20:59:00.931Z"
   },
   {
    "duration": 9,
    "start_time": "2022-11-28T20:59:00.943Z"
   },
   {
    "duration": 21,
    "start_time": "2022-11-28T20:59:00.954Z"
   },
   {
    "duration": 14,
    "start_time": "2022-11-28T20:59:00.977Z"
   },
   {
    "duration": 32,
    "start_time": "2022-11-28T20:59:00.992Z"
   },
   {
    "duration": 5,
    "start_time": "2022-11-28T20:59:01.026Z"
   },
   {
    "duration": 13,
    "start_time": "2022-11-28T20:59:01.033Z"
   },
   {
    "duration": 13,
    "start_time": "2022-11-28T20:59:01.048Z"
   },
   {
    "duration": 24,
    "start_time": "2022-11-28T20:59:01.063Z"
   },
   {
    "duration": 13,
    "start_time": "2022-11-28T20:59:01.088Z"
   },
   {
    "duration": 16384,
    "start_time": "2022-11-28T20:59:01.105Z"
   },
   {
    "duration": 4,
    "start_time": "2022-11-28T20:59:17.491Z"
   },
   {
    "duration": 6,
    "start_time": "2022-11-28T20:59:17.496Z"
   },
   {
    "duration": 23,
    "start_time": "2022-11-28T20:59:17.504Z"
   },
   {
    "duration": 287,
    "start_time": "2022-11-28T20:59:17.528Z"
   },
   {
    "duration": 6,
    "start_time": "2022-11-28T20:59:17.816Z"
   },
   {
    "duration": 4,
    "start_time": "2022-11-28T20:59:17.823Z"
   },
   {
    "duration": 252,
    "start_time": "2022-11-28T20:59:17.828Z"
   },
   {
    "duration": 294,
    "start_time": "2022-11-28T20:59:18.082Z"
   },
   {
    "duration": 224,
    "start_time": "2022-11-28T20:59:18.377Z"
   },
   {
    "duration": 221,
    "start_time": "2022-11-28T20:59:18.602Z"
   },
   {
    "duration": 245,
    "start_time": "2022-11-28T20:59:18.825Z"
   },
   {
    "duration": 13,
    "start_time": "2022-11-28T20:59:19.072Z"
   },
   {
    "duration": 255,
    "start_time": "2022-11-28T20:59:19.086Z"
   },
   {
    "duration": 320,
    "start_time": "2022-11-28T20:59:19.342Z"
   },
   {
    "duration": 234,
    "start_time": "2022-11-28T20:59:19.664Z"
   },
   {
    "duration": 256,
    "start_time": "2022-11-28T20:59:19.899Z"
   },
   {
    "duration": 239,
    "start_time": "2022-11-28T20:59:20.156Z"
   },
   {
    "duration": 12,
    "start_time": "2022-11-28T20:59:20.397Z"
   },
   {
    "duration": 146,
    "start_time": "2022-11-28T20:59:20.411Z"
   },
   {
    "duration": 10,
    "start_time": "2022-11-28T20:59:20.558Z"
   },
   {
    "duration": 169,
    "start_time": "2022-11-28T20:59:20.570Z"
   },
   {
    "duration": 10,
    "start_time": "2022-11-28T20:59:20.741Z"
   },
   {
    "duration": 144,
    "start_time": "2022-11-28T20:59:20.752Z"
   },
   {
    "duration": 10,
    "start_time": "2022-11-28T20:59:20.898Z"
   },
   {
    "duration": 146,
    "start_time": "2022-11-28T20:59:20.909Z"
   },
   {
    "duration": 9,
    "start_time": "2022-11-28T20:59:21.057Z"
   },
   {
    "duration": 329,
    "start_time": "2022-11-28T20:59:21.067Z"
   },
   {
    "duration": 263,
    "start_time": "2022-11-28T20:59:21.397Z"
   },
   {
    "duration": 168,
    "start_time": "2022-11-28T20:59:21.662Z"
   },
   {
    "duration": 163,
    "start_time": "2022-11-28T20:59:21.831Z"
   },
   {
    "duration": 25,
    "start_time": "2022-11-28T20:59:21.996Z"
   },
   {
    "duration": 13,
    "start_time": "2022-11-28T20:59:22.023Z"
   },
   {
    "duration": 15,
    "start_time": "2022-11-28T20:59:22.038Z"
   },
   {
    "duration": 184,
    "start_time": "2022-11-28T20:59:22.055Z"
   },
   {
    "duration": 7,
    "start_time": "2022-11-28T20:59:22.241Z"
   },
   {
    "duration": 7,
    "start_time": "2022-11-28T20:59:22.249Z"
   },
   {
    "duration": 141,
    "start_time": "2022-11-28T21:00:12.157Z"
   },
   {
    "duration": 10,
    "start_time": "2022-11-28T21:00:35.141Z"
   },
   {
    "duration": 97,
    "start_time": "2022-11-28T21:10:25.428Z"
   },
   {
    "duration": 310,
    "start_time": "2022-11-28T21:10:36.964Z"
   },
   {
    "duration": 15,
    "start_time": "2022-11-28T21:10:54.006Z"
   },
   {
    "duration": 309,
    "start_time": "2022-11-28T21:11:10.438Z"
   },
   {
    "duration": 140,
    "start_time": "2022-11-28T21:11:48.608Z"
   },
   {
    "duration": 250,
    "start_time": "2022-11-28T21:12:11.889Z"
   },
   {
    "duration": 268,
    "start_time": "2022-11-28T21:12:41.779Z"
   },
   {
    "duration": 245,
    "start_time": "2022-11-28T21:12:49.546Z"
   },
   {
    "duration": 4,
    "start_time": "2022-11-28T21:13:23.132Z"
   },
   {
    "duration": 379,
    "start_time": "2022-11-28T21:13:24.325Z"
   },
   {
    "duration": 266,
    "start_time": "2022-11-28T21:13:30.100Z"
   },
   {
    "duration": 3,
    "start_time": "2022-11-28T21:13:42.228Z"
   },
   {
    "duration": 3,
    "start_time": "2022-11-28T21:13:42.828Z"
   },
   {
    "duration": 244,
    "start_time": "2022-11-28T21:13:44.760Z"
   },
   {
    "duration": 307,
    "start_time": "2022-11-28T21:14:21.823Z"
   },
   {
    "duration": 418,
    "start_time": "2022-11-28T21:17:33.953Z"
   },
   {
    "duration": 16,
    "start_time": "2022-11-28T21:19:39.656Z"
   },
   {
    "duration": 342,
    "start_time": "2022-11-28T21:19:45.055Z"
   },
   {
    "duration": 362,
    "start_time": "2022-11-28T21:20:58.610Z"
   },
   {
    "duration": 17,
    "start_time": "2022-11-28T21:22:13.502Z"
   },
   {
    "duration": 350,
    "start_time": "2022-11-28T21:22:21.262Z"
   },
   {
    "duration": 342,
    "start_time": "2022-11-28T21:46:10.999Z"
   },
   {
    "duration": 287,
    "start_time": "2022-11-28T21:46:31.503Z"
   },
   {
    "duration": 10,
    "start_time": "2022-11-28T21:48:59.647Z"
   },
   {
    "duration": 294,
    "start_time": "2022-11-28T21:49:05.288Z"
   },
   {
    "duration": 9,
    "start_time": "2022-11-28T21:53:57.206Z"
   },
   {
    "duration": 8,
    "start_time": "2022-11-28T22:04:59.752Z"
   },
   {
    "duration": 1131,
    "start_time": "2022-11-28T22:28:48.332Z"
   },
   {
    "duration": 76,
    "start_time": "2022-11-28T22:28:49.464Z"
   },
   {
    "duration": 19,
    "start_time": "2022-11-28T22:28:49.542Z"
   },
   {
    "duration": 14,
    "start_time": "2022-11-28T22:28:49.562Z"
   },
   {
    "duration": 720,
    "start_time": "2022-11-28T22:28:49.578Z"
   },
   {
    "duration": 37,
    "start_time": "2022-11-28T22:28:50.299Z"
   },
   {
    "duration": 4,
    "start_time": "2022-11-28T22:28:50.338Z"
   },
   {
    "duration": 12,
    "start_time": "2022-11-28T22:28:50.344Z"
   },
   {
    "duration": 12,
    "start_time": "2022-11-28T22:28:50.358Z"
   },
   {
    "duration": 17,
    "start_time": "2022-11-28T22:28:50.371Z"
   },
   {
    "duration": 38,
    "start_time": "2022-11-28T22:28:50.389Z"
   },
   {
    "duration": 12,
    "start_time": "2022-11-28T22:28:50.433Z"
   },
   {
    "duration": 7,
    "start_time": "2022-11-28T22:28:50.447Z"
   },
   {
    "duration": 26,
    "start_time": "2022-11-28T22:28:50.457Z"
   },
   {
    "duration": 286,
    "start_time": "2022-11-28T22:28:50.485Z"
   },
   {
    "duration": 20,
    "start_time": "2022-11-28T22:28:50.772Z"
   },
   {
    "duration": 9,
    "start_time": "2022-11-28T22:28:50.793Z"
   },
   {
    "duration": 35,
    "start_time": "2022-11-28T22:28:50.804Z"
   },
   {
    "duration": 9,
    "start_time": "2022-11-28T22:28:50.841Z"
   },
   {
    "duration": 20,
    "start_time": "2022-11-28T22:28:50.852Z"
   },
   {
    "duration": 14,
    "start_time": "2022-11-28T22:28:50.873Z"
   },
   {
    "duration": 7,
    "start_time": "2022-11-28T22:28:50.888Z"
   },
   {
    "duration": 5,
    "start_time": "2022-11-28T22:28:50.896Z"
   },
   {
    "duration": 31,
    "start_time": "2022-11-28T22:28:50.903Z"
   },
   {
    "duration": 10,
    "start_time": "2022-11-28T22:28:50.936Z"
   },
   {
    "duration": 6,
    "start_time": "2022-11-28T22:28:50.947Z"
   },
   {
    "duration": 4,
    "start_time": "2022-11-28T22:28:50.954Z"
   },
   {
    "duration": 16723,
    "start_time": "2022-11-28T22:28:50.959Z"
   },
   {
    "duration": 4,
    "start_time": "2022-11-28T22:29:07.683Z"
   },
   {
    "duration": 7,
    "start_time": "2022-11-28T22:29:07.689Z"
   },
   {
    "duration": 15,
    "start_time": "2022-11-28T22:29:07.697Z"
   },
   {
    "duration": 314,
    "start_time": "2022-11-28T22:29:07.722Z"
   },
   {
    "duration": 2,
    "start_time": "2022-11-28T22:29:08.038Z"
   },
   {
    "duration": 9,
    "start_time": "2022-11-28T22:29:08.041Z"
   },
   {
    "duration": 248,
    "start_time": "2022-11-28T22:29:08.051Z"
   },
   {
    "duration": 308,
    "start_time": "2022-11-28T22:29:08.301Z"
   },
   {
    "duration": 238,
    "start_time": "2022-11-28T22:29:08.610Z"
   },
   {
    "duration": 217,
    "start_time": "2022-11-28T22:29:08.849Z"
   },
   {
    "duration": 224,
    "start_time": "2022-11-28T22:29:09.068Z"
   },
   {
    "duration": 13,
    "start_time": "2022-11-28T22:29:09.293Z"
   },
   {
    "duration": 250,
    "start_time": "2022-11-28T22:29:09.310Z"
   },
   {
    "duration": 321,
    "start_time": "2022-11-28T22:29:09.561Z"
   },
   {
    "duration": 233,
    "start_time": "2022-11-28T22:29:09.884Z"
   },
   {
    "duration": 263,
    "start_time": "2022-11-28T22:29:10.118Z"
   },
   {
    "duration": 254,
    "start_time": "2022-11-28T22:29:10.383Z"
   },
   {
    "duration": 14,
    "start_time": "2022-11-28T22:29:10.638Z"
   },
   {
    "duration": 144,
    "start_time": "2022-11-28T22:29:10.653Z"
   },
   {
    "duration": 9,
    "start_time": "2022-11-28T22:29:10.799Z"
   },
   {
    "duration": 148,
    "start_time": "2022-11-28T22:29:10.809Z"
   },
   {
    "duration": 8,
    "start_time": "2022-11-28T22:29:10.959Z"
   },
   {
    "duration": 140,
    "start_time": "2022-11-28T22:29:10.969Z"
   },
   {
    "duration": 23,
    "start_time": "2022-11-28T22:29:11.110Z"
   },
   {
    "duration": 139,
    "start_time": "2022-11-28T22:29:11.136Z"
   },
   {
    "duration": 8,
    "start_time": "2022-11-28T22:29:11.277Z"
   },
   {
    "duration": 151,
    "start_time": "2022-11-28T22:29:11.287Z"
   },
   {
    "duration": 9,
    "start_time": "2022-11-28T22:29:11.440Z"
   },
   {
    "duration": 494,
    "start_time": "2022-11-28T22:29:11.451Z"
   },
   {
    "duration": 306,
    "start_time": "2022-11-28T22:29:11.947Z"
   },
   {
    "duration": 9,
    "start_time": "2022-11-28T22:29:12.255Z"
   },
   {
    "duration": 7,
    "start_time": "2022-11-28T22:29:12.266Z"
   },
   {
    "duration": 176,
    "start_time": "2022-11-28T22:29:12.275Z"
   },
   {
    "duration": 164,
    "start_time": "2022-11-28T22:29:12.452Z"
   },
   {
    "duration": 158,
    "start_time": "2022-11-28T22:29:12.621Z"
   },
   {
    "duration": 13,
    "start_time": "2022-11-28T22:29:12.781Z"
   },
   {
    "duration": 12,
    "start_time": "2022-11-28T22:29:12.796Z"
   },
   {
    "duration": 29,
    "start_time": "2022-11-28T22:29:12.809Z"
   },
   {
    "duration": 197,
    "start_time": "2022-11-28T22:29:12.840Z"
   },
   {
    "duration": 7,
    "start_time": "2022-11-28T22:29:13.038Z"
   },
   {
    "duration": 9,
    "start_time": "2022-11-28T22:29:13.046Z"
   },
   {
    "duration": 1385,
    "start_time": "2022-11-29T08:17:11.331Z"
   },
   {
    "duration": 220,
    "start_time": "2022-11-29T08:17:12.720Z"
   },
   {
    "duration": 18,
    "start_time": "2022-11-29T08:17:12.942Z"
   },
   {
    "duration": 14,
    "start_time": "2022-11-29T08:17:12.962Z"
   },
   {
    "duration": 744,
    "start_time": "2022-11-29T08:17:12.977Z"
   },
   {
    "duration": 29,
    "start_time": "2022-11-29T08:17:13.723Z"
   },
   {
    "duration": 6,
    "start_time": "2022-11-29T08:17:13.754Z"
   },
   {
    "duration": 37,
    "start_time": "2022-11-29T08:17:13.761Z"
   },
   {
    "duration": 16,
    "start_time": "2022-11-29T08:17:13.800Z"
   },
   {
    "duration": 42,
    "start_time": "2022-11-29T08:17:13.819Z"
   },
   {
    "duration": 38,
    "start_time": "2022-11-29T08:17:13.863Z"
   },
   {
    "duration": 23,
    "start_time": "2022-11-29T08:17:13.903Z"
   },
   {
    "duration": 27,
    "start_time": "2022-11-29T08:17:13.928Z"
   },
   {
    "duration": 44,
    "start_time": "2022-11-29T08:17:13.957Z"
   },
   {
    "duration": 316,
    "start_time": "2022-11-29T08:17:14.003Z"
   },
   {
    "duration": 21,
    "start_time": "2022-11-29T08:17:14.321Z"
   },
   {
    "duration": 20,
    "start_time": "2022-11-29T08:17:14.344Z"
   },
   {
    "duration": 26,
    "start_time": "2022-11-29T08:17:14.366Z"
   },
   {
    "duration": 35,
    "start_time": "2022-11-29T08:17:14.394Z"
   },
   {
    "duration": 37,
    "start_time": "2022-11-29T08:17:14.431Z"
   },
   {
    "duration": 18,
    "start_time": "2022-11-29T08:17:14.469Z"
   },
   {
    "duration": 25,
    "start_time": "2022-11-29T08:17:14.489Z"
   },
   {
    "duration": 27,
    "start_time": "2022-11-29T08:17:14.516Z"
   },
   {
    "duration": 37,
    "start_time": "2022-11-29T08:17:14.544Z"
   },
   {
    "duration": 24,
    "start_time": "2022-11-29T08:17:14.583Z"
   },
   {
    "duration": 22,
    "start_time": "2022-11-29T08:17:14.609Z"
   },
   {
    "duration": 14,
    "start_time": "2022-11-29T08:17:14.632Z"
   },
   {
    "duration": 17061,
    "start_time": "2022-11-29T08:17:14.650Z"
   },
   {
    "duration": 5,
    "start_time": "2022-11-29T08:17:31.712Z"
   },
   {
    "duration": 47,
    "start_time": "2022-11-29T08:17:31.719Z"
   },
   {
    "duration": 55,
    "start_time": "2022-11-29T08:17:31.768Z"
   },
   {
    "duration": 292,
    "start_time": "2022-11-29T08:17:31.825Z"
   },
   {
    "duration": 3,
    "start_time": "2022-11-29T08:17:32.119Z"
   },
   {
    "duration": 51,
    "start_time": "2022-11-29T08:17:32.124Z"
   },
   {
    "duration": 285,
    "start_time": "2022-11-29T08:17:32.176Z"
   },
   {
    "duration": 305,
    "start_time": "2022-11-29T08:17:32.463Z"
   },
   {
    "duration": 237,
    "start_time": "2022-11-29T08:17:32.770Z"
   },
   {
    "duration": 227,
    "start_time": "2022-11-29T08:17:33.008Z"
   },
   {
    "duration": 235,
    "start_time": "2022-11-29T08:17:33.237Z"
   },
   {
    "duration": 11,
    "start_time": "2022-11-29T08:17:33.473Z"
   },
   {
    "duration": 262,
    "start_time": "2022-11-29T08:17:33.486Z"
   },
   {
    "duration": 321,
    "start_time": "2022-11-29T08:17:33.749Z"
   },
   {
    "duration": 247,
    "start_time": "2022-11-29T08:17:34.071Z"
   },
   {
    "duration": 259,
    "start_time": "2022-11-29T08:17:34.320Z"
   },
   {
    "duration": 255,
    "start_time": "2022-11-29T08:17:34.580Z"
   },
   {
    "duration": 12,
    "start_time": "2022-11-29T08:17:34.836Z"
   },
   {
    "duration": 182,
    "start_time": "2022-11-29T08:17:34.849Z"
   },
   {
    "duration": 10,
    "start_time": "2022-11-29T08:17:35.032Z"
   },
   {
    "duration": 162,
    "start_time": "2022-11-29T08:17:35.044Z"
   },
   {
    "duration": 9,
    "start_time": "2022-11-29T08:17:35.208Z"
   },
   {
    "duration": 150,
    "start_time": "2022-11-29T08:17:35.218Z"
   },
   {
    "duration": 9,
    "start_time": "2022-11-29T08:17:35.369Z"
   },
   {
    "duration": 142,
    "start_time": "2022-11-29T08:17:35.379Z"
   },
   {
    "duration": 10,
    "start_time": "2022-11-29T08:17:35.522Z"
   },
   {
    "duration": 144,
    "start_time": "2022-11-29T08:17:35.533Z"
   },
   {
    "duration": 9,
    "start_time": "2022-11-29T08:17:35.678Z"
   },
   {
    "duration": 439,
    "start_time": "2022-11-29T08:17:35.689Z"
   },
   {
    "duration": 293,
    "start_time": "2022-11-29T08:17:36.129Z"
   },
   {
    "duration": 9,
    "start_time": "2022-11-29T08:17:36.423Z"
   },
   {
    "duration": 10,
    "start_time": "2022-11-29T08:17:36.433Z"
   },
   {
    "duration": 169,
    "start_time": "2022-11-29T08:17:36.445Z"
   },
   {
    "duration": 174,
    "start_time": "2022-11-29T08:17:36.616Z"
   },
   {
    "duration": 159,
    "start_time": "2022-11-29T08:17:36.792Z"
   },
   {
    "duration": 12,
    "start_time": "2022-11-29T08:17:36.953Z"
   },
   {
    "duration": 12,
    "start_time": "2022-11-29T08:17:36.967Z"
   },
   {
    "duration": 31,
    "start_time": "2022-11-29T08:17:36.980Z"
   },
   {
    "duration": 183,
    "start_time": "2022-11-29T08:17:37.012Z"
   },
   {
    "duration": 12,
    "start_time": "2022-11-29T08:17:37.197Z"
   },
   {
    "duration": 7,
    "start_time": "2022-11-29T08:17:37.210Z"
   }
  ],
  "kernelspec": {
   "display_name": "Python 3 (ipykernel)",
   "language": "python",
   "name": "python3"
  },
  "language_info": {
   "codemirror_mode": {
    "name": "ipython",
    "version": 3
   },
   "file_extension": ".py",
   "mimetype": "text/x-python",
   "name": "python",
   "nbconvert_exporter": "python",
   "pygments_lexer": "ipython3",
   "version": "3.10.9"
  },
  "toc": {
   "base_numbering": 1,
   "nav_menu": {},
   "number_sections": true,
   "sideBar": true,
   "skip_h1_title": true,
   "title_cell": "Table of Contents",
   "title_sidebar": "Contents",
   "toc_cell": false,
   "toc_position": {},
   "toc_section_display": true,
   "toc_window_display": true
  }
 },
 "nbformat": 4,
 "nbformat_minor": 2
}
